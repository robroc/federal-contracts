{
 "cells": [
  {
   "cell_type": "markdown",
   "id": "a7054152-2554-491b-b10d-04bf493de5d0",
   "metadata": {},
   "source": [
    "## Analysis of cost inflation in federal contracts\n",
    "\n",
    "This notebook analyzes federal contract data [published here](https://open.canada.ca/data/en/dataset/d8f85d91-7dec-4fd1-8055-483b77225d8b). The data has been prepped and cleaned in another notebook, `data_prep.ipynb`, which standardizes vendor names, isolated contracts that were amended, and groups them by procurement ID to measure cost increases.\n",
    "\n",
    "Note that priot to 2017, federal departmetns didn't regularly provide contracting data to the Treasury Board, which publishes the data. Numbers prior to that yeat should not be used in comparative analysis. This notebook sometimes looks at data from 2014 for context."
   ]
  },
  {
   "cell_type": "code",
   "execution_count": 1,
   "id": "d0a82493-8052-4a13-a204-01f10601bc79",
   "metadata": {},
   "outputs": [],
   "source": [
    "import pandas as pd\n",
    "import numpy as np\n",
    "import plotly.express as px\n",
    "\n",
    "pd.options.display.float_format = '{:,.2f}'.format"
   ]
  },
  {
   "cell_type": "code",
   "execution_count": 2,
   "id": "c7730c66-5680-4c73-a590-88d56b4f4141",
   "metadata": {},
   "outputs": [],
   "source": [
    "# Load prepped data file\n",
    "\n",
    "cost_changes = pd.read_parquet('../data/amended_contracts.parquet').query('fiscal_year >= 2014')"
   ]
  },
  {
   "cell_type": "code",
   "execution_count": 39,
   "id": "095fc3dc-85fe-4a6b-8f42-e9b947855b4f",
   "metadata": {},
   "outputs": [
    {
     "data": {
      "text/html": [
       "<div>\n",
       "<style scoped>\n",
       "    .dataframe tbody tr th:only-of-type {\n",
       "        vertical-align: middle;\n",
       "    }\n",
       "\n",
       "    .dataframe tbody tr th {\n",
       "        vertical-align: top;\n",
       "    }\n",
       "\n",
       "    .dataframe thead th {\n",
       "        text-align: right;\n",
       "    }\n",
       "</style>\n",
       "<table border=\"1\" class=\"dataframe\">\n",
       "  <thead>\n",
       "    <tr style=\"text-align: right;\">\n",
       "      <th></th>\n",
       "      <th>procurement_id</th>\n",
       "      <th>vendor_name_norm</th>\n",
       "      <th>owner_org_title</th>\n",
       "      <th>description_en</th>\n",
       "      <th>fiscal_year</th>\n",
       "      <th>first_date</th>\n",
       "      <th>first_value</th>\n",
       "      <th>last_value</th>\n",
       "      <th>num_amendments</th>\n",
       "      <th>change</th>\n",
       "    </tr>\n",
       "    <tr>\n",
       "      <th>proc_unique</th>\n",
       "      <th></th>\n",
       "      <th></th>\n",
       "      <th></th>\n",
       "      <th></th>\n",
       "      <th></th>\n",
       "      <th></th>\n",
       "      <th></th>\n",
       "      <th></th>\n",
       "      <th></th>\n",
       "      <th></th>\n",
       "    </tr>\n",
       "  </thead>\n",
       "  <tbody>\n",
       "    <tr>\n",
       "      <th>w3931-030182/001_dnd-mdn_calian</th>\n",
       "      <td>W3931-030182/001</td>\n",
       "      <td>CALIAN</td>\n",
       "      <td>National Defence</td>\n",
       "      <td>Dental services</td>\n",
       "      <td>2018</td>\n",
       "      <td>2017-11-01</td>\n",
       "      <td>11,510.76</td>\n",
       "      <td>86,395,103.00</td>\n",
       "      <td>7</td>\n",
       "      <td>750,459.50</td>\n",
       "    </tr>\n",
       "    <tr>\n",
       "      <th>en57850979_pwgsc-tpsgc_oracle_canada</th>\n",
       "      <td>EN57850979</td>\n",
       "      <td>ORACLE CANADA</td>\n",
       "      <td>Public Services and Procurement Canada</td>\n",
       "      <td>License/Maintenance fees for Client Software</td>\n",
       "      <td>2017</td>\n",
       "      <td>2017-03-31</td>\n",
       "      <td>19,757.07</td>\n",
       "      <td>72,333,334.18</td>\n",
       "      <td>19</td>\n",
       "      <td>366,013.67</td>\n",
       "    </tr>\n",
       "    <tr>\n",
       "      <th>eh90082051_pwgsc-tpsgc_pcl_constructors</th>\n",
       "      <td>EH90082051</td>\n",
       "      <td>PCL CONSTRUCTORS EASTERN</td>\n",
       "      <td>Public Services and Procurement Canada</td>\n",
       "      <td>Construction services</td>\n",
       "      <td>2019</td>\n",
       "      <td>2019-03-26</td>\n",
       "      <td>68,985.00</td>\n",
       "      <td>226,431,120.10</td>\n",
       "      <td>8</td>\n",
       "      <td>328,132.40</td>\n",
       "    </tr>\n",
       "    <tr>\n",
       "      <th>en57830071_pwgsc-tpsgc_ibm_canada</th>\n",
       "      <td>EN57830071</td>\n",
       "      <td>IBM CANADA</td>\n",
       "      <td>Public Services and Procurement Canada</td>\n",
       "      <td>Client Software</td>\n",
       "      <td>2017</td>\n",
       "      <td>2017-02-17</td>\n",
       "      <td>7,753.91</td>\n",
       "      <td>17,569,259.95</td>\n",
       "      <td>12</td>\n",
       "      <td>226,485.81</td>\n",
       "    </tr>\n",
       "    <tr>\n",
       "      <th>et25130917_pwgsc-tpsgc_ellisdon</th>\n",
       "      <td>ET25130917</td>\n",
       "      <td>ELLISDON</td>\n",
       "      <td>Public Services and Procurement Canada</td>\n",
       "      <td>Other professional services not elsewhere spec...</td>\n",
       "      <td>2019</td>\n",
       "      <td>2018-04-09</td>\n",
       "      <td>210,000.00</td>\n",
       "      <td>144,112,868.49</td>\n",
       "      <td>9</td>\n",
       "      <td>68,525.18</td>\n",
       "    </tr>\n",
       "    <tr>\n",
       "      <th>2b0kbq0192_ssc-spc_dalian_enterprises</th>\n",
       "      <td>2B0KBQ0192</td>\n",
       "      <td>DALIAN ENTERPRISES</td>\n",
       "      <td>Shared Services Canada</td>\n",
       "      <td>Information Technology and Telecommunications ...</td>\n",
       "      <td>2021</td>\n",
       "      <td>2020-10-01</td>\n",
       "      <td>14,421.00</td>\n",
       "      <td>9,492,000.00</td>\n",
       "      <td>2</td>\n",
       "      <td>65,720.68</td>\n",
       "    </tr>\n",
       "    <tr>\n",
       "      <th>x0190594/2_csps-efpc_desire2learn</th>\n",
       "      <td>X0190594/2</td>\n",
       "      <td>DESIRE2LEARN</td>\n",
       "      <td>Canada School of Public Service</td>\n",
       "      <td>Client software related to Distributed Computi...</td>\n",
       "      <td>2020</td>\n",
       "      <td>2020-03-20</td>\n",
       "      <td>33,900.00</td>\n",
       "      <td>19,357,083.68</td>\n",
       "      <td>10</td>\n",
       "      <td>57,000.54</td>\n",
       "    </tr>\n",
       "    <tr>\n",
       "      <th>eh90090297_pwgsc-tpsgc_ellisdon</th>\n",
       "      <td>EH90090297</td>\n",
       "      <td>ELLISDON</td>\n",
       "      <td>Public Services and Procurement Canada</td>\n",
       "      <td>Construction services</td>\n",
       "      <td>2019</td>\n",
       "      <td>2018-09-26</td>\n",
       "      <td>758,797.18</td>\n",
       "      <td>378,700,966.11</td>\n",
       "      <td>13</td>\n",
       "      <td>49,808.06</td>\n",
       "    </tr>\n",
       "    <tr>\n",
       "      <th>700350457_ssc-spc_inmarsat_solutions</th>\n",
       "      <td>700350457</td>\n",
       "      <td>INMARSAT SOLUTIONS CANADA</td>\n",
       "      <td>Shared Services Canada</td>\n",
       "      <td>Digital Chnnl Comm Svc for Combind Transmissn</td>\n",
       "      <td>2016</td>\n",
       "      <td>2016-03-30</td>\n",
       "      <td>282,500.00</td>\n",
       "      <td>138,039,861.52</td>\n",
       "      <td>9</td>\n",
       "      <td>48,763.67</td>\n",
       "    </tr>\n",
       "    <tr>\n",
       "      <th>6074200022_fin_cossette_communications</th>\n",
       "      <td>6074200022</td>\n",
       "      <td>COSSETTE COMMUNICATIONS</td>\n",
       "      <td>Department of Finance Canada</td>\n",
       "      <td>Advertising Services</td>\n",
       "      <td>2021</td>\n",
       "      <td>2020-04-05</td>\n",
       "      <td>59,999.99</td>\n",
       "      <td>23,224,615.98</td>\n",
       "      <td>7</td>\n",
       "      <td>38,607.70</td>\n",
       "    </tr>\n",
       "  </tbody>\n",
       "</table>\n",
       "</div>"
      ],
      "text/plain": [
       "                                           procurement_id  \\\n",
       "proc_unique                                                 \n",
       "w3931-030182/001_dnd-mdn_calian          W3931-030182/001   \n",
       "en57850979_pwgsc-tpsgc_oracle_canada           EN57850979   \n",
       "eh90082051_pwgsc-tpsgc_pcl_constructors        EH90082051   \n",
       "en57830071_pwgsc-tpsgc_ibm_canada              EN57830071   \n",
       "et25130917_pwgsc-tpsgc_ellisdon                ET25130917   \n",
       "2b0kbq0192_ssc-spc_dalian_enterprises          2B0KBQ0192   \n",
       "x0190594/2_csps-efpc_desire2learn              X0190594/2   \n",
       "eh90090297_pwgsc-tpsgc_ellisdon                EH90090297   \n",
       "700350457_ssc-spc_inmarsat_solutions            700350457   \n",
       "6074200022_fin_cossette_communications         6074200022   \n",
       "\n",
       "                                                  vendor_name_norm  \\\n",
       "proc_unique                                                          \n",
       "w3931-030182/001_dnd-mdn_calian                             CALIAN   \n",
       "en57850979_pwgsc-tpsgc_oracle_canada                 ORACLE CANADA   \n",
       "eh90082051_pwgsc-tpsgc_pcl_constructors   PCL CONSTRUCTORS EASTERN   \n",
       "en57830071_pwgsc-tpsgc_ibm_canada                       IBM CANADA   \n",
       "et25130917_pwgsc-tpsgc_ellisdon                           ELLISDON   \n",
       "2b0kbq0192_ssc-spc_dalian_enterprises           DALIAN ENTERPRISES   \n",
       "x0190594/2_csps-efpc_desire2learn                     DESIRE2LEARN   \n",
       "eh90090297_pwgsc-tpsgc_ellisdon                           ELLISDON   \n",
       "700350457_ssc-spc_inmarsat_solutions     INMARSAT SOLUTIONS CANADA   \n",
       "6074200022_fin_cossette_communications     COSSETTE COMMUNICATIONS   \n",
       "\n",
       "                                                                 owner_org_title  \\\n",
       "proc_unique                                                                        \n",
       "w3931-030182/001_dnd-mdn_calian                                National Defence    \n",
       "en57850979_pwgsc-tpsgc_oracle_canada     Public Services and Procurement Canada    \n",
       "eh90082051_pwgsc-tpsgc_pcl_constructors  Public Services and Procurement Canada    \n",
       "en57830071_pwgsc-tpsgc_ibm_canada        Public Services and Procurement Canada    \n",
       "et25130917_pwgsc-tpsgc_ellisdon          Public Services and Procurement Canada    \n",
       "2b0kbq0192_ssc-spc_dalian_enterprises                    Shared Services Canada    \n",
       "x0190594/2_csps-efpc_desire2learn               Canada School of Public Service    \n",
       "eh90090297_pwgsc-tpsgc_ellisdon          Public Services and Procurement Canada    \n",
       "700350457_ssc-spc_inmarsat_solutions                     Shared Services Canada    \n",
       "6074200022_fin_cossette_communications             Department of Finance Canada    \n",
       "\n",
       "                                                                            description_en  \\\n",
       "proc_unique                                                                                  \n",
       "w3931-030182/001_dnd-mdn_calian                                            Dental services   \n",
       "en57850979_pwgsc-tpsgc_oracle_canada          License/Maintenance fees for Client Software   \n",
       "eh90082051_pwgsc-tpsgc_pcl_constructors                              Construction services   \n",
       "en57830071_pwgsc-tpsgc_ibm_canada                                          Client Software   \n",
       "et25130917_pwgsc-tpsgc_ellisdon          Other professional services not elsewhere spec...   \n",
       "2b0kbq0192_ssc-spc_dalian_enterprises    Information Technology and Telecommunications ...   \n",
       "x0190594/2_csps-efpc_desire2learn        Client software related to Distributed Computi...   \n",
       "eh90090297_pwgsc-tpsgc_ellisdon                                      Construction services   \n",
       "700350457_ssc-spc_inmarsat_solutions         Digital Chnnl Comm Svc for Combind Transmissn   \n",
       "6074200022_fin_cossette_communications                                Advertising Services   \n",
       "\n",
       "                                         fiscal_year first_date  first_value  \\\n",
       "proc_unique                                                                    \n",
       "w3931-030182/001_dnd-mdn_calian                 2018 2017-11-01    11,510.76   \n",
       "en57850979_pwgsc-tpsgc_oracle_canada            2017 2017-03-31    19,757.07   \n",
       "eh90082051_pwgsc-tpsgc_pcl_constructors         2019 2019-03-26    68,985.00   \n",
       "en57830071_pwgsc-tpsgc_ibm_canada               2017 2017-02-17     7,753.91   \n",
       "et25130917_pwgsc-tpsgc_ellisdon                 2019 2018-04-09   210,000.00   \n",
       "2b0kbq0192_ssc-spc_dalian_enterprises           2021 2020-10-01    14,421.00   \n",
       "x0190594/2_csps-efpc_desire2learn               2020 2020-03-20    33,900.00   \n",
       "eh90090297_pwgsc-tpsgc_ellisdon                 2019 2018-09-26   758,797.18   \n",
       "700350457_ssc-spc_inmarsat_solutions            2016 2016-03-30   282,500.00   \n",
       "6074200022_fin_cossette_communications          2021 2020-04-05    59,999.99   \n",
       "\n",
       "                                            last_value  num_amendments  \\\n",
       "proc_unique                                                              \n",
       "w3931-030182/001_dnd-mdn_calian          86,395,103.00               7   \n",
       "en57850979_pwgsc-tpsgc_oracle_canada     72,333,334.18              19   \n",
       "eh90082051_pwgsc-tpsgc_pcl_constructors 226,431,120.10               8   \n",
       "en57830071_pwgsc-tpsgc_ibm_canada        17,569,259.95              12   \n",
       "et25130917_pwgsc-tpsgc_ellisdon         144,112,868.49               9   \n",
       "2b0kbq0192_ssc-spc_dalian_enterprises     9,492,000.00               2   \n",
       "x0190594/2_csps-efpc_desire2learn        19,357,083.68              10   \n",
       "eh90090297_pwgsc-tpsgc_ellisdon         378,700,966.11              13   \n",
       "700350457_ssc-spc_inmarsat_solutions    138,039,861.52               9   \n",
       "6074200022_fin_cossette_communications   23,224,615.98               7   \n",
       "\n",
       "                                            change  \n",
       "proc_unique                                         \n",
       "w3931-030182/001_dnd-mdn_calian         750,459.50  \n",
       "en57850979_pwgsc-tpsgc_oracle_canada    366,013.67  \n",
       "eh90082051_pwgsc-tpsgc_pcl_constructors 328,132.40  \n",
       "en57830071_pwgsc-tpsgc_ibm_canada       226,485.81  \n",
       "et25130917_pwgsc-tpsgc_ellisdon          68,525.18  \n",
       "2b0kbq0192_ssc-spc_dalian_enterprises    65,720.68  \n",
       "x0190594/2_csps-efpc_desire2learn        57,000.54  \n",
       "eh90090297_pwgsc-tpsgc_ellisdon          49,808.06  \n",
       "700350457_ssc-spc_inmarsat_solutions     48,763.67  \n",
       "6074200022_fin_cossette_communications   38,607.70  "
      ]
     },
     "execution_count": 39,
     "metadata": {},
     "output_type": "execute_result"
    }
   ],
   "source": [
    "# Contracts with the largest cost changes\n",
    "\n",
    "cost_changes.nlargest(10, 'change')[['procurement_id', 'vendor_name_norm', \n",
    "                                     'owner_org_title', 'description_en', \n",
    "                                     'fiscal_year', 'first_date', 'first_value', \n",
    "                                     'last_value', 'num_amendments', 'change']]"
   ]
  },
  {
   "cell_type": "code",
   "execution_count": 44,
   "id": "2092eab1-59f9-4f31-a8fe-c5d5cfd4cf86",
   "metadata": {},
   "outputs": [
    {
     "data": {
      "text/plain": [
       "<Axes: >"
      ]
     },
     "execution_count": 44,
     "metadata": {},
     "output_type": "execute_result"
    },
    {
     "data": {
      "image/png": "[encoded data removed]",
      "text/plain": [
       "<Figure size 640x480 with 1 Axes>"
      ]
     },
     "metadata": {},
     "output_type": "display_data"
    }
   ],
   "source": [
    "# Hisrogram of percentage increase in contracts (less than 2000% to exclude outliers)\n",
    "\n",
    "cost_changes.query('change <= 2000').change.hist(bins=50)"
   ]
  },
  {
   "cell_type": "code",
   "execution_count": 47,
   "id": "e4edf80c-4bdf-4072-8eaa-6e8b52466841",
   "metadata": {},
   "outputs": [
    {
     "data": {
      "text/html": [
       "<div>\n",
       "<style scoped>\n",
       "    .dataframe tbody tr th:only-of-type {\n",
       "        vertical-align: middle;\n",
       "    }\n",
       "\n",
       "    .dataframe tbody tr th {\n",
       "        vertical-align: top;\n",
       "    }\n",
       "\n",
       "    .dataframe thead th {\n",
       "        text-align: right;\n",
       "    }\n",
       "</style>\n",
       "<table border=\"1\" class=\"dataframe\">\n",
       "  <thead>\n",
       "    <tr style=\"text-align: right;\">\n",
       "      <th></th>\n",
       "      <th>count</th>\n",
       "      <th>mean</th>\n",
       "      <th>std</th>\n",
       "      <th>min</th>\n",
       "      <th>25%</th>\n",
       "      <th>50%</th>\n",
       "      <th>75%</th>\n",
       "      <th>max</th>\n",
       "    </tr>\n",
       "    <tr>\n",
       "      <th>fiscal_year</th>\n",
       "      <th></th>\n",
       "      <th></th>\n",
       "      <th></th>\n",
       "      <th></th>\n",
       "      <th></th>\n",
       "      <th></th>\n",
       "      <th></th>\n",
       "      <th></th>\n",
       "    </tr>\n",
       "  </thead>\n",
       "  <tbody>\n",
       "    <tr>\n",
       "      <th>2014</th>\n",
       "      <td>3,856.00</td>\n",
       "      <td>90.70</td>\n",
       "      <td>307.87</td>\n",
       "      <td>-100.00</td>\n",
       "      <td>0.00</td>\n",
       "      <td>21.05</td>\n",
       "      <td>98.78</td>\n",
       "      <td>8,327.78</td>\n",
       "    </tr>\n",
       "    <tr>\n",
       "      <th>2015</th>\n",
       "      <td>3,817.00</td>\n",
       "      <td>116.26</td>\n",
       "      <td>718.68</td>\n",
       "      <td>-100.00</td>\n",
       "      <td>0.00</td>\n",
       "      <td>33.28</td>\n",
       "      <td>107.90</td>\n",
       "      <td>37,288.71</td>\n",
       "    </tr>\n",
       "    <tr>\n",
       "      <th>2016</th>\n",
       "      <td>4,819.00</td>\n",
       "      <td>133.37</td>\n",
       "      <td>892.24</td>\n",
       "      <td>-100.00</td>\n",
       "      <td>0.00</td>\n",
       "      <td>33.56</td>\n",
       "      <td>127.61</td>\n",
       "      <td>48,763.67</td>\n",
       "    </tr>\n",
       "    <tr>\n",
       "      <th>2017</th>\n",
       "      <td>6,819.00</td>\n",
       "      <td>225.58</td>\n",
       "      <td>5,225.49</td>\n",
       "      <td>-100.00</td>\n",
       "      <td>1.05</td>\n",
       "      <td>49.09</td>\n",
       "      <td>161.04</td>\n",
       "      <td>366,013.67</td>\n",
       "    </tr>\n",
       "    <tr>\n",
       "      <th>2018</th>\n",
       "      <td>9,335.00</td>\n",
       "      <td>216.71</td>\n",
       "      <td>7,799.54</td>\n",
       "      <td>-100.00</td>\n",
       "      <td>0.00</td>\n",
       "      <td>46.07</td>\n",
       "      <td>135.15</td>\n",
       "      <td>750,459.50</td>\n",
       "    </tr>\n",
       "    <tr>\n",
       "      <th>2019</th>\n",
       "      <td>9,109.00</td>\n",
       "      <td>178.28</td>\n",
       "      <td>3,597.94</td>\n",
       "      <td>-100.00</td>\n",
       "      <td>0.00</td>\n",
       "      <td>38.97</td>\n",
       "      <td>124.98</td>\n",
       "      <td>328,132.40</td>\n",
       "    </tr>\n",
       "    <tr>\n",
       "      <th>2020</th>\n",
       "      <td>9,140.00</td>\n",
       "      <td>128.68</td>\n",
       "      <td>826.72</td>\n",
       "      <td>-167.96</td>\n",
       "      <td>0.00</td>\n",
       "      <td>40.24</td>\n",
       "      <td>119.50</td>\n",
       "      <td>57,000.54</td>\n",
       "    </tr>\n",
       "    <tr>\n",
       "      <th>2021</th>\n",
       "      <td>8,740.00</td>\n",
       "      <td>156.53</td>\n",
       "      <td>1,091.54</td>\n",
       "      <td>-126.03</td>\n",
       "      <td>0.00</td>\n",
       "      <td>47.39</td>\n",
       "      <td>141.77</td>\n",
       "      <td>65,720.68</td>\n",
       "    </tr>\n",
       "    <tr>\n",
       "      <th>2022</th>\n",
       "      <td>8,588.00</td>\n",
       "      <td>97.98</td>\n",
       "      <td>354.38</td>\n",
       "      <td>-200.00</td>\n",
       "      <td>0.00</td>\n",
       "      <td>36.38</td>\n",
       "      <td>105.05</td>\n",
       "      <td>16,274.59</td>\n",
       "    </tr>\n",
       "    <tr>\n",
       "      <th>2023</th>\n",
       "      <td>6,252.00</td>\n",
       "      <td>73.82</td>\n",
       "      <td>271.83</td>\n",
       "      <td>-326.44</td>\n",
       "      <td>0.00</td>\n",
       "      <td>19.46</td>\n",
       "      <td>100.00</td>\n",
       "      <td>9,035.51</td>\n",
       "    </tr>\n",
       "    <tr>\n",
       "      <th>2024</th>\n",
       "      <td>600.00</td>\n",
       "      <td>48.43</td>\n",
       "      <td>143.63</td>\n",
       "      <td>-168.16</td>\n",
       "      <td>0.00</td>\n",
       "      <td>1.76</td>\n",
       "      <td>46.10</td>\n",
       "      <td>1,615.58</td>\n",
       "    </tr>\n",
       "  </tbody>\n",
       "</table>\n",
       "</div>"
      ],
      "text/plain": [
       "               count   mean      std     min  25%   50%    75%        max\n",
       "fiscal_year                                                              \n",
       "2014        3,856.00  90.70   307.87 -100.00 0.00 21.05  98.78   8,327.78\n",
       "2015        3,817.00 116.26   718.68 -100.00 0.00 33.28 107.90  37,288.71\n",
       "2016        4,819.00 133.37   892.24 -100.00 0.00 33.56 127.61  48,763.67\n",
       "2017        6,819.00 225.58 5,225.49 -100.00 1.05 49.09 161.04 366,013.67\n",
       "2018        9,335.00 216.71 7,799.54 -100.00 0.00 46.07 135.15 750,459.50\n",
       "2019        9,109.00 178.28 3,597.94 -100.00 0.00 38.97 124.98 328,132.40\n",
       "2020        9,140.00 128.68   826.72 -167.96 0.00 40.24 119.50  57,000.54\n",
       "2021        8,740.00 156.53 1,091.54 -126.03 0.00 47.39 141.77  65,720.68\n",
       "2022        8,588.00  97.98   354.38 -200.00 0.00 36.38 105.05  16,274.59\n",
       "2023        6,252.00  73.82   271.83 -326.44 0.00 19.46 100.00   9,035.51\n",
       "2024          600.00  48.43   143.63 -168.16 0.00  1.76  46.10   1,615.58"
      ]
     },
     "execution_count": 47,
     "metadata": {},
     "output_type": "execute_result"
    }
   ],
   "source": [
    "# Yearly stats on contract price changes\n",
    "\n",
    "cost_changes.groupby('fiscal_year').change.describe()"
   ]
  },
  {
   "cell_type": "code",
   "execution_count": 46,
   "id": "6653500d-75f7-4081-bab3-5d29bccab534",
   "metadata": {},
   "outputs": [
    {
     "data": {
      "text/html": [
       "<div>\n",
       "<style scoped>\n",
       "    .dataframe tbody tr th:only-of-type {\n",
       "        vertical-align: middle;\n",
       "    }\n",
       "\n",
       "    .dataframe tbody tr th {\n",
       "        vertical-align: top;\n",
       "    }\n",
       "\n",
       "    .dataframe thead th {\n",
       "        text-align: right;\n",
       "    }\n",
       "</style>\n",
       "<table border=\"1\" class=\"dataframe\">\n",
       "  <thead>\n",
       "    <tr style=\"text-align: right;\">\n",
       "      <th></th>\n",
       "      <th>count</th>\n",
       "      <th>mean</th>\n",
       "      <th>std</th>\n",
       "      <th>min</th>\n",
       "      <th>25%</th>\n",
       "      <th>50%</th>\n",
       "      <th>75%</th>\n",
       "      <th>max</th>\n",
       "    </tr>\n",
       "    <tr>\n",
       "      <th>fiscal_year</th>\n",
       "      <th></th>\n",
       "      <th></th>\n",
       "      <th></th>\n",
       "      <th></th>\n",
       "      <th></th>\n",
       "      <th></th>\n",
       "      <th></th>\n",
       "      <th></th>\n",
       "    </tr>\n",
       "  </thead>\n",
       "  <tbody>\n",
       "    <tr>\n",
       "      <th>2014</th>\n",
       "      <td>3,856.00</td>\n",
       "      <td>2.50</td>\n",
       "      <td>1.14</td>\n",
       "      <td>2.00</td>\n",
       "      <td>2.00</td>\n",
       "      <td>2.00</td>\n",
       "      <td>3.00</td>\n",
       "      <td>14.00</td>\n",
       "    </tr>\n",
       "    <tr>\n",
       "      <th>2015</th>\n",
       "      <td>3,817.00</td>\n",
       "      <td>2.55</td>\n",
       "      <td>1.24</td>\n",
       "      <td>2.00</td>\n",
       "      <td>2.00</td>\n",
       "      <td>2.00</td>\n",
       "      <td>3.00</td>\n",
       "      <td>18.00</td>\n",
       "    </tr>\n",
       "    <tr>\n",
       "      <th>2016</th>\n",
       "      <td>4,819.00</td>\n",
       "      <td>2.69</td>\n",
       "      <td>1.55</td>\n",
       "      <td>2.00</td>\n",
       "      <td>2.00</td>\n",
       "      <td>2.00</td>\n",
       "      <td>3.00</td>\n",
       "      <td>47.00</td>\n",
       "    </tr>\n",
       "    <tr>\n",
       "      <th>2017</th>\n",
       "      <td>6,819.00</td>\n",
       "      <td>2.87</td>\n",
       "      <td>1.70</td>\n",
       "      <td>2.00</td>\n",
       "      <td>2.00</td>\n",
       "      <td>2.00</td>\n",
       "      <td>3.00</td>\n",
       "      <td>35.00</td>\n",
       "    </tr>\n",
       "    <tr>\n",
       "      <th>2018</th>\n",
       "      <td>9,335.00</td>\n",
       "      <td>2.78</td>\n",
       "      <td>1.54</td>\n",
       "      <td>2.00</td>\n",
       "      <td>2.00</td>\n",
       "      <td>2.00</td>\n",
       "      <td>3.00</td>\n",
       "      <td>31.00</td>\n",
       "    </tr>\n",
       "    <tr>\n",
       "      <th>2019</th>\n",
       "      <td>9,109.00</td>\n",
       "      <td>2.81</td>\n",
       "      <td>2.97</td>\n",
       "      <td>2.00</td>\n",
       "      <td>2.00</td>\n",
       "      <td>2.00</td>\n",
       "      <td>3.00</td>\n",
       "      <td>237.00</td>\n",
       "    </tr>\n",
       "    <tr>\n",
       "      <th>2020</th>\n",
       "      <td>9,140.00</td>\n",
       "      <td>2.69</td>\n",
       "      <td>1.36</td>\n",
       "      <td>2.00</td>\n",
       "      <td>2.00</td>\n",
       "      <td>2.00</td>\n",
       "      <td>3.00</td>\n",
       "      <td>22.00</td>\n",
       "    </tr>\n",
       "    <tr>\n",
       "      <th>2021</th>\n",
       "      <td>8,740.00</td>\n",
       "      <td>2.61</td>\n",
       "      <td>1.22</td>\n",
       "      <td>2.00</td>\n",
       "      <td>2.00</td>\n",
       "      <td>2.00</td>\n",
       "      <td>3.00</td>\n",
       "      <td>30.00</td>\n",
       "    </tr>\n",
       "    <tr>\n",
       "      <th>2022</th>\n",
       "      <td>8,588.00</td>\n",
       "      <td>2.53</td>\n",
       "      <td>3.72</td>\n",
       "      <td>2.00</td>\n",
       "      <td>2.00</td>\n",
       "      <td>2.00</td>\n",
       "      <td>3.00</td>\n",
       "      <td>277.00</td>\n",
       "    </tr>\n",
       "    <tr>\n",
       "      <th>2023</th>\n",
       "      <td>6,252.00</td>\n",
       "      <td>2.24</td>\n",
       "      <td>0.80</td>\n",
       "      <td>2.00</td>\n",
       "      <td>2.00</td>\n",
       "      <td>2.00</td>\n",
       "      <td>2.00</td>\n",
       "      <td>27.00</td>\n",
       "    </tr>\n",
       "    <tr>\n",
       "      <th>2024</th>\n",
       "      <td>600.00</td>\n",
       "      <td>2.13</td>\n",
       "      <td>0.69</td>\n",
       "      <td>2.00</td>\n",
       "      <td>2.00</td>\n",
       "      <td>2.00</td>\n",
       "      <td>2.00</td>\n",
       "      <td>11.00</td>\n",
       "    </tr>\n",
       "  </tbody>\n",
       "</table>\n",
       "</div>"
      ],
      "text/plain": [
       "               count  mean  std  min  25%  50%  75%    max\n",
       "fiscal_year                                               \n",
       "2014        3,856.00  2.50 1.14 2.00 2.00 2.00 3.00  14.00\n",
       "2015        3,817.00  2.55 1.24 2.00 2.00 2.00 3.00  18.00\n",
       "2016        4,819.00  2.69 1.55 2.00 2.00 2.00 3.00  47.00\n",
       "2017        6,819.00  2.87 1.70 2.00 2.00 2.00 3.00  35.00\n",
       "2018        9,335.00  2.78 1.54 2.00 2.00 2.00 3.00  31.00\n",
       "2019        9,109.00  2.81 2.97 2.00 2.00 2.00 3.00 237.00\n",
       "2020        9,140.00  2.69 1.36 2.00 2.00 2.00 3.00  22.00\n",
       "2021        8,740.00  2.61 1.22 2.00 2.00 2.00 3.00  30.00\n",
       "2022        8,588.00  2.53 3.72 2.00 2.00 2.00 3.00 277.00\n",
       "2023        6,252.00  2.24 0.80 2.00 2.00 2.00 2.00  27.00\n",
       "2024          600.00  2.13 0.69 2.00 2.00 2.00 2.00  11.00"
      ]
     },
     "execution_count": 46,
     "metadata": {},
     "output_type": "execute_result"
    }
   ],
   "source": [
    "# Yearly stats on number of amendments\n",
    "\n",
    "cost_changes.groupby('fiscal_year').num_amendments.describe()"
   ]
  },
  {
   "cell_type": "code",
   "execution_count": 20,
   "id": "2a88da05-c46f-48ce-805b-86a75802dd17",
   "metadata": {},
   "outputs": [
    {
     "data": {
      "text/plain": [
       "0.495905439918201"
      ]
     },
     "execution_count": 20,
     "metadata": {},
     "output_type": "execute_result"
    }
   ],
   "source": [
    "# Overall average cost inflation\n",
    "\n",
    "all_prices = cost_changes.query('fiscal_year >= 2017')[['first_value', 'last_value']]\n",
    "\n",
    "(all_prices.last_value.sum() - all_prices.first_value.sum()) / all_prices.first_value.sum()"
   ]
  },
  {
   "cell_type": "code",
   "execution_count": 55,
   "id": "d04b1188-0af9-4152-8da9-b2ebe5cd8710",
   "metadata": {},
   "outputs": [
    {
     "data": {
      "text/plain": [
       "<Axes: title={'center': 'Mean contract value change (%) by first fiscal year of contract'}, xlabel='fiscal_year'>"
      ]
     },
     "execution_count": 55,
     "metadata": {},
     "output_type": "execute_result"
    },
    {
     "data": {
      "image/png": "[encoded data removed]",
      "text/plain": [
       "<Figure size 640x480 with 1 Axes>"
      ]
     },
     "metadata": {},
     "output_type": "display_data"
    }
   ],
   "source": [
    "# Average cost change by fiscal year\n",
    "\n",
    "(cost_changes\n",
    " .groupby('fiscal_year')\n",
    " .apply(lambda x: (x.last_value.sum() - x.first_value.sum()) / x.first_value.sum())\n",
    " .loc[2015:2022]\n",
    " .plot.bar(title='Mean contract value change (%) by first fiscal year of contract')\n",
    ")"
   ]
  },
  {
   "cell_type": "code",
   "execution_count": 56,
   "id": "0a02aff5-ba7c-4072-96b2-246f4edf6e55",
   "metadata": {},
   "outputs": [
    {
     "data": {
      "text/plain": [
       "<Axes: title={'center': 'Average original and latest amended contract values'}, xlabel='fiscal_year'>"
      ]
     },
     "execution_count": 56,
     "metadata": {},
     "output_type": "execute_result"
    },
    {
     "data": {
      "image/png": "[encoded data removed]",
      "text/plain": [
       "<Figure size 640x480 with 1 Axes>"
      ]
     },
     "metadata": {},
     "output_type": "display_data"
    }
   ],
   "source": [
    "# Average first and final values of amended contract by fiscal year\n",
    "\n",
    "cost_changes.groupby('fiscal_year')[['first_value', 'last_value']].mean().loc[2016:2022].plot(title = 'Average original and latest amended contract values')"
   ]
  },
  {
   "cell_type": "code",
   "execution_count": 57,
   "id": "82181f1b-7a80-4f48-baaa-c92af7d63522",
   "metadata": {},
   "outputs": [
    {
     "data": {
      "text/plain": [
       "mean        5,070,647.52\n",
       "sum    33,310,067,540.82\n",
       "dtype: float64"
      ]
     },
     "execution_count": 57,
     "metadata": {},
     "output_type": "execute_result"
    }
   ],
   "source": [
    "# Stats on price difference between first and latest contract\n",
    "\n",
    "(cost_changes\n",
    " .query('fiscal_year >= 2015')\n",
    " .groupby('fiscal_year')\n",
    " .apply(lambda x: (x.last_value - x.first_value)\n",
    "                .agg(['mean', 'sum'])\n",
    "       )\n",
    ").sum()"
   ]
  },
  {
   "cell_type": "code",
   "execution_count": 8,
   "id": "efc5e88d-7ac2-4612-ac5c-5693d766535b",
   "metadata": {},
   "outputs": [],
   "source": [
    "# Load descriptions of economic codes for proper classification of contracts. \n",
    "# Source: https://open.canada.ca/data/en/dataset/24969dcc-6618-4aa0-94d9-083e6400072a\n",
    "\n",
    "codes_table_url = 'https://donnees-data.tpsgc-pwgsc.gc.ca/ba1/art-obj/art-obj-1920-eng.csv'\n",
    "\n",
    "codes = pd.read_csv(codes_table_url)\n",
    "codes.columns = codes.columns.str.split('\\-[A-Z]').str[0]\n",
    "codes = codes[['Sub-category_name', 'Reportingobject_name', 'Code_OBJ', 'Name', 'Description_OBJ']].set_index('Code_OBJ')\n",
    "codes.loc['1283', 'Name'] = 'Desktop/personal/portable computers'\n",
    "codes.loc['0582', 'Name'] = 'Software licence/maintenance fees'"
   ]
  },
  {
   "cell_type": "code",
   "execution_count": 15,
   "id": "d31e123e-288a-48c0-b867-ca6c85f14b29",
   "metadata": {},
   "outputs": [
    {
     "data": {
      "text/html": [
       "<div>\n",
       "<style scoped>\n",
       "    .dataframe tbody tr th:only-of-type {\n",
       "        vertical-align: middle;\n",
       "    }\n",
       "\n",
       "    .dataframe tbody tr th {\n",
       "        vertical-align: top;\n",
       "    }\n",
       "\n",
       "    .dataframe thead th {\n",
       "        text-align: right;\n",
       "    }\n",
       "</style>\n",
       "<table border=\"1\" class=\"dataframe\">\n",
       "  <thead>\n",
       "    <tr style=\"text-align: right;\">\n",
       "      <th></th>\n",
       "      <th>Sub-category_name</th>\n",
       "      <th>Reportingobject_name</th>\n",
       "      <th>Name</th>\n",
       "      <th>Description_OBJ</th>\n",
       "    </tr>\n",
       "    <tr>\n",
       "      <th>Code_OBJ</th>\n",
       "      <th></th>\n",
       "      <th></th>\n",
       "      <th></th>\n",
       "      <th></th>\n",
       "    </tr>\n",
       "  </thead>\n",
       "  <tbody>\n",
       "    <tr>\n",
       "      <th>0101</th>\n",
       "      <td>Personnel</td>\n",
       "      <td>Salaries and wages</td>\n",
       "      <td>Civilian regular time - Continuing employment</td>\n",
       "      <td>Basic salaries and wages for indeterminate civ...</td>\n",
       "    </tr>\n",
       "    <tr>\n",
       "      <th>0102</th>\n",
       "      <td>Personnel</td>\n",
       "      <td>Salaries and wages</td>\n",
       "      <td>Civilian regular time - Part-time, seasonal, c...</td>\n",
       "      <td>Basic salaries and wages for civilian personne...</td>\n",
       "    </tr>\n",
       "    <tr>\n",
       "      <th>0103</th>\n",
       "      <td>Personnel</td>\n",
       "      <td>Salaries and wages</td>\n",
       "      <td>Civilian premium pay for work during non-stand...</td>\n",
       "      <td>Remuneration to civilian personnel that are en...</td>\n",
       "    </tr>\n",
       "    <tr>\n",
       "      <th>0104</th>\n",
       "      <td>Personnel</td>\n",
       "      <td>Salaries and wages</td>\n",
       "      <td>Civilian holiday pay in lieu of leave</td>\n",
       "      <td>Remuneration to civilian personnel as compensa...</td>\n",
       "    </tr>\n",
       "    <tr>\n",
       "      <th>0105</th>\n",
       "      <td>Personnel</td>\n",
       "      <td>Salaries and wages</td>\n",
       "      <td>Civilian overtime (for additional hours)</td>\n",
       "      <td>Remuneration to civilian personnel for time wo...</td>\n",
       "    </tr>\n",
       "    <tr>\n",
       "      <th>...</th>\n",
       "      <td>...</td>\n",
       "      <td>...</td>\n",
       "      <td>...</td>\n",
       "      <td>...</td>\n",
       "    </tr>\n",
       "    <tr>\n",
       "      <th>8422</th>\n",
       "      <td>Government elimination of inter-entity transac...</td>\n",
       "      <td>Government elimination of inter-entity liabili...</td>\n",
       "      <td>Unmatured debt held by appropriation-dependant...</td>\n",
       "      <td>The amounts of Government securities held by a...</td>\n",
       "    </tr>\n",
       "    <tr>\n",
       "      <th>8425</th>\n",
       "      <td>Government elimination of inter-entity transac...</td>\n",
       "      <td>Government elimination of inter-entity liabili...</td>\n",
       "      <td>Specified purpose accounts - Due to appropriat...</td>\n",
       "      <td>Other amounts in the Consolidated Revenue Fund...</td>\n",
       "    </tr>\n",
       "    <tr>\n",
       "      <th>8440</th>\n",
       "      <td>Government elimination of inter-entity transac...</td>\n",
       "      <td>Government elimination of inter-entity asset b...</td>\n",
       "      <td>Elimination of inter-entity loans, investments...</td>\n",
       "      <td>The loans, investments or advances held by the...</td>\n",
       "    </tr>\n",
       "    <tr>\n",
       "      <th>8443</th>\n",
       "      <td>Government elimination of inter-entity transac...</td>\n",
       "      <td>Government elimination of inter-entity asset b...</td>\n",
       "      <td>Allowance for valuation of assets and liabilities</td>\n",
       "      <td>The \"reversal\" of the allowance for valuation ...</td>\n",
       "    </tr>\n",
       "    <tr>\n",
       "      <th>9DDD</th>\n",
       "      <td>NaN</td>\n",
       "      <td>NaN</td>\n",
       "      <td>Interdepartmental settlement</td>\n",
       "      <td>The \"DDD\" in the object code must be replaced ...</td>\n",
       "    </tr>\n",
       "  </tbody>\n",
       "</table>\n",
       "<p>774 rows × 4 columns</p>\n",
       "</div>"
      ],
      "text/plain": [
       "                                          Sub-category_name  \\\n",
       "Code_OBJ                                                      \n",
       "0101                                              Personnel   \n",
       "0102                                              Personnel   \n",
       "0103                                              Personnel   \n",
       "0104                                              Personnel   \n",
       "0105                                              Personnel   \n",
       "...                                                     ...   \n",
       "8422      Government elimination of inter-entity transac...   \n",
       "8425      Government elimination of inter-entity transac...   \n",
       "8440      Government elimination of inter-entity transac...   \n",
       "8443      Government elimination of inter-entity transac...   \n",
       "9DDD                                                    NaN   \n",
       "\n",
       "                                       Reportingobject_name  \\\n",
       "Code_OBJ                                                      \n",
       "0101                                     Salaries and wages   \n",
       "0102                                     Salaries and wages   \n",
       "0103                                     Salaries and wages   \n",
       "0104                                     Salaries and wages   \n",
       "0105                                     Salaries and wages   \n",
       "...                                                     ...   \n",
       "8422      Government elimination of inter-entity liabili...   \n",
       "8425      Government elimination of inter-entity liabili...   \n",
       "8440      Government elimination of inter-entity asset b...   \n",
       "8443      Government elimination of inter-entity asset b...   \n",
       "9DDD                                                    NaN   \n",
       "\n",
       "                                                       Name  \\\n",
       "Code_OBJ                                                      \n",
       "0101          Civilian regular time - Continuing employment   \n",
       "0102      Civilian regular time - Part-time, seasonal, c...   \n",
       "0103      Civilian premium pay for work during non-stand...   \n",
       "0104                  Civilian holiday pay in lieu of leave   \n",
       "0105               Civilian overtime (for additional hours)   \n",
       "...                                                     ...   \n",
       "8422      Unmatured debt held by appropriation-dependant...   \n",
       "8425      Specified purpose accounts - Due to appropriat...   \n",
       "8440      Elimination of inter-entity loans, investments...   \n",
       "8443      Allowance for valuation of assets and liabilities   \n",
       "9DDD                           Interdepartmental settlement   \n",
       "\n",
       "                                            Description_OBJ  \n",
       "Code_OBJ                                                     \n",
       "0101      Basic salaries and wages for indeterminate civ...  \n",
       "0102      Basic salaries and wages for civilian personne...  \n",
       "0103      Remuneration to civilian personnel that are en...  \n",
       "0104      Remuneration to civilian personnel as compensa...  \n",
       "0105      Remuneration to civilian personnel for time wo...  \n",
       "...                                                     ...  \n",
       "8422      The amounts of Government securities held by a...  \n",
       "8425      Other amounts in the Consolidated Revenue Fund...  \n",
       "8440      The loans, investments or advances held by the...  \n",
       "8443      The \"reversal\" of the allowance for valuation ...  \n",
       "9DDD      The \"DDD\" in the object code must be replaced ...  \n",
       "\n",
       "[774 rows x 4 columns]"
      ]
     },
     "execution_count": 15,
     "metadata": {},
     "output_type": "execute_result"
    }
   ],
   "source": [
    "codes"
   ]
  },
  {
   "cell_type": "code",
   "execution_count": 9,
   "id": "7ac3e894-9aae-4f04-b994-ad34084d4ef8",
   "metadata": {},
   "outputs": [
    {
     "data": {
      "text/html": [
       "<div>\n",
       "<style scoped>\n",
       "    .dataframe tbody tr th:only-of-type {\n",
       "        vertical-align: middle;\n",
       "    }\n",
       "\n",
       "    .dataframe tbody tr th {\n",
       "        vertical-align: top;\n",
       "    }\n",
       "\n",
       "    .dataframe thead th {\n",
       "        text-align: right;\n",
       "    }\n",
       "</style>\n",
       "<table border=\"1\" class=\"dataframe\">\n",
       "  <thead>\n",
       "    <tr style=\"text-align: right;\">\n",
       "      <th></th>\n",
       "      <th>count</th>\n",
       "      <th>median</th>\n",
       "      <th>mean</th>\n",
       "      <th>Sub-category_name</th>\n",
       "      <th>Reportingobject_name</th>\n",
       "      <th>Name</th>\n",
       "      <th>Description_OBJ</th>\n",
       "    </tr>\n",
       "  </thead>\n",
       "  <tbody>\n",
       "    <tr>\n",
       "      <th>0452</th>\n",
       "      <td>549.00</td>\n",
       "      <td>200.00</td>\n",
       "      <td>262.92</td>\n",
       "      <td>Professional and special services</td>\n",
       "      <td>Health and welfare services</td>\n",
       "      <td>Welfare services</td>\n",
       "      <td>Welfare services purchased from social and rel...</td>\n",
       "    </tr>\n",
       "    <tr>\n",
       "      <th>0811</th>\n",
       "      <td>982.00</td>\n",
       "      <td>102.90</td>\n",
       "      <td>150.16</td>\n",
       "      <td>Professional and special services</td>\n",
       "      <td>Business services</td>\n",
       "      <td>Contracted building cleaning</td>\n",
       "      <td>Cleaning services for buildings such as office...</td>\n",
       "    </tr>\n",
       "    <tr>\n",
       "      <th>0473</th>\n",
       "      <td>8,991.00</td>\n",
       "      <td>100.81</td>\n",
       "      <td>221.67</td>\n",
       "      <td>Professional and special services</td>\n",
       "      <td>Informatics services</td>\n",
       "      <td>Information technology and telecommunications ...</td>\n",
       "      <td>Professional contracting and consulting servic...</td>\n",
       "    </tr>\n",
       "    <tr>\n",
       "      <th>0451</th>\n",
       "      <td>553.00</td>\n",
       "      <td>100.00</td>\n",
       "      <td>165.69</td>\n",
       "      <td>Professional and special services</td>\n",
       "      <td>Health and welfare services</td>\n",
       "      <td>Other health services not elsewhere specified</td>\n",
       "      <td>Other health services not elsewhere specified ...</td>\n",
       "    </tr>\n",
       "    <tr>\n",
       "      <th>0582</th>\n",
       "      <td>630.00</td>\n",
       "      <td>100.00</td>\n",
       "      <td>789.89</td>\n",
       "      <td>Rentals</td>\n",
       "      <td>Rental of informatics equipment</td>\n",
       "      <td>Software licence/maintenance fees</td>\n",
       "      <td>License, maintenance/renewal fees for client s...</td>\n",
       "    </tr>\n",
       "    <tr>\n",
       "      <th>0494</th>\n",
       "      <td>1,103.00</td>\n",
       "      <td>71.47</td>\n",
       "      <td>127.56</td>\n",
       "      <td>Professional and special services</td>\n",
       "      <td>Interpretation and translation services</td>\n",
       "      <td>Translation services</td>\n",
       "      <td>Services for language translation.</td>\n",
       "    </tr>\n",
       "    <tr>\n",
       "      <th>0401</th>\n",
       "      <td>523.00</td>\n",
       "      <td>63.78</td>\n",
       "      <td>111.81</td>\n",
       "      <td>Professional and special services</td>\n",
       "      <td>Business services</td>\n",
       "      <td>Accounting and audit services</td>\n",
       "      <td>Accounting and audit services including financ...</td>\n",
       "    </tr>\n",
       "    <tr>\n",
       "      <th>0431</th>\n",
       "      <td>588.00</td>\n",
       "      <td>63.14</td>\n",
       "      <td>119.82</td>\n",
       "      <td>Professional and special services</td>\n",
       "      <td>Scientific and research services</td>\n",
       "      <td>Scientific consultants</td>\n",
       "      <td>Consultant or contract workers services acquir...</td>\n",
       "    </tr>\n",
       "    <tr>\n",
       "      <th>0420</th>\n",
       "      <td>990.00</td>\n",
       "      <td>60.24</td>\n",
       "      <td>189.92</td>\n",
       "      <td>Professional and special services</td>\n",
       "      <td>Engineering and architectural services</td>\n",
       "      <td>Engineering services not elsewhere specified</td>\n",
       "      <td>Engineering services acquired that are not cla...</td>\n",
       "    </tr>\n",
       "    <tr>\n",
       "      <th>0813</th>\n",
       "      <td>1,987.00</td>\n",
       "      <td>58.93</td>\n",
       "      <td>96.89</td>\n",
       "      <td>Professional and special services</td>\n",
       "      <td>Temporary help services</td>\n",
       "      <td>Temporary help services</td>\n",
       "      <td>Temporary help services acquired for general o...</td>\n",
       "    </tr>\n",
       "    <tr>\n",
       "      <th>0499</th>\n",
       "      <td>4,570.00</td>\n",
       "      <td>54.20</td>\n",
       "      <td>157.54</td>\n",
       "      <td>Professional and special services</td>\n",
       "      <td>Other services</td>\n",
       "      <td>Other professional services not elsewhere spec...</td>\n",
       "      <td>All other professional services that are not c...</td>\n",
       "    </tr>\n",
       "    <tr>\n",
       "      <th>0491</th>\n",
       "      <td>3,445.00</td>\n",
       "      <td>52.41</td>\n",
       "      <td>122.41</td>\n",
       "      <td>Professional and special services</td>\n",
       "      <td>Management consulting</td>\n",
       "      <td>Management consulting</td>\n",
       "      <td>Consulting services for financial management, ...</td>\n",
       "    </tr>\n",
       "    <tr>\n",
       "      <th>0859</th>\n",
       "      <td>2,876.00</td>\n",
       "      <td>46.52</td>\n",
       "      <td>98.51</td>\n",
       "      <td>Professional and special services</td>\n",
       "      <td>Business services</td>\n",
       "      <td>Other business services not elsewhere specified</td>\n",
       "      <td>Business services which cannot be classified u...</td>\n",
       "    </tr>\n",
       "  </tbody>\n",
       "</table>\n",
       "</div>"
      ],
      "text/plain": [
       "        count  median   mean                  Sub-category_name  \\\n",
       "0452   549.00  200.00 262.92  Professional and special services   \n",
       "0811   982.00  102.90 150.16  Professional and special services   \n",
       "0473 8,991.00  100.81 221.67  Professional and special services   \n",
       "0451   553.00  100.00 165.69  Professional and special services   \n",
       "0582   630.00  100.00 789.89                            Rentals   \n",
       "0494 1,103.00   71.47 127.56  Professional and special services   \n",
       "0401   523.00   63.78 111.81  Professional and special services   \n",
       "0431   588.00   63.14 119.82  Professional and special services   \n",
       "0420   990.00   60.24 189.92  Professional and special services   \n",
       "0813 1,987.00   58.93  96.89  Professional and special services   \n",
       "0499 4,570.00   54.20 157.54  Professional and special services   \n",
       "0491 3,445.00   52.41 122.41  Professional and special services   \n",
       "0859 2,876.00   46.52  98.51  Professional and special services   \n",
       "\n",
       "                         Reportingobject_name  \\\n",
       "0452              Health and welfare services   \n",
       "0811                        Business services   \n",
       "0473                     Informatics services   \n",
       "0451              Health and welfare services   \n",
       "0582          Rental of informatics equipment   \n",
       "0494  Interpretation and translation services   \n",
       "0401                        Business services   \n",
       "0431         Scientific and research services   \n",
       "0420   Engineering and architectural services   \n",
       "0813                  Temporary help services   \n",
       "0499                           Other services   \n",
       "0491                    Management consulting   \n",
       "0859                        Business services   \n",
       "\n",
       "                                                   Name  \\\n",
       "0452                                   Welfare services   \n",
       "0811                       Contracted building cleaning   \n",
       "0473  Information technology and telecommunications ...   \n",
       "0451      Other health services not elsewhere specified   \n",
       "0582                  Software licence/maintenance fees   \n",
       "0494                               Translation services   \n",
       "0401                      Accounting and audit services   \n",
       "0431                             Scientific consultants   \n",
       "0420       Engineering services not elsewhere specified   \n",
       "0813                            Temporary help services   \n",
       "0499  Other professional services not elsewhere spec...   \n",
       "0491                              Management consulting   \n",
       "0859    Other business services not elsewhere specified   \n",
       "\n",
       "                                        Description_OBJ  \n",
       "0452  Welfare services purchased from social and rel...  \n",
       "0811  Cleaning services for buildings such as office...  \n",
       "0473  Professional contracting and consulting servic...  \n",
       "0451  Other health services not elsewhere specified ...  \n",
       "0582  License, maintenance/renewal fees for client s...  \n",
       "0494                 Services for language translation.  \n",
       "0401  Accounting and audit services including financ...  \n",
       "0431  Consultant or contract workers services acquir...  \n",
       "0420  Engineering services acquired that are not cla...  \n",
       "0813  Temporary help services acquired for general o...  \n",
       "0499  All other professional services that are not c...  \n",
       "0491  Consulting services for financial management, ...  \n",
       "0859  Business services which cannot be classified u...  "
      ]
     },
     "execution_count": 9,
     "metadata": {},
     "output_type": "execute_result"
    }
   ],
   "source": [
    "# Join code description to contract counts per category, filter categories with at least 500 contracts\n",
    "\n",
    "code_counts = cost_changes.groupby('economic_object_code').change.agg(['count', 'median', 'mean'])\n",
    "code_counts = (pd.concat([code_counts, codes], axis=1)\n",
    "               .dropna(subset=['Name'])\n",
    "               .query('count >= 500')\n",
    "               .sort_values('median', ascending=False)\n",
    "              )\n",
    "code_counts.head(13)"
   ]
  },
  {
   "cell_type": "code",
   "execution_count": 19,
   "id": "a3fe95cd-5a91-48b3-9b65-06b442f79d3e",
   "metadata": {},
   "outputs": [
    {
     "data": {
      "application/vnd.plotly.v1+json": {
       "config": {
        "plotlyServerURL": "https://plot.ly"
       },
       "data": [
        {
         "customdata": [
          [
           "0473"
          ],
          [
           "0473"
          ],
          [
           "0473"
          ],
          [
           "0473"
          ],
          [
           "0473"
          ],
          [
           "0473"
          ],
          [
           "0473"
          ],
          [
           "0473"
          ],
          [
           "0473"
          ],
          [
           "0473"
          ],
          [
           "0473"
          ]
         ],
         "hovertemplate": "variable=first_value<br>Name=Information technology and telecommunications consultants<br>fiscal_year=%{x}<br>value=%{y}<br>economic_object_code=%{customdata[0]}<extra></extra>",
         "legendgroup": "first_value",
         "line": {
          "color": "#636efa",
          "dash": "solid"
         },
         "marker": {
          "symbol": "circle"
         },
         "mode": "lines",
         "name": "first_value",
         "orientation": "v",
         "showlegend": true,
         "type": "scatter",
         "x": [
          2014,
          2015,
          2016,
          2017,
          2018,
          2019,
          2020,
          2021,
          2022,
          2023,
          2024
         ],
         "xaxis": "x9",
         "y": [
          243129.9296153846,
          257343.30005830905,
          354476.07309484197,
          363249.7783143508,
          271824.05130952375,
          341885.52540444443,
          280378.31224347826,
          260865.42676167854,
          270639.1375019395,
          272178.1657451923,
          143602.88518518518
         ],
         "yaxis": "y9"
        },
        {
         "customdata": [
          [
           "0491"
          ],
          [
           "0491"
          ],
          [
           "0491"
          ],
          [
           "0491"
          ],
          [
           "0491"
          ],
          [
           "0491"
          ],
          [
           "0491"
          ],
          [
           "0491"
          ],
          [
           "0491"
          ],
          [
           "0491"
          ],
          [
           "0491"
          ]
         ],
         "hovertemplate": "variable=first_value<br>Name=Management consulting<br>fiscal_year=%{x}<br>value=%{y}<br>economic_object_code=%{customdata[0]}<extra></extra>",
         "legendgroup": "first_value",
         "line": {
          "color": "#636efa",
          "dash": "solid"
         },
         "marker": {
          "symbol": "circle"
         },
         "mode": "lines",
         "name": "first_value",
         "orientation": "v",
         "showlegend": false,
         "type": "scatter",
         "x": [
          2014,
          2015,
          2016,
          2017,
          2018,
          2019,
          2020,
          2021,
          2022,
          2023,
          2024
         ],
         "xaxis": "x10",
         "y": [
          186688.09471153846,
          248322.3113392857,
          129523.04072368421,
          405359.37854166667,
          382683.8576958526,
          765495.2320545074,
          375201.3632443532,
          277452.71120748296,
          387441.0627466151,
          874872.8858781361,
          242102.08000000002
         ],
         "yaxis": "y10"
        },
        {
         "customdata": [
          [
           "0813"
          ],
          [
           "0813"
          ],
          [
           "0813"
          ],
          [
           "0813"
          ],
          [
           "0813"
          ],
          [
           "0813"
          ],
          [
           "0813"
          ],
          [
           "0813"
          ],
          [
           "0813"
          ],
          [
           "0813"
          ],
          [
           "0813"
          ]
         ],
         "hovertemplate": "variable=first_value<br>Name=Temporary help services<br>fiscal_year=%{x}<br>value=%{y}<br>economic_object_code=%{customdata[0]}<extra></extra>",
         "legendgroup": "first_value",
         "line": {
          "color": "#636efa",
          "dash": "solid"
         },
         "marker": {
          "symbol": "circle"
         },
         "mode": "lines",
         "name": "first_value",
         "orientation": "v",
         "showlegend": false,
         "type": "scatter",
         "x": [
          2014,
          2015,
          2016,
          2017,
          2018,
          2019,
          2020,
          2021,
          2022,
          2023,
          2024
         ],
         "xaxis": "x11",
         "y": [
          55113.093057851234,
          168538.8344520548,
          62261.463560606055,
          61543.64066914498,
          72888.94581521739,
          110908.2111875,
          89748.86175879397,
          127744.17349112427,
          152571.48868613137,
          106058.51048387097,
          89422.64
         ],
         "yaxis": "y11"
        },
        {
         "customdata": [
          [
           "0452"
          ],
          [
           "0452"
          ],
          [
           "0452"
          ],
          [
           "0452"
          ],
          [
           "0452"
          ],
          [
           "0452"
          ],
          [
           "0452"
          ],
          [
           "0452"
          ],
          [
           "0452"
          ],
          [
           "0452"
          ]
         ],
         "hovertemplate": "variable=first_value<br>Name=Welfare services<br>fiscal_year=%{x}<br>value=%{y}<br>economic_object_code=%{customdata[0]}<extra></extra>",
         "legendgroup": "first_value",
         "line": {
          "color": "#636efa",
          "dash": "solid"
         },
         "marker": {
          "symbol": "circle"
         },
         "mode": "lines",
         "name": "first_value",
         "orientation": "v",
         "showlegend": false,
         "type": "scatter",
         "x": [
          2014,
          2015,
          2016,
          2017,
          2018,
          2019,
          2020,
          2021,
          2022,
          2023
         ],
         "xaxis": "x12",
         "y": [
          488858.0606896552,
          710798.1576923077,
          336998.35159999994,
          702930.3163057325,
          5402060.065263159,
          1031289.9859722222,
          1112048.0725,
          798440.7694444444,
          1245295.5787037036,
          356801.74571428576
         ],
         "yaxis": "y12"
        },
        {
         "customdata": [
          [
           "1283"
          ],
          [
           "1283"
          ],
          [
           "1283"
          ],
          [
           "1283"
          ],
          [
           "1283"
          ],
          [
           "1283"
          ],
          [
           "1283"
          ],
          [
           "1283"
          ],
          [
           "1283"
          ],
          [
           "1283"
          ],
          [
           "1283"
          ]
         ],
         "hovertemplate": "variable=first_value<br>Name=Desktop/personal/portable computers<br>fiscal_year=%{x}<br>value=%{y}<br>economic_object_code=%{customdata[0]}<extra></extra>",
         "legendgroup": "first_value",
         "line": {
          "color": "#636efa",
          "dash": "solid"
         },
         "marker": {
          "symbol": "circle"
         },
         "mode": "lines",
         "name": "first_value",
         "orientation": "v",
         "showlegend": false,
         "type": "scatter",
         "x": [
          2014,
          2015,
          2016,
          2017,
          2018,
          2019,
          2020,
          2021,
          2022,
          2023,
          2024
         ],
         "xaxis": "x5",
         "y": [
          237258.98636363636,
          750896.1244444444,
          416949.6528571429,
          440975.85244897957,
          514407.93023255817,
          606061.6821296297,
          489678.74351648346,
          614010.7071276596,
          666954.8571621622,
          284983.7631578947,
          78804.285
         ],
         "yaxis": "y5"
        },
        {
         "customdata": [
          [
           "0582"
          ],
          [
           "0582"
          ],
          [
           "0582"
          ],
          [
           "0582"
          ],
          [
           "0582"
          ],
          [
           "0582"
          ],
          [
           "0582"
          ],
          [
           "0582"
          ],
          [
           "0582"
          ],
          [
           "0582"
          ],
          [
           "0582"
          ]
         ],
         "hovertemplate": "variable=first_value<br>Name=Software licence/maintenance fees<br>fiscal_year=%{x}<br>value=%{y}<br>economic_object_code=%{customdata[0]}<extra></extra>",
         "legendgroup": "first_value",
         "line": {
          "color": "#636efa",
          "dash": "solid"
         },
         "marker": {
          "symbol": "circle"
         },
         "mode": "lines",
         "name": "first_value",
         "orientation": "v",
         "showlegend": false,
         "type": "scatter",
         "x": [
          2014,
          2015,
          2016,
          2017,
          2018,
          2019,
          2020,
          2021,
          2022,
          2023,
          2024
         ],
         "xaxis": "x6",
         "y": [
          172685.5088235294,
          6409018.7336,
          812396.196060606,
          582195.3715555555,
          1376722.3014444443,
          10502554.438314607,
          329214.3612,
          600206.457244898,
          517906.04613636364,
          491847.8450746269,
          72262.81
         ],
         "yaxis": "y6"
        },
        {
         "customdata": [
          [
           "0430"
          ],
          [
           "0430"
          ],
          [
           "0430"
          ],
          [
           "0430"
          ],
          [
           "0430"
          ],
          [
           "0430"
          ],
          [
           "0430"
          ],
          [
           "0430"
          ],
          [
           "0430"
          ],
          [
           "0430"
          ],
          [
           "0430"
          ]
         ],
         "hovertemplate": "variable=first_value<br>Name=Scientific services<br>fiscal_year=%{x}<br>value=%{y}<br>economic_object_code=%{customdata[0]}<extra></extra>",
         "legendgroup": "first_value",
         "line": {
          "color": "#636efa",
          "dash": "solid"
         },
         "marker": {
          "symbol": "circle"
         },
         "mode": "lines",
         "name": "first_value",
         "orientation": "v",
         "showlegend": false,
         "type": "scatter",
         "x": [
          2014,
          2015,
          2016,
          2017,
          2018,
          2019,
          2020,
          2021,
          2022,
          2023,
          2024
         ],
         "xaxis": "x7",
         "y": [
          197668.65644444447,
          121636.49314285714,
          82572.5625,
          141451.86982608694,
          187594.63647668393,
          148242.711,
          164034.80502673797,
          185219.8974468085,
          141502.77897810217,
          201118.0785,
          90288.78000000001
         ],
         "yaxis": "y7"
        },
        {
         "customdata": [
          [
           "0431"
          ],
          [
           "0431"
          ],
          [
           "0431"
          ],
          [
           "0431"
          ],
          [
           "0431"
          ],
          [
           "0431"
          ],
          [
           "0431"
          ],
          [
           "0431"
          ],
          [
           "0431"
          ],
          [
           "0431"
          ]
         ],
         "hovertemplate": "variable=first_value<br>Name=Scientific consultants<br>fiscal_year=%{x}<br>value=%{y}<br>economic_object_code=%{customdata[0]}<extra></extra>",
         "legendgroup": "first_value",
         "line": {
          "color": "#636efa",
          "dash": "solid"
         },
         "marker": {
          "symbol": "circle"
         },
         "mode": "lines",
         "name": "first_value",
         "orientation": "v",
         "showlegend": false,
         "type": "scatter",
         "x": [
          2014,
          2015,
          2016,
          2017,
          2018,
          2019,
          2020,
          2021,
          2022,
          2023
         ],
         "xaxis": "x8",
         "y": [
          160250.96684210526,
          211247.52724999998,
          538933.0944736842,
          325152.33851851855,
          598838.8693846153,
          160600.97828125,
          295322.12802631577,
          210093.08125,
          150726.73438356165,
          67756.07766666666
         ],
         "yaxis": "y8"
        },
        {
         "customdata": [
          [
           "0460"
          ],
          [
           "0460"
          ],
          [
           "0460"
          ],
          [
           "0460"
          ],
          [
           "0460"
          ],
          [
           "0460"
          ],
          [
           "0460"
          ],
          [
           "0460"
          ],
          [
           "0460"
          ],
          [
           "0460"
          ],
          [
           "0460"
          ]
         ],
         "hovertemplate": "variable=first_value<br>Name=Protection services<br>fiscal_year=%{x}<br>value=%{y}<br>economic_object_code=%{customdata[0]}<extra></extra>",
         "legendgroup": "first_value",
         "line": {
          "color": "#636efa",
          "dash": "solid"
         },
         "marker": {
          "symbol": "circle"
         },
         "mode": "lines",
         "name": "first_value",
         "orientation": "v",
         "showlegend": false,
         "type": "scatter",
         "x": [
          2014,
          2015,
          2016,
          2017,
          2018,
          2019,
          2020,
          2021,
          2022,
          2023,
          2024
         ],
         "xaxis": "x",
         "y": [
          621289.5684615385,
          461109.5486842106,
          378387.8054545455,
          485169.8441798942,
          386387.7110212766,
          332988.1360526316,
          376031.1564502164,
          312283.8216045845,
          522539.70277739526,
          332963.2612244898,
          204314.00918367345
         ],
         "yaxis": "y"
        },
        {
         "customdata": [
          [
           "0451"
          ],
          [
           "0451"
          ],
          [
           "0451"
          ],
          [
           "0451"
          ],
          [
           "0451"
          ],
          [
           "0451"
          ],
          [
           "0451"
          ],
          [
           "0451"
          ],
          [
           "0451"
          ],
          [
           "0451"
          ],
          [
           "0451"
          ]
         ],
         "hovertemplate": "variable=first_value<br>Name=Other health services not elsewhere specified<br>fiscal_year=%{x}<br>value=%{y}<br>economic_object_code=%{customdata[0]}<extra></extra>",
         "legendgroup": "first_value",
         "line": {
          "color": "#636efa",
          "dash": "solid"
         },
         "marker": {
          "symbol": "circle"
         },
         "mode": "lines",
         "name": "first_value",
         "orientation": "v",
         "showlegend": false,
         "type": "scatter",
         "x": [
          2014,
          2015,
          2016,
          2017,
          2018,
          2019,
          2020,
          2021,
          2022,
          2023,
          2024
         ],
         "xaxis": "x2",
         "y": [
          260488.15649999998,
          156088.21666666665,
          223833.41027027025,
          112894.63859375,
          144873.91104477612,
          294543.7405084746,
          1259021.5056321837,
          2386962.902769231,
          8504408.607746478,
          235602.03490196078,
          395500
         ],
         "yaxis": "y2"
        },
        {
         "customdata": [
          [
           "0422"
          ],
          [
           "0422"
          ],
          [
           "0422"
          ],
          [
           "0422"
          ],
          [
           "0422"
          ],
          [
           "0422"
          ],
          [
           "0422"
          ],
          [
           "0422"
          ],
          [
           "0422"
          ],
          [
           "0422"
          ],
          [
           "0422"
          ]
         ],
         "hovertemplate": "variable=first_value<br>Name=Engineering consultants - Construction<br>fiscal_year=%{x}<br>value=%{y}<br>economic_object_code=%{customdata[0]}<extra></extra>",
         "legendgroup": "first_value",
         "line": {
          "color": "#636efa",
          "dash": "solid"
         },
         "marker": {
          "symbol": "circle"
         },
         "mode": "lines",
         "name": "first_value",
         "orientation": "v",
         "showlegend": false,
         "type": "scatter",
         "x": [
          2014,
          2015,
          2016,
          2017,
          2018,
          2019,
          2020,
          2021,
          2022,
          2023,
          2024
         ],
         "xaxis": "x3",
         "y": [
          85494.70103448276,
          693055.3260416667,
          99576.42756097562,
          954337.0420886077,
          681896.5949606299,
          196150.0675221239,
          403774.66610878665,
          269544.615,
          512216.3296,
          411275.4747872341,
          34741.478
         ],
         "yaxis": "y3"
        },
        {
         "customdata": [
          [
           "0401"
          ],
          [
           "0401"
          ],
          [
           "0401"
          ],
          [
           "0401"
          ],
          [
           "0401"
          ],
          [
           "0401"
          ],
          [
           "0401"
          ],
          [
           "0401"
          ],
          [
           "0401"
          ],
          [
           "0401"
          ],
          [
           "0401"
          ]
         ],
         "hovertemplate": "variable=first_value<br>Name=Accounting and audit services<br>fiscal_year=%{x}<br>value=%{y}<br>economic_object_code=%{customdata[0]}<extra></extra>",
         "legendgroup": "first_value",
         "line": {
          "color": "#636efa",
          "dash": "solid"
         },
         "marker": {
          "symbol": "circle"
         },
         "mode": "lines",
         "name": "first_value",
         "orientation": "v",
         "showlegend": false,
         "type": "scatter",
         "x": [
          2014,
          2015,
          2016,
          2017,
          2018,
          2019,
          2020,
          2021,
          2022,
          2023,
          2024
         ],
         "xaxis": "x4",
         "y": [
          49616.895,
          59444.2948,
          45792.251000000004,
          177499.05440000002,
          153829.25362318842,
          160210.8223214286,
          111747.92640625,
          87915.60566666667,
          70456.45791666667,
          37992.11603773585,
          23857.315000000002
         ],
         "yaxis": "y4"
        },
        {
         "customdata": [
          [
           "0473"
          ],
          [
           "0473"
          ],
          [
           "0473"
          ],
          [
           "0473"
          ],
          [
           "0473"
          ],
          [
           "0473"
          ],
          [
           "0473"
          ],
          [
           "0473"
          ],
          [
           "0473"
          ],
          [
           "0473"
          ],
          [
           "0473"
          ]
         ],
         "hovertemplate": "variable=last_value<br>Name=Information technology and telecommunications consultants<br>fiscal_year=%{x}<br>value=%{y}<br>economic_object_code=%{customdata[0]}<extra></extra>",
         "legendgroup": "last_value",
         "line": {
          "color": "#EF553B",
          "dash": "solid"
         },
         "marker": {
          "symbol": "circle"
         },
         "mode": "lines",
         "name": "last_value",
         "orientation": "v",
         "showlegend": true,
         "type": "scatter",
         "x": [
          2014,
          2015,
          2016,
          2017,
          2018,
          2019,
          2020,
          2021,
          2022,
          2023,
          2024
         ],
         "xaxis": "x9",
         "y": [
          606910.7521703297,
          720248.8576676385,
          816545.5967886855,
          931696.3837243735,
          703598.2773992673,
          737678.8032977778,
          604393.5234434783,
          585567.1826128266,
          596818.1674398759,
          659244.4541225962,
          180394.1512962963
         ],
         "yaxis": "y9"
        },
        {
         "customdata": [
          [
           "0491"
          ],
          [
           "0491"
          ],
          [
           "0491"
          ],
          [
           "0491"
          ],
          [
           "0491"
          ],
          [
           "0491"
          ],
          [
           "0491"
          ],
          [
           "0491"
          ],
          [
           "0491"
          ],
          [
           "0491"
          ],
          [
           "0491"
          ]
         ],
         "hovertemplate": "variable=last_value<br>Name=Management consulting<br>fiscal_year=%{x}<br>value=%{y}<br>economic_object_code=%{customdata[0]}<extra></extra>",
         "legendgroup": "last_value",
         "line": {
          "color": "#EF553B",
          "dash": "solid"
         },
         "marker": {
          "symbol": "circle"
         },
         "mode": "lines",
         "name": "last_value",
         "orientation": "v",
         "showlegend": false,
         "type": "scatter",
         "x": [
          2014,
          2015,
          2016,
          2017,
          2018,
          2019,
          2020,
          2021,
          2022,
          2023,
          2024
         ],
         "xaxis": "x10",
         "y": [
          455129.03048076923,
          447759.2034821428,
          270613.54486842104,
          1019808.6367361111,
          869958.3934331797,
          1124668.6189098533,
          681321.8044147844,
          635281.0071088435,
          760050.1170019342,
          1134421.9256272402,
          427372.7928571428
         ],
         "yaxis": "y10"
        },
        {
         "customdata": [
          [
           "0813"
          ],
          [
           "0813"
          ],
          [
           "0813"
          ],
          [
           "0813"
          ],
          [
           "0813"
          ],
          [
           "0813"
          ],
          [
           "0813"
          ],
          [
           "0813"
          ],
          [
           "0813"
          ],
          [
           "0813"
          ],
          [
           "0813"
          ]
         ],
         "hovertemplate": "variable=last_value<br>Name=Temporary help services<br>fiscal_year=%{x}<br>value=%{y}<br>economic_object_code=%{customdata[0]}<extra></extra>",
         "legendgroup": "last_value",
         "line": {
          "color": "#EF553B",
          "dash": "solid"
         },
         "marker": {
          "symbol": "circle"
         },
         "mode": "lines",
         "name": "last_value",
         "orientation": "v",
         "showlegend": false,
         "type": "scatter",
         "x": [
          2014,
          2015,
          2016,
          2017,
          2018,
          2019,
          2020,
          2021,
          2022,
          2023,
          2024
         ],
         "xaxis": "x11",
         "y": [
          98542.21371900826,
          354327.5856849315,
          140669.21424242426,
          108829.88624535315,
          116082.9187228261,
          180926.9004375,
          143113.90864321607,
          199784.6247337278,
          239367.66715328465,
          171383.61677419356,
          166335.555
         ],
         "yaxis": "y11"
        },
        {
         "customdata": [
          [
           "0452"
          ],
          [
           "0452"
          ],
          [
           "0452"
          ],
          [
           "0452"
          ],
          [
           "0452"
          ],
          [
           "0452"
          ],
          [
           "0452"
          ],
          [
           "0452"
          ],
          [
           "0452"
          ],
          [
           "0452"
          ]
         ],
         "hovertemplate": "variable=last_value<br>Name=Welfare services<br>fiscal_year=%{x}<br>value=%{y}<br>economic_object_code=%{customdata[0]}<extra></extra>",
         "legendgroup": "last_value",
         "line": {
          "color": "#EF553B",
          "dash": "solid"
         },
         "marker": {
          "symbol": "circle"
         },
         "mode": "lines",
         "name": "last_value",
         "orientation": "v",
         "showlegend": false,
         "type": "scatter",
         "x": [
          2014,
          2015,
          2016,
          2017,
          2018,
          2019,
          2020,
          2021,
          2022,
          2023
         ],
         "xaxis": "x12",
         "y": [
          615774.2468965517,
          716564.7481538462,
          1549539.0296,
          3442257.0364968153,
          6250631.1347368425,
          2953667.234166667,
          2399775.3775,
          1889401.2750000001,
          2485428.56,
          734561.4214285715
         ],
         "yaxis": "y12"
        },
        {
         "customdata": [
          [
           "1283"
          ],
          [
           "1283"
          ],
          [
           "1283"
          ],
          [
           "1283"
          ],
          [
           "1283"
          ],
          [
           "1283"
          ],
          [
           "1283"
          ],
          [
           "1283"
          ],
          [
           "1283"
          ],
          [
           "1283"
          ],
          [
           "1283"
          ]
         ],
         "hovertemplate": "variable=last_value<br>Name=Desktop/personal/portable computers<br>fiscal_year=%{x}<br>value=%{y}<br>economic_object_code=%{customdata[0]}<extra></extra>",
         "legendgroup": "last_value",
         "line": {
          "color": "#EF553B",
          "dash": "solid"
         },
         "marker": {
          "symbol": "circle"
         },
         "mode": "lines",
         "name": "last_value",
         "orientation": "v",
         "showlegend": false,
         "type": "scatter",
         "x": [
          2014,
          2015,
          2016,
          2017,
          2018,
          2019,
          2020,
          2021,
          2022,
          2023,
          2024
         ],
         "xaxis": "x5",
         "y": [
          401592.8472727273,
          826870.4144444445,
          558396.5552380952,
          571285.3167346938,
          807354.1020930232,
          1202628.875277778,
          1100967.620879121,
          1652317.4767021276,
          1334687.7986486487,
          314232.5515789474,
          83130.99500000001
         ],
         "yaxis": "y5"
        },
        {
         "customdata": [
          [
           "0582"
          ],
          [
           "0582"
          ],
          [
           "0582"
          ],
          [
           "0582"
          ],
          [
           "0582"
          ],
          [
           "0582"
          ],
          [
           "0582"
          ],
          [
           "0582"
          ],
          [
           "0582"
          ],
          [
           "0582"
          ],
          [
           "0582"
          ]
         ],
         "hovertemplate": "variable=last_value<br>Name=Software licence/maintenance fees<br>fiscal_year=%{x}<br>value=%{y}<br>economic_object_code=%{customdata[0]}<extra></extra>",
         "legendgroup": "last_value",
         "line": {
          "color": "#EF553B",
          "dash": "solid"
         },
         "marker": {
          "symbol": "circle"
         },
         "mode": "lines",
         "name": "last_value",
         "orientation": "v",
         "showlegend": false,
         "type": "scatter",
         "x": [
          2014,
          2015,
          2016,
          2017,
          2018,
          2019,
          2020,
          2021,
          2022,
          2023,
          2024
         ],
         "xaxis": "x6",
         "y": [
          227424.13235294117,
          14055107.765999999,
          2309048.623030303,
          2559571.4362222226,
          2041561.0446666668,
          13052197.976629214,
          1179372.5392,
          1026561.1690816327,
          1725044.7738636362,
          674277.927164179,
          94800.29
         ],
         "yaxis": "y6"
        },
        {
         "customdata": [
          [
           "0430"
          ],
          [
           "0430"
          ],
          [
           "0430"
          ],
          [
           "0430"
          ],
          [
           "0430"
          ],
          [
           "0430"
          ],
          [
           "0430"
          ],
          [
           "0430"
          ],
          [
           "0430"
          ],
          [
           "0430"
          ],
          [
           "0430"
          ]
         ],
         "hovertemplate": "variable=last_value<br>Name=Scientific services<br>fiscal_year=%{x}<br>value=%{y}<br>economic_object_code=%{customdata[0]}<extra></extra>",
         "legendgroup": "last_value",
         "line": {
          "color": "#EF553B",
          "dash": "solid"
         },
         "marker": {
          "symbol": "circle"
         },
         "mode": "lines",
         "name": "last_value",
         "orientation": "v",
         "showlegend": false,
         "type": "scatter",
         "x": [
          2014,
          2015,
          2016,
          2017,
          2018,
          2019,
          2020,
          2021,
          2022,
          2023,
          2024
         ],
         "xaxis": "x7",
         "y": [
          435791.1546666667,
          233291.67099999997,
          170329.8659722222,
          261931.07539130436,
          287629.6278238342,
          255512.6169411765,
          265852.60529411765,
          283011.1842553191,
          196501.94700729926,
          283910.95075,
          111306.83333333333
         ],
         "yaxis": "y7"
        },
        {
         "customdata": [
          [
           "0431"
          ],
          [
           "0431"
          ],
          [
           "0431"
          ],
          [
           "0431"
          ],
          [
           "0431"
          ],
          [
           "0431"
          ],
          [
           "0431"
          ],
          [
           "0431"
          ],
          [
           "0431"
          ],
          [
           "0431"
          ]
         ],
         "hovertemplate": "variable=last_value<br>Name=Scientific consultants<br>fiscal_year=%{x}<br>value=%{y}<br>economic_object_code=%{customdata[0]}<extra></extra>",
         "legendgroup": "last_value",
         "line": {
          "color": "#EF553B",
          "dash": "solid"
         },
         "marker": {
          "symbol": "circle"
         },
         "mode": "lines",
         "name": "last_value",
         "orientation": "v",
         "showlegend": false,
         "type": "scatter",
         "x": [
          2014,
          2015,
          2016,
          2017,
          2018,
          2019,
          2020,
          2021,
          2022,
          2023
         ],
         "xaxis": "x8",
         "y": [
          211699.73263157895,
          465539.24375,
          944795.9489473685,
          527979.651851852,
          868650.2233846154,
          336791.77515625,
          472152.4590789474,
          398098.23375,
          232328.50301369862,
          97735.86850000001
         ],
         "yaxis": "y8"
        },
        {
         "customdata": [
          [
           "0460"
          ],
          [
           "0460"
          ],
          [
           "0460"
          ],
          [
           "0460"
          ],
          [
           "0460"
          ],
          [
           "0460"
          ],
          [
           "0460"
          ],
          [
           "0460"
          ],
          [
           "0460"
          ],
          [
           "0460"
          ],
          [
           "0460"
          ]
         ],
         "hovertemplate": "variable=last_value<br>Name=Protection services<br>fiscal_year=%{x}<br>value=%{y}<br>economic_object_code=%{customdata[0]}<extra></extra>",
         "legendgroup": "last_value",
         "line": {
          "color": "#EF553B",
          "dash": "solid"
         },
         "marker": {
          "symbol": "circle"
         },
         "mode": "lines",
         "name": "last_value",
         "orientation": "v",
         "showlegend": false,
         "type": "scatter",
         "x": [
          2014,
          2015,
          2016,
          2017,
          2018,
          2019,
          2020,
          2021,
          2022,
          2023,
          2024
         ],
         "xaxis": "x",
         "y": [
          989894.7153846155,
          626240.1338157895,
          615127.7903030303,
          554571.1635978837,
          491411.4391489362,
          404233.6689144737,
          452482.6271861472,
          538305.3423209169,
          689871.87248503,
          457036.8782993197,
          268955.40265306126
         ],
         "yaxis": "y"
        },
        {
         "customdata": [
          [
           "0451"
          ],
          [
           "0451"
          ],
          [
           "0451"
          ],
          [
           "0451"
          ],
          [
           "0451"
          ],
          [
           "0451"
          ],
          [
           "0451"
          ],
          [
           "0451"
          ],
          [
           "0451"
          ],
          [
           "0451"
          ],
          [
           "0451"
          ]
         ],
         "hovertemplate": "variable=last_value<br>Name=Other health services not elsewhere specified<br>fiscal_year=%{x}<br>value=%{y}<br>economic_object_code=%{customdata[0]}<extra></extra>",
         "legendgroup": "last_value",
         "line": {
          "color": "#EF553B",
          "dash": "solid"
         },
         "marker": {
          "symbol": "circle"
         },
         "mode": "lines",
         "name": "last_value",
         "orientation": "v",
         "showlegend": false,
         "type": "scatter",
         "x": [
          2014,
          2015,
          2016,
          2017,
          2018,
          2019,
          2020,
          2021,
          2022,
          2023,
          2024
         ],
         "xaxis": "x2",
         "y": [
          434467.7255,
          278575.7092592593,
          491874.4789189189,
          317363.3121875,
          335029.4995522388,
          513083.7838983051,
          2609462.7340229885,
          11645897.87676923,
          9565398.197323944,
          280715.4870588235,
          395500
         ],
         "yaxis": "y2"
        },
        {
         "customdata": [
          [
           "0422"
          ],
          [
           "0422"
          ],
          [
           "0422"
          ],
          [
           "0422"
          ],
          [
           "0422"
          ],
          [
           "0422"
          ],
          [
           "0422"
          ],
          [
           "0422"
          ],
          [
           "0422"
          ],
          [
           "0422"
          ],
          [
           "0422"
          ]
         ],
         "hovertemplate": "variable=last_value<br>Name=Engineering consultants - Construction<br>fiscal_year=%{x}<br>value=%{y}<br>economic_object_code=%{customdata[0]}<extra></extra>",
         "legendgroup": "last_value",
         "line": {
          "color": "#EF553B",
          "dash": "solid"
         },
         "marker": {
          "symbol": "circle"
         },
         "mode": "lines",
         "name": "last_value",
         "orientation": "v",
         "showlegend": false,
         "type": "scatter",
         "x": [
          2014,
          2015,
          2016,
          2017,
          2018,
          2019,
          2020,
          2021,
          2022,
          2023,
          2024
         ],
         "xaxis": "x3",
         "y": [
          119352.50379310345,
          608433.3564583333,
          131968.34609756098,
          2698627.432341772,
          1119615.6628740157,
          356314.1944690266,
          508687.63824267784,
          422197.03210526315,
          1179370.0484,
          462548.3389361702,
          42959.278000000006
         ],
         "yaxis": "y3"
        },
        {
         "customdata": [
          [
           "0401"
          ],
          [
           "0401"
          ],
          [
           "0401"
          ],
          [
           "0401"
          ],
          [
           "0401"
          ],
          [
           "0401"
          ],
          [
           "0401"
          ],
          [
           "0401"
          ],
          [
           "0401"
          ],
          [
           "0401"
          ],
          [
           "0401"
          ]
         ],
         "hovertemplate": "variable=last_value<br>Name=Accounting and audit services<br>fiscal_year=%{x}<br>value=%{y}<br>economic_object_code=%{customdata[0]}<extra></extra>",
         "legendgroup": "last_value",
         "line": {
          "color": "#EF553B",
          "dash": "solid"
         },
         "marker": {
          "symbol": "circle"
         },
         "mode": "lines",
         "name": "last_value",
         "orientation": "v",
         "showlegend": false,
         "type": "scatter",
         "x": [
          2014,
          2015,
          2016,
          2017,
          2018,
          2019,
          2020,
          2021,
          2022,
          2023,
          2024
         ],
         "xaxis": "x4",
         "y": [
          103142.63388888889,
          94164,
          60868.74,
          477763.03620000003,
          331443.26014492754,
          318602.8019642857,
          311411.33234375,
          230778.5435,
          128171.56864583334,
          65256.64867924528,
          50653.39
         ],
         "yaxis": "y4"
        }
       ],
       "layout": {
        "annotations": [
         {
          "font": {},
          "showarrow": false,
          "text": "Protection services",
          "x": 0.10250000000000001,
          "xanchor": "center",
          "xref": "paper",
          "y": 0.2866666666666666,
          "yanchor": "bottom",
          "yref": "paper"
         },
         {
          "font": {},
          "showarrow": false,
          "text": "Other health services not elsewhere specified",
          "x": 0.36750000000000005,
          "xanchor": "center",
          "xref": "paper",
          "y": 0.2866666666666666,
          "yanchor": "bottom",
          "yref": "paper"
         },
         {
          "font": {},
          "showarrow": false,
          "text": "Engineering consultants - Construction",
          "x": 0.6325000000000001,
          "xanchor": "center",
          "xref": "paper",
          "y": 0.2866666666666666,
          "yanchor": "bottom",
          "yref": "paper"
         },
         {
          "font": {},
          "showarrow": false,
          "text": "Accounting and audit services",
          "x": 0.8975,
          "xanchor": "center",
          "xref": "paper",
          "y": 0.2866666666666666,
          "yanchor": "bottom",
          "yref": "paper"
         },
         {
          "font": {},
          "showarrow": false,
          "text": "Desktop/personal/portable computers",
          "x": 0.10250000000000001,
          "xanchor": "center",
          "xref": "paper",
          "y": 0.6433333333333333,
          "yanchor": "bottom",
          "yref": "paper"
         },
         {
          "font": {},
          "showarrow": false,
          "text": "Software licence/maintenance fees",
          "x": 0.36750000000000005,
          "xanchor": "center",
          "xref": "paper",
          "y": 0.6433333333333333,
          "yanchor": "bottom",
          "yref": "paper"
         },
         {
          "font": {},
          "showarrow": false,
          "text": "Scientific services",
          "x": 0.6325000000000001,
          "xanchor": "center",
          "xref": "paper",
          "y": 0.6433333333333333,
          "yanchor": "bottom",
          "yref": "paper"
         },
         {
          "font": {},
          "showarrow": false,
          "text": "Scientific consultants",
          "x": 0.8975,
          "xanchor": "center",
          "xref": "paper",
          "y": 0.6433333333333333,
          "yanchor": "bottom",
          "yref": "paper"
         },
         {
          "font": {},
          "showarrow": false,
          "text": "Information technology and telecommunications consultants",
          "x": 0.10250000000000001,
          "xanchor": "center",
          "xref": "paper",
          "y": 0.9999999999999999,
          "yanchor": "bottom",
          "yref": "paper"
         },
         {
          "font": {},
          "showarrow": false,
          "text": "Management consulting",
          "x": 0.36750000000000005,
          "xanchor": "center",
          "xref": "paper",
          "y": 0.9999999999999999,
          "yanchor": "bottom",
          "yref": "paper"
         },
         {
          "font": {},
          "showarrow": false,
          "text": "Temporary help services",
          "x": 0.6325000000000001,
          "xanchor": "center",
          "xref": "paper",
          "y": 0.9999999999999999,
          "yanchor": "bottom",
          "yref": "paper"
         },
         {
          "font": {},
          "showarrow": false,
          "text": "Welfare services",
          "x": 0.8975,
          "xanchor": "center",
          "xref": "paper",
          "y": 0.9999999999999999,
          "yanchor": "bottom",
          "yref": "paper"
         }
        ],
        "autosize": true,
        "legend": {
         "title": {
          "text": "variable"
         },
         "tracegroupgap": 0
        },
        "template": {
         "data": {
          "bar": [
           {
            "error_x": {
             "color": "#2a3f5f"
            },
            "error_y": {
             "color": "#2a3f5f"
            },
            "marker": {
             "line": {
              "color": "white",
              "width": 0.5
             },
             "pattern": {
              "fillmode": "overlay",
              "size": 10,
              "solidity": 0.2
             }
            },
            "type": "bar"
           }
          ],
          "barpolar": [
           {
            "marker": {
             "line": {
              "color": "white",
              "width": 0.5
             },
             "pattern": {
              "fillmode": "overlay",
              "size": 10,
              "solidity": 0.2
             }
            },
            "type": "barpolar"
           }
          ],
          "carpet": [
           {
            "aaxis": {
             "endlinecolor": "#2a3f5f",
             "gridcolor": "#C8D4E3",
             "linecolor": "#C8D4E3",
             "minorgridcolor": "#C8D4E3",
             "startlinecolor": "#2a3f5f"
            },
            "baxis": {
             "endlinecolor": "#2a3f5f",
             "gridcolor": "#C8D4E3",
             "linecolor": "#C8D4E3",
             "minorgridcolor": "#C8D4E3",
             "startlinecolor": "#2a3f5f"
            },
            "type": "carpet"
           }
          ],
          "choropleth": [
           {
            "colorbar": {
             "outlinewidth": 0,
             "ticks": ""
            },
            "type": "choropleth"
           }
          ],
          "contour": [
           {
            "colorbar": {
             "outlinewidth": 0,
             "ticks": ""
            },
            "colorscale": [
             [
              0,
              "#0d0887"
             ],
             [
              0.1111111111111111,
              "#46039f"
             ],
             [
              0.2222222222222222,
              "#7201a8"
             ],
             [
              0.3333333333333333,
              "#9c179e"
             ],
             [
              0.4444444444444444,
              "#bd3786"
             ],
             [
              0.5555555555555556,
              "#d8576b"
             ],
             [
              0.6666666666666666,
              "#ed7953"
             ],
             [
              0.7777777777777778,
              "#fb9f3a"
             ],
             [
              0.8888888888888888,
              "#fdca26"
             ],
             [
              1,
              "#f0f921"
             ]
            ],
            "type": "contour"
           }
          ],
          "contourcarpet": [
           {
            "colorbar": {
             "outlinewidth": 0,
             "ticks": ""
            },
            "type": "contourcarpet"
           }
          ],
          "heatmap": [
           {
            "colorbar": {
             "outlinewidth": 0,
             "ticks": ""
            },
            "colorscale": [
             [
              0,
              "#0d0887"
             ],
             [
              0.1111111111111111,
              "#46039f"
             ],
             [
              0.2222222222222222,
              "#7201a8"
             ],
             [
              0.3333333333333333,
              "#9c179e"
             ],
             [
              0.4444444444444444,
              "#bd3786"
             ],
             [
              0.5555555555555556,
              "#d8576b"
             ],
             [
              0.6666666666666666,
              "#ed7953"
             ],
             [
              0.7777777777777778,
              "#fb9f3a"
             ],
             [
              0.8888888888888888,
              "#fdca26"
             ],
             [
              1,
              "#f0f921"
             ]
            ],
            "type": "heatmap"
           }
          ],
          "heatmapgl": [
           {
            "colorbar": {
             "outlinewidth": 0,
             "ticks": ""
            },
            "colorscale": [
             [
              0,
              "#0d0887"
             ],
             [
              0.1111111111111111,
              "#46039f"
             ],
             [
              0.2222222222222222,
              "#7201a8"
             ],
             [
              0.3333333333333333,
              "#9c179e"
             ],
             [
              0.4444444444444444,
              "#bd3786"
             ],
             [
              0.5555555555555556,
              "#d8576b"
             ],
             [
              0.6666666666666666,
              "#ed7953"
             ],
             [
              0.7777777777777778,
              "#fb9f3a"
             ],
             [
              0.8888888888888888,
              "#fdca26"
             ],
             [
              1,
              "#f0f921"
             ]
            ],
            "type": "heatmapgl"
           }
          ],
          "histogram": [
           {
            "marker": {
             "pattern": {
              "fillmode": "overlay",
              "size": 10,
              "solidity": 0.2
             }
            },
            "type": "histogram"
           }
          ],
          "histogram2d": [
           {
            "colorbar": {
             "outlinewidth": 0,
             "ticks": ""
            },
            "colorscale": [
             [
              0,
              "#0d0887"
             ],
             [
              0.1111111111111111,
              "#46039f"
             ],
             [
              0.2222222222222222,
              "#7201a8"
             ],
             [
              0.3333333333333333,
              "#9c179e"
             ],
             [
              0.4444444444444444,
              "#bd3786"
             ],
             [
              0.5555555555555556,
              "#d8576b"
             ],
             [
              0.6666666666666666,
              "#ed7953"
             ],
             [
              0.7777777777777778,
              "#fb9f3a"
             ],
             [
              0.8888888888888888,
              "#fdca26"
             ],
             [
              1,
              "#f0f921"
             ]
            ],
            "type": "histogram2d"
           }
          ],
          "histogram2dcontour": [
           {
            "colorbar": {
             "outlinewidth": 0,
             "ticks": ""
            },
            "colorscale": [
             [
              0,
              "#0d0887"
             ],
             [
              0.1111111111111111,
              "#46039f"
             ],
             [
              0.2222222222222222,
              "#7201a8"
             ],
             [
              0.3333333333333333,
              "#9c179e"
             ],
             [
              0.4444444444444444,
              "#bd3786"
             ],
             [
              0.5555555555555556,
              "#d8576b"
             ],
             [
              0.6666666666666666,
              "#ed7953"
             ],
             [
              0.7777777777777778,
              "#fb9f3a"
             ],
             [
              0.8888888888888888,
              "#fdca26"
             ],
             [
              1,
              "#f0f921"
             ]
            ],
            "type": "histogram2dcontour"
           }
          ],
          "mesh3d": [
           {
            "colorbar": {
             "outlinewidth": 0,
             "ticks": ""
            },
            "type": "mesh3d"
           }
          ],
          "parcoords": [
           {
            "line": {
             "colorbar": {
              "outlinewidth": 0,
              "ticks": ""
             }
            },
            "type": "parcoords"
           }
          ],
          "pie": [
           {
            "automargin": true,
            "type": "pie"
           }
          ],
          "scatter": [
           {
            "fillpattern": {
             "fillmode": "overlay",
             "size": 10,
             "solidity": 0.2
            },
            "type": "scatter"
           }
          ],
          "scatter3d": [
           {
            "line": {
             "colorbar": {
              "outlinewidth": 0,
              "ticks": ""
             }
            },
            "marker": {
             "colorbar": {
              "outlinewidth": 0,
              "ticks": ""
             }
            },
            "type": "scatter3d"
           }
          ],
          "scattercarpet": [
           {
            "marker": {
             "colorbar": {
              "outlinewidth": 0,
              "ticks": ""
             }
            },
            "type": "scattercarpet"
           }
          ],
          "scattergeo": [
           {
            "marker": {
             "colorbar": {
              "outlinewidth": 0,
              "ticks": ""
             }
            },
            "type": "scattergeo"
           }
          ],
          "scattergl": [
           {
            "marker": {
             "colorbar": {
              "outlinewidth": 0,
              "ticks": ""
             }
            },
            "type": "scattergl"
           }
          ],
          "scattermapbox": [
           {
            "marker": {
             "colorbar": {
              "outlinewidth": 0,
              "ticks": ""
             }
            },
            "type": "scattermapbox"
           }
          ],
          "scatterpolar": [
           {
            "marker": {
             "colorbar": {
              "outlinewidth": 0,
              "ticks": ""
             }
            },
            "type": "scatterpolar"
           }
          ],
          "scatterpolargl": [
           {
            "marker": {
             "colorbar": {
              "outlinewidth": 0,
              "ticks": ""
             }
            },
            "type": "scatterpolargl"
           }
          ],
          "scatterternary": [
           {
            "marker": {
             "colorbar": {
              "outlinewidth": 0,
              "ticks": ""
             }
            },
            "type": "scatterternary"
           }
          ],
          "surface": [
           {
            "colorbar": {
             "outlinewidth": 0,
             "ticks": ""
            },
            "colorscale": [
             [
              0,
              "#0d0887"
             ],
             [
              0.1111111111111111,
              "#46039f"
             ],
             [
              0.2222222222222222,
              "#7201a8"
             ],
             [
              0.3333333333333333,
              "#9c179e"
             ],
             [
              0.4444444444444444,
              "#bd3786"
             ],
             [
              0.5555555555555556,
              "#d8576b"
             ],
             [
              0.6666666666666666,
              "#ed7953"
             ],
             [
              0.7777777777777778,
              "#fb9f3a"
             ],
             [
              0.8888888888888888,
              "#fdca26"
             ],
             [
              1,
              "#f0f921"
             ]
            ],
            "type": "surface"
           }
          ],
          "table": [
           {
            "cells": {
             "fill": {
              "color": "#EBF0F8"
             },
             "line": {
              "color": "white"
             }
            },
            "header": {
             "fill": {
              "color": "#C8D4E3"
             },
             "line": {
              "color": "white"
             }
            },
            "type": "table"
           }
          ]
         },
         "layout": {
          "annotationdefaults": {
           "arrowcolor": "#2a3f5f",
           "arrowhead": 0,
           "arrowwidth": 1
          },
          "autotypenumbers": "strict",
          "coloraxis": {
           "colorbar": {
            "outlinewidth": 0,
            "ticks": ""
           }
          },
          "colorscale": {
           "diverging": [
            [
             0,
             "#8e0152"
            ],
            [
             0.1,
             "#c51b7d"
            ],
            [
             0.2,
             "#de77ae"
            ],
            [
             0.3,
             "#f1b6da"
            ],
            [
             0.4,
             "#fde0ef"
            ],
            [
             0.5,
             "#f7f7f7"
            ],
            [
             0.6,
             "#e6f5d0"
            ],
            [
             0.7,
             "#b8e186"
            ],
            [
             0.8,
             "#7fbc41"
            ],
            [
             0.9,
             "#4d9221"
            ],
            [
             1,
             "#276419"
            ]
           ],
           "sequential": [
            [
             0,
             "#0d0887"
            ],
            [
             0.1111111111111111,
             "#46039f"
            ],
            [
             0.2222222222222222,
             "#7201a8"
            ],
            [
             0.3333333333333333,
             "#9c179e"
            ],
            [
             0.4444444444444444,
             "#bd3786"
            ],
            [
             0.5555555555555556,
             "#d8576b"
            ],
            [
             0.6666666666666666,
             "#ed7953"
            ],
            [
             0.7777777777777778,
             "#fb9f3a"
            ],
            [
             0.8888888888888888,
             "#fdca26"
            ],
            [
             1,
             "#f0f921"
            ]
           ],
           "sequentialminus": [
            [
             0,
             "#0d0887"
            ],
            [
             0.1111111111111111,
             "#46039f"
            ],
            [
             0.2222222222222222,
             "#7201a8"
            ],
            [
             0.3333333333333333,
             "#9c179e"
            ],
            [
             0.4444444444444444,
             "#bd3786"
            ],
            [
             0.5555555555555556,
             "#d8576b"
            ],
            [
             0.6666666666666666,
             "#ed7953"
            ],
            [
             0.7777777777777778,
             "#fb9f3a"
            ],
            [
             0.8888888888888888,
             "#fdca26"
            ],
            [
             1,
             "#f0f921"
            ]
           ]
          },
          "colorway": [
           "#636efa",
           "#EF553B",
           "#00cc96",
           "#ab63fa",
           "#FFA15A",
           "#19d3f3",
           "#FF6692",
           "#B6E880",
           "#FF97FF",
           "#FECB52"
          ],
          "font": {
           "color": "#2a3f5f"
          },
          "geo": {
           "bgcolor": "white",
           "lakecolor": "white",
           "landcolor": "white",
           "showlakes": true,
           "showland": true,
           "subunitcolor": "#C8D4E3"
          },
          "hoverlabel": {
           "align": "left"
          },
          "hovermode": "closest",
          "mapbox": {
           "style": "light"
          },
          "paper_bgcolor": "white",
          "plot_bgcolor": "white",
          "polar": {
           "angularaxis": {
            "gridcolor": "#EBF0F8",
            "linecolor": "#EBF0F8",
            "ticks": ""
           },
           "bgcolor": "white",
           "radialaxis": {
            "gridcolor": "#EBF0F8",
            "linecolor": "#EBF0F8",
            "ticks": ""
           }
          },
          "scene": {
           "xaxis": {
            "backgroundcolor": "white",
            "gridcolor": "#DFE8F3",
            "gridwidth": 2,
            "linecolor": "#EBF0F8",
            "showbackground": true,
            "ticks": "",
            "zerolinecolor": "#EBF0F8"
           },
           "yaxis": {
            "backgroundcolor": "white",
            "gridcolor": "#DFE8F3",
            "gridwidth": 2,
            "linecolor": "#EBF0F8",
            "showbackground": true,
            "ticks": "",
            "zerolinecolor": "#EBF0F8"
           },
           "zaxis": {
            "backgroundcolor": "white",
            "gridcolor": "#DFE8F3",
            "gridwidth": 2,
            "linecolor": "#EBF0F8",
            "showbackground": true,
            "ticks": "",
            "zerolinecolor": "#EBF0F8"
           }
          },
          "shapedefaults": {
           "line": {
            "color": "#2a3f5f"
           }
          },
          "ternary": {
           "aaxis": {
            "gridcolor": "#DFE8F3",
            "linecolor": "#A2B1C6",
            "ticks": ""
           },
           "baxis": {
            "gridcolor": "#DFE8F3",
            "linecolor": "#A2B1C6",
            "ticks": ""
           },
           "bgcolor": "white",
           "caxis": {
            "gridcolor": "#DFE8F3",
            "linecolor": "#A2B1C6",
            "ticks": ""
           }
          },
          "title": {
           "x": 0.05
          },
          "xaxis": {
           "automargin": true,
           "gridcolor": "#EBF0F8",
           "linecolor": "#EBF0F8",
           "ticks": "",
           "title": {
            "standoff": 15
           },
           "zerolinecolor": "#EBF0F8",
           "zerolinewidth": 2
          },
          "yaxis": {
           "automargin": true,
           "gridcolor": "#EBF0F8",
           "linecolor": "#EBF0F8",
           "ticks": "",
           "title": {
            "standoff": 15
           },
           "zerolinecolor": "#EBF0F8",
           "zerolinewidth": 2
          }
         }
        },
        "title": {
         "text": "Average original and amended contract values by service type"
        },
        "xaxis": {
         "anchor": "y",
         "domain": [
          0,
          0.20500000000000002
         ],
         "range": [
          2015,
          2022
         ],
         "title": {
          "text": "fiscal_year"
         },
         "type": "linear"
        },
        "xaxis10": {
         "anchor": "y10",
         "domain": [
          0.265,
          0.47000000000000003
         ],
         "matches": "x",
         "showticklabels": false,
         "type": "linear"
        },
        "xaxis11": {
         "anchor": "y11",
         "domain": [
          0.53,
          0.7350000000000001
         ],
         "matches": "x",
         "showticklabels": false,
         "type": "linear"
        },
        "xaxis12": {
         "anchor": "y12",
         "domain": [
          0.7949999999999999,
          1
         ],
         "matches": "x",
         "showticklabels": false,
         "type": "linear"
        },
        "xaxis2": {
         "anchor": "y2",
         "domain": [
          0.265,
          0.47000000000000003
         ],
         "matches": "x",
         "range": [
          2015,
          2022
         ],
         "title": {
          "text": "fiscal_year"
         },
         "type": "linear"
        },
        "xaxis3": {
         "anchor": "y3",
         "domain": [
          0.53,
          0.7350000000000001
         ],
         "matches": "x",
         "range": [
          2015,
          2022
         ],
         "title": {
          "text": "fiscal_year"
         },
         "type": "linear"
        },
        "xaxis4": {
         "anchor": "y4",
         "domain": [
          0.7949999999999999,
          1
         ],
         "matches": "x",
         "range": [
          2015,
          2022
         ],
         "title": {
          "text": "fiscal_year"
         },
         "type": "linear"
        },
        "xaxis5": {
         "anchor": "y5",
         "domain": [
          0,
          0.20500000000000002
         ],
         "matches": "x",
         "showticklabels": false,
         "type": "linear"
        },
        "xaxis6": {
         "anchor": "y6",
         "domain": [
          0.265,
          0.47000000000000003
         ],
         "matches": "x",
         "showticklabels": false,
         "type": "linear"
        },
        "xaxis7": {
         "anchor": "y7",
         "domain": [
          0.53,
          0.7350000000000001
         ],
         "matches": "x",
         "showticklabels": false,
         "type": "linear"
        },
        "xaxis8": {
         "anchor": "y8",
         "domain": [
          0.7949999999999999,
          1
         ],
         "matches": "x",
         "showticklabels": false,
         "type": "linear"
        },
        "xaxis9": {
         "anchor": "y9",
         "domain": [
          0,
          0.20500000000000002
         ],
         "matches": "x",
         "showticklabels": false,
         "type": "linear"
        },
        "yaxis": {
         "anchor": "x",
         "autorange": true,
         "domain": [
          0,
          0.2866666666666666
         ],
         "range": [
          160670.63661695446,
          1033538.0879513344
         ],
         "showticklabels": true,
         "title": {
          "text": "value"
         },
         "type": "linear"
        },
        "yaxis10": {
         "anchor": "x10",
         "autorange": true,
         "domain": [
          0.7133333333333333,
          0.9999999999999999
         ],
         "range": [
          73695.32489570888,
          1190249.6414552156
         ],
         "showticklabels": true,
         "type": "linear"
        },
        "yaxis11": {
         "anchor": "x11",
         "autorange": true,
         "domain": [
          0.7133333333333333,
          0.9999999999999999
         ],
         "range": [
          38490.06568968011,
          370950.6130531026
         ],
         "showticklabels": true,
         "type": "linear"
        },
        "yaxis12": {
         "anchor": "x12",
         "autorange": true,
         "domain": [
          0.7133333333333333,
          0.9999999999999999
         ],
         "range": [
          8463.196981286455,
          6579166.289355556
         ],
         "showticklabels": true,
         "type": "linear"
        },
        "yaxis2": {
         "anchor": "x2",
         "autorange": true,
         "domain": [
          0,
          0.2866666666666666
         ],
         "range": [
          -527827.76352711,
          12286620.27889009
         ],
         "showticklabels": true,
         "type": "linear"
        },
        "yaxis3": {
         "anchor": "x3",
         "autorange": true,
         "domain": [
          0,
          0.2866666666666666
         ],
         "range": [
          -113252.18613009842,
          2846621.0964718703
         ],
         "showticklabels": true,
         "type": "linear"
        },
        "yaxis4": {
         "anchor": "x4",
         "autorange": true,
         "domain": [
          0,
          0.2866666666666666
         ],
         "range": [
          -1359.6695111111076,
          502980.02071111114
         ],
         "showticklabels": true,
         "type": "linear"
        },
        "yaxis5": {
         "anchor": "x5",
         "autorange": true,
         "domain": [
          0.35666666666666663,
          0.6433333333333333
         ],
         "range": [
          -8613.114539007089,
          1739734.8762411347
         ],
         "showticklabels": true,
         "title": {
          "text": "value"
         },
         "type": "linear"
        },
        "yaxis6": {
         "anchor": "x6",
         "autorange": true,
         "domain": [
          0.35666666666666663,
          0.6433333333333333
         ],
         "range": [
          -704561.9097777777,
          14831932.485777777
         ],
         "showticklabels": true,
         "type": "linear"
        },
        "yaxis7": {
         "anchor": "x7",
         "autorange": true,
         "domain": [
          0.35666666666666663,
          0.6433333333333333
         ],
         "range": [
          62949.30737962963,
          455414.40978703706
         ],
         "showticklabels": true,
         "type": "linear"
        },
        "yaxis8": {
         "anchor": "x8",
         "autorange": true,
         "domain": [
          0.35666666666666663,
          0.6433333333333333
         ],
         "range": [
          19031.640373294344,
          993520.3862407409
         ],
         "showticklabels": true,
         "type": "linear"
        },
        "yaxis9": {
         "anchor": "x9",
         "autorange": true,
         "domain": [
          0.7133333333333333,
          0.9999999999999999
         ],
         "range": [
          99819.91304411917,
          975479.3558654395
         ],
         "showticklabels": true,
         "title": {
          "text": "value"
         },
         "type": "linear"
        }
       }
      },
      "image/png": "[encoded data removed]",
      "text/html": [
       "<div>                            <div id=\"bdc09326-7902-4b69-bde2-87c12ccb9a45\" class=\"plotly-graph-div\" style=\"height:800px; width:100%;\"></div>            <script type=\"text/javascript\">                require([\"plotly\"], function(Plotly) {                    window.PLOTLYENV=window.PLOTLYENV || {};                                    if (document.getElementById(\"bdc09326-7902-4b69-bde2-87c12ccb9a45\")) {                    Plotly.newPlot(                        \"bdc09326-7902-4b69-bde2-87c12ccb9a45\",                        [{\"customdata\":[[\"0473\"],[\"0473\"],[\"0473\"],[\"0473\"],[\"0473\"],[\"0473\"],[\"0473\"],[\"0473\"],[\"0473\"],[\"0473\"],[\"0473\"]],\"hovertemplate\":\"variable=first_value<br>Name=Information technology and telecommunications consultants<br>fiscal_year=%{x}<br>value=%{y}<br>economic_object_code=%{customdata[0]}<extra></extra>\",\"legendgroup\":\"first_value\",\"line\":{\"color\":\"#636efa\",\"dash\":\"solid\"},\"marker\":{\"symbol\":\"circle\"},\"mode\":\"lines\",\"name\":\"first_value\",\"orientation\":\"v\",\"showlegend\":true,\"x\":[2014,2015,2016,2017,2018,2019,2020,2021,2022,2023,2024],\"xaxis\":\"x9\",\"y\":[243129.9296153846,257343.30005830905,354476.07309484197,363249.7783143508,271824.05130952375,341885.52540444443,280378.31224347826,260865.42676167854,270639.1375019395,272178.1657451923,143602.88518518518],\"yaxis\":\"y9\",\"type\":\"scatter\"},{\"customdata\":[[\"0491\"],[\"0491\"],[\"0491\"],[\"0491\"],[\"0491\"],[\"0491\"],[\"0491\"],[\"0491\"],[\"0491\"],[\"0491\"],[\"0491\"]],\"hovertemplate\":\"variable=first_value<br>Name=Management consulting<br>fiscal_year=%{x}<br>value=%{y}<br>economic_object_code=%{customdata[0]}<extra></extra>\",\"legendgroup\":\"first_value\",\"line\":{\"color\":\"#636efa\",\"dash\":\"solid\"},\"marker\":{\"symbol\":\"circle\"},\"mode\":\"lines\",\"name\":\"first_value\",\"orientation\":\"v\",\"showlegend\":false,\"x\":[2014,2015,2016,2017,2018,2019,2020,2021,2022,2023,2024],\"xaxis\":\"x10\",\"y\":[186688.09471153846,248322.3113392857,129523.04072368421,405359.37854166667,382683.8576958526,765495.2320545074,375201.3632443532,277452.71120748296,387441.0627466151,874872.8858781361,242102.08000000002],\"yaxis\":\"y10\",\"type\":\"scatter\"},{\"customdata\":[[\"0813\"],[\"0813\"],[\"0813\"],[\"0813\"],[\"0813\"],[\"0813\"],[\"0813\"],[\"0813\"],[\"0813\"],[\"0813\"],[\"0813\"]],\"hovertemplate\":\"variable=first_value<br>Name=Temporary help services<br>fiscal_year=%{x}<br>value=%{y}<br>economic_object_code=%{customdata[0]}<extra></extra>\",\"legendgroup\":\"first_value\",\"line\":{\"color\":\"#636efa\",\"dash\":\"solid\"},\"marker\":{\"symbol\":\"circle\"},\"mode\":\"lines\",\"name\":\"first_value\",\"orientation\":\"v\",\"showlegend\":false,\"x\":[2014,2015,2016,2017,2018,2019,2020,2021,2022,2023,2024],\"xaxis\":\"x11\",\"y\":[55113.093057851234,168538.8344520548,62261.463560606055,61543.64066914498,72888.94581521739,110908.2111875,89748.86175879397,127744.17349112427,152571.48868613137,106058.51048387097,89422.64],\"yaxis\":\"y11\",\"type\":\"scatter\"},{\"customdata\":[[\"0452\"],[\"0452\"],[\"0452\"],[\"0452\"],[\"0452\"],[\"0452\"],[\"0452\"],[\"0452\"],[\"0452\"],[\"0452\"]],\"hovertemplate\":\"variable=first_value<br>Name=Welfare services<br>fiscal_year=%{x}<br>value=%{y}<br>economic_object_code=%{customdata[0]}<extra></extra>\",\"legendgroup\":\"first_value\",\"line\":{\"color\":\"#636efa\",\"dash\":\"solid\"},\"marker\":{\"symbol\":\"circle\"},\"mode\":\"lines\",\"name\":\"first_value\",\"orientation\":\"v\",\"showlegend\":false,\"x\":[2014,2015,2016,2017,2018,2019,2020,2021,2022,2023],\"xaxis\":\"x12\",\"y\":[488858.0606896552,710798.1576923077,336998.35159999994,702930.3163057325,5402060.065263159,1031289.9859722222,1112048.0725,798440.7694444444,1245295.5787037036,356801.74571428576],\"yaxis\":\"y12\",\"type\":\"scatter\"},{\"customdata\":[[\"1283\"],[\"1283\"],[\"1283\"],[\"1283\"],[\"1283\"],[\"1283\"],[\"1283\"],[\"1283\"],[\"1283\"],[\"1283\"],[\"1283\"]],\"hovertemplate\":\"variable=first_value<br>Name=Desktop/personal/portable computers<br>fiscal_year=%{x}<br>value=%{y}<br>economic_object_code=%{customdata[0]}<extra></extra>\",\"legendgroup\":\"first_value\",\"line\":{\"color\":\"#636efa\",\"dash\":\"solid\"},\"marker\":{\"symbol\":\"circle\"},\"mode\":\"lines\",\"name\":\"first_value\",\"orientation\":\"v\",\"showlegend\":false,\"x\":[2014,2015,2016,2017,2018,2019,2020,2021,2022,2023,2024],\"xaxis\":\"x5\",\"y\":[237258.98636363636,750896.1244444444,416949.6528571429,440975.85244897957,514407.93023255817,606061.6821296297,489678.74351648346,614010.7071276596,666954.8571621622,284983.7631578947,78804.285],\"yaxis\":\"y5\",\"type\":\"scatter\"},{\"customdata\":[[\"0582\"],[\"0582\"],[\"0582\"],[\"0582\"],[\"0582\"],[\"0582\"],[\"0582\"],[\"0582\"],[\"0582\"],[\"0582\"],[\"0582\"]],\"hovertemplate\":\"variable=first_value<br>Name=Software licence/maintenance fees<br>fiscal_year=%{x}<br>value=%{y}<br>economic_object_code=%{customdata[0]}<extra></extra>\",\"legendgroup\":\"first_value\",\"line\":{\"color\":\"#636efa\",\"dash\":\"solid\"},\"marker\":{\"symbol\":\"circle\"},\"mode\":\"lines\",\"name\":\"first_value\",\"orientation\":\"v\",\"showlegend\":false,\"x\":[2014,2015,2016,2017,2018,2019,2020,2021,2022,2023,2024],\"xaxis\":\"x6\",\"y\":[172685.5088235294,6409018.7336,812396.196060606,582195.3715555555,1376722.3014444443,10502554.438314607,329214.3612,600206.457244898,517906.04613636364,491847.8450746269,72262.81],\"yaxis\":\"y6\",\"type\":\"scatter\"},{\"customdata\":[[\"0430\"],[\"0430\"],[\"0430\"],[\"0430\"],[\"0430\"],[\"0430\"],[\"0430\"],[\"0430\"],[\"0430\"],[\"0430\"],[\"0430\"]],\"hovertemplate\":\"variable=first_value<br>Name=Scientific services<br>fiscal_year=%{x}<br>value=%{y}<br>economic_object_code=%{customdata[0]}<extra></extra>\",\"legendgroup\":\"first_value\",\"line\":{\"color\":\"#636efa\",\"dash\":\"solid\"},\"marker\":{\"symbol\":\"circle\"},\"mode\":\"lines\",\"name\":\"first_value\",\"orientation\":\"v\",\"showlegend\":false,\"x\":[2014,2015,2016,2017,2018,2019,2020,2021,2022,2023,2024],\"xaxis\":\"x7\",\"y\":[197668.65644444447,121636.49314285714,82572.5625,141451.86982608694,187594.63647668393,148242.711,164034.80502673797,185219.8974468085,141502.77897810217,201118.0785,90288.78000000001],\"yaxis\":\"y7\",\"type\":\"scatter\"},{\"customdata\":[[\"0431\"],[\"0431\"],[\"0431\"],[\"0431\"],[\"0431\"],[\"0431\"],[\"0431\"],[\"0431\"],[\"0431\"],[\"0431\"]],\"hovertemplate\":\"variable=first_value<br>Name=Scientific consultants<br>fiscal_year=%{x}<br>value=%{y}<br>economic_object_code=%{customdata[0]}<extra></extra>\",\"legendgroup\":\"first_value\",\"line\":{\"color\":\"#636efa\",\"dash\":\"solid\"},\"marker\":{\"symbol\":\"circle\"},\"mode\":\"lines\",\"name\":\"first_value\",\"orientation\":\"v\",\"showlegend\":false,\"x\":[2014,2015,2016,2017,2018,2019,2020,2021,2022,2023],\"xaxis\":\"x8\",\"y\":[160250.96684210526,211247.52724999998,538933.0944736842,325152.33851851855,598838.8693846153,160600.97828125,295322.12802631577,210093.08125,150726.73438356165,67756.07766666666],\"yaxis\":\"y8\",\"type\":\"scatter\"},{\"customdata\":[[\"0460\"],[\"0460\"],[\"0460\"],[\"0460\"],[\"0460\"],[\"0460\"],[\"0460\"],[\"0460\"],[\"0460\"],[\"0460\"],[\"0460\"]],\"hovertemplate\":\"variable=first_value<br>Name=Protection services<br>fiscal_year=%{x}<br>value=%{y}<br>economic_object_code=%{customdata[0]}<extra></extra>\",\"legendgroup\":\"first_value\",\"line\":{\"color\":\"#636efa\",\"dash\":\"solid\"},\"marker\":{\"symbol\":\"circle\"},\"mode\":\"lines\",\"name\":\"first_value\",\"orientation\":\"v\",\"showlegend\":false,\"x\":[2014,2015,2016,2017,2018,2019,2020,2021,2022,2023,2024],\"xaxis\":\"x\",\"y\":[621289.5684615385,461109.5486842106,378387.8054545455,485169.8441798942,386387.7110212766,332988.1360526316,376031.1564502164,312283.8216045845,522539.70277739526,332963.2612244898,204314.00918367345],\"yaxis\":\"y\",\"type\":\"scatter\"},{\"customdata\":[[\"0451\"],[\"0451\"],[\"0451\"],[\"0451\"],[\"0451\"],[\"0451\"],[\"0451\"],[\"0451\"],[\"0451\"],[\"0451\"],[\"0451\"]],\"hovertemplate\":\"variable=first_value<br>Name=Other health services not elsewhere specified<br>fiscal_year=%{x}<br>value=%{y}<br>economic_object_code=%{customdata[0]}<extra></extra>\",\"legendgroup\":\"first_value\",\"line\":{\"color\":\"#636efa\",\"dash\":\"solid\"},\"marker\":{\"symbol\":\"circle\"},\"mode\":\"lines\",\"name\":\"first_value\",\"orientation\":\"v\",\"showlegend\":false,\"x\":[2014,2015,2016,2017,2018,2019,2020,2021,2022,2023,2024],\"xaxis\":\"x2\",\"y\":[260488.15649999998,156088.21666666665,223833.41027027025,112894.63859375,144873.91104477612,294543.7405084746,1259021.5056321837,2386962.902769231,8504408.607746478,235602.03490196078,395500.0],\"yaxis\":\"y2\",\"type\":\"scatter\"},{\"customdata\":[[\"0422\"],[\"0422\"],[\"0422\"],[\"0422\"],[\"0422\"],[\"0422\"],[\"0422\"],[\"0422\"],[\"0422\"],[\"0422\"],[\"0422\"]],\"hovertemplate\":\"variable=first_value<br>Name=Engineering consultants - Construction<br>fiscal_year=%{x}<br>value=%{y}<br>economic_object_code=%{customdata[0]}<extra></extra>\",\"legendgroup\":\"first_value\",\"line\":{\"color\":\"#636efa\",\"dash\":\"solid\"},\"marker\":{\"symbol\":\"circle\"},\"mode\":\"lines\",\"name\":\"first_value\",\"orientation\":\"v\",\"showlegend\":false,\"x\":[2014,2015,2016,2017,2018,2019,2020,2021,2022,2023,2024],\"xaxis\":\"x3\",\"y\":[85494.70103448276,693055.3260416667,99576.42756097562,954337.0420886077,681896.5949606299,196150.0675221239,403774.66610878665,269544.615,512216.3296,411275.4747872341,34741.478],\"yaxis\":\"y3\",\"type\":\"scatter\"},{\"customdata\":[[\"0401\"],[\"0401\"],[\"0401\"],[\"0401\"],[\"0401\"],[\"0401\"],[\"0401\"],[\"0401\"],[\"0401\"],[\"0401\"],[\"0401\"]],\"hovertemplate\":\"variable=first_value<br>Name=Accounting and audit services<br>fiscal_year=%{x}<br>value=%{y}<br>economic_object_code=%{customdata[0]}<extra></extra>\",\"legendgroup\":\"first_value\",\"line\":{\"color\":\"#636efa\",\"dash\":\"solid\"},\"marker\":{\"symbol\":\"circle\"},\"mode\":\"lines\",\"name\":\"first_value\",\"orientation\":\"v\",\"showlegend\":false,\"x\":[2014,2015,2016,2017,2018,2019,2020,2021,2022,2023,2024],\"xaxis\":\"x4\",\"y\":[49616.895,59444.2948,45792.251000000004,177499.05440000002,153829.25362318842,160210.8223214286,111747.92640625,87915.60566666667,70456.45791666667,37992.11603773585,23857.315000000002],\"yaxis\":\"y4\",\"type\":\"scatter\"},{\"customdata\":[[\"0473\"],[\"0473\"],[\"0473\"],[\"0473\"],[\"0473\"],[\"0473\"],[\"0473\"],[\"0473\"],[\"0473\"],[\"0473\"],[\"0473\"]],\"hovertemplate\":\"variable=last_value<br>Name=Information technology and telecommunications consultants<br>fiscal_year=%{x}<br>value=%{y}<br>economic_object_code=%{customdata[0]}<extra></extra>\",\"legendgroup\":\"last_value\",\"line\":{\"color\":\"#EF553B\",\"dash\":\"solid\"},\"marker\":{\"symbol\":\"circle\"},\"mode\":\"lines\",\"name\":\"last_value\",\"orientation\":\"v\",\"showlegend\":true,\"x\":[2014,2015,2016,2017,2018,2019,2020,2021,2022,2023,2024],\"xaxis\":\"x9\",\"y\":[606910.7521703297,720248.8576676385,816545.5967886855,931696.3837243735,703598.2773992673,737678.8032977778,604393.5234434783,585567.1826128266,596818.1674398759,659244.4541225962,180394.1512962963],\"yaxis\":\"y9\",\"type\":\"scatter\"},{\"customdata\":[[\"0491\"],[\"0491\"],[\"0491\"],[\"0491\"],[\"0491\"],[\"0491\"],[\"0491\"],[\"0491\"],[\"0491\"],[\"0491\"],[\"0491\"]],\"hovertemplate\":\"variable=last_value<br>Name=Management consulting<br>fiscal_year=%{x}<br>value=%{y}<br>economic_object_code=%{customdata[0]}<extra></extra>\",\"legendgroup\":\"last_value\",\"line\":{\"color\":\"#EF553B\",\"dash\":\"solid\"},\"marker\":{\"symbol\":\"circle\"},\"mode\":\"lines\",\"name\":\"last_value\",\"orientation\":\"v\",\"showlegend\":false,\"x\":[2014,2015,2016,2017,2018,2019,2020,2021,2022,2023,2024],\"xaxis\":\"x10\",\"y\":[455129.03048076923,447759.2034821428,270613.54486842104,1019808.6367361111,869958.3934331797,1124668.6189098533,681321.8044147844,635281.0071088435,760050.1170019342,1134421.9256272402,427372.7928571428],\"yaxis\":\"y10\",\"type\":\"scatter\"},{\"customdata\":[[\"0813\"],[\"0813\"],[\"0813\"],[\"0813\"],[\"0813\"],[\"0813\"],[\"0813\"],[\"0813\"],[\"0813\"],[\"0813\"],[\"0813\"]],\"hovertemplate\":\"variable=last_value<br>Name=Temporary help services<br>fiscal_year=%{x}<br>value=%{y}<br>economic_object_code=%{customdata[0]}<extra></extra>\",\"legendgroup\":\"last_value\",\"line\":{\"color\":\"#EF553B\",\"dash\":\"solid\"},\"marker\":{\"symbol\":\"circle\"},\"mode\":\"lines\",\"name\":\"last_value\",\"orientation\":\"v\",\"showlegend\":false,\"x\":[2014,2015,2016,2017,2018,2019,2020,2021,2022,2023,2024],\"xaxis\":\"x11\",\"y\":[98542.21371900826,354327.5856849315,140669.21424242426,108829.88624535315,116082.9187228261,180926.9004375,143113.90864321607,199784.6247337278,239367.66715328465,171383.61677419356,166335.555],\"yaxis\":\"y11\",\"type\":\"scatter\"},{\"customdata\":[[\"0452\"],[\"0452\"],[\"0452\"],[\"0452\"],[\"0452\"],[\"0452\"],[\"0452\"],[\"0452\"],[\"0452\"],[\"0452\"]],\"hovertemplate\":\"variable=last_value<br>Name=Welfare services<br>fiscal_year=%{x}<br>value=%{y}<br>economic_object_code=%{customdata[0]}<extra></extra>\",\"legendgroup\":\"last_value\",\"line\":{\"color\":\"#EF553B\",\"dash\":\"solid\"},\"marker\":{\"symbol\":\"circle\"},\"mode\":\"lines\",\"name\":\"last_value\",\"orientation\":\"v\",\"showlegend\":false,\"x\":[2014,2015,2016,2017,2018,2019,2020,2021,2022,2023],\"xaxis\":\"x12\",\"y\":[615774.2468965517,716564.7481538462,1549539.0296,3442257.0364968153,6250631.1347368425,2953667.234166667,2399775.3775,1889401.2750000001,2485428.56,734561.4214285715],\"yaxis\":\"y12\",\"type\":\"scatter\"},{\"customdata\":[[\"1283\"],[\"1283\"],[\"1283\"],[\"1283\"],[\"1283\"],[\"1283\"],[\"1283\"],[\"1283\"],[\"1283\"],[\"1283\"],[\"1283\"]],\"hovertemplate\":\"variable=last_value<br>Name=Desktop/personal/portable computers<br>fiscal_year=%{x}<br>value=%{y}<br>economic_object_code=%{customdata[0]}<extra></extra>\",\"legendgroup\":\"last_value\",\"line\":{\"color\":\"#EF553B\",\"dash\":\"solid\"},\"marker\":{\"symbol\":\"circle\"},\"mode\":\"lines\",\"name\":\"last_value\",\"orientation\":\"v\",\"showlegend\":false,\"x\":[2014,2015,2016,2017,2018,2019,2020,2021,2022,2023,2024],\"xaxis\":\"x5\",\"y\":[401592.8472727273,826870.4144444445,558396.5552380952,571285.3167346938,807354.1020930232,1202628.875277778,1100967.620879121,1652317.4767021276,1334687.7986486487,314232.5515789474,83130.99500000001],\"yaxis\":\"y5\",\"type\":\"scatter\"},{\"customdata\":[[\"0582\"],[\"0582\"],[\"0582\"],[\"0582\"],[\"0582\"],[\"0582\"],[\"0582\"],[\"0582\"],[\"0582\"],[\"0582\"],[\"0582\"]],\"hovertemplate\":\"variable=last_value<br>Name=Software licence/maintenance fees<br>fiscal_year=%{x}<br>value=%{y}<br>economic_object_code=%{customdata[0]}<extra></extra>\",\"legendgroup\":\"last_value\",\"line\":{\"color\":\"#EF553B\",\"dash\":\"solid\"},\"marker\":{\"symbol\":\"circle\"},\"mode\":\"lines\",\"name\":\"last_value\",\"orientation\":\"v\",\"showlegend\":false,\"x\":[2014,2015,2016,2017,2018,2019,2020,2021,2022,2023,2024],\"xaxis\":\"x6\",\"y\":[227424.13235294117,14055107.765999999,2309048.623030303,2559571.4362222226,2041561.0446666668,13052197.976629214,1179372.5392,1026561.1690816327,1725044.7738636362,674277.927164179,94800.29],\"yaxis\":\"y6\",\"type\":\"scatter\"},{\"customdata\":[[\"0430\"],[\"0430\"],[\"0430\"],[\"0430\"],[\"0430\"],[\"0430\"],[\"0430\"],[\"0430\"],[\"0430\"],[\"0430\"],[\"0430\"]],\"hovertemplate\":\"variable=last_value<br>Name=Scientific services<br>fiscal_year=%{x}<br>value=%{y}<br>economic_object_code=%{customdata[0]}<extra></extra>\",\"legendgroup\":\"last_value\",\"line\":{\"color\":\"#EF553B\",\"dash\":\"solid\"},\"marker\":{\"symbol\":\"circle\"},\"mode\":\"lines\",\"name\":\"last_value\",\"orientation\":\"v\",\"showlegend\":false,\"x\":[2014,2015,2016,2017,2018,2019,2020,2021,2022,2023,2024],\"xaxis\":\"x7\",\"y\":[435791.1546666667,233291.67099999997,170329.8659722222,261931.07539130436,287629.6278238342,255512.6169411765,265852.60529411765,283011.1842553191,196501.94700729926,283910.95075,111306.83333333333],\"yaxis\":\"y7\",\"type\":\"scatter\"},{\"customdata\":[[\"0431\"],[\"0431\"],[\"0431\"],[\"0431\"],[\"0431\"],[\"0431\"],[\"0431\"],[\"0431\"],[\"0431\"],[\"0431\"]],\"hovertemplate\":\"variable=last_value<br>Name=Scientific consultants<br>fiscal_year=%{x}<br>value=%{y}<br>economic_object_code=%{customdata[0]}<extra></extra>\",\"legendgroup\":\"last_value\",\"line\":{\"color\":\"#EF553B\",\"dash\":\"solid\"},\"marker\":{\"symbol\":\"circle\"},\"mode\":\"lines\",\"name\":\"last_value\",\"orientation\":\"v\",\"showlegend\":false,\"x\":[2014,2015,2016,2017,2018,2019,2020,2021,2022,2023],\"xaxis\":\"x8\",\"y\":[211699.73263157895,465539.24375,944795.9489473685,527979.651851852,868650.2233846154,336791.77515625,472152.4590789474,398098.23375,232328.50301369862,97735.86850000001],\"yaxis\":\"y8\",\"type\":\"scatter\"},{\"customdata\":[[\"0460\"],[\"0460\"],[\"0460\"],[\"0460\"],[\"0460\"],[\"0460\"],[\"0460\"],[\"0460\"],[\"0460\"],[\"0460\"],[\"0460\"]],\"hovertemplate\":\"variable=last_value<br>Name=Protection services<br>fiscal_year=%{x}<br>value=%{y}<br>economic_object_code=%{customdata[0]}<extra></extra>\",\"legendgroup\":\"last_value\",\"line\":{\"color\":\"#EF553B\",\"dash\":\"solid\"},\"marker\":{\"symbol\":\"circle\"},\"mode\":\"lines\",\"name\":\"last_value\",\"orientation\":\"v\",\"showlegend\":false,\"x\":[2014,2015,2016,2017,2018,2019,2020,2021,2022,2023,2024],\"xaxis\":\"x\",\"y\":[989894.7153846155,626240.1338157895,615127.7903030303,554571.1635978837,491411.4391489362,404233.6689144737,452482.6271861472,538305.3423209169,689871.87248503,457036.8782993197,268955.40265306126],\"yaxis\":\"y\",\"type\":\"scatter\"},{\"customdata\":[[\"0451\"],[\"0451\"],[\"0451\"],[\"0451\"],[\"0451\"],[\"0451\"],[\"0451\"],[\"0451\"],[\"0451\"],[\"0451\"],[\"0451\"]],\"hovertemplate\":\"variable=last_value<br>Name=Other health services not elsewhere specified<br>fiscal_year=%{x}<br>value=%{y}<br>economic_object_code=%{customdata[0]}<extra></extra>\",\"legendgroup\":\"last_value\",\"line\":{\"color\":\"#EF553B\",\"dash\":\"solid\"},\"marker\":{\"symbol\":\"circle\"},\"mode\":\"lines\",\"name\":\"last_value\",\"orientation\":\"v\",\"showlegend\":false,\"x\":[2014,2015,2016,2017,2018,2019,2020,2021,2022,2023,2024],\"xaxis\":\"x2\",\"y\":[434467.7255,278575.7092592593,491874.4789189189,317363.3121875,335029.4995522388,513083.7838983051,2609462.7340229885,11645897.87676923,9565398.197323944,280715.4870588235,395500.0],\"yaxis\":\"y2\",\"type\":\"scatter\"},{\"customdata\":[[\"0422\"],[\"0422\"],[\"0422\"],[\"0422\"],[\"0422\"],[\"0422\"],[\"0422\"],[\"0422\"],[\"0422\"],[\"0422\"],[\"0422\"]],\"hovertemplate\":\"variable=last_value<br>Name=Engineering consultants - Construction<br>fiscal_year=%{x}<br>value=%{y}<br>economic_object_code=%{customdata[0]}<extra></extra>\",\"legendgroup\":\"last_value\",\"line\":{\"color\":\"#EF553B\",\"dash\":\"solid\"},\"marker\":{\"symbol\":\"circle\"},\"mode\":\"lines\",\"name\":\"last_value\",\"orientation\":\"v\",\"showlegend\":false,\"x\":[2014,2015,2016,2017,2018,2019,2020,2021,2022,2023,2024],\"xaxis\":\"x3\",\"y\":[119352.50379310345,608433.3564583333,131968.34609756098,2698627.432341772,1119615.6628740157,356314.1944690266,508687.63824267784,422197.03210526315,1179370.0484,462548.3389361702,42959.278000000006],\"yaxis\":\"y3\",\"type\":\"scatter\"},{\"customdata\":[[\"0401\"],[\"0401\"],[\"0401\"],[\"0401\"],[\"0401\"],[\"0401\"],[\"0401\"],[\"0401\"],[\"0401\"],[\"0401\"],[\"0401\"]],\"hovertemplate\":\"variable=last_value<br>Name=Accounting and audit services<br>fiscal_year=%{x}<br>value=%{y}<br>economic_object_code=%{customdata[0]}<extra></extra>\",\"legendgroup\":\"last_value\",\"line\":{\"color\":\"#EF553B\",\"dash\":\"solid\"},\"marker\":{\"symbol\":\"circle\"},\"mode\":\"lines\",\"name\":\"last_value\",\"orientation\":\"v\",\"showlegend\":false,\"x\":[2014,2015,2016,2017,2018,2019,2020,2021,2022,2023,2024],\"xaxis\":\"x4\",\"y\":[103142.63388888889,94164.0,60868.74,477763.03620000003,331443.26014492754,318602.8019642857,311411.33234375,230778.5435,128171.56864583334,65256.64867924528,50653.39],\"yaxis\":\"y4\",\"type\":\"scatter\"}],                        {\"template\":{\"data\":{\"barpolar\":[{\"marker\":{\"line\":{\"color\":\"white\",\"width\":0.5},\"pattern\":{\"fillmode\":\"overlay\",\"size\":10,\"solidity\":0.2}},\"type\":\"barpolar\"}],\"bar\":[{\"error_x\":{\"color\":\"#2a3f5f\"},\"error_y\":{\"color\":\"#2a3f5f\"},\"marker\":{\"line\":{\"color\":\"white\",\"width\":0.5},\"pattern\":{\"fillmode\":\"overlay\",\"size\":10,\"solidity\":0.2}},\"type\":\"bar\"}],\"carpet\":[{\"aaxis\":{\"endlinecolor\":\"#2a3f5f\",\"gridcolor\":\"#C8D4E3\",\"linecolor\":\"#C8D4E3\",\"minorgridcolor\":\"#C8D4E3\",\"startlinecolor\":\"#2a3f5f\"},\"baxis\":{\"endlinecolor\":\"#2a3f5f\",\"gridcolor\":\"#C8D4E3\",\"linecolor\":\"#C8D4E3\",\"minorgridcolor\":\"#C8D4E3\",\"startlinecolor\":\"#2a3f5f\"},\"type\":\"carpet\"}],\"choropleth\":[{\"colorbar\":{\"outlinewidth\":0,\"ticks\":\"\"},\"type\":\"choropleth\"}],\"contourcarpet\":[{\"colorbar\":{\"outlinewidth\":0,\"ticks\":\"\"},\"type\":\"contourcarpet\"}],\"contour\":[{\"colorbar\":{\"outlinewidth\":0,\"ticks\":\"\"},\"colorscale\":[[0.0,\"#0d0887\"],[0.1111111111111111,\"#46039f\"],[0.2222222222222222,\"#7201a8\"],[0.3333333333333333,\"#9c179e\"],[0.4444444444444444,\"#bd3786\"],[0.5555555555555556,\"#d8576b\"],[0.6666666666666666,\"#ed7953\"],[0.7777777777777778,\"#fb9f3a\"],[0.8888888888888888,\"#fdca26\"],[1.0,\"#f0f921\"]],\"type\":\"contour\"}],\"heatmapgl\":[{\"colorbar\":{\"outlinewidth\":0,\"ticks\":\"\"},\"colorscale\":[[0.0,\"#0d0887\"],[0.1111111111111111,\"#46039f\"],[0.2222222222222222,\"#7201a8\"],[0.3333333333333333,\"#9c179e\"],[0.4444444444444444,\"#bd3786\"],[0.5555555555555556,\"#d8576b\"],[0.6666666666666666,\"#ed7953\"],[0.7777777777777778,\"#fb9f3a\"],[0.8888888888888888,\"#fdca26\"],[1.0,\"#f0f921\"]],\"type\":\"heatmapgl\"}],\"heatmap\":[{\"colorbar\":{\"outlinewidth\":0,\"ticks\":\"\"},\"colorscale\":[[0.0,\"#0d0887\"],[0.1111111111111111,\"#46039f\"],[0.2222222222222222,\"#7201a8\"],[0.3333333333333333,\"#9c179e\"],[0.4444444444444444,\"#bd3786\"],[0.5555555555555556,\"#d8576b\"],[0.6666666666666666,\"#ed7953\"],[0.7777777777777778,\"#fb9f3a\"],[0.8888888888888888,\"#fdca26\"],[1.0,\"#f0f921\"]],\"type\":\"heatmap\"}],\"histogram2dcontour\":[{\"colorbar\":{\"outlinewidth\":0,\"ticks\":\"\"},\"colorscale\":[[0.0,\"#0d0887\"],[0.1111111111111111,\"#46039f\"],[0.2222222222222222,\"#7201a8\"],[0.3333333333333333,\"#9c179e\"],[0.4444444444444444,\"#bd3786\"],[0.5555555555555556,\"#d8576b\"],[0.6666666666666666,\"#ed7953\"],[0.7777777777777778,\"#fb9f3a\"],[0.8888888888888888,\"#fdca26\"],[1.0,\"#f0f921\"]],\"type\":\"histogram2dcontour\"}],\"histogram2d\":[{\"colorbar\":{\"outlinewidth\":0,\"ticks\":\"\"},\"colorscale\":[[0.0,\"#0d0887\"],[0.1111111111111111,\"#46039f\"],[0.2222222222222222,\"#7201a8\"],[0.3333333333333333,\"#9c179e\"],[0.4444444444444444,\"#bd3786\"],[0.5555555555555556,\"#d8576b\"],[0.6666666666666666,\"#ed7953\"],[0.7777777777777778,\"#fb9f3a\"],[0.8888888888888888,\"#fdca26\"],[1.0,\"#f0f921\"]],\"type\":\"histogram2d\"}],\"histogram\":[{\"marker\":{\"pattern\":{\"fillmode\":\"overlay\",\"size\":10,\"solidity\":0.2}},\"type\":\"histogram\"}],\"mesh3d\":[{\"colorbar\":{\"outlinewidth\":0,\"ticks\":\"\"},\"type\":\"mesh3d\"}],\"parcoords\":[{\"line\":{\"colorbar\":{\"outlinewidth\":0,\"ticks\":\"\"}},\"type\":\"parcoords\"}],\"pie\":[{\"automargin\":true,\"type\":\"pie\"}],\"scatter3d\":[{\"line\":{\"colorbar\":{\"outlinewidth\":0,\"ticks\":\"\"}},\"marker\":{\"colorbar\":{\"outlinewidth\":0,\"ticks\":\"\"}},\"type\":\"scatter3d\"}],\"scattercarpet\":[{\"marker\":{\"colorbar\":{\"outlinewidth\":0,\"ticks\":\"\"}},\"type\":\"scattercarpet\"}],\"scattergeo\":[{\"marker\":{\"colorbar\":{\"outlinewidth\":0,\"ticks\":\"\"}},\"type\":\"scattergeo\"}],\"scattergl\":[{\"marker\":{\"colorbar\":{\"outlinewidth\":0,\"ticks\":\"\"}},\"type\":\"scattergl\"}],\"scattermapbox\":[{\"marker\":{\"colorbar\":{\"outlinewidth\":0,\"ticks\":\"\"}},\"type\":\"scattermapbox\"}],\"scatterpolargl\":[{\"marker\":{\"colorbar\":{\"outlinewidth\":0,\"ticks\":\"\"}},\"type\":\"scatterpolargl\"}],\"scatterpolar\":[{\"marker\":{\"colorbar\":{\"outlinewidth\":0,\"ticks\":\"\"}},\"type\":\"scatterpolar\"}],\"scatter\":[{\"fillpattern\":{\"fillmode\":\"overlay\",\"size\":10,\"solidity\":0.2},\"type\":\"scatter\"}],\"scatterternary\":[{\"marker\":{\"colorbar\":{\"outlinewidth\":0,\"ticks\":\"\"}},\"type\":\"scatterternary\"}],\"surface\":[{\"colorbar\":{\"outlinewidth\":0,\"ticks\":\"\"},\"colorscale\":[[0.0,\"#0d0887\"],[0.1111111111111111,\"#46039f\"],[0.2222222222222222,\"#7201a8\"],[0.3333333333333333,\"#9c179e\"],[0.4444444444444444,\"#bd3786\"],[0.5555555555555556,\"#d8576b\"],[0.6666666666666666,\"#ed7953\"],[0.7777777777777778,\"#fb9f3a\"],[0.8888888888888888,\"#fdca26\"],[1.0,\"#f0f921\"]],\"type\":\"surface\"}],\"table\":[{\"cells\":{\"fill\":{\"color\":\"#EBF0F8\"},\"line\":{\"color\":\"white\"}},\"header\":{\"fill\":{\"color\":\"#C8D4E3\"},\"line\":{\"color\":\"white\"}},\"type\":\"table\"}]},\"layout\":{\"annotationdefaults\":{\"arrowcolor\":\"#2a3f5f\",\"arrowhead\":0,\"arrowwidth\":1},\"autotypenumbers\":\"strict\",\"coloraxis\":{\"colorbar\":{\"outlinewidth\":0,\"ticks\":\"\"}},\"colorscale\":{\"diverging\":[[0,\"#8e0152\"],[0.1,\"#c51b7d\"],[0.2,\"#de77ae\"],[0.3,\"#f1b6da\"],[0.4,\"#fde0ef\"],[0.5,\"#f7f7f7\"],[0.6,\"#e6f5d0\"],[0.7,\"#b8e186\"],[0.8,\"#7fbc41\"],[0.9,\"#4d9221\"],[1,\"#276419\"]],\"sequential\":[[0.0,\"#0d0887\"],[0.1111111111111111,\"#46039f\"],[0.2222222222222222,\"#7201a8\"],[0.3333333333333333,\"#9c179e\"],[0.4444444444444444,\"#bd3786\"],[0.5555555555555556,\"#d8576b\"],[0.6666666666666666,\"#ed7953\"],[0.7777777777777778,\"#fb9f3a\"],[0.8888888888888888,\"#fdca26\"],[1.0,\"#f0f921\"]],\"sequentialminus\":[[0.0,\"#0d0887\"],[0.1111111111111111,\"#46039f\"],[0.2222222222222222,\"#7201a8\"],[0.3333333333333333,\"#9c179e\"],[0.4444444444444444,\"#bd3786\"],[0.5555555555555556,\"#d8576b\"],[0.6666666666666666,\"#ed7953\"],[0.7777777777777778,\"#fb9f3a\"],[0.8888888888888888,\"#fdca26\"],[1.0,\"#f0f921\"]]},\"colorway\":[\"#636efa\",\"#EF553B\",\"#00cc96\",\"#ab63fa\",\"#FFA15A\",\"#19d3f3\",\"#FF6692\",\"#B6E880\",\"#FF97FF\",\"#FECB52\"],\"font\":{\"color\":\"#2a3f5f\"},\"geo\":{\"bgcolor\":\"white\",\"lakecolor\":\"white\",\"landcolor\":\"white\",\"showlakes\":true,\"showland\":true,\"subunitcolor\":\"#C8D4E3\"},\"hoverlabel\":{\"align\":\"left\"},\"hovermode\":\"closest\",\"mapbox\":{\"style\":\"light\"},\"paper_bgcolor\":\"white\",\"plot_bgcolor\":\"white\",\"polar\":{\"angularaxis\":{\"gridcolor\":\"#EBF0F8\",\"linecolor\":\"#EBF0F8\",\"ticks\":\"\"},\"bgcolor\":\"white\",\"radialaxis\":{\"gridcolor\":\"#EBF0F8\",\"linecolor\":\"#EBF0F8\",\"ticks\":\"\"}},\"scene\":{\"xaxis\":{\"backgroundcolor\":\"white\",\"gridcolor\":\"#DFE8F3\",\"gridwidth\":2,\"linecolor\":\"#EBF0F8\",\"showbackground\":true,\"ticks\":\"\",\"zerolinecolor\":\"#EBF0F8\"},\"yaxis\":{\"backgroundcolor\":\"white\",\"gridcolor\":\"#DFE8F3\",\"gridwidth\":2,\"linecolor\":\"#EBF0F8\",\"showbackground\":true,\"ticks\":\"\",\"zerolinecolor\":\"#EBF0F8\"},\"zaxis\":{\"backgroundcolor\":\"white\",\"gridcolor\":\"#DFE8F3\",\"gridwidth\":2,\"linecolor\":\"#EBF0F8\",\"showbackground\":true,\"ticks\":\"\",\"zerolinecolor\":\"#EBF0F8\"}},\"shapedefaults\":{\"line\":{\"color\":\"#2a3f5f\"}},\"ternary\":{\"aaxis\":{\"gridcolor\":\"#DFE8F3\",\"linecolor\":\"#A2B1C6\",\"ticks\":\"\"},\"baxis\":{\"gridcolor\":\"#DFE8F3\",\"linecolor\":\"#A2B1C6\",\"ticks\":\"\"},\"bgcolor\":\"white\",\"caxis\":{\"gridcolor\":\"#DFE8F3\",\"linecolor\":\"#A2B1C6\",\"ticks\":\"\"}},\"title\":{\"x\":0.05},\"xaxis\":{\"automargin\":true,\"gridcolor\":\"#EBF0F8\",\"linecolor\":\"#EBF0F8\",\"ticks\":\"\",\"title\":{\"standoff\":15},\"zerolinecolor\":\"#EBF0F8\",\"zerolinewidth\":2},\"yaxis\":{\"automargin\":true,\"gridcolor\":\"#EBF0F8\",\"linecolor\":\"#EBF0F8\",\"ticks\":\"\",\"title\":{\"standoff\":15},\"zerolinecolor\":\"#EBF0F8\",\"zerolinewidth\":2}}},\"xaxis\":{\"anchor\":\"y\",\"domain\":[0.0,0.20500000000000002],\"title\":{\"text\":\"fiscal_year\"},\"range\":[2015,2022]},\"yaxis\":{\"anchor\":\"x\",\"domain\":[0.0,0.2866666666666666],\"title\":{\"text\":\"value\"},\"showticklabels\":true},\"xaxis2\":{\"anchor\":\"y2\",\"domain\":[0.265,0.47000000000000003],\"matches\":\"x\",\"title\":{\"text\":\"fiscal_year\"},\"range\":[2015,2022]},\"yaxis2\":{\"anchor\":\"x2\",\"domain\":[0.0,0.2866666666666666],\"showticklabels\":true},\"xaxis3\":{\"anchor\":\"y3\",\"domain\":[0.53,0.7350000000000001],\"matches\":\"x\",\"title\":{\"text\":\"fiscal_year\"},\"range\":[2015,2022]},\"yaxis3\":{\"anchor\":\"x3\",\"domain\":[0.0,0.2866666666666666],\"showticklabels\":true},\"xaxis4\":{\"anchor\":\"y4\",\"domain\":[0.7949999999999999,1.0],\"matches\":\"x\",\"title\":{\"text\":\"fiscal_year\"},\"range\":[2015,2022]},\"yaxis4\":{\"anchor\":\"x4\",\"domain\":[0.0,0.2866666666666666],\"showticklabels\":true},\"xaxis5\":{\"anchor\":\"y5\",\"domain\":[0.0,0.20500000000000002],\"matches\":\"x\",\"showticklabels\":false},\"yaxis5\":{\"anchor\":\"x5\",\"domain\":[0.35666666666666663,0.6433333333333333],\"title\":{\"text\":\"value\"},\"showticklabels\":true},\"xaxis6\":{\"anchor\":\"y6\",\"domain\":[0.265,0.47000000000000003],\"matches\":\"x\",\"showticklabels\":false},\"yaxis6\":{\"anchor\":\"x6\",\"domain\":[0.35666666666666663,0.6433333333333333],\"showticklabels\":true},\"xaxis7\":{\"anchor\":\"y7\",\"domain\":[0.53,0.7350000000000001],\"matches\":\"x\",\"showticklabels\":false},\"yaxis7\":{\"anchor\":\"x7\",\"domain\":[0.35666666666666663,0.6433333333333333],\"showticklabels\":true},\"xaxis8\":{\"anchor\":\"y8\",\"domain\":[0.7949999999999999,1.0],\"matches\":\"x\",\"showticklabels\":false},\"yaxis8\":{\"anchor\":\"x8\",\"domain\":[0.35666666666666663,0.6433333333333333],\"showticklabels\":true},\"xaxis9\":{\"anchor\":\"y9\",\"domain\":[0.0,0.20500000000000002],\"matches\":\"x\",\"showticklabels\":false},\"yaxis9\":{\"anchor\":\"x9\",\"domain\":[0.7133333333333333,0.9999999999999999],\"title\":{\"text\":\"value\"},\"showticklabels\":true},\"xaxis10\":{\"anchor\":\"y10\",\"domain\":[0.265,0.47000000000000003],\"matches\":\"x\",\"showticklabels\":false},\"yaxis10\":{\"anchor\":\"x10\",\"domain\":[0.7133333333333333,0.9999999999999999],\"showticklabels\":true},\"xaxis11\":{\"anchor\":\"y11\",\"domain\":[0.53,0.7350000000000001],\"matches\":\"x\",\"showticklabels\":false},\"yaxis11\":{\"anchor\":\"x11\",\"domain\":[0.7133333333333333,0.9999999999999999],\"showticklabels\":true},\"xaxis12\":{\"anchor\":\"y12\",\"domain\":[0.7949999999999999,1.0],\"matches\":\"x\",\"showticklabels\":false},\"yaxis12\":{\"anchor\":\"x12\",\"domain\":[0.7133333333333333,0.9999999999999999],\"showticklabels\":true},\"annotations\":[{\"font\":{},\"showarrow\":false,\"text\":\"Protection services\",\"x\":0.10250000000000001,\"xanchor\":\"center\",\"xref\":\"paper\",\"y\":0.2866666666666666,\"yanchor\":\"bottom\",\"yref\":\"paper\"},{\"font\":{},\"showarrow\":false,\"text\":\"Other health services not elsewhere specified\",\"x\":0.36750000000000005,\"xanchor\":\"center\",\"xref\":\"paper\",\"y\":0.2866666666666666,\"yanchor\":\"bottom\",\"yref\":\"paper\"},{\"font\":{},\"showarrow\":false,\"text\":\"Engineering consultants - Construction\",\"x\":0.6325000000000001,\"xanchor\":\"center\",\"xref\":\"paper\",\"y\":0.2866666666666666,\"yanchor\":\"bottom\",\"yref\":\"paper\"},{\"font\":{},\"showarrow\":false,\"text\":\"Accounting and audit services\",\"x\":0.8975,\"xanchor\":\"center\",\"xref\":\"paper\",\"y\":0.2866666666666666,\"yanchor\":\"bottom\",\"yref\":\"paper\"},{\"font\":{},\"showarrow\":false,\"text\":\"Desktop/personal/portable computers\",\"x\":0.10250000000000001,\"xanchor\":\"center\",\"xref\":\"paper\",\"y\":0.6433333333333333,\"yanchor\":\"bottom\",\"yref\":\"paper\"},{\"font\":{},\"showarrow\":false,\"text\":\"Software licence/maintenance fees\",\"x\":0.36750000000000005,\"xanchor\":\"center\",\"xref\":\"paper\",\"y\":0.6433333333333333,\"yanchor\":\"bottom\",\"yref\":\"paper\"},{\"font\":{},\"showarrow\":false,\"text\":\"Scientific services\",\"x\":0.6325000000000001,\"xanchor\":\"center\",\"xref\":\"paper\",\"y\":0.6433333333333333,\"yanchor\":\"bottom\",\"yref\":\"paper\"},{\"font\":{},\"showarrow\":false,\"text\":\"Scientific consultants\",\"x\":0.8975,\"xanchor\":\"center\",\"xref\":\"paper\",\"y\":0.6433333333333333,\"yanchor\":\"bottom\",\"yref\":\"paper\"},{\"font\":{},\"showarrow\":false,\"text\":\"Information technology and telecommunications consultants\",\"x\":0.10250000000000001,\"xanchor\":\"center\",\"xref\":\"paper\",\"y\":0.9999999999999999,\"yanchor\":\"bottom\",\"yref\":\"paper\"},{\"font\":{},\"showarrow\":false,\"text\":\"Management consulting\",\"x\":0.36750000000000005,\"xanchor\":\"center\",\"xref\":\"paper\",\"y\":0.9999999999999999,\"yanchor\":\"bottom\",\"yref\":\"paper\"},{\"font\":{},\"showarrow\":false,\"text\":\"Temporary help services\",\"x\":0.6325000000000001,\"xanchor\":\"center\",\"xref\":\"paper\",\"y\":0.9999999999999999,\"yanchor\":\"bottom\",\"yref\":\"paper\"},{\"font\":{},\"showarrow\":false,\"text\":\"Welfare services\",\"x\":0.8975,\"xanchor\":\"center\",\"xref\":\"paper\",\"y\":0.9999999999999999,\"yanchor\":\"bottom\",\"yref\":\"paper\"}],\"legend\":{\"title\":{\"text\":\"variable\"},\"tracegroupgap\":0},\"title\":{\"text\":\"Average original and amended contract values by service type\"},\"height\":800},                        {\"responsive\": true}                    ).then(function(){\n",
       "                            \n",
       "var gd = document.getElementById('bdc09326-7902-4b69-bde2-87c12ccb9a45');\n",
       "var x = new MutationObserver(function (mutations, observer) {{\n",
       "        var display = window.getComputedStyle(gd).display;\n",
       "        if (!display || display === 'none') {{\n",
       "            console.log([gd, 'removed!']);\n",
       "            Plotly.purge(gd);\n",
       "            observer.disconnect();\n",
       "        }}\n",
       "}});\n",
       "\n",
       "// Listen for the removal of the full notebook cells\n",
       "var notebookContainer = gd.closest('#notebook-container');\n",
       "if (notebookContainer) {{\n",
       "    x.observe(notebookContainer, {childList: true});\n",
       "}}\n",
       "\n",
       "// Listen for the clearing of the current output cell\n",
       "var outputEl = gd.closest('.output');\n",
       "if (outputEl) {{\n",
       "    x.observe(outputEl, {childList: true});\n",
       "}}\n",
       "\n",
       "                        })                };                });            </script>        </div>"
      ]
     },
     "metadata": {},
     "output_type": "display_data"
    }
   ],
   "source": [
    "# Visualize average start and end values of selected contract types\n",
    "\n",
    "sel_codes = ['0473', '0491', '0813', '0452', '1283', '0582' , \n",
    "             '0430', '0431', '0460', '0451', '0422', '0401']\n",
    "\n",
    "first_last_by_type = (cost_changes\n",
    " .query('first_value < 4000000000')\n",
    " .groupby(['fiscal_year', 'economic_object_code'])\n",
    " [['first_value', 'last_value']]\n",
    " .mean()\n",
    " .loc[(slice(None), sel_codes), :]\n",
    " .reset_index()\n",
    " .merge(codes['Name'], left_on = 'economic_object_code', right_index=True)\n",
    ")\n",
    "\n",
    "fig = px.line(first_last_by_type, x='fiscal_year', \n",
    "       y=['first_value', 'last_value'], facet_col='Name', \n",
    "       facet_col_wrap=4, height=800, range_x = (2015, 2022),\n",
    "       hover_data=['economic_object_code'], facet_col_spacing=0.06, \n",
    "       template='plotly_white',\n",
    "       title = 'Average original and amended contract values by service type')\n",
    "\n",
    "fig.update_yaxes(showticklabels=True, matches=None)\n",
    "fig.for_each_annotation(lambda a: a.update(text=a.text.split(\"=\")[-1]))\n"
   ]
  },
  {
   "cell_type": "code",
   "execution_count": 13,
   "id": "ebe3796f-9d38-4a51-a319-c81627753e8e",
   "metadata": {},
   "outputs": [
    {
     "data": {
      "text/html": [
       "<div>\n",
       "<style scoped>\n",
       "    .dataframe tbody tr th:only-of-type {\n",
       "        vertical-align: middle;\n",
       "    }\n",
       "\n",
       "    .dataframe tbody tr th {\n",
       "        vertical-align: top;\n",
       "    }\n",
       "\n",
       "    .dataframe thead th {\n",
       "        text-align: right;\n",
       "    }\n",
       "</style>\n",
       "<table border=\"1\" class=\"dataframe\">\n",
       "  <thead>\n",
       "    <tr style=\"text-align: right;\">\n",
       "      <th></th>\n",
       "      <th>count</th>\n",
       "      <th>median</th>\n",
       "      <th>sum</th>\n",
       "      <th>total_contracts</th>\n",
       "      <th>amended_ratio</th>\n",
       "      <th>Name</th>\n",
       "    </tr>\n",
       "    <tr>\n",
       "      <th>economic_object_code</th>\n",
       "      <th></th>\n",
       "      <th></th>\n",
       "      <th></th>\n",
       "      <th></th>\n",
       "      <th></th>\n",
       "      <th></th>\n",
       "    </tr>\n",
       "  </thead>\n",
       "  <tbody>\n",
       "    <tr>\n",
       "      <th>0452</th>\n",
       "      <td>365</td>\n",
       "      <td>222.44</td>\n",
       "      <td>1578</td>\n",
       "      <td>647</td>\n",
       "      <td>0.56</td>\n",
       "      <td>Welfare services</td>\n",
       "    </tr>\n",
       "    <tr>\n",
       "      <th>1316</th>\n",
       "      <td>221</td>\n",
       "      <td>13.12</td>\n",
       "      <td>664</td>\n",
       "      <td>464</td>\n",
       "      <td>0.48</td>\n",
       "      <td>Roads, highways and airport runways</td>\n",
       "    </tr>\n",
       "    <tr>\n",
       "      <th>0473</th>\n",
       "      <td>7683</td>\n",
       "      <td>100.00</td>\n",
       "      <td>24956</td>\n",
       "      <td>17107</td>\n",
       "      <td>0.45</td>\n",
       "      <td>Information technology and telecommunications ...</td>\n",
       "    </tr>\n",
       "    <tr>\n",
       "      <th>0453</th>\n",
       "      <td>297</td>\n",
       "      <td>105.74</td>\n",
       "      <td>863</td>\n",
       "      <td>791</td>\n",
       "      <td>0.38</td>\n",
       "      <td>Physicians and surgeons</td>\n",
       "    </tr>\n",
       "    <tr>\n",
       "      <th>0421</th>\n",
       "      <td>670</td>\n",
       "      <td>42.95</td>\n",
       "      <td>2195</td>\n",
       "      <td>1862</td>\n",
       "      <td>0.36</td>\n",
       "      <td>Architectural services</td>\n",
       "    </tr>\n",
       "    <tr>\n",
       "      <th>1358</th>\n",
       "      <td>146</td>\n",
       "      <td>16.06</td>\n",
       "      <td>529</td>\n",
       "      <td>431</td>\n",
       "      <td>0.34</td>\n",
       "      <td>Other institutional buildings</td>\n",
       "    </tr>\n",
       "    <tr>\n",
       "      <th>0230</th>\n",
       "      <td>362</td>\n",
       "      <td>130.99</td>\n",
       "      <td>960</td>\n",
       "      <td>1108</td>\n",
       "      <td>0.33</td>\n",
       "      <td>Voice communications services</td>\n",
       "    </tr>\n",
       "    <tr>\n",
       "      <th>0813</th>\n",
       "      <td>1588</td>\n",
       "      <td>52.44</td>\n",
       "      <td>3836</td>\n",
       "      <td>5026</td>\n",
       "      <td>0.32</td>\n",
       "      <td>Temporary help services</td>\n",
       "    </tr>\n",
       "    <tr>\n",
       "      <th>1364</th>\n",
       "      <td>186</td>\n",
       "      <td>17.17</td>\n",
       "      <td>493</td>\n",
       "      <td>596</td>\n",
       "      <td>0.31</td>\n",
       "      <td>Laboratories</td>\n",
       "    </tr>\n",
       "    <tr>\n",
       "      <th>1310</th>\n",
       "      <td>627</td>\n",
       "      <td>13.94</td>\n",
       "      <td>1702</td>\n",
       "      <td>2112</td>\n",
       "      <td>0.30</td>\n",
       "      <td>Marine installations</td>\n",
       "    </tr>\n",
       "    <tr>\n",
       "      <th>1340</th>\n",
       "      <td>131</td>\n",
       "      <td>17.05</td>\n",
       "      <td>437</td>\n",
       "      <td>465</td>\n",
       "      <td>0.28</td>\n",
       "      <td>Office buildings</td>\n",
       "    </tr>\n",
       "    <tr>\n",
       "      <th>0811</th>\n",
       "      <td>845</td>\n",
       "      <td>102.50</td>\n",
       "      <td>2499</td>\n",
       "      <td>3302</td>\n",
       "      <td>0.26</td>\n",
       "      <td>Contracted building cleaning</td>\n",
       "    </tr>\n",
       "    <tr>\n",
       "      <th>0460</th>\n",
       "      <td>1985</td>\n",
       "      <td>31.68</td>\n",
       "      <td>4819</td>\n",
       "      <td>8132</td>\n",
       "      <td>0.24</td>\n",
       "      <td>Protection services</td>\n",
       "    </tr>\n",
       "    <tr>\n",
       "      <th>0664</th>\n",
       "      <td>225</td>\n",
       "      <td>84.44</td>\n",
       "      <td>633</td>\n",
       "      <td>947</td>\n",
       "      <td>0.24</td>\n",
       "      <td>Communications/Networking equipment (includes ...</td>\n",
       "    </tr>\n",
       "    <tr>\n",
       "      <th>0451</th>\n",
       "      <td>469</td>\n",
       "      <td>100.00</td>\n",
       "      <td>1299</td>\n",
       "      <td>2000</td>\n",
       "      <td>0.23</td>\n",
       "      <td>Other health services not elsewhere specified</td>\n",
       "    </tr>\n",
       "    <tr>\n",
       "      <th>0514</th>\n",
       "      <td>118</td>\n",
       "      <td>98.09</td>\n",
       "      <td>274</td>\n",
       "      <td>506</td>\n",
       "      <td>0.23</td>\n",
       "      <td>Rental of other buildings</td>\n",
       "    </tr>\n",
       "    <tr>\n",
       "      <th>1339</th>\n",
       "      <td>343</td>\n",
       "      <td>19.23</td>\n",
       "      <td>1061</td>\n",
       "      <td>1496</td>\n",
       "      <td>0.23</td>\n",
       "      <td>Other engineering works</td>\n",
       "    </tr>\n",
       "    <tr>\n",
       "      <th>0423</th>\n",
       "      <td>1089</td>\n",
       "      <td>38.71</td>\n",
       "      <td>3036</td>\n",
       "      <td>4812</td>\n",
       "      <td>0.23</td>\n",
       "      <td>Engineering consultants - Other</td>\n",
       "    </tr>\n",
       "    <tr>\n",
       "      <th>0420</th>\n",
       "      <td>858</td>\n",
       "      <td>55.47</td>\n",
       "      <td>2418</td>\n",
       "      <td>3821</td>\n",
       "      <td>0.22</td>\n",
       "      <td>Engineering services not elsewhere specified</td>\n",
       "    </tr>\n",
       "    <tr>\n",
       "      <th>0410</th>\n",
       "      <td>172</td>\n",
       "      <td>95.86</td>\n",
       "      <td>514</td>\n",
       "      <td>775</td>\n",
       "      <td>0.22</td>\n",
       "      <td>Legal services</td>\n",
       "    </tr>\n",
       "    <tr>\n",
       "      <th>0422</th>\n",
       "      <td>1317</td>\n",
       "      <td>33.18</td>\n",
       "      <td>3809</td>\n",
       "      <td>6025</td>\n",
       "      <td>0.22</td>\n",
       "      <td>Engineering consultants - Construction</td>\n",
       "    </tr>\n",
       "    <tr>\n",
       "      <th>0496</th>\n",
       "      <td>130</td>\n",
       "      <td>30.51</td>\n",
       "      <td>363</td>\n",
       "      <td>608</td>\n",
       "      <td>0.21</td>\n",
       "      <td>Services related to the remediation of contami...</td>\n",
       "    </tr>\n",
       "    <tr>\n",
       "      <th>0491</th>\n",
       "      <td>3077</td>\n",
       "      <td>52.63</td>\n",
       "      <td>8320</td>\n",
       "      <td>15307</td>\n",
       "      <td>0.20</td>\n",
       "      <td>Management consulting</td>\n",
       "    </tr>\n",
       "    <tr>\n",
       "      <th>1151</th>\n",
       "      <td>119</td>\n",
       "      <td>83.33</td>\n",
       "      <td>329</td>\n",
       "      <td>619</td>\n",
       "      <td>0.19</td>\n",
       "      <td>Uniforms</td>\n",
       "    </tr>\n",
       "    <tr>\n",
       "      <th>0401</th>\n",
       "      <td>450</td>\n",
       "      <td>66.79</td>\n",
       "      <td>1167</td>\n",
       "      <td>2425</td>\n",
       "      <td>0.19</td>\n",
       "      <td>Accounting and audit services</td>\n",
       "    </tr>\n",
       "  </tbody>\n",
       "</table>\n",
       "</div>"
      ],
      "text/plain": [
       "                      count  median    sum  total_contracts  amended_ratio  \\\n",
       "economic_object_code                                                         \n",
       "0452                    365  222.44   1578              647           0.56   \n",
       "1316                    221   13.12    664              464           0.48   \n",
       "0473                   7683  100.00  24956            17107           0.45   \n",
       "0453                    297  105.74    863              791           0.38   \n",
       "0421                    670   42.95   2195             1862           0.36   \n",
       "1358                    146   16.06    529              431           0.34   \n",
       "0230                    362  130.99    960             1108           0.33   \n",
       "0813                   1588   52.44   3836             5026           0.32   \n",
       "1364                    186   17.17    493              596           0.31   \n",
       "1310                    627   13.94   1702             2112           0.30   \n",
       "1340                    131   17.05    437              465           0.28   \n",
       "0811                    845  102.50   2499             3302           0.26   \n",
       "0460                   1985   31.68   4819             8132           0.24   \n",
       "0664                    225   84.44    633              947           0.24   \n",
       "0451                    469  100.00   1299             2000           0.23   \n",
       "0514                    118   98.09    274              506           0.23   \n",
       "1339                    343   19.23   1061             1496           0.23   \n",
       "0423                   1089   38.71   3036             4812           0.23   \n",
       "0420                    858   55.47   2418             3821           0.22   \n",
       "0410                    172   95.86    514              775           0.22   \n",
       "0422                   1317   33.18   3809             6025           0.22   \n",
       "0496                    130   30.51    363              608           0.21   \n",
       "0491                   3077   52.63   8320            15307           0.20   \n",
       "1151                    119   83.33    329              619           0.19   \n",
       "0401                    450   66.79   1167             2425           0.19   \n",
       "\n",
       "                                                                   Name  \n",
       "economic_object_code                                                     \n",
       "0452                                                   Welfare services  \n",
       "1316                                Roads, highways and airport runways  \n",
       "0473                  Information technology and telecommunications ...  \n",
       "0453                                            Physicians and surgeons  \n",
       "0421                                             Architectural services  \n",
       "1358                                      Other institutional buildings  \n",
       "0230                                      Voice communications services  \n",
       "0813                                            Temporary help services  \n",
       "1364                                                       Laboratories  \n",
       "1310                                               Marine installations  \n",
       "1340                                                   Office buildings  \n",
       "0811                                       Contracted building cleaning  \n",
       "0460                                                Protection services  \n",
       "0664                  Communications/Networking equipment (includes ...  \n",
       "0451                      Other health services not elsewhere specified  \n",
       "0514                                          Rental of other buildings  \n",
       "1339                                            Other engineering works  \n",
       "0423                                    Engineering consultants - Other  \n",
       "0420                       Engineering services not elsewhere specified  \n",
       "0410                                                     Legal services  \n",
       "0422                             Engineering consultants - Construction  \n",
       "0496                  Services related to the remediation of contami...  \n",
       "0491                                              Management consulting  \n",
       "1151                                                           Uniforms  \n",
       "0401                                      Accounting and audit services  "
      ]
     },
     "execution_count": 13,
     "metadata": {},
     "output_type": "execute_result"
    }
   ],
   "source": [
    "# How many contracts were amended vs. all others by type\n",
    "\n",
    "contracts_per_code = (contracts\n",
    "                      .query('fiscal_year >= 2017')\n",
    "                      .groupby('economic_object_code')\n",
    "                      .proc_unique.nunique()\n",
    "                     )\n",
    "\n",
    "(cost_changes\n",
    " .query('fiscal_year >= 2017')\n",
    " .groupby('economic_object_code')\n",
    " .agg({'change' : ['count', 'median'], 'num_amendments':'sum'})\n",
    " .droplevel(0, axis=1)\n",
    " .query('count >=100')\n",
    " .assign(total_contracts = contracts_per_code)\n",
    " .assign(amended_ratio = lambda x: x['count'] / x.total_contracts)\n",
    " .sort_values('amended_ratio', ascending=False)\n",
    " .merge(codes['Name'], left_on = 'economic_object_code', right_index=True)\n",
    " .head(25)\n",
    ")"
   ]
  },
  {
   "cell_type": "code",
   "execution_count": 21,
   "id": "d4d66ba4-18f2-4a75-94b6-0128bdbcfe74",
   "metadata": {},
   "outputs": [
    {
     "data": {
      "text/html": [
       "<div>\n",
       "<style scoped>\n",
       "    .dataframe tbody tr th:only-of-type {\n",
       "        vertical-align: middle;\n",
       "    }\n",
       "\n",
       "    .dataframe tbody tr th {\n",
       "        vertical-align: top;\n",
       "    }\n",
       "\n",
       "    .dataframe thead th {\n",
       "        text-align: right;\n",
       "    }\n",
       "</style>\n",
       "<table border=\"1\" class=\"dataframe\">\n",
       "  <thead>\n",
       "    <tr style=\"text-align: right;\">\n",
       "      <th></th>\n",
       "      <th>economic_object_code</th>\n",
       "      <th>vendor_name_norm</th>\n",
       "      <th>count</th>\n",
       "      <th>median</th>\n",
       "      <th>mean</th>\n",
       "      <th>Name</th>\n",
       "    </tr>\n",
       "  </thead>\n",
       "  <tbody>\n",
       "    <tr>\n",
       "      <th>63</th>\n",
       "      <td>0401</td>\n",
       "      <td>PRICEWATERHOUSE COOPERS</td>\n",
       "      <td>26</td>\n",
       "      <td>126.83</td>\n",
       "      <td>155.88</td>\n",
       "      <td>Accounting and audit services</td>\n",
       "    </tr>\n",
       "    <tr>\n",
       "      <th>36</th>\n",
       "      <td>0401</td>\n",
       "      <td>GOVERNMENT SOLUTIONS GROUP</td>\n",
       "      <td>26</td>\n",
       "      <td>100.00</td>\n",
       "      <td>180.85</td>\n",
       "      <td>Accounting and audit services</td>\n",
       "    </tr>\n",
       "    <tr>\n",
       "      <th>47</th>\n",
       "      <td>0401</td>\n",
       "      <td>KPMG</td>\n",
       "      <td>15</td>\n",
       "      <td>84.53</td>\n",
       "      <td>110.50</td>\n",
       "      <td>Accounting and audit services</td>\n",
       "    </tr>\n",
       "    <tr>\n",
       "      <th>21</th>\n",
       "      <td>0401</td>\n",
       "      <td>DELOITTE</td>\n",
       "      <td>35</td>\n",
       "      <td>78.98</td>\n",
       "      <td>127.48</td>\n",
       "      <td>Accounting and audit services</td>\n",
       "    </tr>\n",
       "    <tr>\n",
       "      <th>72</th>\n",
       "      <td>0401</td>\n",
       "      <td>RAYMOND CHABOT GRANT THORNTON</td>\n",
       "      <td>67</td>\n",
       "      <td>75.00</td>\n",
       "      <td>133.50</td>\n",
       "      <td>Accounting and audit services</td>\n",
       "    </tr>\n",
       "    <tr>\n",
       "      <th>...</th>\n",
       "      <td>...</td>\n",
       "      <td>...</td>\n",
       "      <td>...</td>\n",
       "      <td>...</td>\n",
       "      <td>...</td>\n",
       "      <td>...</td>\n",
       "    </tr>\n",
       "    <tr>\n",
       "      <th>5158</th>\n",
       "      <td>1283</td>\n",
       "      <td>CDW CANADA</td>\n",
       "      <td>40</td>\n",
       "      <td>4.04</td>\n",
       "      <td>1,055.56</td>\n",
       "      <td>Desktop/personal/portable computers</td>\n",
       "    </tr>\n",
       "    <tr>\n",
       "      <th>5248</th>\n",
       "      <td>1283</td>\n",
       "      <td>PURESPIRIT SOLUTIONS</td>\n",
       "      <td>15</td>\n",
       "      <td>3.03</td>\n",
       "      <td>41.45</td>\n",
       "      <td>Desktop/personal/portable computers</td>\n",
       "    </tr>\n",
       "    <tr>\n",
       "      <th>5230</th>\n",
       "      <td>1283</td>\n",
       "      <td>NORTHERN MICRO</td>\n",
       "      <td>91</td>\n",
       "      <td>2.62</td>\n",
       "      <td>522.32</td>\n",
       "      <td>Desktop/personal/portable computers</td>\n",
       "    </tr>\n",
       "    <tr>\n",
       "      <th>5229</th>\n",
       "      <td>1283</td>\n",
       "      <td>NISHA TECHNOLOGIES</td>\n",
       "      <td>73</td>\n",
       "      <td>0.85</td>\n",
       "      <td>144.53</td>\n",
       "      <td>Desktop/personal/portable computers</td>\n",
       "    </tr>\n",
       "    <tr>\n",
       "      <th>5134</th>\n",
       "      <td>1283</td>\n",
       "      <td>ADVANCED CHIPPEWA TECHNOLOGIES</td>\n",
       "      <td>19</td>\n",
       "      <td>0.00</td>\n",
       "      <td>22.77</td>\n",
       "      <td>Desktop/personal/portable computers</td>\n",
       "    </tr>\n",
       "  </tbody>\n",
       "</table>\n",
       "<p>117 rows × 6 columns</p>\n",
       "</div>"
      ],
      "text/plain": [
       "     economic_object_code                vendor_name_norm  count  median  \\\n",
       "63                   0401         PRICEWATERHOUSE COOPERS     26  126.83   \n",
       "36                   0401      GOVERNMENT SOLUTIONS GROUP     26  100.00   \n",
       "47                   0401                            KPMG     15   84.53   \n",
       "21                   0401                        DELOITTE     35   78.98   \n",
       "72                   0401   RAYMOND CHABOT GRANT THORNTON     67   75.00   \n",
       "...                   ...                             ...    ...     ...   \n",
       "5158                 1283                      CDW CANADA     40    4.04   \n",
       "5248                 1283            PURESPIRIT SOLUTIONS     15    3.03   \n",
       "5230                 1283                  NORTHERN MICRO     91    2.62   \n",
       "5229                 1283              NISHA TECHNOLOGIES     73    0.85   \n",
       "5134                 1283  ADVANCED CHIPPEWA TECHNOLOGIES     19    0.00   \n",
       "\n",
       "         mean                                 Name  \n",
       "63     155.88        Accounting and audit services  \n",
       "36     180.85        Accounting and audit services  \n",
       "47     110.50        Accounting and audit services  \n",
       "21     127.48        Accounting and audit services  \n",
       "72     133.50        Accounting and audit services  \n",
       "...       ...                                  ...  \n",
       "5158 1,055.56  Desktop/personal/portable computers  \n",
       "5248    41.45  Desktop/personal/portable computers  \n",
       "5230   522.32  Desktop/personal/portable computers  \n",
       "5229   144.53  Desktop/personal/portable computers  \n",
       "5134    22.77  Desktop/personal/portable computers  \n",
       "\n",
       "[117 rows x 6 columns]"
      ]
     },
     "execution_count": 21,
     "metadata": {},
     "output_type": "execute_result"
    }
   ],
   "source": [
    "# Top 20 vendors per service type, by median contract value change\n",
    "\n",
    "(cost_changes[cost_changes.economic_object_code.isin(sel_codes)]\n",
    " .groupby(['economic_object_code', 'vendor_name_norm'])\n",
    " .change\n",
    " .agg(['count', 'median', 'mean'])\n",
    " .reset_index()\n",
    " .query('count >= 15')\n",
    " .sort_values(['economic_object_code', 'median'], ascending=[1,0])\n",
    " .groupby('economic_object_code')\n",
    " .head(20)\n",
    " .merge(codes['Name'], left_on = 'economic_object_code', right_index=True)\n",
    "\n",
    ")#.to_clipboard(index=False)"
   ]
  },
  {
   "cell_type": "code",
   "execution_count": 23,
   "id": "ae66ab31-2dde-49ea-bafa-6b293147ee6e",
   "metadata": {},
   "outputs": [
    {
     "data": {
      "text/html": [
       "<div>\n",
       "<style scoped>\n",
       "    .dataframe tbody tr th:only-of-type {\n",
       "        vertical-align: middle;\n",
       "    }\n",
       "\n",
       "    .dataframe tbody tr th {\n",
       "        vertical-align: top;\n",
       "    }\n",
       "\n",
       "    .dataframe thead tr th {\n",
       "        text-align: left;\n",
       "    }\n",
       "\n",
       "    .dataframe thead tr:last-of-type th {\n",
       "        text-align: right;\n",
       "    }\n",
       "</style>\n",
       "<table border=\"1\" class=\"dataframe\">\n",
       "  <thead>\n",
       "    <tr>\n",
       "      <th></th>\n",
       "      <th colspan=\"6\" halign=\"left\">num_amendments</th>\n",
       "      <th colspan=\"3\" halign=\"left\">change</th>\n",
       "    </tr>\n",
       "    <tr>\n",
       "      <th></th>\n",
       "      <th colspan=\"3\" halign=\"left\">sum</th>\n",
       "      <th colspan=\"3\" halign=\"left\">mean</th>\n",
       "      <th colspan=\"3\" halign=\"left\">median</th>\n",
       "    </tr>\n",
       "    <tr>\n",
       "      <th>economic_object_code</th>\n",
       "      <th>0473</th>\n",
       "      <th>0491</th>\n",
       "      <th>1283</th>\n",
       "      <th>0473</th>\n",
       "      <th>0491</th>\n",
       "      <th>1283</th>\n",
       "      <th>0473</th>\n",
       "      <th>0491</th>\n",
       "      <th>1283</th>\n",
       "    </tr>\n",
       "    <tr>\n",
       "      <th>fiscal_year</th>\n",
       "      <th></th>\n",
       "      <th></th>\n",
       "      <th></th>\n",
       "      <th></th>\n",
       "      <th></th>\n",
       "      <th></th>\n",
       "      <th></th>\n",
       "      <th></th>\n",
       "      <th></th>\n",
       "    </tr>\n",
       "  </thead>\n",
       "  <tbody>\n",
       "    <tr>\n",
       "      <th>2014</th>\n",
       "      <td>1167</td>\n",
       "      <td>265</td>\n",
       "      <td>67</td>\n",
       "      <td>3.21</td>\n",
       "      <td>2.55</td>\n",
       "      <td>3.05</td>\n",
       "      <td>117.79</td>\n",
       "      <td>54.65</td>\n",
       "      <td>0.00</td>\n",
       "    </tr>\n",
       "    <tr>\n",
       "      <th>2015</th>\n",
       "      <td>1161</td>\n",
       "      <td>278</td>\n",
       "      <td>29</td>\n",
       "      <td>3.38</td>\n",
       "      <td>2.48</td>\n",
       "      <td>3.22</td>\n",
       "      <td>126.67</td>\n",
       "      <td>50.48</td>\n",
       "      <td>5.06</td>\n",
       "    </tr>\n",
       "    <tr>\n",
       "      <th>2016</th>\n",
       "      <td>1981</td>\n",
       "      <td>405</td>\n",
       "      <td>65</td>\n",
       "      <td>3.30</td>\n",
       "      <td>2.66</td>\n",
       "      <td>3.10</td>\n",
       "      <td>115.87</td>\n",
       "      <td>39.11</td>\n",
       "      <td>60.43</td>\n",
       "    </tr>\n",
       "    <tr>\n",
       "      <th>2017</th>\n",
       "      <td>2715</td>\n",
       "      <td>798</td>\n",
       "      <td>115</td>\n",
       "      <td>3.09</td>\n",
       "      <td>2.77</td>\n",
       "      <td>2.35</td>\n",
       "      <td>100.00</td>\n",
       "      <td>52.37</td>\n",
       "      <td>2.83</td>\n",
       "    </tr>\n",
       "    <tr>\n",
       "      <th>2018</th>\n",
       "      <td>3483</td>\n",
       "      <td>1241</td>\n",
       "      <td>240</td>\n",
       "      <td>3.19</td>\n",
       "      <td>2.86</td>\n",
       "      <td>2.79</td>\n",
       "      <td>116.59</td>\n",
       "      <td>51.51</td>\n",
       "      <td>8.43</td>\n",
       "    </tr>\n",
       "    <tr>\n",
       "      <th>2019</th>\n",
       "      <td>4129</td>\n",
       "      <td>1319</td>\n",
       "      <td>290</td>\n",
       "      <td>3.67</td>\n",
       "      <td>2.77</td>\n",
       "      <td>2.69</td>\n",
       "      <td>117.07</td>\n",
       "      <td>50.00</td>\n",
       "      <td>18.57</td>\n",
       "    </tr>\n",
       "    <tr>\n",
       "      <th>2020</th>\n",
       "      <td>3912</td>\n",
       "      <td>1330</td>\n",
       "      <td>219</td>\n",
       "      <td>3.40</td>\n",
       "      <td>2.73</td>\n",
       "      <td>2.41</td>\n",
       "      <td>101.50</td>\n",
       "      <td>53.24</td>\n",
       "      <td>10.00</td>\n",
       "    </tr>\n",
       "    <tr>\n",
       "      <th>2021</th>\n",
       "      <td>4135</td>\n",
       "      <td>1659</td>\n",
       "      <td>239</td>\n",
       "      <td>3.27</td>\n",
       "      <td>2.82</td>\n",
       "      <td>2.54</td>\n",
       "      <td>126.87</td>\n",
       "      <td>59.68</td>\n",
       "      <td>4.35</td>\n",
       "    </tr>\n",
       "    <tr>\n",
       "      <th>2022</th>\n",
       "      <td>4371</td>\n",
       "      <td>1336</td>\n",
       "      <td>167</td>\n",
       "      <td>3.39</td>\n",
       "      <td>2.58</td>\n",
       "      <td>2.26</td>\n",
       "      <td>97.84</td>\n",
       "      <td>59.38</td>\n",
       "      <td>9.92</td>\n",
       "    </tr>\n",
       "    <tr>\n",
       "      <th>2023</th>\n",
       "      <td>2072</td>\n",
       "      <td>623</td>\n",
       "      <td>118</td>\n",
       "      <td>2.49</td>\n",
       "      <td>2.23</td>\n",
       "      <td>2.07</td>\n",
       "      <td>99.20</td>\n",
       "      <td>49.69</td>\n",
       "      <td>0.00</td>\n",
       "    </tr>\n",
       "    <tr>\n",
       "      <th>2024</th>\n",
       "      <td>139</td>\n",
       "      <td>14</td>\n",
       "      <td>8</td>\n",
       "      <td>2.57</td>\n",
       "      <td>2.00</td>\n",
       "      <td>2.00</td>\n",
       "      <td>0.00</td>\n",
       "      <td>105.52</td>\n",
       "      <td>3.67</td>\n",
       "    </tr>\n",
       "  </tbody>\n",
       "</table>\n",
       "</div>"
      ],
      "text/plain": [
       "                     num_amendments                           change         \\\n",
       "                                sum            mean           median          \n",
       "economic_object_code           0473  0491 1283 0473 0491 1283   0473   0491   \n",
       "fiscal_year                                                                   \n",
       "2014                           1167   265   67 3.21 2.55 3.05 117.79  54.65   \n",
       "2015                           1161   278   29 3.38 2.48 3.22 126.67  50.48   \n",
       "2016                           1981   405   65 3.30 2.66 3.10 115.87  39.11   \n",
       "2017                           2715   798  115 3.09 2.77 2.35 100.00  52.37   \n",
       "2018                           3483  1241  240 3.19 2.86 2.79 116.59  51.51   \n",
       "2019                           4129  1319  290 3.67 2.77 2.69 117.07  50.00   \n",
       "2020                           3912  1330  219 3.40 2.73 2.41 101.50  53.24   \n",
       "2021                           4135  1659  239 3.27 2.82 2.54 126.87  59.68   \n",
       "2022                           4371  1336  167 3.39 2.58 2.26  97.84  59.38   \n",
       "2023                           2072   623  118 2.49 2.23 2.07  99.20  49.69   \n",
       "2024                            139    14    8 2.57 2.00 2.00   0.00 105.52   \n",
       "\n",
       "                            \n",
       "                            \n",
       "economic_object_code  1283  \n",
       "fiscal_year                 \n",
       "2014                  0.00  \n",
       "2015                  5.06  \n",
       "2016                 60.43  \n",
       "2017                  2.83  \n",
       "2018                  8.43  \n",
       "2019                 18.57  \n",
       "2020                 10.00  \n",
       "2021                  4.35  \n",
       "2022                  9.92  \n",
       "2023                  0.00  \n",
       "2024                  3.67  "
      ]
     },
     "execution_count": 23,
     "metadata": {},
     "output_type": "execute_result"
    }
   ],
   "source": [
    "# Focus on IT and mangement consulting\n",
    "\n",
    "it_cons = ['0473', '0491', '1283']\n",
    "\n",
    "it = cost_changes[cost_changes.economic_object_code.isin(it_cons)]\n",
    "\n",
    "(it.groupby(['economic_object_code', 'fiscal_year'])\n",
    " .agg({'num_amendments' : ['sum', 'mean'],\n",
    "       'change' : 'median'})\n",
    " .unstack(0)\n",
    ")"
   ]
  },
  {
   "cell_type": "code",
   "execution_count": 24,
   "id": "50c2d9ec-4004-40d3-9e98-d23881197025",
   "metadata": {},
   "outputs": [
    {
     "data": {
      "text/plain": [
       "economic_object_code\n",
       "0473   1.34\n",
       "0491   0.83\n",
       "1283   0.96\n",
       "dtype: float64"
      ]
     },
     "execution_count": 24,
     "metadata": {},
     "output_type": "execute_result"
    }
   ],
   "source": [
    "# Overall price increase per code\n",
    "\n",
    "it.groupby('economic_object_code').apply(lambda x: (x.last_value.sum() - x.first_value.sum()) / x.first_value.sum())"
   ]
  },
  {
   "cell_type": "code",
   "execution_count": 25,
   "id": "252e9d74-2c5c-430b-bad9-946fa03f3b47",
   "metadata": {},
   "outputs": [
    {
     "data": {
      "text/html": [
       "<div>\n",
       "<style scoped>\n",
       "    .dataframe tbody tr th:only-of-type {\n",
       "        vertical-align: middle;\n",
       "    }\n",
       "\n",
       "    .dataframe tbody tr th {\n",
       "        vertical-align: top;\n",
       "    }\n",
       "\n",
       "    .dataframe thead th {\n",
       "        text-align: right;\n",
       "    }\n",
       "</style>\n",
       "<table border=\"1\" class=\"dataframe\">\n",
       "  <thead>\n",
       "    <tr style=\"text-align: right;\">\n",
       "      <th></th>\n",
       "      <th>count</th>\n",
       "      <th>sum</th>\n",
       "      <th>mean</th>\n",
       "      <th>median</th>\n",
       "    </tr>\n",
       "    <tr>\n",
       "      <th>owner_org_title</th>\n",
       "      <th></th>\n",
       "      <th></th>\n",
       "      <th></th>\n",
       "      <th></th>\n",
       "    </tr>\n",
       "  </thead>\n",
       "  <tbody>\n",
       "    <tr>\n",
       "      <th>Royal Canadian Mounted Police</th>\n",
       "      <td>387</td>\n",
       "      <td>1181</td>\n",
       "      <td>3.05</td>\n",
       "      <td>199.44</td>\n",
       "    </tr>\n",
       "    <tr>\n",
       "      <th>Canadian Food Inspection Agency</th>\n",
       "      <td>126</td>\n",
       "      <td>422</td>\n",
       "      <td>3.35</td>\n",
       "      <td>194.01</td>\n",
       "    </tr>\n",
       "    <tr>\n",
       "      <th>Parks Canada</th>\n",
       "      <td>103</td>\n",
       "      <td>326</td>\n",
       "      <td>3.17</td>\n",
       "      <td>132.40</td>\n",
       "    </tr>\n",
       "    <tr>\n",
       "      <th>Agriculture and Agri-Food Canada</th>\n",
       "      <td>281</td>\n",
       "      <td>807</td>\n",
       "      <td>2.87</td>\n",
       "      <td>125.00</td>\n",
       "    </tr>\n",
       "    <tr>\n",
       "      <th>Innovation, Science and Economic Development Canada</th>\n",
       "      <td>720</td>\n",
       "      <td>1837</td>\n",
       "      <td>2.55</td>\n",
       "      <td>114.83</td>\n",
       "    </tr>\n",
       "    <tr>\n",
       "      <th>Transport Canada</th>\n",
       "      <td>590</td>\n",
       "      <td>2038</td>\n",
       "      <td>3.45</td>\n",
       "      <td>111.95</td>\n",
       "    </tr>\n",
       "    <tr>\n",
       "      <th>Employment and Social Development Canada</th>\n",
       "      <td>1673</td>\n",
       "      <td>5701</td>\n",
       "      <td>3.41</td>\n",
       "      <td>109.09</td>\n",
       "    </tr>\n",
       "    <tr>\n",
       "      <th>Canada Revenue Agency</th>\n",
       "      <td>1721</td>\n",
       "      <td>6840</td>\n",
       "      <td>3.97</td>\n",
       "      <td>104.52</td>\n",
       "    </tr>\n",
       "    <tr>\n",
       "      <th>Global Affairs Canada</th>\n",
       "      <td>1125</td>\n",
       "      <td>3585</td>\n",
       "      <td>3.19</td>\n",
       "      <td>101.50</td>\n",
       "    </tr>\n",
       "    <tr>\n",
       "      <th>Health Canada</th>\n",
       "      <td>108</td>\n",
       "      <td>294</td>\n",
       "      <td>2.72</td>\n",
       "      <td>100.00</td>\n",
       "    </tr>\n",
       "    <tr>\n",
       "      <th>Environment and Climate Change Canada</th>\n",
       "      <td>138</td>\n",
       "      <td>420</td>\n",
       "      <td>3.04</td>\n",
       "      <td>99.01</td>\n",
       "    </tr>\n",
       "    <tr>\n",
       "      <th>Canadian Heritage</th>\n",
       "      <td>139</td>\n",
       "      <td>377</td>\n",
       "      <td>2.71</td>\n",
       "      <td>86.80</td>\n",
       "    </tr>\n",
       "    <tr>\n",
       "      <th>Natural Resources Canada</th>\n",
       "      <td>243</td>\n",
       "      <td>668</td>\n",
       "      <td>2.75</td>\n",
       "      <td>86.77</td>\n",
       "    </tr>\n",
       "    <tr>\n",
       "      <th>Shared Services Canada</th>\n",
       "      <td>557</td>\n",
       "      <td>1675</td>\n",
       "      <td>3.01</td>\n",
       "      <td>80.00</td>\n",
       "    </tr>\n",
       "    <tr>\n",
       "      <th>Canada Border Services Agency</th>\n",
       "      <td>422</td>\n",
       "      <td>1093</td>\n",
       "      <td>2.59</td>\n",
       "      <td>77.59</td>\n",
       "    </tr>\n",
       "    <tr>\n",
       "      <th>National Research Council Canada</th>\n",
       "      <td>197</td>\n",
       "      <td>714</td>\n",
       "      <td>3.62</td>\n",
       "      <td>56.36</td>\n",
       "    </tr>\n",
       "    <tr>\n",
       "      <th>Treasury Board of Canada Secretariat</th>\n",
       "      <td>149</td>\n",
       "      <td>372</td>\n",
       "      <td>2.50</td>\n",
       "      <td>46.67</td>\n",
       "    </tr>\n",
       "    <tr>\n",
       "      <th>Public Services and Procurement Canada</th>\n",
       "      <td>378</td>\n",
       "      <td>1080</td>\n",
       "      <td>2.86</td>\n",
       "      <td>41.87</td>\n",
       "    </tr>\n",
       "    <tr>\n",
       "      <th>National Defence</th>\n",
       "      <td>345</td>\n",
       "      <td>862</td>\n",
       "      <td>2.50</td>\n",
       "      <td>37.31</td>\n",
       "    </tr>\n",
       "    <tr>\n",
       "      <th>Immigration, Refugees and Citizenship Canada</th>\n",
       "      <td>1685</td>\n",
       "      <td>4483</td>\n",
       "      <td>2.66</td>\n",
       "      <td>31.33</td>\n",
       "    </tr>\n",
       "    <tr>\n",
       "      <th>Fisheries and Oceans Canada</th>\n",
       "      <td>663</td>\n",
       "      <td>1827</td>\n",
       "      <td>2.76</td>\n",
       "      <td>19.23</td>\n",
       "    </tr>\n",
       "  </tbody>\n",
       "</table>\n",
       "</div>"
      ],
      "text/plain": [
       "                                                    count   sum  mean  median\n",
       "owner_org_title                                                              \n",
       "Royal Canadian Mounted Police                         387  1181  3.05  199.44\n",
       "Canadian Food Inspection Agency                       126   422  3.35  194.01\n",
       "Parks Canada                                          103   326  3.17  132.40\n",
       "Agriculture and Agri-Food Canada                      281   807  2.87  125.00\n",
       "Innovation, Science and Economic Development Ca...    720  1837  2.55  114.83\n",
       "Transport Canada                                      590  2038  3.45  111.95\n",
       "Employment and Social Development Canada             1673  5701  3.41  109.09\n",
       "Canada Revenue Agency                                1721  6840  3.97  104.52\n",
       "Global Affairs Canada                                1125  3585  3.19  101.50\n",
       "Health Canada                                         108   294  2.72  100.00\n",
       "Environment and Climate Change Canada                 138   420  3.04   99.01\n",
       "Canadian Heritage                                     139   377  2.71   86.80\n",
       "Natural Resources Canada                              243   668  2.75   86.77\n",
       "Shared Services Canada                                557  1675  3.01   80.00\n",
       "Canada Border Services Agency                         422  1093  2.59   77.59\n",
       "National Research Council Canada                      197   714  3.62   56.36\n",
       "Treasury Board of Canada Secretariat                  149   372  2.50   46.67\n",
       "Public Services and Procurement Canada                378  1080  2.86   41.87\n",
       "National Defence                                      345   862  2.50   37.31\n",
       "Immigration, Refugees and Citizenship Canada         1685  4483  2.66   31.33\n",
       "Fisheries and Oceans Canada                           663  1827  2.76   19.23"
      ]
     },
     "execution_count": 25,
     "metadata": {},
     "output_type": "execute_result"
    }
   ],
   "source": [
    "# Stats on IT contracts by department. Sort by median cost increase\n",
    "\n",
    "(it.groupby('owner_org_title')\n",
    " .agg({'num_amendments' : ['count','sum', 'mean'],\n",
    "       'change' : 'median'})\n",
    " .sort_values(('change', 'median'), ascending=False)\n",
    " .droplevel(0, 1)\n",
    " .query('count > 100')\n",
    ")"
   ]
  },
  {
   "cell_type": "code",
   "execution_count": 26,
   "id": "757dca3e-5cba-4d2a-9db2-60cad944ab8d",
   "metadata": {},
   "outputs": [
    {
     "data": {
      "text/html": [
       "<div>\n",
       "<style scoped>\n",
       "    .dataframe tbody tr th:only-of-type {\n",
       "        vertical-align: middle;\n",
       "    }\n",
       "\n",
       "    .dataframe tbody tr th {\n",
       "        vertical-align: top;\n",
       "    }\n",
       "\n",
       "    .dataframe thead tr th {\n",
       "        text-align: left;\n",
       "    }\n",
       "\n",
       "    .dataframe thead tr:last-of-type th {\n",
       "        text-align: right;\n",
       "    }\n",
       "</style>\n",
       "<table border=\"1\" class=\"dataframe\">\n",
       "  <thead>\n",
       "    <tr>\n",
       "      <th></th>\n",
       "      <th></th>\n",
       "      <th colspan=\"3\" halign=\"left\">num_amendments</th>\n",
       "      <th>change</th>\n",
       "    </tr>\n",
       "    <tr>\n",
       "      <th></th>\n",
       "      <th></th>\n",
       "      <th>count</th>\n",
       "      <th>sum</th>\n",
       "      <th>mean</th>\n",
       "      <th>median</th>\n",
       "    </tr>\n",
       "    <tr>\n",
       "      <th>owner_org_title</th>\n",
       "      <th>vendor_name_norm</th>\n",
       "      <th></th>\n",
       "      <th></th>\n",
       "      <th></th>\n",
       "      <th></th>\n",
       "    </tr>\n",
       "  </thead>\n",
       "  <tbody>\n",
       "    <tr>\n",
       "      <th rowspan=\"4\" valign=\"top\">Accessibility Standards Canada</th>\n",
       "      <th>ADIRONDACK IN JOINT VENTURE WITH AMITA ARTEMP AND THE AIM GROUP</th>\n",
       "      <td>1</td>\n",
       "      <td>2</td>\n",
       "      <td>2.00</td>\n",
       "      <td>48.65</td>\n",
       "    </tr>\n",
       "    <tr>\n",
       "      <th>KSAR ASSOCIATES</th>\n",
       "      <td>1</td>\n",
       "      <td>2</td>\n",
       "      <td>2.00</td>\n",
       "      <td>48.54</td>\n",
       "    </tr>\n",
       "    <tr>\n",
       "      <th>OPENCONCEPT CONSULTING</th>\n",
       "      <td>1</td>\n",
       "      <td>2</td>\n",
       "      <td>2.00</td>\n",
       "      <td>50.00</td>\n",
       "    </tr>\n",
       "    <tr>\n",
       "      <th>THE RIGHT DOOR CONSULTING SOLUTIONS</th>\n",
       "      <td>2</td>\n",
       "      <td>4</td>\n",
       "      <td>2.00</td>\n",
       "      <td>48.97</td>\n",
       "    </tr>\n",
       "    <tr>\n",
       "      <th>Administrative Tribunals Support Service of Canada</th>\n",
       "      <th>49 SOLUTIONS</th>\n",
       "      <td>1</td>\n",
       "      <td>7</td>\n",
       "      <td>7.00</td>\n",
       "      <td>849.99</td>\n",
       "    </tr>\n",
       "    <tr>\n",
       "      <th>...</th>\n",
       "      <th>...</th>\n",
       "      <td>...</td>\n",
       "      <td>...</td>\n",
       "      <td>...</td>\n",
       "      <td>...</td>\n",
       "    </tr>\n",
       "    <tr>\n",
       "      <th rowspan=\"2\" valign=\"top\">Treasury Board of Canada Secretariat</th>\n",
       "      <th>WESTBURY NATIONAL SHOW SYSTEMS</th>\n",
       "      <td>1</td>\n",
       "      <td>2</td>\n",
       "      <td>2.00</td>\n",
       "      <td>100.00</td>\n",
       "    </tr>\n",
       "    <tr>\n",
       "      <th>WOLTERS KLUWER CANADA</th>\n",
       "      <td>1</td>\n",
       "      <td>2</td>\n",
       "      <td>2.00</td>\n",
       "      <td>33.33</td>\n",
       "    </tr>\n",
       "    <tr>\n",
       "      <th rowspan=\"2\" valign=\"top\">Veterans Affairs Canada</th>\n",
       "      <th>CONTRACT COMMUNITY</th>\n",
       "      <td>1</td>\n",
       "      <td>2</td>\n",
       "      <td>2.00</td>\n",
       "      <td>0.00</td>\n",
       "    </tr>\n",
       "    <tr>\n",
       "      <th>ORBIS RISK CONSULTING</th>\n",
       "      <td>1</td>\n",
       "      <td>3</td>\n",
       "      <td>3.00</td>\n",
       "      <td>206.25</td>\n",
       "    </tr>\n",
       "    <tr>\n",
       "      <th>Western Economic Diversification Canada</th>\n",
       "      <th>EPERFORMANCE</th>\n",
       "      <td>1</td>\n",
       "      <td>2</td>\n",
       "      <td>2.00</td>\n",
       "      <td>-37.91</td>\n",
       "    </tr>\n",
       "  </tbody>\n",
       "</table>\n",
       "<p>3498 rows × 4 columns</p>\n",
       "</div>"
      ],
      "text/plain": [
       "                                                                                                      num_amendments  \\\n",
       "                                                                                                               count   \n",
       "owner_org_title                                    vendor_name_norm                                                    \n",
       "Accessibility Standards Canada                     ADIRONDACK IN JOINT VENTURE WITH AMITA ARTEMP A...              1   \n",
       "                                                   KSAR ASSOCIATES                                                 1   \n",
       "                                                   OPENCONCEPT CONSULTING                                          1   \n",
       "                                                   THE RIGHT DOOR CONSULTING SOLUTIONS                             2   \n",
       "Administrative Tribunals Support Service of Can... 49 SOLUTIONS                                                    1   \n",
       "...                                                                                                              ...   \n",
       "Treasury Board of Canada Secretariat               WESTBURY NATIONAL SHOW SYSTEMS                                  1   \n",
       "                                                   WOLTERS KLUWER CANADA                                           1   \n",
       "Veterans Affairs Canada                            CONTRACT COMMUNITY                                              1   \n",
       "                                                   ORBIS RISK CONSULTING                                           1   \n",
       "Western Economic Diversification Canada            EPERFORMANCE                                                    1   \n",
       "\n",
       "                                                                                                           \\\n",
       "                                                                                                      sum   \n",
       "owner_org_title                                    vendor_name_norm                                         \n",
       "Accessibility Standards Canada                     ADIRONDACK IN JOINT VENTURE WITH AMITA ARTEMP A...   2   \n",
       "                                                   KSAR ASSOCIATES                                      2   \n",
       "                                                   OPENCONCEPT CONSULTING                               2   \n",
       "                                                   THE RIGHT DOOR CONSULTING SOLUTIONS                  4   \n",
       "Administrative Tribunals Support Service of Can... 49 SOLUTIONS                                         7   \n",
       "...                                                                                                    ..   \n",
       "Treasury Board of Canada Secretariat               WESTBURY NATIONAL SHOW SYSTEMS                       2   \n",
       "                                                   WOLTERS KLUWER CANADA                                2   \n",
       "Veterans Affairs Canada                            CONTRACT COMMUNITY                                   2   \n",
       "                                                   ORBIS RISK CONSULTING                                3   \n",
       "Western Economic Diversification Canada            EPERFORMANCE                                         2   \n",
       "\n",
       "                                                                                                            \\\n",
       "                                                                                                      mean   \n",
       "owner_org_title                                    vendor_name_norm                                          \n",
       "Accessibility Standards Canada                     ADIRONDACK IN JOINT VENTURE WITH AMITA ARTEMP A... 2.00   \n",
       "                                                   KSAR ASSOCIATES                                    2.00   \n",
       "                                                   OPENCONCEPT CONSULTING                             2.00   \n",
       "                                                   THE RIGHT DOOR CONSULTING SOLUTIONS                2.00   \n",
       "Administrative Tribunals Support Service of Can... 49 SOLUTIONS                                       7.00   \n",
       "...                                                                                                    ...   \n",
       "Treasury Board of Canada Secretariat               WESTBURY NATIONAL SHOW SYSTEMS                     2.00   \n",
       "                                                   WOLTERS KLUWER CANADA                              2.00   \n",
       "Veterans Affairs Canada                            CONTRACT COMMUNITY                                 2.00   \n",
       "                                                   ORBIS RISK CONSULTING                              3.00   \n",
       "Western Economic Diversification Canada            EPERFORMANCE                                       2.00   \n",
       "\n",
       "                                                                                                      change  \n",
       "                                                                                                      median  \n",
       "owner_org_title                                    vendor_name_norm                                           \n",
       "Accessibility Standards Canada                     ADIRONDACK IN JOINT VENTURE WITH AMITA ARTEMP A...  48.65  \n",
       "                                                   KSAR ASSOCIATES                                     48.54  \n",
       "                                                   OPENCONCEPT CONSULTING                              50.00  \n",
       "                                                   THE RIGHT DOOR CONSULTING SOLUTIONS                 48.97  \n",
       "Administrative Tribunals Support Service of Can... 49 SOLUTIONS                                       849.99  \n",
       "...                                                                                                      ...  \n",
       "Treasury Board of Canada Secretariat               WESTBURY NATIONAL SHOW SYSTEMS                     100.00  \n",
       "                                                   WOLTERS KLUWER CANADA                               33.33  \n",
       "Veterans Affairs Canada                            CONTRACT COMMUNITY                                   0.00  \n",
       "                                                   ORBIS RISK CONSULTING                              206.25  \n",
       "Western Economic Diversification Canada            EPERFORMANCE                                       -37.91  \n",
       "\n",
       "[3498 rows x 4 columns]"
      ]
     },
     "execution_count": 26,
     "metadata": {},
     "output_type": "execute_result"
    }
   ],
   "source": [
    "# Stats by vendor and department\n",
    "\n",
    "(it.groupby(['owner_org_title', 'vendor_name_norm'])\n",
    " .agg({'num_amendments' : ['count','sum', 'mean'],\n",
    "       'change' : 'median'})\n",
    ")#.to_clipboard()"
   ]
  },
  {
   "cell_type": "code",
   "execution_count": null,
   "id": "9b9cb6b4-3e84-413c-98f3-b52f8369bbc3",
   "metadata": {},
   "outputs": [],
   "source": []
  },
  {
   "cell_type": "markdown",
   "id": "102bcd92-cf9d-4398-bd62-a54e838026ad",
   "metadata": {},
   "source": [
    "### Analysis by government department\n"
   ]
  },
  {
   "cell_type": "code",
   "execution_count": 98,
   "id": "02370547-5f68-4833-9b09-26c4f7abd572",
   "metadata": {},
   "outputs": [
    {
     "data": {
      "application/vnd.plotly.v1+json": {
       "config": {
        "plotlyServerURL": "https://plot.ly"
       },
       "data": [
        {
         "alignmentgroup": "True",
         "hovertemplate": "owner_org=aafc-aac<br>fiscal_year=%{x}<br>median_pct_change=%{y}<extra></extra>",
         "legendgroup": "",
         "marker": {
          "color": "#636efa",
          "pattern": {
           "shape": ""
          }
         },
         "name": "",
         "offsetgroup": "",
         "orientation": "v",
         "showlegend": false,
         "textposition": "auto",
         "type": "bar",
         "x": [
          2014,
          2015,
          2016,
          2017,
          2018,
          2019,
          2020,
          2021,
          2022,
          2023,
          2024
         ],
         "xaxis": "x49",
         "y": [
          251.84901138641592,
          33.33333333333333,
          91.24466118170795,
          85.54787869406837,
          88.07763559744546,
          83.01431424766977,
          85.8506128162555,
          60,
          62.545348773325884,
          36.57304755751974,
          16.990314912753018
         ],
         "yaxis": "y49"
        },
        {
         "alignmentgroup": "True",
         "hovertemplate": "owner_org=aandc-aadnc<br>fiscal_year=%{x}<br>median_pct_change=%{y}<extra></extra>",
         "legendgroup": "",
         "marker": {
          "color": "#636efa",
          "pattern": {
           "shape": ""
          }
         },
         "name": "",
         "offsetgroup": "",
         "orientation": "v",
         "showlegend": false,
         "textposition": "auto",
         "type": "bar",
         "x": [
          2014,
          2015,
          2016,
          2017,
          2018,
          2019,
          2020,
          2021,
          2022,
          2023,
          2024
         ],
         "xaxis": "x50",
         "y": [
          -34.13417333553946,
          108.21215095729173,
          70.02801120448179,
          73.2974141635657,
          51.53778558875221,
          59.71563981042654,
          59.936,
          33.81642512077295,
          59.71616768370649,
          18.373559515635275,
          40
         ],
         "yaxis": "y50"
        },
        {
         "alignmentgroup": "True",
         "hovertemplate": "owner_org=cbsa-asfc<br>fiscal_year=%{x}<br>median_pct_change=%{y}<extra></extra>",
         "legendgroup": "",
         "marker": {
          "color": "#636efa",
          "pattern": {
           "shape": ""
          }
         },
         "name": "",
         "offsetgroup": "",
         "orientation": "v",
         "showlegend": false,
         "textposition": "auto",
         "type": "bar",
         "x": [
          2014,
          2015,
          2016,
          2017,
          2018,
          2019,
          2020,
          2021,
          2022,
          2023,
          2024
         ],
         "xaxis": "x51",
         "y": [
          154.16338281010553,
          183.22917428508737,
          49.69834474885846,
          83.2035682664796,
          95.92858787687135,
          63.823086464574736,
          46.1808697503593,
          27.625471369153924,
          0.2066547462082121,
          0,
          0
         ],
         "yaxis": "y51"
        },
        {
         "alignmentgroup": "True",
         "hovertemplate": "owner_org=ced-dec<br>fiscal_year=%{x}<br>median_pct_change=%{y}<extra></extra>",
         "legendgroup": "",
         "marker": {
          "color": "#636efa",
          "pattern": {
           "shape": ""
          }
         },
         "name": "",
         "offsetgroup": "",
         "orientation": "v",
         "showlegend": false,
         "textposition": "auto",
         "type": "bar",
         "x": [
          2014,
          2015,
          2016,
          2017,
          2018,
          2019,
          2020,
          2021,
          2022,
          2023
         ],
         "xaxis": "x52",
         "y": [
          0,
          0,
          0,
          60.61836103921153,
          53.61915311355311,
          100,
          62.745104843641734,
          40.279933199470584,
          26.62519165215321,
          34.205022831050236
         ],
         "yaxis": "y52"
        },
        {
         "alignmentgroup": "True",
         "hovertemplate": "owner_org=cfia-acia<br>fiscal_year=%{x}<br>median_pct_change=%{y}<extra></extra>",
         "legendgroup": "",
         "marker": {
          "color": "#636efa",
          "pattern": {
           "shape": ""
          }
         },
         "name": "",
         "offsetgroup": "",
         "orientation": "v",
         "showlegend": false,
         "textposition": "auto",
         "type": "bar",
         "x": [
          2014,
          2015,
          2016,
          2017,
          2018,
          2019,
          2020,
          2021,
          2022,
          2023,
          2024
         ],
         "xaxis": "x53",
         "y": [
          92.59486283185842,
          214.86461470094423,
          338.47514133505933,
          200,
          100,
          116.67345410108746,
          100,
          100,
          74.09821807771169,
          0,
          41.172424184119784
         ],
         "yaxis": "y53"
        },
        {
         "alignmentgroup": "True",
         "hovertemplate": "owner_org=cic<br>fiscal_year=%{x}<br>median_pct_change=%{y}<extra></extra>",
         "legendgroup": "",
         "marker": {
          "color": "#636efa",
          "pattern": {
           "shape": ""
          }
         },
         "name": "",
         "offsetgroup": "",
         "orientation": "v",
         "showlegend": false,
         "textposition": "auto",
         "type": "bar",
         "x": [
          2014,
          2015,
          2016,
          2017,
          2018,
          2019,
          2020,
          2021,
          2022,
          2023,
          2024
         ],
         "xaxis": "x54",
         "y": [
          66.66666666666666,
          66.49116677290863,
          99.98994756562821,
          54.66666666666667,
          14.906826323432428,
          0,
          11.345030914788707,
          89.76378498554267,
          43.94885004895313,
          36.14985449282529,
          52.90407370429515
         ],
         "yaxis": "y54"
        },
        {
         "alignmentgroup": "True",
         "hovertemplate": "owner_org=cihr-irsc<br>fiscal_year=%{x}<br>median_pct_change=%{y}<extra></extra>",
         "legendgroup": "",
         "marker": {
          "color": "#636efa",
          "pattern": {
           "shape": ""
          }
         },
         "name": "",
         "offsetgroup": "",
         "orientation": "v",
         "showlegend": false,
         "textposition": "auto",
         "type": "bar",
         "x": [
          2014,
          2015,
          2016,
          2017,
          2018,
          2019,
          2020,
          2021,
          2022,
          2023
         ],
         "xaxis": "x43",
         "y": [
          72.22222222222221,
          99.20501968104533,
          64.2884541618719,
          50.00202061544441,
          150,
          30.634601769911505,
          -100,
          88.31983618210396,
          70.10361379429504,
          93.12920106181093
         ],
         "yaxis": "y43"
        },
        {
         "alignmentgroup": "True",
         "hovertemplate": "owner_org=cnsc-ccsn<br>fiscal_year=%{x}<br>median_pct_change=%{y}<extra></extra>",
         "legendgroup": "",
         "marker": {
          "color": "#636efa",
          "pattern": {
           "shape": ""
          }
         },
         "name": "",
         "offsetgroup": "",
         "orientation": "v",
         "showlegend": false,
         "textposition": "auto",
         "type": "bar",
         "x": [
          2014,
          2015,
          2016,
          2017,
          2018,
          2019,
          2020,
          2021,
          2022,
          2023,
          2024
         ],
         "xaxis": "x44",
         "y": [
          120.22595997441432,
          217.4056425383859,
          102.17391304347825,
          62.60869565217392,
          54.54545454545454,
          73.53929299551012,
          78.79187151753524,
          57.42458312054251,
          44.895294926920485,
          35.468817154996685,
          -50
         ],
         "yaxis": "y44"
        },
        {
         "alignmentgroup": "True",
         "hovertemplate": "owner_org=cra-arc<br>fiscal_year=%{x}<br>median_pct_change=%{y}<extra></extra>",
         "legendgroup": "",
         "marker": {
          "color": "#636efa",
          "pattern": {
           "shape": ""
          }
         },
         "name": "",
         "offsetgroup": "",
         "orientation": "v",
         "showlegend": false,
         "textposition": "auto",
         "type": "bar",
         "x": [
          2014,
          2015,
          2016,
          2017,
          2018,
          2019,
          2020,
          2021,
          2022,
          2023,
          2024
         ],
         "xaxis": "x45",
         "y": [
          109.04975338818448,
          113.74297307980939,
          110.52630889798543,
          18.907878657465034,
          29.428174005724685,
          134.64906709231514,
          101.49626154755427,
          156.7490272895975,
          13.611323090733027,
          105.1063785653446,
          5.173232855859779
         ],
         "yaxis": "y45"
        },
        {
         "alignmentgroup": "True",
         "hovertemplate": "owner_org=csc-scc<br>fiscal_year=%{x}<br>median_pct_change=%{y}<extra></extra>",
         "legendgroup": "",
         "marker": {
          "color": "#636efa",
          "pattern": {
           "shape": ""
          }
         },
         "name": "",
         "offsetgroup": "",
         "orientation": "v",
         "showlegend": false,
         "textposition": "auto",
         "type": "bar",
         "x": [
          2014,
          2015,
          2016,
          2017,
          2018,
          2019,
          2020,
          2021,
          2022,
          2023,
          2024
         ],
         "xaxis": "x46",
         "y": [
          39.324,
          35.81825862333226,
          100.00890601491851,
          200,
          84.070796460177,
          100,
          62.098528564888994,
          75,
          75.88302560771987,
          4.326350322550474,
          89.74315982989572
         ],
         "yaxis": "y46"
        },
        {
         "alignmentgroup": "True",
         "hovertemplate": "owner_org=dfatd-maecd<br>fiscal_year=%{x}<br>median_pct_change=%{y}<extra></extra>",
         "legendgroup": "",
         "marker": {
          "color": "#636efa",
          "pattern": {
           "shape": ""
          }
         },
         "name": "",
         "offsetgroup": "",
         "orientation": "v",
         "showlegend": false,
         "textposition": "auto",
         "type": "bar",
         "x": [
          2014,
          2015,
          2016,
          2017,
          2018,
          2019,
          2020,
          2021,
          2022,
          2023,
          2024
         ],
         "xaxis": "x47",
         "y": [
          88.13406077245045,
          77.13250938112134,
          50.622572538268216,
          49.86756071971782,
          71.08986765489992,
          59.8336974441656,
          56.72093023255813,
          75.32088355606052,
          73.14090759618546,
          63.283294271838784,
          46.05263837644878
         ],
         "yaxis": "y47"
        },
        {
         "alignmentgroup": "True",
         "hovertemplate": "owner_org=dfo-mpo<br>fiscal_year=%{x}<br>median_pct_change=%{y}<extra></extra>",
         "legendgroup": "",
         "marker": {
          "color": "#636efa",
          "pattern": {
           "shape": ""
          }
         },
         "name": "",
         "offsetgroup": "",
         "orientation": "v",
         "showlegend": false,
         "textposition": "auto",
         "type": "bar",
         "x": [
          2014,
          2015,
          2016,
          2017,
          2018,
          2019,
          2020,
          2021,
          2022,
          2023,
          2024
         ],
         "xaxis": "x48",
         "y": [
          11.441647597254006,
          19.72925,
          2.376994183721378,
          9.412229424495422,
          28.260927600977187,
          11.54761727997013,
          11.097166571784793,
          6.1443932411674345,
          6.7400882476181625,
          0,
          0
         ],
         "yaxis": "y48"
        },
        {
         "alignmentgroup": "True",
         "hovertemplate": "owner_org=dnd-mdn<br>fiscal_year=%{x}<br>median_pct_change=%{y}<extra></extra>",
         "legendgroup": "",
         "marker": {
          "color": "#636efa",
          "pattern": {
           "shape": ""
          }
         },
         "name": "",
         "offsetgroup": "",
         "orientation": "v",
         "showlegend": false,
         "textposition": "auto",
         "type": "bar",
         "x": [
          2014,
          2015,
          2016,
          2017,
          2018,
          2019,
          2020,
          2021,
          2022,
          2023,
          2024
         ],
         "xaxis": "x37",
         "y": [
          0,
          0,
          2.304500560489744,
          12.243013135368603,
          2.3149018594006723,
          3.2095324714288442,
          6.431736251171212,
          15.723873441994247,
          9.263403476695395,
          5.786833855799381,
          1.670944847807252
         ],
         "yaxis": "y37"
        },
        {
         "alignmentgroup": "True",
         "hovertemplate": "owner_org=ec<br>fiscal_year=%{x}<br>median_pct_change=%{y}<extra></extra>",
         "legendgroup": "",
         "marker": {
          "color": "#636efa",
          "pattern": {
           "shape": ""
          }
         },
         "name": "",
         "offsetgroup": "",
         "orientation": "v",
         "showlegend": false,
         "textposition": "auto",
         "type": "bar",
         "x": [
          2014,
          2015,
          2016,
          2017,
          2018,
          2019,
          2020,
          2021,
          2022,
          2023,
          2024
         ],
         "xaxis": "x38",
         "y": [
          29.166666666666668,
          20.115559940991943,
          96.00000303623327,
          39.32195153667945,
          82.82310658097107,
          100,
          69.8717960402742,
          38.90784837936084,
          45.3233953205724,
          11.177179162370754,
          0
         ],
         "yaxis": "y38"
        },
        {
         "alignmentgroup": "True",
         "hovertemplate": "owner_org=esdc-edsc<br>fiscal_year=%{x}<br>median_pct_change=%{y}<extra></extra>",
         "legendgroup": "",
         "marker": {
          "color": "#636efa",
          "pattern": {
           "shape": ""
          }
         },
         "name": "",
         "offsetgroup": "",
         "orientation": "v",
         "showlegend": false,
         "textposition": "auto",
         "type": "bar",
         "x": [
          2014,
          2015,
          2016,
          2017,
          2018,
          2019,
          2020,
          2021,
          2022,
          2023,
          2024
         ],
         "xaxis": "x39",
         "y": [
          31.55813554136202,
          187.5000030199802,
          181.82126623370507,
          100,
          100,
          71.65455770904154,
          87.30158419781706,
          85.32485200267308,
          100,
          47.61687507563674,
          10.294117647058822
         ],
         "yaxis": "y39"
        },
        {
         "alignmentgroup": "True",
         "hovertemplate": "owner_org=feddevontario<br>fiscal_year=%{x}<br>median_pct_change=%{y}<extra></extra>",
         "legendgroup": "",
         "marker": {
          "color": "#636efa",
          "pattern": {
           "shape": ""
          }
         },
         "name": "",
         "offsetgroup": "",
         "orientation": "v",
         "showlegend": false,
         "textposition": "auto",
         "type": "bar",
         "x": [
          2014,
          2015,
          2016,
          2017,
          2018,
          2019,
          2020,
          2021,
          2022,
          2023
         ],
         "xaxis": "x40",
         "y": [
          -11.820711128131272,
          116.2720725369588,
          -35.33734312575654,
          0,
          0,
          35.45454545454545,
          173.29877876106195,
          47.544638409675834,
          230.00000000000003,
          49.23193242500204
         ],
         "yaxis": "y40"
        },
        {
         "alignmentgroup": "True",
         "hovertemplate": "owner_org=fin<br>fiscal_year=%{x}<br>median_pct_change=%{y}<extra></extra>",
         "legendgroup": "",
         "marker": {
          "color": "#636efa",
          "pattern": {
           "shape": ""
          }
         },
         "name": "",
         "offsetgroup": "",
         "orientation": "v",
         "showlegend": false,
         "textposition": "auto",
         "type": "bar",
         "x": [
          2014,
          2015,
          2016,
          2017,
          2018,
          2019,
          2020,
          2021,
          2022,
          2023,
          2024
         ],
         "xaxis": "x41",
         "y": [
          94.82758620689656,
          53.00299276615994,
          64.4894758663864,
          36.1538282867807,
          65.81427632304987,
          100,
          18.94471754253007,
          37.28634738878826,
          100.6236917193811,
          22.66666666666666,
          -2.4306290254976872
         ],
         "yaxis": "y41"
        },
        {
         "alignmentgroup": "True",
         "hovertemplate": "owner_org=hc-sc<br>fiscal_year=%{x}<br>median_pct_change=%{y}<extra></extra>",
         "legendgroup": "",
         "marker": {
          "color": "#636efa",
          "pattern": {
           "shape": ""
          }
         },
         "name": "",
         "offsetgroup": "",
         "orientation": "v",
         "showlegend": false,
         "textposition": "auto",
         "type": "bar",
         "x": [
          2014,
          2015,
          2016,
          2017,
          2018,
          2019,
          2020,
          2021,
          2022,
          2023,
          2024
         ],
         "xaxis": "x42",
         "y": [
          59.51147642816033,
          297.69618610671074,
          137.63757533114688,
          105.04241008496163,
          81.77212311562253,
          76.99115044247787,
          66.66666666666666,
          77.40449989606651,
          61.5088238177489,
          48.89705882352941,
          0
         ],
         "yaxis": "y42"
        },
        {
         "alignmentgroup": "True",
         "hovertemplate": "owner_org=iaac-aeic<br>fiscal_year=%{x}<br>median_pct_change=%{y}<extra></extra>",
         "legendgroup": "",
         "marker": {
          "color": "#636efa",
          "pattern": {
           "shape": ""
          }
         },
         "name": "",
         "offsetgroup": "",
         "orientation": "v",
         "showlegend": false,
         "textposition": "auto",
         "type": "bar",
         "x": [
          2014,
          2015,
          2016,
          2017,
          2019,
          2020,
          2021,
          2022,
          2023
         ],
         "xaxis": "x31",
         "y": [
          5.769230769230769,
          10.28530183727034,
          53.75003110604567,
          57.54046544405571,
          42.816416053044776,
          92.60751153437509,
          45.35742971887551,
          18,
          27.924159924014603
         ],
         "yaxis": "y31"
        },
        {
         "alignmentgroup": "True",
         "hovertemplate": "owner_org=isc-sac<br>fiscal_year=%{x}<br>median_pct_change=%{y}<extra></extra>",
         "legendgroup": "",
         "marker": {
          "color": "#636efa",
          "pattern": {
           "shape": ""
          }
         },
         "name": "",
         "offsetgroup": "",
         "orientation": "v",
         "showlegend": false,
         "textposition": "auto",
         "type": "bar",
         "x": [
          2014,
          2015,
          2016,
          2017,
          2018,
          2019,
          2020,
          2021,
          2022,
          2023,
          2024
         ],
         "xaxis": "x32",
         "y": [
          -30.13500007783125,
          -83.87715961848062,
          202.7681049709816,
          34.32947817279835,
          48.36903163462517,
          50,
          79.0526203304787,
          55.44306382964997,
          48.76801934417331,
          0,
          0
         ],
         "yaxis": "y32"
        },
        {
         "alignmentgroup": "True",
         "hovertemplate": "owner_org=nrc-cnrc<br>fiscal_year=%{x}<br>median_pct_change=%{y}<extra></extra>",
         "legendgroup": "",
         "marker": {
          "color": "#636efa",
          "pattern": {
           "shape": ""
          }
         },
         "name": "",
         "offsetgroup": "",
         "orientation": "v",
         "showlegend": false,
         "textposition": "auto",
         "type": "bar",
         "x": [
          2014,
          2015,
          2016,
          2017,
          2018,
          2019,
          2020,
          2021,
          2022,
          2023,
          2024
         ],
         "xaxis": "x33",
         "y": [
          80.45238095238095,
          51.394612600807065,
          30.412482075339057,
          13.539415677917297,
          24.243591815423844,
          19.881753792139524,
          6.602870408117502,
          20.660122301821417,
          16.660412576640798,
          13.905144710107544,
          0
         ],
         "yaxis": "y33"
        },
        {
         "alignmentgroup": "True",
         "hovertemplate": "owner_org=nrcan-rncan<br>fiscal_year=%{x}<br>median_pct_change=%{y}<extra></extra>",
         "legendgroup": "",
         "marker": {
          "color": "#636efa",
          "pattern": {
           "shape": ""
          }
         },
         "name": "",
         "offsetgroup": "",
         "orientation": "v",
         "showlegend": false,
         "textposition": "auto",
         "type": "bar",
         "x": [
          2014,
          2015,
          2016,
          2017,
          2018,
          2019,
          2020,
          2021,
          2022,
          2023,
          2024
         ],
         "xaxis": "x34",
         "y": [
          72.60612861613002,
          95.37009629256436,
          56.66663607540781,
          56.21056726537359,
          50,
          45.20006309491981,
          54.54545454545454,
          68.97235424076239,
          50,
          28.867606076973136,
          0
         ],
         "yaxis": "y34"
        },
        {
         "alignmentgroup": "True",
         "hovertemplate": "owner_org=pbc-clcc<br>fiscal_year=%{x}<br>median_pct_change=%{y}<extra></extra>",
         "legendgroup": "",
         "marker": {
          "color": "#636efa",
          "pattern": {
           "shape": ""
          }
         },
         "name": "",
         "offsetgroup": "",
         "orientation": "v",
         "showlegend": false,
         "textposition": "auto",
         "type": "bar",
         "x": [
          2014,
          2016,
          2018,
          2019,
          2020,
          2021,
          2022,
          2023
         ],
         "xaxis": "x35",
         "y": [
          0,
          7.300011257458072,
          14.0373281022412,
          -71.65051124744376,
          43.75,
          76.69360868332174,
          120,
          75.7051282051282
         ],
         "yaxis": "y35"
        },
        {
         "alignmentgroup": "True",
         "hovertemplate": "owner_org=pc<br>fiscal_year=%{x}<br>median_pct_change=%{y}<extra></extra>",
         "legendgroup": "",
         "marker": {
          "color": "#636efa",
          "pattern": {
           "shape": ""
          }
         },
         "name": "",
         "offsetgroup": "",
         "orientation": "v",
         "showlegend": false,
         "textposition": "auto",
         "type": "bar",
         "x": [
          2014,
          2015,
          2016,
          2017,
          2018,
          2019,
          2020,
          2021,
          2022,
          2023,
          2024
         ],
         "xaxis": "x36",
         "y": [
          50.38759689922482,
          34.99999130245705,
          32.443134038061544,
          26.000341940470847,
          34.76306696517081,
          23.722627737226276,
          36.60920151593773,
          46.06703160023145,
          48.446509919761084,
          44.85362946363884,
          29.66714633743854
         ],
         "yaxis": "y36"
        },
        {
         "alignmentgroup": "True",
         "hovertemplate": "owner_org=pch<br>fiscal_year=%{x}<br>median_pct_change=%{y}<extra></extra>",
         "legendgroup": "",
         "marker": {
          "color": "#636efa",
          "pattern": {
           "shape": ""
          }
         },
         "name": "",
         "offsetgroup": "",
         "orientation": "v",
         "showlegend": false,
         "textposition": "auto",
         "type": "bar",
         "x": [
          2014,
          2015,
          2016,
          2017,
          2018,
          2019,
          2020,
          2021,
          2022,
          2023,
          2024
         ],
         "xaxis": "x25",
         "y": [
          78.91723060905778,
          93.79424778761062,
          73.50831709449446,
          93.68789683761432,
          94.23209005701156,
          82.16984562279426,
          100,
          95.3488372093023,
          74.62095149131433,
          37.34114759308136,
          14.076212220047832
         ],
         "yaxis": "y25"
        },
        {
         "alignmentgroup": "True",
         "hovertemplate": "owner_org=pco-bcp<br>fiscal_year=%{x}<br>median_pct_change=%{y}<extra></extra>",
         "legendgroup": "",
         "marker": {
          "color": "#636efa",
          "pattern": {
           "shape": ""
          }
         },
         "name": "",
         "offsetgroup": "",
         "orientation": "v",
         "showlegend": false,
         "textposition": "auto",
         "type": "bar",
         "x": [
          2014,
          2015,
          2016,
          2017,
          2018,
          2019,
          2020,
          2021,
          2022,
          2023,
          2024
         ],
         "xaxis": "x26",
         "y": [
          40.83774741523768,
          115.65601549261679,
          374.5164292891276,
          51.42857142857142,
          59.70690055818513,
          100,
          63.306502769662266,
          100.57904834769748,
          70.5185680446595,
          51.21527777777778,
          143.2603406326034
         ],
         "yaxis": "y26"
        },
        {
         "alignmentgroup": "True",
         "hovertemplate": "owner_org=phac-aspc<br>fiscal_year=%{x}<br>median_pct_change=%{y}<extra></extra>",
         "legendgroup": "",
         "marker": {
          "color": "#636efa",
          "pattern": {
           "shape": ""
          }
         },
         "name": "",
         "offsetgroup": "",
         "orientation": "v",
         "showlegend": false,
         "textposition": "auto",
         "type": "bar",
         "x": [
          2014,
          2015,
          2016,
          2017,
          2018,
          2019,
          2020,
          2021,
          2022,
          2023,
          2024
         ],
         "xaxis": "x27",
         "y": [
          108.7750798226545,
          396.5960655186038,
          316.43323397905806,
          176.7755625178012,
          123.26713747984667,
          89.85713926239663,
          70.7138903691814,
          99.99998237045457,
          99.90008838685412,
          49.37346966016496,
          0
         ],
         "yaxis": "y27"
        },
        {
         "alignmentgroup": "True",
         "hovertemplate": "owner_org=ppsc-sppc<br>fiscal_year=%{x}<br>median_pct_change=%{y}<extra></extra>",
         "legendgroup": "",
         "marker": {
          "color": "#636efa",
          "pattern": {
           "shape": ""
          }
         },
         "name": "",
         "offsetgroup": "",
         "orientation": "v",
         "showlegend": false,
         "textposition": "auto",
         "type": "bar",
         "x": [
          2014,
          2015,
          2016,
          2017,
          2018,
          2019,
          2020,
          2021,
          2022,
          2023
         ],
         "xaxis": "x28",
         "y": [
          275.2459475419225,
          614.301938144271,
          431.08512426169943,
          347.1986417657046,
          94.7201103781879,
          260.05773385031847,
          70.53764744105531,
          99.50691846850955,
          71.42859139336885,
          0
         ],
         "yaxis": "y28"
        },
        {
         "alignmentgroup": "True",
         "hovertemplate": "owner_org=psc-cfp<br>fiscal_year=%{x}<br>median_pct_change=%{y}<extra></extra>",
         "legendgroup": "",
         "marker": {
          "color": "#636efa",
          "pattern": {
           "shape": ""
          }
         },
         "name": "",
         "offsetgroup": "",
         "orientation": "v",
         "showlegend": false,
         "textposition": "auto",
         "type": "bar",
         "x": [
          2014,
          2015,
          2016,
          2017,
          2018,
          2019,
          2020,
          2021,
          2022,
          2023
         ],
         "xaxis": "x29",
         "y": [
          -1.5846823951656788,
          42.1929376638171,
          35.916595921832794,
          216.34615384615384,
          175.09851864529116,
          100,
          99.06886329940352,
          124.62395992559081,
          70.65121994031946,
          0
         ],
         "yaxis": "y29"
        },
        {
         "alignmentgroup": "True",
         "hovertemplate": "owner_org=pwgsc-tpsgc<br>fiscal_year=%{x}<br>median_pct_change=%{y}<extra></extra>",
         "legendgroup": "",
         "marker": {
          "color": "#636efa",
          "pattern": {
           "shape": ""
          }
         },
         "name": "",
         "offsetgroup": "",
         "orientation": "v",
         "showlegend": false,
         "textposition": "auto",
         "type": "bar",
         "x": [
          2014,
          2015,
          2016,
          2017,
          2018,
          2019,
          2020,
          2021,
          2022,
          2023,
          2024
         ],
         "xaxis": "x30",
         "y": [
          109.61212598410111,
          15.568512239364203,
          26.046947778308745,
          46.511172337180646,
          32.81295002919424,
          28.73422870974207,
          38.13977629592596,
          45.35022509282395,
          21.80988100861338,
          19.765366638724092,
          0
         ],
         "yaxis": "y30"
        },
        {
         "alignmentgroup": "True",
         "hovertemplate": "owner_org=rcmp-grc<br>fiscal_year=%{x}<br>median_pct_change=%{y}<extra></extra>",
         "legendgroup": "",
         "marker": {
          "color": "#636efa",
          "pattern": {
           "shape": ""
          }
         },
         "name": "",
         "offsetgroup": "",
         "orientation": "v",
         "showlegend": false,
         "textposition": "auto",
         "type": "bar",
         "x": [
          2014,
          2015,
          2016,
          2017,
          2018,
          2019,
          2020,
          2021,
          2022,
          2023,
          2024
         ],
         "xaxis": "x19",
         "y": [
          77.0193774830454,
          152.01042523454876,
          178.7110259340875,
          110.53232627950041,
          99.39787148594378,
          56.35319454414932,
          58.566230467634625,
          35.19165710069697,
          35.50704288288113,
          0,
          0
         ],
         "yaxis": "y19"
        },
        {
         "alignmentgroup": "True",
         "hovertemplate": "owner_org=ssc-spc<br>fiscal_year=%{x}<br>median_pct_change=%{y}<extra></extra>",
         "legendgroup": "",
         "marker": {
          "color": "#636efa",
          "pattern": {
           "shape": ""
          }
         },
         "name": "",
         "offsetgroup": "",
         "orientation": "v",
         "showlegend": false,
         "textposition": "auto",
         "type": "bar",
         "x": [
          2014,
          2015,
          2016,
          2017,
          2018,
          2019,
          2020,
          2021,
          2022,
          2023,
          2024
         ],
         "xaxis": "x20",
         "y": [
          207.71382546423484,
          181.0510021043363,
          170.28540788520885,
          110.25,
          76.55019685366095,
          51.1979833735586,
          49.99999159844748,
          44.541485019700715,
          98.32940431301296,
          22.444444444444443,
          4.330850546244212
         ],
         "yaxis": "y20"
        },
        {
         "alignmentgroup": "True",
         "hovertemplate": "owner_org=sshrc-crsh<br>fiscal_year=%{x}<br>median_pct_change=%{y}<extra></extra>",
         "legendgroup": "",
         "marker": {
          "color": "#636efa",
          "pattern": {
           "shape": ""
          }
         },
         "name": "",
         "offsetgroup": "",
         "orientation": "v",
         "showlegend": false,
         "textposition": "auto",
         "type": "bar",
         "x": [
          2014,
          2017,
          2018,
          2019,
          2020,
          2021,
          2022,
          2023
         ],
         "xaxis": "x21",
         "y": [
          90.7296693060084,
          160,
          35.27320018916657,
          0,
          19.483308124459803,
          -7.662238938053099,
          -60.64473524701559,
          0
         ],
         "yaxis": "y21"
        },
        {
         "alignmentgroup": "True",
         "hovertemplate": "owner_org=tbs-sct<br>fiscal_year=%{x}<br>median_pct_change=%{y}<extra></extra>",
         "legendgroup": "",
         "marker": {
          "color": "#636efa",
          "pattern": {
           "shape": ""
          }
         },
         "name": "",
         "offsetgroup": "",
         "orientation": "v",
         "showlegend": false,
         "textposition": "auto",
         "type": "bar",
         "x": [
          2014,
          2015,
          2016,
          2017,
          2018,
          2019,
          2020,
          2021,
          2022,
          2023,
          2024
         ],
         "xaxis": "x22",
         "y": [
          100,
          22.77803400702821,
          48.18181318020263,
          0,
          44.73435660254292,
          53.84615384615385,
          45.43181818181817,
          50,
          75.55555555555556,
          93.01581545614059,
          15.000000000000002
         ],
         "yaxis": "y22"
        },
        {
         "alignmentgroup": "True",
         "hovertemplate": "owner_org=tc<br>fiscal_year=%{x}<br>median_pct_change=%{y}<extra></extra>",
         "legendgroup": "",
         "marker": {
          "color": "#636efa",
          "pattern": {
           "shape": ""
          }
         },
         "name": "",
         "offsetgroup": "",
         "orientation": "v",
         "showlegend": false,
         "textposition": "auto",
         "type": "bar",
         "x": [
          2014,
          2015,
          2016,
          2017,
          2018,
          2019,
          2020,
          2021,
          2022,
          2023,
          2024
         ],
         "xaxis": "x23",
         "y": [
          75.78681399334846,
          85.84071406330563,
          74.3363341434081,
          81.57892197222776,
          72.37772780246844,
          25,
          78.33333333333333,
          100,
          0,
          88.86302575345928,
          0
         ],
         "yaxis": "y23"
        },
        {
         "alignmentgroup": "True",
         "hovertemplate": "owner_org=vac-acc<br>fiscal_year=%{x}<br>median_pct_change=%{y}<extra></extra>",
         "legendgroup": "",
         "marker": {
          "color": "#636efa",
          "pattern": {
           "shape": ""
          }
         },
         "name": "",
         "offsetgroup": "",
         "orientation": "v",
         "showlegend": false,
         "textposition": "auto",
         "type": "bar",
         "x": [
          2014,
          2015,
          2016,
          2017,
          2018,
          2019,
          2020,
          2021,
          2022,
          2023,
          2024
         ],
         "xaxis": "x24",
         "y": [
          11.964552788074368,
          2.3628692195636716,
          2.2137827399479244,
          86.43564356435644,
          47.058854955225435,
          43.24406342462635,
          1.23400365630713,
          4.564584349724576,
          7.929226070246493,
          3.4178686171303574,
          14.54911840381525
         ],
         "yaxis": "y24"
        },
        {
         "alignmentgroup": "True",
         "hovertemplate": "owner_org=atssc-scdata<br>fiscal_year=%{x}<br>median_pct_change=%{y}<extra></extra>",
         "legendgroup": "",
         "marker": {
          "color": "#636efa",
          "pattern": {
           "shape": ""
          }
         },
         "name": "",
         "offsetgroup": "",
         "orientation": "v",
         "showlegend": false,
         "textposition": "auto",
         "type": "bar",
         "x": [
          2015,
          2017,
          2018,
          2019,
          2020,
          2021,
          2022,
          2023,
          2024
         ],
         "xaxis": "x13",
         "y": [
          1735.9351371681414,
          74.97613406096355,
          58.60855442694056,
          71.11110108639143,
          50,
          90,
          43.4577869452392,
          100,
          0
         ],
         "yaxis": "y13"
        },
        {
         "alignmentgroup": "True",
         "hovertemplate": "owner_org=cas-satj<br>fiscal_year=%{x}<br>median_pct_change=%{y}<extra></extra>",
         "legendgroup": "",
         "marker": {
          "color": "#636efa",
          "pattern": {
           "shape": ""
          }
         },
         "name": "",
         "offsetgroup": "",
         "orientation": "v",
         "showlegend": false,
         "textposition": "auto",
         "type": "bar",
         "x": [
          2015,
          2016,
          2017,
          2018,
          2019,
          2020,
          2021,
          2022,
          2023
         ],
         "xaxis": "x14",
         "y": [
          110.04987991871423,
          -1.800720288115246,
          94.01685654499599,
          83.4700832122573,
          47.335005789270554,
          60,
          72.80375769562028,
          0,
          0
         ],
         "yaxis": "y14"
        },
        {
         "alignmentgroup": "True",
         "hovertemplate": "owner_org=chrc-ccdp<br>fiscal_year=%{x}<br>median_pct_change=%{y}<extra></extra>",
         "legendgroup": "",
         "marker": {
          "color": "#636efa",
          "pattern": {
           "shape": ""
          }
         },
         "name": "",
         "offsetgroup": "",
         "orientation": "v",
         "showlegend": false,
         "textposition": "auto",
         "type": "bar",
         "x": [
          2015,
          2016,
          2018,
          2019,
          2020,
          2021,
          2022,
          2023,
          2024
         ],
         "xaxis": "x15",
         "y": [
          94.89696349557522,
          295.5,
          33.594214698146054,
          200,
          75.49206923514501,
          61.53846153846154,
          44.96216204285591,
          49.99998546075028,
          31.3953488372093
         ],
         "yaxis": "y15"
        },
        {
         "alignmentgroup": "True",
         "hovertemplate": "owner_org=csa-asc<br>fiscal_year=%{x}<br>median_pct_change=%{y}<extra></extra>",
         "legendgroup": "",
         "marker": {
          "color": "#636efa",
          "pattern": {
           "shape": ""
          }
         },
         "name": "",
         "offsetgroup": "",
         "orientation": "v",
         "showlegend": false,
         "textposition": "auto",
         "type": "bar",
         "x": [
          2015,
          2016,
          2017,
          2018,
          2019,
          2020,
          2021,
          2022,
          2023
         ],
         "xaxis": "x16",
         "y": [
          270.68948292671973,
          57.44518573749631,
          134.51586373819922,
          79.06978103095314,
          79.20463343090837,
          92.04887218991746,
          98.5,
          79.50029620174216,
          80.80113328318811
         ],
         "yaxis": "y16"
        },
        {
         "alignmentgroup": "True",
         "hovertemplate": "owner_org=csps-efpc<br>fiscal_year=%{x}<br>median_pct_change=%{y}<extra></extra>",
         "legendgroup": "",
         "marker": {
          "color": "#636efa",
          "pattern": {
           "shape": ""
          }
         },
         "name": "",
         "offsetgroup": "",
         "orientation": "v",
         "showlegend": false,
         "textposition": "auto",
         "type": "bar",
         "x": [
          2015,
          2017,
          2018,
          2019,
          2020,
          2021,
          2022,
          2023
         ],
         "xaxis": "x17",
         "y": [
          2.1404520136702123,
          45.604488479125806,
          174.9999449243856,
          101.15829804563262,
          100,
          43.23076923076923,
          86.98292082749211,
          95.8
         ],
         "yaxis": "y17"
        },
        {
         "alignmentgroup": "True",
         "hovertemplate": "owner_org=elections<br>fiscal_year=%{x}<br>median_pct_change=%{y}<extra></extra>",
         "legendgroup": "",
         "marker": {
          "color": "#636efa",
          "pattern": {
           "shape": ""
          }
         },
         "name": "",
         "offsetgroup": "",
         "orientation": "v",
         "showlegend": false,
         "textposition": "auto",
         "type": "bar",
         "x": [
          2015,
          2017,
          2018,
          2019,
          2020,
          2021,
          2022,
          2023
         ],
         "xaxis": "x18",
         "y": [
          327.5309204312629,
          206.1696657331321,
          106.01958328512153,
          57.92407716118413,
          100,
          40,
          51.451984824196956,
          100.00005096797094
         ],
         "yaxis": "y18"
        },
        {
         "alignmentgroup": "True",
         "hovertemplate": "owner_org=infc<br>fiscal_year=%{x}<br>median_pct_change=%{y}<extra></extra>",
         "legendgroup": "",
         "marker": {
          "color": "#636efa",
          "pattern": {
           "shape": ""
          }
         },
         "name": "",
         "offsetgroup": "",
         "orientation": "v",
         "showlegend": false,
         "textposition": "auto",
         "type": "bar",
         "x": [
          2015,
          2017,
          2018,
          2019,
          2020,
          2021,
          2022,
          2023
         ],
         "xaxis": "x7",
         "y": [
          16.232153635519257,
          83.33333333333334,
          131.29976677728615,
          101.74778562730312,
          200.18212033536423,
          185.7142857142857,
          142.22222222222223,
          44.230068461619794
         ],
         "yaxis": "y7"
        },
        {
         "alignmentgroup": "True",
         "hovertemplate": "owner_org=jus<br>fiscal_year=%{x}<br>median_pct_change=%{y}<extra></extra>",
         "legendgroup": "",
         "marker": {
          "color": "#636efa",
          "pattern": {
           "shape": ""
          }
         },
         "name": "",
         "offsetgroup": "",
         "orientation": "v",
         "showlegend": false,
         "textposition": "auto",
         "type": "bar",
         "x": [
          2015,
          2016,
          2017,
          2018,
          2019,
          2020,
          2021,
          2022,
          2023,
          2024
         ],
         "xaxis": "x8",
         "y": [
          429.9945163186174,
          392.85651974638,
          300.2712219529138,
          167.2939339362654,
          99.5959040003324,
          66.66666666666666,
          50.427350427350426,
          42.857142857142854,
          28.54853766706936,
          47.74707230585615
         ],
         "yaxis": "y8"
        },
        {
         "alignmentgroup": "True",
         "hovertemplate": "owner_org=oag-bvg<br>fiscal_year=%{x}<br>median_pct_change=%{y}<extra></extra>",
         "legendgroup": "",
         "marker": {
          "color": "#636efa",
          "pattern": {
           "shape": ""
          }
         },
         "name": "",
         "offsetgroup": "",
         "orientation": "v",
         "showlegend": false,
         "textposition": "auto",
         "type": "bar",
         "x": [
          2015,
          2017,
          2018,
          2019,
          2020,
          2021,
          2022,
          2023,
          2024
         ],
         "xaxis": "x9",
         "y": [
          79.45035760545136,
          135.2941176470588,
          100,
          100,
          73.48831856584768,
          50,
          90.95283926852743,
          20.255782688131262,
          0
         ],
         "yaxis": "y9"
        },
        {
         "alignmentgroup": "True",
         "hovertemplate": "owner_org=osfi-bsif<br>fiscal_year=%{x}<br>median_pct_change=%{y}<extra></extra>",
         "legendgroup": "",
         "marker": {
          "color": "#636efa",
          "pattern": {
           "shape": ""
          }
         },
         "name": "",
         "offsetgroup": "",
         "orientation": "v",
         "showlegend": false,
         "textposition": "auto",
         "type": "bar",
         "x": [
          2015,
          2016,
          2017,
          2018,
          2019,
          2020,
          2021,
          2022,
          2023,
          2024
         ],
         "xaxis": "x10",
         "y": [
          1257.1577942842205,
          342.46000000000004,
          145.066726645674,
          111.41261857394353,
          163.75,
          31.07344632768362,
          95.55302553112641,
          157.2222222222222,
          90.60094558314319,
          666.817822181914
         ],
         "yaxis": "y10"
        },
        {
         "alignmentgroup": "True",
         "hovertemplate": "owner_org=osgg-bsgg<br>fiscal_year=%{x}<br>median_pct_change=%{y}<extra></extra>",
         "legendgroup": "",
         "marker": {
          "color": "#636efa",
          "pattern": {
           "shape": ""
          }
         },
         "name": "",
         "offsetgroup": "",
         "orientation": "v",
         "showlegend": false,
         "textposition": "auto",
         "type": "bar",
         "x": [
          2015,
          2016,
          2017,
          2018,
          2019,
          2020,
          2021,
          2022,
          2023
         ],
         "xaxis": "x11",
         "y": [
          0,
          102.40963855421687,
          20,
          0,
          12.34855151148227,
          0,
          -26.629891838741393,
          0,
          0
         ],
         "yaxis": "y11"
        },
        {
         "alignmentgroup": "True",
         "hovertemplate": "owner_org=cer-rec<br>fiscal_year=%{x}<br>median_pct_change=%{y}<extra></extra>",
         "legendgroup": "",
         "marker": {
          "color": "#636efa",
          "pattern": {
           "shape": ""
          }
         },
         "name": "",
         "offsetgroup": "",
         "orientation": "v",
         "showlegend": false,
         "textposition": "auto",
         "type": "bar",
         "x": [
          2016,
          2017,
          2018,
          2019,
          2020,
          2021,
          2022,
          2023,
          2024
         ],
         "xaxis": "x12",
         "y": [
          33.06122448979592,
          58.730158730158735,
          71.80532094594594,
          56.06412112508035,
          66.50574063617542,
          79.22437405335847,
          27.853641880693548,
          0,
          0
         ],
         "yaxis": "y12"
        },
        {
         "alignmentgroup": "True",
         "hovertemplate": "owner_org=cta-otc<br>fiscal_year=%{x}<br>median_pct_change=%{y}<extra></extra>",
         "legendgroup": "",
         "marker": {
          "color": "#636efa",
          "pattern": {
           "shape": ""
          }
         },
         "name": "",
         "offsetgroup": "",
         "orientation": "v",
         "showlegend": false,
         "textposition": "auto",
         "type": "bar",
         "x": [
          2016,
          2017,
          2018,
          2019,
          2020,
          2021,
          2022,
          2023
         ],
         "xaxis": "x",
         "y": [
          254.3522682413198,
          80.53074391833712,
          54.51286691012241,
          56.15581287832361,
          -0.889818555563596,
          67.4074074074074,
          1.6540416648834715,
          1.7477100215633312
         ],
         "yaxis": "y"
        },
        {
         "alignmentgroup": "True",
         "hovertemplate": "owner_org=lac-bac<br>fiscal_year=%{x}<br>median_pct_change=%{y}<extra></extra>",
         "legendgroup": "",
         "marker": {
          "color": "#636efa",
          "pattern": {
           "shape": ""
          }
         },
         "name": "",
         "offsetgroup": "",
         "orientation": "v",
         "showlegend": false,
         "textposition": "auto",
         "type": "bar",
         "x": [
          2016,
          2017,
          2018,
          2019,
          2020,
          2021,
          2022,
          2023,
          2024
         ],
         "xaxis": "x2",
         "y": [
          143.94428214366866,
          138.8306615479716,
          32.310472373495564,
          53.205109932985835,
          0,
          2.5974025974025974,
          54.21834360348373,
          25.833333333333336,
          6.474808100799044
         ],
         "yaxis": "y2"
        },
        {
         "alignmentgroup": "True",
         "hovertemplate": "owner_org=nserc-crsng<br>fiscal_year=%{x}<br>median_pct_change=%{y}<extra></extra>",
         "legendgroup": "",
         "marker": {
          "color": "#636efa",
          "pattern": {
           "shape": ""
          }
         },
         "name": "",
         "offsetgroup": "",
         "orientation": "v",
         "showlegend": false,
         "textposition": "auto",
         "type": "bar",
         "x": [
          2016,
          2017,
          2018,
          2019,
          2020,
          2021,
          2022,
          2023
         ],
         "xaxis": "x3",
         "y": [
          106.64858732741857,
          71.33785082174462,
          169.49921595884265,
          0,
          20.64516129032258,
          -30.34308859703513,
          90.87250587425841,
          0
         ],
         "yaxis": "y3"
        },
        {
         "alignmentgroup": "True",
         "hovertemplate": "owner_org=ic<br>fiscal_year=%{x}<br>median_pct_change=%{y}<extra></extra>",
         "legendgroup": "",
         "marker": {
          "color": "#636efa",
          "pattern": {
           "shape": ""
          }
         },
         "name": "",
         "offsetgroup": "",
         "orientation": "v",
         "showlegend": false,
         "textposition": "auto",
         "type": "bar",
         "x": [
          2017,
          2018,
          2019,
          2020,
          2021,
          2022,
          2023,
          2024
         ],
         "xaxis": "x4",
         "y": [
          199.30080399919677,
          156.25000000000006,
          100,
          104.83870967741933,
          82.75862068965517,
          90.59833086770863,
          49.84550264550264,
          0
         ],
         "yaxis": "y4"
        }
       ],
       "layout": {
        "annotations": [
         {
          "font": {},
          "showarrow": false,
          "text": "owner_org=cta-otc",
          "x": 0.075,
          "xanchor": "center",
          "xref": "paper",
          "y": 0.09955555555555555,
          "yanchor": "bottom",
          "yref": "paper"
         },
         {
          "font": {},
          "showarrow": false,
          "text": "owner_org=lac-bac",
          "x": 0.24499999999999997,
          "xanchor": "center",
          "xref": "paper",
          "y": 0.09955555555555555,
          "yanchor": "bottom",
          "yref": "paper"
         },
         {
          "font": {},
          "showarrow": false,
          "text": "owner_org=nserc-crsng",
          "x": 0.415,
          "xanchor": "center",
          "xref": "paper",
          "y": 0.09955555555555555,
          "yanchor": "bottom",
          "yref": "paper"
         },
         {
          "font": {},
          "showarrow": false,
          "text": "owner_org=ic",
          "x": 0.585,
          "xanchor": "center",
          "xref": "paper",
          "y": 0.09955555555555555,
          "yanchor": "bottom",
          "yref": "paper"
         },
         {
          "font": {},
          "showarrow": false,
          "text": "owner_org=infc",
          "x": 0.075,
          "xanchor": "center",
          "xref": "paper",
          "y": 0.21211111111111108,
          "yanchor": "bottom",
          "yref": "paper"
         },
         {
          "font": {},
          "showarrow": false,
          "text": "owner_org=jus",
          "x": 0.24499999999999997,
          "xanchor": "center",
          "xref": "paper",
          "y": 0.21211111111111108,
          "yanchor": "bottom",
          "yref": "paper"
         },
         {
          "font": {},
          "showarrow": false,
          "text": "owner_org=oag-bvg",
          "x": 0.415,
          "xanchor": "center",
          "xref": "paper",
          "y": 0.21211111111111108,
          "yanchor": "bottom",
          "yref": "paper"
         },
         {
          "font": {},
          "showarrow": false,
          "text": "owner_org=osfi-bsif",
          "x": 0.585,
          "xanchor": "center",
          "xref": "paper",
          "y": 0.21211111111111108,
          "yanchor": "bottom",
          "yref": "paper"
         },
         {
          "font": {},
          "showarrow": false,
          "text": "owner_org=osgg-bsgg",
          "x": 0.7549999999999999,
          "xanchor": "center",
          "xref": "paper",
          "y": 0.21211111111111108,
          "yanchor": "bottom",
          "yref": "paper"
         },
         {
          "font": {},
          "showarrow": false,
          "text": "owner_org=cer-rec",
          "x": 0.925,
          "xanchor": "center",
          "xref": "paper",
          "y": 0.21211111111111108,
          "yanchor": "bottom",
          "yref": "paper"
         },
         {
          "font": {},
          "showarrow": false,
          "text": "owner_org=atssc-scdata",
          "x": 0.075,
          "xanchor": "center",
          "xref": "paper",
          "y": 0.32466666666666666,
          "yanchor": "bottom",
          "yref": "paper"
         },
         {
          "font": {},
          "showarrow": false,
          "text": "owner_org=cas-satj",
          "x": 0.24499999999999997,
          "xanchor": "center",
          "xref": "paper",
          "y": 0.32466666666666666,
          "yanchor": "bottom",
          "yref": "paper"
         },
         {
          "font": {},
          "showarrow": false,
          "text": "owner_org=chrc-ccdp",
          "x": 0.415,
          "xanchor": "center",
          "xref": "paper",
          "y": 0.32466666666666666,
          "yanchor": "bottom",
          "yref": "paper"
         },
         {
          "font": {},
          "showarrow": false,
          "text": "owner_org=csa-asc",
          "x": 0.585,
          "xanchor": "center",
          "xref": "paper",
          "y": 0.32466666666666666,
          "yanchor": "bottom",
          "yref": "paper"
         },
         {
          "font": {},
          "showarrow": false,
          "text": "owner_org=csps-efpc",
          "x": 0.7549999999999999,
          "xanchor": "center",
          "xref": "paper",
          "y": 0.32466666666666666,
          "yanchor": "bottom",
          "yref": "paper"
         },
         {
          "font": {},
          "showarrow": false,
          "text": "owner_org=elections",
          "x": 0.925,
          "xanchor": "center",
          "xref": "paper",
          "y": 0.32466666666666666,
          "yanchor": "bottom",
          "yref": "paper"
         },
         {
          "font": {},
          "showarrow": false,
          "text": "owner_org=rcmp-grc",
          "x": 0.075,
          "xanchor": "center",
          "xref": "paper",
          "y": 0.4372222222222222,
          "yanchor": "bottom",
          "yref": "paper"
         },
         {
          "font": {},
          "showarrow": false,
          "text": "owner_org=ssc-spc",
          "x": 0.24499999999999997,
          "xanchor": "center",
          "xref": "paper",
          "y": 0.4372222222222222,
          "yanchor": "bottom",
          "yref": "paper"
         },
         {
          "font": {},
          "showarrow": false,
          "text": "owner_org=sshrc-crsh",
          "x": 0.415,
          "xanchor": "center",
          "xref": "paper",
          "y": 0.4372222222222222,
          "yanchor": "bottom",
          "yref": "paper"
         },
         {
          "font": {},
          "showarrow": false,
          "text": "owner_org=tbs-sct",
          "x": 0.585,
          "xanchor": "center",
          "xref": "paper",
          "y": 0.4372222222222222,
          "yanchor": "bottom",
          "yref": "paper"
         },
         {
          "font": {},
          "showarrow": false,
          "text": "owner_org=tc",
          "x": 0.7549999999999999,
          "xanchor": "center",
          "xref": "paper",
          "y": 0.4372222222222222,
          "yanchor": "bottom",
          "yref": "paper"
         },
         {
          "font": {},
          "showarrow": false,
          "text": "owner_org=vac-acc",
          "x": 0.925,
          "xanchor": "center",
          "xref": "paper",
          "y": 0.4372222222222222,
          "yanchor": "bottom",
          "yref": "paper"
         },
         {
          "font": {},
          "showarrow": false,
          "text": "owner_org=pch",
          "x": 0.075,
          "xanchor": "center",
          "xref": "paper",
          "y": 0.5497777777777777,
          "yanchor": "bottom",
          "yref": "paper"
         },
         {
          "font": {},
          "showarrow": false,
          "text": "owner_org=pco-bcp",
          "x": 0.24499999999999997,
          "xanchor": "center",
          "xref": "paper",
          "y": 0.5497777777777777,
          "yanchor": "bottom",
          "yref": "paper"
         },
         {
          "font": {},
          "showarrow": false,
          "text": "owner_org=phac-aspc",
          "x": 0.415,
          "xanchor": "center",
          "xref": "paper",
          "y": 0.5497777777777777,
          "yanchor": "bottom",
          "yref": "paper"
         },
         {
          "font": {},
          "showarrow": false,
          "text": "owner_org=ppsc-sppc",
          "x": 0.585,
          "xanchor": "center",
          "xref": "paper",
          "y": 0.5497777777777777,
          "yanchor": "bottom",
          "yref": "paper"
         },
         {
          "font": {},
          "showarrow": false,
          "text": "owner_org=psc-cfp",
          "x": 0.7549999999999999,
          "xanchor": "center",
          "xref": "paper",
          "y": 0.5497777777777777,
          "yanchor": "bottom",
          "yref": "paper"
         },
         {
          "font": {},
          "showarrow": false,
          "text": "owner_org=pwgsc-tpsgc",
          "x": 0.925,
          "xanchor": "center",
          "xref": "paper",
          "y": 0.5497777777777777,
          "yanchor": "bottom",
          "yref": "paper"
         },
         {
          "font": {},
          "showarrow": false,
          "text": "owner_org=iaac-aeic",
          "x": 0.075,
          "xanchor": "center",
          "xref": "paper",
          "y": 0.6623333333333333,
          "yanchor": "bottom",
          "yref": "paper"
         },
         {
          "font": {},
          "showarrow": false,
          "text": "owner_org=isc-sac",
          "x": 0.24499999999999997,
          "xanchor": "center",
          "xref": "paper",
          "y": 0.6623333333333333,
          "yanchor": "bottom",
          "yref": "paper"
         },
         {
          "font": {},
          "showarrow": false,
          "text": "owner_org=nrc-cnrc",
          "x": 0.415,
          "xanchor": "center",
          "xref": "paper",
          "y": 0.6623333333333333,
          "yanchor": "bottom",
          "yref": "paper"
         },
         {
          "font": {},
          "showarrow": false,
          "text": "owner_org=nrcan-rncan",
          "x": 0.585,
          "xanchor": "center",
          "xref": "paper",
          "y": 0.6623333333333333,
          "yanchor": "bottom",
          "yref": "paper"
         },
         {
          "font": {},
          "showarrow": false,
          "text": "owner_org=pbc-clcc",
          "x": 0.7549999999999999,
          "xanchor": "center",
          "xref": "paper",
          "y": 0.6623333333333333,
          "yanchor": "bottom",
          "yref": "paper"
         },
         {
          "font": {},
          "showarrow": false,
          "text": "owner_org=pc",
          "x": 0.925,
          "xanchor": "center",
          "xref": "paper",
          "y": 0.6623333333333333,
          "yanchor": "bottom",
          "yref": "paper"
         },
         {
          "font": {},
          "showarrow": false,
          "text": "owner_org=dnd-mdn",
          "x": 0.075,
          "xanchor": "center",
          "xref": "paper",
          "y": 0.7748888888888887,
          "yanchor": "bottom",
          "yref": "paper"
         },
         {
          "font": {},
          "showarrow": false,
          "text": "owner_org=ec",
          "x": 0.24499999999999997,
          "xanchor": "center",
          "xref": "paper",
          "y": 0.7748888888888887,
          "yanchor": "bottom",
          "yref": "paper"
         },
         {
          "font": {},
          "showarrow": false,
          "text": "owner_org=esdc-edsc",
          "x": 0.415,
          "xanchor": "center",
          "xref": "paper",
          "y": 0.7748888888888887,
          "yanchor": "bottom",
          "yref": "paper"
         },
         {
          "font": {},
          "showarrow": false,
          "text": "owner_org=feddevontario",
          "x": 0.585,
          "xanchor": "center",
          "xref": "paper",
          "y": 0.7748888888888887,
          "yanchor": "bottom",
          "yref": "paper"
         },
         {
          "font": {},
          "showarrow": false,
          "text": "owner_org=fin",
          "x": 0.7549999999999999,
          "xanchor": "center",
          "xref": "paper",
          "y": 0.7748888888888887,
          "yanchor": "bottom",
          "yref": "paper"
         },
         {
          "font": {},
          "showarrow": false,
          "text": "owner_org=hc-sc",
          "x": 0.925,
          "xanchor": "center",
          "xref": "paper",
          "y": 0.7748888888888887,
          "yanchor": "bottom",
          "yref": "paper"
         },
         {
          "font": {},
          "showarrow": false,
          "text": "owner_org=cihr-irsc",
          "x": 0.075,
          "xanchor": "center",
          "xref": "paper",
          "y": 0.8874444444444443,
          "yanchor": "bottom",
          "yref": "paper"
         },
         {
          "font": {},
          "showarrow": false,
          "text": "owner_org=cnsc-ccsn",
          "x": 0.24499999999999997,
          "xanchor": "center",
          "xref": "paper",
          "y": 0.8874444444444443,
          "yanchor": "bottom",
          "yref": "paper"
         },
         {
          "font": {},
          "showarrow": false,
          "text": "owner_org=cra-arc",
          "x": 0.415,
          "xanchor": "center",
          "xref": "paper",
          "y": 0.8874444444444443,
          "yanchor": "bottom",
          "yref": "paper"
         },
         {
          "font": {},
          "showarrow": false,
          "text": "owner_org=csc-scc",
          "x": 0.585,
          "xanchor": "center",
          "xref": "paper",
          "y": 0.8874444444444443,
          "yanchor": "bottom",
          "yref": "paper"
         },
         {
          "font": {},
          "showarrow": false,
          "text": "owner_org=dfatd-maecd",
          "x": 0.7549999999999999,
          "xanchor": "center",
          "xref": "paper",
          "y": 0.8874444444444443,
          "yanchor": "bottom",
          "yref": "paper"
         },
         {
          "font": {},
          "showarrow": false,
          "text": "owner_org=dfo-mpo",
          "x": 0.925,
          "xanchor": "center",
          "xref": "paper",
          "y": 0.8874444444444443,
          "yanchor": "bottom",
          "yref": "paper"
         },
         {
          "font": {},
          "showarrow": false,
          "text": "owner_org=aafc-aac",
          "x": 0.075,
          "xanchor": "center",
          "xref": "paper",
          "y": 0.9999999999999998,
          "yanchor": "bottom",
          "yref": "paper"
         },
         {
          "font": {},
          "showarrow": false,
          "text": "owner_org=aandc-aadnc",
          "x": 0.24499999999999997,
          "xanchor": "center",
          "xref": "paper",
          "y": 0.9999999999999998,
          "yanchor": "bottom",
          "yref": "paper"
         },
         {
          "font": {},
          "showarrow": false,
          "text": "owner_org=cbsa-asfc",
          "x": 0.415,
          "xanchor": "center",
          "xref": "paper",
          "y": 0.9999999999999998,
          "yanchor": "bottom",
          "yref": "paper"
         },
         {
          "font": {},
          "showarrow": false,
          "text": "owner_org=ced-dec",
          "x": 0.585,
          "xanchor": "center",
          "xref": "paper",
          "y": 0.9999999999999998,
          "yanchor": "bottom",
          "yref": "paper"
         },
         {
          "font": {},
          "showarrow": false,
          "text": "owner_org=cfia-acia",
          "x": 0.7549999999999999,
          "xanchor": "center",
          "xref": "paper",
          "y": 0.9999999999999998,
          "yanchor": "bottom",
          "yref": "paper"
         },
         {
          "font": {},
          "showarrow": false,
          "text": "owner_org=cic",
          "x": 0.925,
          "xanchor": "center",
          "xref": "paper",
          "y": 0.9999999999999998,
          "yanchor": "bottom",
          "yref": "paper"
         }
        ],
        "autosize": true,
        "barmode": "relative",
        "legend": {
         "tracegroupgap": 0
        },
        "margin": {
         "t": 60
        },
        "template": {
         "data": {
          "bar": [
           {
            "error_x": {
             "color": "#2a3f5f"
            },
            "error_y": {
             "color": "#2a3f5f"
            },
            "marker": {
             "line": {
              "color": "#E5ECF6",
              "width": 0.5
             },
             "pattern": {
              "fillmode": "overlay",
              "size": 10,
              "solidity": 0.2
             }
            },
            "type": "bar"
           }
          ],
          "barpolar": [
           {
            "marker": {
             "line": {
              "color": "#E5ECF6",
              "width": 0.5
             },
             "pattern": {
              "fillmode": "overlay",
              "size": 10,
              "solidity": 0.2
             }
            },
            "type": "barpolar"
           }
          ],
          "carpet": [
           {
            "aaxis": {
             "endlinecolor": "#2a3f5f",
             "gridcolor": "white",
             "linecolor": "white",
             "minorgridcolor": "white",
             "startlinecolor": "#2a3f5f"
            },
            "baxis": {
             "endlinecolor": "#2a3f5f",
             "gridcolor": "white",
             "linecolor": "white",
             "minorgridcolor": "white",
             "startlinecolor": "#2a3f5f"
            },
            "type": "carpet"
           }
          ],
          "choropleth": [
           {
            "colorbar": {
             "outlinewidth": 0,
             "ticks": ""
            },
            "type": "choropleth"
           }
          ],
          "contour": [
           {
            "colorbar": {
             "outlinewidth": 0,
             "ticks": ""
            },
            "colorscale": [
             [
              0,
              "#0d0887"
             ],
             [
              0.1111111111111111,
              "#46039f"
             ],
             [
              0.2222222222222222,
              "#7201a8"
             ],
             [
              0.3333333333333333,
              "#9c179e"
             ],
             [
              0.4444444444444444,
              "#bd3786"
             ],
             [
              0.5555555555555556,
              "#d8576b"
             ],
             [
              0.6666666666666666,
              "#ed7953"
             ],
             [
              0.7777777777777778,
              "#fb9f3a"
             ],
             [
              0.8888888888888888,
              "#fdca26"
             ],
             [
              1,
              "#f0f921"
             ]
            ],
            "type": "contour"
           }
          ],
          "contourcarpet": [
           {
            "colorbar": {
             "outlinewidth": 0,
             "ticks": ""
            },
            "type": "contourcarpet"
           }
          ],
          "heatmap": [
           {
            "colorbar": {
             "outlinewidth": 0,
             "ticks": ""
            },
            "colorscale": [
             [
              0,
              "#0d0887"
             ],
             [
              0.1111111111111111,
              "#46039f"
             ],
             [
              0.2222222222222222,
              "#7201a8"
             ],
             [
              0.3333333333333333,
              "#9c179e"
             ],
             [
              0.4444444444444444,
              "#bd3786"
             ],
             [
              0.5555555555555556,
              "#d8576b"
             ],
             [
              0.6666666666666666,
              "#ed7953"
             ],
             [
              0.7777777777777778,
              "#fb9f3a"
             ],
             [
              0.8888888888888888,
              "#fdca26"
             ],
             [
              1,
              "#f0f921"
             ]
            ],
            "type": "heatmap"
           }
          ],
          "heatmapgl": [
           {
            "colorbar": {
             "outlinewidth": 0,
             "ticks": ""
            },
            "colorscale": [
             [
              0,
              "#0d0887"
             ],
             [
              0.1111111111111111,
              "#46039f"
             ],
             [
              0.2222222222222222,
              "#7201a8"
             ],
             [
              0.3333333333333333,
              "#9c179e"
             ],
             [
              0.4444444444444444,
              "#bd3786"
             ],
             [
              0.5555555555555556,
              "#d8576b"
             ],
             [
              0.6666666666666666,
              "#ed7953"
             ],
             [
              0.7777777777777778,
              "#fb9f3a"
             ],
             [
              0.8888888888888888,
              "#fdca26"
             ],
             [
              1,
              "#f0f921"
             ]
            ],
            "type": "heatmapgl"
           }
          ],
          "histogram": [
           {
            "marker": {
             "pattern": {
              "fillmode": "overlay",
              "size": 10,
              "solidity": 0.2
             }
            },
            "type": "histogram"
           }
          ],
          "histogram2d": [
           {
            "colorbar": {
             "outlinewidth": 0,
             "ticks": ""
            },
            "colorscale": [
             [
              0,
              "#0d0887"
             ],
             [
              0.1111111111111111,
              "#46039f"
             ],
             [
              0.2222222222222222,
              "#7201a8"
             ],
             [
              0.3333333333333333,
              "#9c179e"
             ],
             [
              0.4444444444444444,
              "#bd3786"
             ],
             [
              0.5555555555555556,
              "#d8576b"
             ],
             [
              0.6666666666666666,
              "#ed7953"
             ],
             [
              0.7777777777777778,
              "#fb9f3a"
             ],
             [
              0.8888888888888888,
              "#fdca26"
             ],
             [
              1,
              "#f0f921"
             ]
            ],
            "type": "histogram2d"
           }
          ],
          "histogram2dcontour": [
           {
            "colorbar": {
             "outlinewidth": 0,
             "ticks": ""
            },
            "colorscale": [
             [
              0,
              "#0d0887"
             ],
             [
              0.1111111111111111,
              "#46039f"
             ],
             [
              0.2222222222222222,
              "#7201a8"
             ],
             [
              0.3333333333333333,
              "#9c179e"
             ],
             [
              0.4444444444444444,
              "#bd3786"
             ],
             [
              0.5555555555555556,
              "#d8576b"
             ],
             [
              0.6666666666666666,
              "#ed7953"
             ],
             [
              0.7777777777777778,
              "#fb9f3a"
             ],
             [
              0.8888888888888888,
              "#fdca26"
             ],
             [
              1,
              "#f0f921"
             ]
            ],
            "type": "histogram2dcontour"
           }
          ],
          "mesh3d": [
           {
            "colorbar": {
             "outlinewidth": 0,
             "ticks": ""
            },
            "type": "mesh3d"
           }
          ],
          "parcoords": [
           {
            "line": {
             "colorbar": {
              "outlinewidth": 0,
              "ticks": ""
             }
            },
            "type": "parcoords"
           }
          ],
          "pie": [
           {
            "automargin": true,
            "type": "pie"
           }
          ],
          "scatter": [
           {
            "fillpattern": {
             "fillmode": "overlay",
             "size": 10,
             "solidity": 0.2
            },
            "type": "scatter"
           }
          ],
          "scatter3d": [
           {
            "line": {
             "colorbar": {
              "outlinewidth": 0,
              "ticks": ""
             }
            },
            "marker": {
             "colorbar": {
              "outlinewidth": 0,
              "ticks": ""
             }
            },
            "type": "scatter3d"
           }
          ],
          "scattercarpet": [
           {
            "marker": {
             "colorbar": {
              "outlinewidth": 0,
              "ticks": ""
             }
            },
            "type": "scattercarpet"
           }
          ],
          "scattergeo": [
           {
            "marker": {
             "colorbar": {
              "outlinewidth": 0,
              "ticks": ""
             }
            },
            "type": "scattergeo"
           }
          ],
          "scattergl": [
           {
            "marker": {
             "colorbar": {
              "outlinewidth": 0,
              "ticks": ""
             }
            },
            "type": "scattergl"
           }
          ],
          "scattermapbox": [
           {
            "marker": {
             "colorbar": {
              "outlinewidth": 0,
              "ticks": ""
             }
            },
            "type": "scattermapbox"
           }
          ],
          "scatterpolar": [
           {
            "marker": {
             "colorbar": {
              "outlinewidth": 0,
              "ticks": ""
             }
            },
            "type": "scatterpolar"
           }
          ],
          "scatterpolargl": [
           {
            "marker": {
             "colorbar": {
              "outlinewidth": 0,
              "ticks": ""
             }
            },
            "type": "scatterpolargl"
           }
          ],
          "scatterternary": [
           {
            "marker": {
             "colorbar": {
              "outlinewidth": 0,
              "ticks": ""
             }
            },
            "type": "scatterternary"
           }
          ],
          "surface": [
           {
            "colorbar": {
             "outlinewidth": 0,
             "ticks": ""
            },
            "colorscale": [
             [
              0,
              "#0d0887"
             ],
             [
              0.1111111111111111,
              "#46039f"
             ],
             [
              0.2222222222222222,
              "#7201a8"
             ],
             [
              0.3333333333333333,
              "#9c179e"
             ],
             [
              0.4444444444444444,
              "#bd3786"
             ],
             [
              0.5555555555555556,
              "#d8576b"
             ],
             [
              0.6666666666666666,
              "#ed7953"
             ],
             [
              0.7777777777777778,
              "#fb9f3a"
             ],
             [
              0.8888888888888888,
              "#fdca26"
             ],
             [
              1,
              "#f0f921"
             ]
            ],
            "type": "surface"
           }
          ],
          "table": [
           {
            "cells": {
             "fill": {
              "color": "#EBF0F8"
             },
             "line": {
              "color": "white"
             }
            },
            "header": {
             "fill": {
              "color": "#C8D4E3"
             },
             "line": {
              "color": "white"
             }
            },
            "type": "table"
           }
          ]
         },
         "layout": {
          "annotationdefaults": {
           "arrowcolor": "#2a3f5f",
           "arrowhead": 0,
           "arrowwidth": 1
          },
          "autotypenumbers": "strict",
          "coloraxis": {
           "colorbar": {
            "outlinewidth": 0,
            "ticks": ""
           }
          },
          "colorscale": {
           "diverging": [
            [
             0,
             "#8e0152"
            ],
            [
             0.1,
             "#c51b7d"
            ],
            [
             0.2,
             "#de77ae"
            ],
            [
             0.3,
             "#f1b6da"
            ],
            [
             0.4,
             "#fde0ef"
            ],
            [
             0.5,
             "#f7f7f7"
            ],
            [
             0.6,
             "#e6f5d0"
            ],
            [
             0.7,
             "#b8e186"
            ],
            [
             0.8,
             "#7fbc41"
            ],
            [
             0.9,
             "#4d9221"
            ],
            [
             1,
             "#276419"
            ]
           ],
           "sequential": [
            [
             0,
             "#0d0887"
            ],
            [
             0.1111111111111111,
             "#46039f"
            ],
            [
             0.2222222222222222,
             "#7201a8"
            ],
            [
             0.3333333333333333,
             "#9c179e"
            ],
            [
             0.4444444444444444,
             "#bd3786"
            ],
            [
             0.5555555555555556,
             "#d8576b"
            ],
            [
             0.6666666666666666,
             "#ed7953"
            ],
            [
             0.7777777777777778,
             "#fb9f3a"
            ],
            [
             0.8888888888888888,
             "#fdca26"
            ],
            [
             1,
             "#f0f921"
            ]
           ],
           "sequentialminus": [
            [
             0,
             "#0d0887"
            ],
            [
             0.1111111111111111,
             "#46039f"
            ],
            [
             0.2222222222222222,
             "#7201a8"
            ],
            [
             0.3333333333333333,
             "#9c179e"
            ],
            [
             0.4444444444444444,
             "#bd3786"
            ],
            [
             0.5555555555555556,
             "#d8576b"
            ],
            [
             0.6666666666666666,
             "#ed7953"
            ],
            [
             0.7777777777777778,
             "#fb9f3a"
            ],
            [
             0.8888888888888888,
             "#fdca26"
            ],
            [
             1,
             "#f0f921"
            ]
           ]
          },
          "colorway": [
           "#636efa",
           "#EF553B",
           "#00cc96",
           "#ab63fa",
           "#FFA15A",
           "#19d3f3",
           "#FF6692",
           "#B6E880",
           "#FF97FF",
           "#FECB52"
          ],
          "font": {
           "color": "#2a3f5f"
          },
          "geo": {
           "bgcolor": "white",
           "lakecolor": "white",
           "landcolor": "#E5ECF6",
           "showlakes": true,
           "showland": true,
           "subunitcolor": "white"
          },
          "hoverlabel": {
           "align": "left"
          },
          "hovermode": "closest",
          "mapbox": {
           "style": "light"
          },
          "paper_bgcolor": "white",
          "plot_bgcolor": "#E5ECF6",
          "polar": {
           "angularaxis": {
            "gridcolor": "white",
            "linecolor": "white",
            "ticks": ""
           },
           "bgcolor": "#E5ECF6",
           "radialaxis": {
            "gridcolor": "white",
            "linecolor": "white",
            "ticks": ""
           }
          },
          "scene": {
           "xaxis": {
            "backgroundcolor": "#E5ECF6",
            "gridcolor": "white",
            "gridwidth": 2,
            "linecolor": "white",
            "showbackground": true,
            "ticks": "",
            "zerolinecolor": "white"
           },
           "yaxis": {
            "backgroundcolor": "#E5ECF6",
            "gridcolor": "white",
            "gridwidth": 2,
            "linecolor": "white",
            "showbackground": true,
            "ticks": "",
            "zerolinecolor": "white"
           },
           "zaxis": {
            "backgroundcolor": "#E5ECF6",
            "gridcolor": "white",
            "gridwidth": 2,
            "linecolor": "white",
            "showbackground": true,
            "ticks": "",
            "zerolinecolor": "white"
           }
          },
          "shapedefaults": {
           "line": {
            "color": "#2a3f5f"
           }
          },
          "ternary": {
           "aaxis": {
            "gridcolor": "white",
            "linecolor": "white",
            "ticks": ""
           },
           "baxis": {
            "gridcolor": "white",
            "linecolor": "white",
            "ticks": ""
           },
           "bgcolor": "#E5ECF6",
           "caxis": {
            "gridcolor": "white",
            "linecolor": "white",
            "ticks": ""
           }
          },
          "title": {
           "x": 0.05
          },
          "xaxis": {
           "automargin": true,
           "gridcolor": "white",
           "linecolor": "white",
           "ticks": "",
           "title": {
            "standoff": 15
           },
           "zerolinecolor": "white",
           "zerolinewidth": 2
          },
          "yaxis": {
           "automargin": true,
           "gridcolor": "white",
           "linecolor": "white",
           "ticks": "",
           "title": {
            "standoff": 15
           },
           "zerolinecolor": "white",
           "zerolinewidth": 2
          }
         }
        },
        "xaxis": {
         "anchor": "y",
         "domain": [
          0,
          0.15
         ],
         "range": [
          2015,
          2023
         ],
         "title": {
          "text": "fiscal_year"
         },
         "type": "linear"
        },
        "xaxis10": {
         "anchor": "y10",
         "domain": [
          0.51,
          0.66
         ],
         "matches": "x",
         "showticklabels": false,
         "type": "linear"
        },
        "xaxis11": {
         "anchor": "y11",
         "domain": [
          0.6799999999999999,
          0.83
         ],
         "matches": "x",
         "showticklabels": false,
         "type": "linear"
        },
        "xaxis12": {
         "anchor": "y12",
         "domain": [
          0.85,
          1
         ],
         "matches": "x",
         "showticklabels": false,
         "type": "linear"
        },
        "xaxis13": {
         "anchor": "y13",
         "domain": [
          0,
          0.15
         ],
         "matches": "x",
         "showticklabels": false,
         "type": "linear"
        },
        "xaxis14": {
         "anchor": "y14",
         "domain": [
          0.16999999999999998,
          0.31999999999999995
         ],
         "matches": "x",
         "showticklabels": false,
         "type": "linear"
        },
        "xaxis15": {
         "anchor": "y15",
         "domain": [
          0.33999999999999997,
          0.49
         ],
         "matches": "x",
         "showticklabels": false,
         "type": "linear"
        },
        "xaxis16": {
         "anchor": "y16",
         "domain": [
          0.51,
          0.66
         ],
         "matches": "x",
         "showticklabels": false,
         "type": "linear"
        },
        "xaxis17": {
         "anchor": "y17",
         "domain": [
          0.6799999999999999,
          0.83
         ],
         "matches": "x",
         "showticklabels": false,
         "type": "linear"
        },
        "xaxis18": {
         "anchor": "y18",
         "domain": [
          0.85,
          1
         ],
         "matches": "x",
         "showticklabels": false,
         "type": "linear"
        },
        "xaxis19": {
         "anchor": "y19",
         "domain": [
          0,
          0.15
         ],
         "matches": "x",
         "showticklabels": false,
         "type": "linear"
        },
        "xaxis2": {
         "anchor": "y2",
         "domain": [
          0.16999999999999998,
          0.31999999999999995
         ],
         "matches": "x",
         "range": [
          2015,
          2023
         ],
         "title": {
          "text": "fiscal_year"
         },
         "type": "linear"
        },
        "xaxis20": {
         "anchor": "y20",
         "domain": [
          0.16999999999999998,
          0.31999999999999995
         ],
         "matches": "x",
         "showticklabels": false,
         "type": "linear"
        },
        "xaxis21": {
         "anchor": "y21",
         "domain": [
          0.33999999999999997,
          0.49
         ],
         "matches": "x",
         "showticklabels": false,
         "type": "linear"
        },
        "xaxis22": {
         "anchor": "y22",
         "domain": [
          0.51,
          0.66
         ],
         "matches": "x",
         "showticklabels": false,
         "type": "linear"
        },
        "xaxis23": {
         "anchor": "y23",
         "domain": [
          0.6799999999999999,
          0.83
         ],
         "matches": "x",
         "showticklabels": false,
         "type": "linear"
        },
        "xaxis24": {
         "anchor": "y24",
         "domain": [
          0.85,
          1
         ],
         "matches": "x",
         "showticklabels": false,
         "type": "linear"
        },
        "xaxis25": {
         "anchor": "y25",
         "domain": [
          0,
          0.15
         ],
         "matches": "x",
         "showticklabels": false,
         "type": "linear"
        },
        "xaxis26": {
         "anchor": "y26",
         "domain": [
          0.16999999999999998,
          0.31999999999999995
         ],
         "matches": "x",
         "showticklabels": false,
         "type": "linear"
        },
        "xaxis27": {
         "anchor": "y27",
         "domain": [
          0.33999999999999997,
          0.49
         ],
         "matches": "x",
         "showticklabels": false,
         "type": "linear"
        },
        "xaxis28": {
         "anchor": "y28",
         "domain": [
          0.51,
          0.66
         ],
         "matches": "x",
         "showticklabels": false,
         "type": "linear"
        },
        "xaxis29": {
         "anchor": "y29",
         "domain": [
          0.6799999999999999,
          0.83
         ],
         "matches": "x",
         "showticklabels": false,
         "type": "linear"
        },
        "xaxis3": {
         "anchor": "y3",
         "domain": [
          0.33999999999999997,
          0.49
         ],
         "matches": "x",
         "range": [
          2015,
          2023
         ],
         "title": {
          "text": "fiscal_year"
         },
         "type": "linear"
        },
        "xaxis30": {
         "anchor": "y30",
         "domain": [
          0.85,
          1
         ],
         "matches": "x",
         "showticklabels": false,
         "type": "linear"
        },
        "xaxis31": {
         "anchor": "y31",
         "domain": [
          0,
          0.15
         ],
         "matches": "x",
         "showticklabels": false,
         "type": "linear"
        },
        "xaxis32": {
         "anchor": "y32",
         "domain": [
          0.16999999999999998,
          0.31999999999999995
         ],
         "matches": "x",
         "showticklabels": false,
         "type": "linear"
        },
        "xaxis33": {
         "anchor": "y33",
         "domain": [
          0.33999999999999997,
          0.49
         ],
         "matches": "x",
         "showticklabels": false,
         "type": "linear"
        },
        "xaxis34": {
         "anchor": "y34",
         "domain": [
          0.51,
          0.66
         ],
         "matches": "x",
         "showticklabels": false,
         "type": "linear"
        },
        "xaxis35": {
         "anchor": "y35",
         "domain": [
          0.6799999999999999,
          0.83
         ],
         "matches": "x",
         "showticklabels": false,
         "type": "linear"
        },
        "xaxis36": {
         "anchor": "y36",
         "domain": [
          0.85,
          1
         ],
         "matches": "x",
         "showticklabels": false,
         "type": "linear"
        },
        "xaxis37": {
         "anchor": "y37",
         "domain": [
          0,
          0.15
         ],
         "matches": "x",
         "showticklabels": false,
         "type": "linear"
        },
        "xaxis38": {
         "anchor": "y38",
         "domain": [
          0.16999999999999998,
          0.31999999999999995
         ],
         "matches": "x",
         "showticklabels": false,
         "type": "linear"
        },
        "xaxis39": {
         "anchor": "y39",
         "domain": [
          0.33999999999999997,
          0.49
         ],
         "matches": "x",
         "showticklabels": false,
         "type": "linear"
        },
        "xaxis4": {
         "anchor": "y4",
         "domain": [
          0.51,
          0.66
         ],
         "matches": "x",
         "range": [
          2015,
          2023
         ],
         "title": {
          "text": "fiscal_year"
         },
         "type": "linear"
        },
        "xaxis40": {
         "anchor": "y40",
         "domain": [
          0.51,
          0.66
         ],
         "matches": "x",
         "showticklabels": false,
         "type": "linear"
        },
        "xaxis41": {
         "anchor": "y41",
         "domain": [
          0.6799999999999999,
          0.83
         ],
         "matches": "x",
         "showticklabels": false,
         "type": "linear"
        },
        "xaxis42": {
         "anchor": "y42",
         "domain": [
          0.85,
          1
         ],
         "matches": "x",
         "showticklabels": false,
         "type": "linear"
        },
        "xaxis43": {
         "anchor": "y43",
         "domain": [
          0,
          0.15
         ],
         "matches": "x",
         "showticklabels": false,
         "type": "linear"
        },
        "xaxis44": {
         "anchor": "y44",
         "domain": [
          0.16999999999999998,
          0.31999999999999995
         ],
         "matches": "x",
         "showticklabels": false,
         "type": "linear"
        },
        "xaxis45": {
         "anchor": "y45",
         "domain": [
          0.33999999999999997,
          0.49
         ],
         "matches": "x",
         "showticklabels": false,
         "type": "linear"
        },
        "xaxis46": {
         "anchor": "y46",
         "domain": [
          0.51,
          0.66
         ],
         "matches": "x",
         "showticklabels": false,
         "type": "linear"
        },
        "xaxis47": {
         "anchor": "y47",
         "domain": [
          0.6799999999999999,
          0.83
         ],
         "matches": "x",
         "showticklabels": false,
         "type": "linear"
        },
        "xaxis48": {
         "anchor": "y48",
         "domain": [
          0.85,
          1
         ],
         "matches": "x",
         "showticklabels": false,
         "type": "linear"
        },
        "xaxis49": {
         "anchor": "y49",
         "domain": [
          0,
          0.15
         ],
         "matches": "x",
         "showticklabels": false,
         "type": "linear"
        },
        "xaxis5": {
         "anchor": "y5",
         "domain": [
          0.6799999999999999,
          0.83
         ],
         "matches": "x",
         "range": [
          2015,
          2023
         ],
         "title": {
          "text": "fiscal_year"
         }
        },
        "xaxis50": {
         "anchor": "y50",
         "domain": [
          0.16999999999999998,
          0.31999999999999995
         ],
         "matches": "x",
         "showticklabels": false,
         "type": "linear"
        },
        "xaxis51": {
         "anchor": "y51",
         "domain": [
          0.33999999999999997,
          0.49
         ],
         "matches": "x",
         "showticklabels": false,
         "type": "linear"
        },
        "xaxis52": {
         "anchor": "y52",
         "domain": [
          0.51,
          0.66
         ],
         "matches": "x",
         "showticklabels": false,
         "type": "linear"
        },
        "xaxis53": {
         "anchor": "y53",
         "domain": [
          0.6799999999999999,
          0.83
         ],
         "matches": "x",
         "showticklabels": false,
         "type": "linear"
        },
        "xaxis54": {
         "anchor": "y54",
         "domain": [
          0.85,
          1
         ],
         "matches": "x",
         "showticklabels": false,
         "type": "linear"
        },
        "xaxis6": {
         "anchor": "y6",
         "domain": [
          0.85,
          1
         ],
         "matches": "x",
         "range": [
          2015,
          2023
         ],
         "title": {
          "text": "fiscal_year"
         }
        },
        "xaxis7": {
         "anchor": "y7",
         "domain": [
          0,
          0.15
         ],
         "matches": "x",
         "showticklabels": false,
         "type": "linear"
        },
        "xaxis8": {
         "anchor": "y8",
         "domain": [
          0.16999999999999998,
          0.31999999999999995
         ],
         "matches": "x",
         "showticklabels": false,
         "type": "linear"
        },
        "xaxis9": {
         "anchor": "y9",
         "domain": [
          0.33999999999999997,
          0.49
         ],
         "matches": "x",
         "showticklabels": false,
         "type": "linear"
        },
        "yaxis": {
         "anchor": "x",
         "domain": [
          0,
          0.09955555555555555
         ],
         "range": [
          0,
          400
         ],
         "title": {
          "text": "median_pct_change"
         },
         "type": "linear"
        },
        "yaxis10": {
         "anchor": "x10",
         "domain": [
          0.11255555555555555,
          0.21211111111111108
         ],
         "matches": "y",
         "showticklabels": false,
         "type": "linear"
        },
        "yaxis11": {
         "anchor": "x11",
         "domain": [
          0.11255555555555555,
          0.21211111111111108
         ],
         "matches": "y",
         "showticklabels": false,
         "type": "linear"
        },
        "yaxis12": {
         "anchor": "x12",
         "domain": [
          0.11255555555555555,
          0.21211111111111108
         ],
         "matches": "y",
         "showticklabels": false,
         "type": "linear"
        },
        "yaxis13": {
         "anchor": "x13",
         "domain": [
          0.2251111111111111,
          0.32466666666666666
         ],
         "matches": "y",
         "range": [
          0,
          400
         ],
         "title": {
          "text": "median_pct_change"
         },
         "type": "linear"
        },
        "yaxis14": {
         "anchor": "x14",
         "domain": [
          0.2251111111111111,
          0.32466666666666666
         ],
         "matches": "y",
         "showticklabels": false,
         "type": "linear"
        },
        "yaxis15": {
         "anchor": "x15",
         "domain": [
          0.2251111111111111,
          0.32466666666666666
         ],
         "matches": "y",
         "showticklabels": false,
         "type": "linear"
        },
        "yaxis16": {
         "anchor": "x16",
         "domain": [
          0.2251111111111111,
          0.32466666666666666
         ],
         "matches": "y",
         "showticklabels": false,
         "type": "linear"
        },
        "yaxis17": {
         "anchor": "x17",
         "domain": [
          0.2251111111111111,
          0.32466666666666666
         ],
         "matches": "y",
         "showticklabels": false,
         "type": "linear"
        },
        "yaxis18": {
         "anchor": "x18",
         "domain": [
          0.2251111111111111,
          0.32466666666666666
         ],
         "matches": "y",
         "showticklabels": false,
         "type": "linear"
        },
        "yaxis19": {
         "anchor": "x19",
         "domain": [
          0.3376666666666666,
          0.4372222222222222
         ],
         "matches": "y",
         "range": [
          0,
          400
         ],
         "title": {
          "text": "median_pct_change"
         },
         "type": "linear"
        },
        "yaxis2": {
         "anchor": "x2",
         "domain": [
          0,
          0.09955555555555555
         ],
         "matches": "y",
         "showticklabels": false,
         "type": "linear"
        },
        "yaxis20": {
         "anchor": "x20",
         "domain": [
          0.3376666666666666,
          0.4372222222222222
         ],
         "matches": "y",
         "showticklabels": false,
         "type": "linear"
        },
        "yaxis21": {
         "anchor": "x21",
         "domain": [
          0.3376666666666666,
          0.4372222222222222
         ],
         "matches": "y",
         "showticklabels": false,
         "type": "linear"
        },
        "yaxis22": {
         "anchor": "x22",
         "domain": [
          0.3376666666666666,
          0.4372222222222222
         ],
         "matches": "y",
         "showticklabels": false,
         "type": "linear"
        },
        "yaxis23": {
         "anchor": "x23",
         "domain": [
          0.3376666666666666,
          0.4372222222222222
         ],
         "matches": "y",
         "showticklabels": false,
         "type": "linear"
        },
        "yaxis24": {
         "anchor": "x24",
         "domain": [
          0.3376666666666666,
          0.4372222222222222
         ],
         "matches": "y",
         "showticklabels": false,
         "type": "linear"
        },
        "yaxis25": {
         "anchor": "x25",
         "domain": [
          0.4502222222222222,
          0.5497777777777777
         ],
         "matches": "y",
         "range": [
          0,
          400
         ],
         "title": {
          "text": "median_pct_change"
         },
         "type": "linear"
        },
        "yaxis26": {
         "anchor": "x26",
         "domain": [
          0.4502222222222222,
          0.5497777777777777
         ],
         "matches": "y",
         "showticklabels": false,
         "type": "linear"
        },
        "yaxis27": {
         "anchor": "x27",
         "domain": [
          0.4502222222222222,
          0.5497777777777777
         ],
         "matches": "y",
         "showticklabels": false,
         "type": "linear"
        },
        "yaxis28": {
         "anchor": "x28",
         "domain": [
          0.4502222222222222,
          0.5497777777777777
         ],
         "matches": "y",
         "showticklabels": false,
         "type": "linear"
        },
        "yaxis29": {
         "anchor": "x29",
         "domain": [
          0.4502222222222222,
          0.5497777777777777
         ],
         "matches": "y",
         "showticklabels": false,
         "type": "linear"
        },
        "yaxis3": {
         "anchor": "x3",
         "domain": [
          0,
          0.09955555555555555
         ],
         "matches": "y",
         "showticklabels": false,
         "type": "linear"
        },
        "yaxis30": {
         "anchor": "x30",
         "domain": [
          0.4502222222222222,
          0.5497777777777777
         ],
         "matches": "y",
         "showticklabels": false,
         "type": "linear"
        },
        "yaxis31": {
         "anchor": "x31",
         "domain": [
          0.5627777777777778,
          0.6623333333333333
         ],
         "matches": "y",
         "range": [
          0,
          400
         ],
         "title": {
          "text": "median_pct_change"
         },
         "type": "linear"
        },
        "yaxis32": {
         "anchor": "x32",
         "domain": [
          0.5627777777777778,
          0.6623333333333333
         ],
         "matches": "y",
         "showticklabels": false,
         "type": "linear"
        },
        "yaxis33": {
         "anchor": "x33",
         "domain": [
          0.5627777777777778,
          0.6623333333333333
         ],
         "matches": "y",
         "showticklabels": false,
         "type": "linear"
        },
        "yaxis34": {
         "anchor": "x34",
         "domain": [
          0.5627777777777778,
          0.6623333333333333
         ],
         "matches": "y",
         "showticklabels": false,
         "type": "linear"
        },
        "yaxis35": {
         "anchor": "x35",
         "domain": [
          0.5627777777777778,
          0.6623333333333333
         ],
         "matches": "y",
         "showticklabels": false,
         "type": "linear"
        },
        "yaxis36": {
         "anchor": "x36",
         "domain": [
          0.5627777777777778,
          0.6623333333333333
         ],
         "matches": "y",
         "showticklabels": false,
         "type": "linear"
        },
        "yaxis37": {
         "anchor": "x37",
         "domain": [
          0.6753333333333332,
          0.7748888888888887
         ],
         "matches": "y",
         "range": [
          0,
          400
         ],
         "title": {
          "text": "median_pct_change"
         },
         "type": "linear"
        },
        "yaxis38": {
         "anchor": "x38",
         "domain": [
          0.6753333333333332,
          0.7748888888888887
         ],
         "matches": "y",
         "showticklabels": false,
         "type": "linear"
        },
        "yaxis39": {
         "anchor": "x39",
         "domain": [
          0.6753333333333332,
          0.7748888888888887
         ],
         "matches": "y",
         "showticklabels": false,
         "type": "linear"
        },
        "yaxis4": {
         "anchor": "x4",
         "domain": [
          0,
          0.09955555555555555
         ],
         "matches": "y",
         "showticklabels": false,
         "type": "linear"
        },
        "yaxis40": {
         "anchor": "x40",
         "domain": [
          0.6753333333333332,
          0.7748888888888887
         ],
         "matches": "y",
         "showticklabels": false,
         "type": "linear"
        },
        "yaxis41": {
         "anchor": "x41",
         "domain": [
          0.6753333333333332,
          0.7748888888888887
         ],
         "matches": "y",
         "showticklabels": false,
         "type": "linear"
        },
        "yaxis42": {
         "anchor": "x42",
         "domain": [
          0.6753333333333332,
          0.7748888888888887
         ],
         "matches": "y",
         "showticklabels": false,
         "type": "linear"
        },
        "yaxis43": {
         "anchor": "x43",
         "domain": [
          0.7878888888888887,
          0.8874444444444443
         ],
         "matches": "y",
         "range": [
          0,
          400
         ],
         "title": {
          "text": "median_pct_change"
         },
         "type": "linear"
        },
        "yaxis44": {
         "anchor": "x44",
         "domain": [
          0.7878888888888887,
          0.8874444444444443
         ],
         "matches": "y",
         "showticklabels": false,
         "type": "linear"
        },
        "yaxis45": {
         "anchor": "x45",
         "domain": [
          0.7878888888888887,
          0.8874444444444443
         ],
         "matches": "y",
         "showticklabels": false,
         "type": "linear"
        },
        "yaxis46": {
         "anchor": "x46",
         "domain": [
          0.7878888888888887,
          0.8874444444444443
         ],
         "matches": "y",
         "showticklabels": false,
         "type": "linear"
        },
        "yaxis47": {
         "anchor": "x47",
         "domain": [
          0.7878888888888887,
          0.8874444444444443
         ],
         "matches": "y",
         "showticklabels": false,
         "type": "linear"
        },
        "yaxis48": {
         "anchor": "x48",
         "domain": [
          0.7878888888888887,
          0.8874444444444443
         ],
         "matches": "y",
         "showticklabels": false,
         "type": "linear"
        },
        "yaxis49": {
         "anchor": "x49",
         "domain": [
          0.9004444444444443,
          0.9999999999999998
         ],
         "matches": "y",
         "range": [
          0,
          400
         ],
         "title": {
          "text": "median_pct_change"
         },
         "type": "linear"
        },
        "yaxis5": {
         "anchor": "x5",
         "domain": [
          0,
          0.09955555555555555
         ],
         "matches": "y",
         "showticklabels": false
        },
        "yaxis50": {
         "anchor": "x50",
         "domain": [
          0.9004444444444443,
          0.9999999999999998
         ],
         "matches": "y",
         "showticklabels": false,
         "type": "linear"
        },
        "yaxis51": {
         "anchor": "x51",
         "domain": [
          0.9004444444444443,
          0.9999999999999998
         ],
         "matches": "y",
         "showticklabels": false,
         "type": "linear"
        },
        "yaxis52": {
         "anchor": "x52",
         "domain": [
          0.9004444444444443,
          0.9999999999999998
         ],
         "matches": "y",
         "showticklabels": false,
         "type": "linear"
        },
        "yaxis53": {
         "anchor": "x53",
         "domain": [
          0.9004444444444443,
          0.9999999999999998
         ],
         "matches": "y",
         "showticklabels": false,
         "type": "linear"
        },
        "yaxis54": {
         "anchor": "x54",
         "domain": [
          0.9004444444444443,
          0.9999999999999998
         ],
         "matches": "y",
         "showticklabels": false,
         "type": "linear"
        },
        "yaxis6": {
         "anchor": "x6",
         "domain": [
          0,
          0.09955555555555555
         ],
         "matches": "y",
         "showticklabels": false
        },
        "yaxis7": {
         "anchor": "x7",
         "domain": [
          0.11255555555555555,
          0.21211111111111108
         ],
         "matches": "y",
         "range": [
          0,
          400
         ],
         "title": {
          "text": "median_pct_change"
         },
         "type": "linear"
        },
        "yaxis8": {
         "anchor": "x8",
         "domain": [
          0.11255555555555555,
          0.21211111111111108
         ],
         "matches": "y",
         "showticklabels": false,
         "type": "linear"
        },
        "yaxis9": {
         "anchor": "x9",
         "domain": [
          0.11255555555555555,
          0.21211111111111108
         ],
         "matches": "y",
         "showticklabels": false,
         "type": "linear"
        }
       }
      },
      "image/png": "[encoded data removed]",
      "text/html": [
       "<div>                            <div id=\"c572e894-5909-49ae-b294-15063f690378\" class=\"plotly-graph-div\" style=\"height:1200px; width:100%;\"></div>            <script type=\"text/javascript\">                require([\"plotly\"], function(Plotly) {                    window.PLOTLYENV=window.PLOTLYENV || {};                                    if (document.getElementById(\"c572e894-5909-49ae-b294-15063f690378\")) {                    Plotly.newPlot(                        \"c572e894-5909-49ae-b294-15063f690378\",                        [{\"alignmentgroup\":\"True\",\"hovertemplate\":\"owner_org=aafc-aac<br>fiscal_year=%{x}<br>median_pct_change=%{y}<extra></extra>\",\"legendgroup\":\"\",\"marker\":{\"color\":\"#636efa\",\"pattern\":{\"shape\":\"\"}},\"name\":\"\",\"offsetgroup\":\"\",\"orientation\":\"v\",\"showlegend\":false,\"textposition\":\"auto\",\"x\":[2014,2015,2016,2017,2018,2019,2020,2021,2022,2023,2024],\"xaxis\":\"x49\",\"y\":[251.84901138641592,33.33333333333333,91.24466118170795,85.54787869406837,88.07763559744546,83.01431424766977,85.8506128162555,60.0,62.545348773325884,36.57304755751974,16.990314912753018],\"yaxis\":\"y49\",\"type\":\"bar\"},{\"alignmentgroup\":\"True\",\"hovertemplate\":\"owner_org=aandc-aadnc<br>fiscal_year=%{x}<br>median_pct_change=%{y}<extra></extra>\",\"legendgroup\":\"\",\"marker\":{\"color\":\"#636efa\",\"pattern\":{\"shape\":\"\"}},\"name\":\"\",\"offsetgroup\":\"\",\"orientation\":\"v\",\"showlegend\":false,\"textposition\":\"auto\",\"x\":[2014,2015,2016,2017,2018,2019,2020,2021,2022,2023,2024],\"xaxis\":\"x50\",\"y\":[-34.13417333553946,108.21215095729173,70.02801120448179,73.2974141635657,51.53778558875221,59.71563981042654,59.936,33.81642512077295,59.71616768370649,18.373559515635275,40.0],\"yaxis\":\"y50\",\"type\":\"bar\"},{\"alignmentgroup\":\"True\",\"hovertemplate\":\"owner_org=cbsa-asfc<br>fiscal_year=%{x}<br>median_pct_change=%{y}<extra></extra>\",\"legendgroup\":\"\",\"marker\":{\"color\":\"#636efa\",\"pattern\":{\"shape\":\"\"}},\"name\":\"\",\"offsetgroup\":\"\",\"orientation\":\"v\",\"showlegend\":false,\"textposition\":\"auto\",\"x\":[2014,2015,2016,2017,2018,2019,2020,2021,2022,2023,2024],\"xaxis\":\"x51\",\"y\":[154.16338281010553,183.22917428508737,49.69834474885846,83.2035682664796,95.92858787687135,63.823086464574736,46.1808697503593,27.625471369153924,0.2066547462082121,0.0,0.0],\"yaxis\":\"y51\",\"type\":\"bar\"},{\"alignmentgroup\":\"True\",\"hovertemplate\":\"owner_org=ced-dec<br>fiscal_year=%{x}<br>median_pct_change=%{y}<extra></extra>\",\"legendgroup\":\"\",\"marker\":{\"color\":\"#636efa\",\"pattern\":{\"shape\":\"\"}},\"name\":\"\",\"offsetgroup\":\"\",\"orientation\":\"v\",\"showlegend\":false,\"textposition\":\"auto\",\"x\":[2014,2015,2016,2017,2018,2019,2020,2021,2022,2023],\"xaxis\":\"x52\",\"y\":[0.0,0.0,0.0,60.61836103921153,53.61915311355311,100.0,62.745104843641734,40.279933199470584,26.62519165215321,34.205022831050236],\"yaxis\":\"y52\",\"type\":\"bar\"},{\"alignmentgroup\":\"True\",\"hovertemplate\":\"owner_org=cfia-acia<br>fiscal_year=%{x}<br>median_pct_change=%{y}<extra></extra>\",\"legendgroup\":\"\",\"marker\":{\"color\":\"#636efa\",\"pattern\":{\"shape\":\"\"}},\"name\":\"\",\"offsetgroup\":\"\",\"orientation\":\"v\",\"showlegend\":false,\"textposition\":\"auto\",\"x\":[2014,2015,2016,2017,2018,2019,2020,2021,2022,2023,2024],\"xaxis\":\"x53\",\"y\":[92.59486283185842,214.86461470094423,338.47514133505933,200.0,100.0,116.67345410108746,100.0,100.0,74.09821807771169,0.0,41.172424184119784],\"yaxis\":\"y53\",\"type\":\"bar\"},{\"alignmentgroup\":\"True\",\"hovertemplate\":\"owner_org=cic<br>fiscal_year=%{x}<br>median_pct_change=%{y}<extra></extra>\",\"legendgroup\":\"\",\"marker\":{\"color\":\"#636efa\",\"pattern\":{\"shape\":\"\"}},\"name\":\"\",\"offsetgroup\":\"\",\"orientation\":\"v\",\"showlegend\":false,\"textposition\":\"auto\",\"x\":[2014,2015,2016,2017,2018,2019,2020,2021,2022,2023,2024],\"xaxis\":\"x54\",\"y\":[66.66666666666666,66.49116677290863,99.98994756562821,54.66666666666667,14.906826323432428,0.0,11.345030914788707,89.76378498554267,43.94885004895313,36.14985449282529,52.90407370429515],\"yaxis\":\"y54\",\"type\":\"bar\"},{\"alignmentgroup\":\"True\",\"hovertemplate\":\"owner_org=cihr-irsc<br>fiscal_year=%{x}<br>median_pct_change=%{y}<extra></extra>\",\"legendgroup\":\"\",\"marker\":{\"color\":\"#636efa\",\"pattern\":{\"shape\":\"\"}},\"name\":\"\",\"offsetgroup\":\"\",\"orientation\":\"v\",\"showlegend\":false,\"textposition\":\"auto\",\"x\":[2014,2015,2016,2017,2018,2019,2020,2021,2022,2023],\"xaxis\":\"x43\",\"y\":[72.22222222222221,99.20501968104533,64.2884541618719,50.00202061544441,150.0,30.634601769911505,-100.0,88.31983618210396,70.10361379429504,93.12920106181093],\"yaxis\":\"y43\",\"type\":\"bar\"},{\"alignmentgroup\":\"True\",\"hovertemplate\":\"owner_org=cnsc-ccsn<br>fiscal_year=%{x}<br>median_pct_change=%{y}<extra></extra>\",\"legendgroup\":\"\",\"marker\":{\"color\":\"#636efa\",\"pattern\":{\"shape\":\"\"}},\"name\":\"\",\"offsetgroup\":\"\",\"orientation\":\"v\",\"showlegend\":false,\"textposition\":\"auto\",\"x\":[2014,2015,2016,2017,2018,2019,2020,2021,2022,2023,2024],\"xaxis\":\"x44\",\"y\":[120.22595997441432,217.4056425383859,102.17391304347825,62.60869565217392,54.54545454545454,73.53929299551012,78.79187151753524,57.42458312054251,44.895294926920485,35.468817154996685,-50.0],\"yaxis\":\"y44\",\"type\":\"bar\"},{\"alignmentgroup\":\"True\",\"hovertemplate\":\"owner_org=cra-arc<br>fiscal_year=%{x}<br>median_pct_change=%{y}<extra></extra>\",\"legendgroup\":\"\",\"marker\":{\"color\":\"#636efa\",\"pattern\":{\"shape\":\"\"}},\"name\":\"\",\"offsetgroup\":\"\",\"orientation\":\"v\",\"showlegend\":false,\"textposition\":\"auto\",\"x\":[2014,2015,2016,2017,2018,2019,2020,2021,2022,2023,2024],\"xaxis\":\"x45\",\"y\":[109.04975338818448,113.74297307980939,110.52630889798543,18.907878657465034,29.428174005724685,134.64906709231514,101.49626154755427,156.7490272895975,13.611323090733027,105.1063785653446,5.173232855859779],\"yaxis\":\"y45\",\"type\":\"bar\"},{\"alignmentgroup\":\"True\",\"hovertemplate\":\"owner_org=csc-scc<br>fiscal_year=%{x}<br>median_pct_change=%{y}<extra></extra>\",\"legendgroup\":\"\",\"marker\":{\"color\":\"#636efa\",\"pattern\":{\"shape\":\"\"}},\"name\":\"\",\"offsetgroup\":\"\",\"orientation\":\"v\",\"showlegend\":false,\"textposition\":\"auto\",\"x\":[2014,2015,2016,2017,2018,2019,2020,2021,2022,2023,2024],\"xaxis\":\"x46\",\"y\":[39.324,35.81825862333226,100.00890601491851,200.0,84.070796460177,100.0,62.098528564888994,75.0,75.88302560771987,4.326350322550474,89.74315982989572],\"yaxis\":\"y46\",\"type\":\"bar\"},{\"alignmentgroup\":\"True\",\"hovertemplate\":\"owner_org=dfatd-maecd<br>fiscal_year=%{x}<br>median_pct_change=%{y}<extra></extra>\",\"legendgroup\":\"\",\"marker\":{\"color\":\"#636efa\",\"pattern\":{\"shape\":\"\"}},\"name\":\"\",\"offsetgroup\":\"\",\"orientation\":\"v\",\"showlegend\":false,\"textposition\":\"auto\",\"x\":[2014,2015,2016,2017,2018,2019,2020,2021,2022,2023,2024],\"xaxis\":\"x47\",\"y\":[88.13406077245045,77.13250938112134,50.622572538268216,49.86756071971782,71.08986765489992,59.8336974441656,56.72093023255813,75.32088355606052,73.14090759618546,63.283294271838784,46.05263837644878],\"yaxis\":\"y47\",\"type\":\"bar\"},{\"alignmentgroup\":\"True\",\"hovertemplate\":\"owner_org=dfo-mpo<br>fiscal_year=%{x}<br>median_pct_change=%{y}<extra></extra>\",\"legendgroup\":\"\",\"marker\":{\"color\":\"#636efa\",\"pattern\":{\"shape\":\"\"}},\"name\":\"\",\"offsetgroup\":\"\",\"orientation\":\"v\",\"showlegend\":false,\"textposition\":\"auto\",\"x\":[2014,2015,2016,2017,2018,2019,2020,2021,2022,2023,2024],\"xaxis\":\"x48\",\"y\":[11.441647597254006,19.72925,2.376994183721378,9.412229424495422,28.260927600977187,11.54761727997013,11.097166571784793,6.1443932411674345,6.7400882476181625,0.0,0.0],\"yaxis\":\"y48\",\"type\":\"bar\"},{\"alignmentgroup\":\"True\",\"hovertemplate\":\"owner_org=dnd-mdn<br>fiscal_year=%{x}<br>median_pct_change=%{y}<extra></extra>\",\"legendgroup\":\"\",\"marker\":{\"color\":\"#636efa\",\"pattern\":{\"shape\":\"\"}},\"name\":\"\",\"offsetgroup\":\"\",\"orientation\":\"v\",\"showlegend\":false,\"textposition\":\"auto\",\"x\":[2014,2015,2016,2017,2018,2019,2020,2021,2022,2023,2024],\"xaxis\":\"x37\",\"y\":[0.0,0.0,2.304500560489744,12.243013135368603,2.3149018594006723,3.2095324714288442,6.431736251171212,15.723873441994247,9.263403476695395,5.786833855799381,1.670944847807252],\"yaxis\":\"y37\",\"type\":\"bar\"},{\"alignmentgroup\":\"True\",\"hovertemplate\":\"owner_org=ec<br>fiscal_year=%{x}<br>median_pct_change=%{y}<extra></extra>\",\"legendgroup\":\"\",\"marker\":{\"color\":\"#636efa\",\"pattern\":{\"shape\":\"\"}},\"name\":\"\",\"offsetgroup\":\"\",\"orientation\":\"v\",\"showlegend\":false,\"textposition\":\"auto\",\"x\":[2014,2015,2016,2017,2018,2019,2020,2021,2022,2023,2024],\"xaxis\":\"x38\",\"y\":[29.166666666666668,20.115559940991943,96.00000303623327,39.32195153667945,82.82310658097107,100.0,69.8717960402742,38.90784837936084,45.3233953205724,11.177179162370754,0.0],\"yaxis\":\"y38\",\"type\":\"bar\"},{\"alignmentgroup\":\"True\",\"hovertemplate\":\"owner_org=esdc-edsc<br>fiscal_year=%{x}<br>median_pct_change=%{y}<extra></extra>\",\"legendgroup\":\"\",\"marker\":{\"color\":\"#636efa\",\"pattern\":{\"shape\":\"\"}},\"name\":\"\",\"offsetgroup\":\"\",\"orientation\":\"v\",\"showlegend\":false,\"textposition\":\"auto\",\"x\":[2014,2015,2016,2017,2018,2019,2020,2021,2022,2023,2024],\"xaxis\":\"x39\",\"y\":[31.55813554136202,187.5000030199802,181.82126623370507,100.0,100.0,71.65455770904154,87.30158419781706,85.32485200267308,100.0,47.61687507563674,10.294117647058822],\"yaxis\":\"y39\",\"type\":\"bar\"},{\"alignmentgroup\":\"True\",\"hovertemplate\":\"owner_org=feddevontario<br>fiscal_year=%{x}<br>median_pct_change=%{y}<extra></extra>\",\"legendgroup\":\"\",\"marker\":{\"color\":\"#636efa\",\"pattern\":{\"shape\":\"\"}},\"name\":\"\",\"offsetgroup\":\"\",\"orientation\":\"v\",\"showlegend\":false,\"textposition\":\"auto\",\"x\":[2014,2015,2016,2017,2018,2019,2020,2021,2022,2023],\"xaxis\":\"x40\",\"y\":[-11.820711128131272,116.2720725369588,-35.33734312575654,0.0,0.0,35.45454545454545,173.29877876106195,47.544638409675834,230.00000000000003,49.23193242500204],\"yaxis\":\"y40\",\"type\":\"bar\"},{\"alignmentgroup\":\"True\",\"hovertemplate\":\"owner_org=fin<br>fiscal_year=%{x}<br>median_pct_change=%{y}<extra></extra>\",\"legendgroup\":\"\",\"marker\":{\"color\":\"#636efa\",\"pattern\":{\"shape\":\"\"}},\"name\":\"\",\"offsetgroup\":\"\",\"orientation\":\"v\",\"showlegend\":false,\"textposition\":\"auto\",\"x\":[2014,2015,2016,2017,2018,2019,2020,2021,2022,2023,2024],\"xaxis\":\"x41\",\"y\":[94.82758620689656,53.00299276615994,64.4894758663864,36.1538282867807,65.81427632304987,100.0,18.94471754253007,37.28634738878826,100.6236917193811,22.66666666666666,-2.4306290254976872],\"yaxis\":\"y41\",\"type\":\"bar\"},{\"alignmentgroup\":\"True\",\"hovertemplate\":\"owner_org=hc-sc<br>fiscal_year=%{x}<br>median_pct_change=%{y}<extra></extra>\",\"legendgroup\":\"\",\"marker\":{\"color\":\"#636efa\",\"pattern\":{\"shape\":\"\"}},\"name\":\"\",\"offsetgroup\":\"\",\"orientation\":\"v\",\"showlegend\":false,\"textposition\":\"auto\",\"x\":[2014,2015,2016,2017,2018,2019,2020,2021,2022,2023,2024],\"xaxis\":\"x42\",\"y\":[59.51147642816033,297.69618610671074,137.63757533114688,105.04241008496163,81.77212311562253,76.99115044247787,66.66666666666666,77.40449989606651,61.5088238177489,48.89705882352941,0.0],\"yaxis\":\"y42\",\"type\":\"bar\"},{\"alignmentgroup\":\"True\",\"hovertemplate\":\"owner_org=iaac-aeic<br>fiscal_year=%{x}<br>median_pct_change=%{y}<extra></extra>\",\"legendgroup\":\"\",\"marker\":{\"color\":\"#636efa\",\"pattern\":{\"shape\":\"\"}},\"name\":\"\",\"offsetgroup\":\"\",\"orientation\":\"v\",\"showlegend\":false,\"textposition\":\"auto\",\"x\":[2014,2015,2016,2017,2019,2020,2021,2022,2023],\"xaxis\":\"x31\",\"y\":[5.769230769230769,10.28530183727034,53.75003110604567,57.54046544405571,42.816416053044776,92.60751153437509,45.35742971887551,18.0,27.924159924014603],\"yaxis\":\"y31\",\"type\":\"bar\"},{\"alignmentgroup\":\"True\",\"hovertemplate\":\"owner_org=isc-sac<br>fiscal_year=%{x}<br>median_pct_change=%{y}<extra></extra>\",\"legendgroup\":\"\",\"marker\":{\"color\":\"#636efa\",\"pattern\":{\"shape\":\"\"}},\"name\":\"\",\"offsetgroup\":\"\",\"orientation\":\"v\",\"showlegend\":false,\"textposition\":\"auto\",\"x\":[2014,2015,2016,2017,2018,2019,2020,2021,2022,2023,2024],\"xaxis\":\"x32\",\"y\":[-30.13500007783125,-83.87715961848062,202.7681049709816,34.32947817279835,48.36903163462517,50.0,79.0526203304787,55.44306382964997,48.76801934417331,0.0,0.0],\"yaxis\":\"y32\",\"type\":\"bar\"},{\"alignmentgroup\":\"True\",\"hovertemplate\":\"owner_org=nrc-cnrc<br>fiscal_year=%{x}<br>median_pct_change=%{y}<extra></extra>\",\"legendgroup\":\"\",\"marker\":{\"color\":\"#636efa\",\"pattern\":{\"shape\":\"\"}},\"name\":\"\",\"offsetgroup\":\"\",\"orientation\":\"v\",\"showlegend\":false,\"textposition\":\"auto\",\"x\":[2014,2015,2016,2017,2018,2019,2020,2021,2022,2023,2024],\"xaxis\":\"x33\",\"y\":[80.45238095238095,51.394612600807065,30.412482075339057,13.539415677917297,24.243591815423844,19.881753792139524,6.602870408117502,20.660122301821417,16.660412576640798,13.905144710107544,0.0],\"yaxis\":\"y33\",\"type\":\"bar\"},{\"alignmentgroup\":\"True\",\"hovertemplate\":\"owner_org=nrcan-rncan<br>fiscal_year=%{x}<br>median_pct_change=%{y}<extra></extra>\",\"legendgroup\":\"\",\"marker\":{\"color\":\"#636efa\",\"pattern\":{\"shape\":\"\"}},\"name\":\"\",\"offsetgroup\":\"\",\"orientation\":\"v\",\"showlegend\":false,\"textposition\":\"auto\",\"x\":[2014,2015,2016,2017,2018,2019,2020,2021,2022,2023,2024],\"xaxis\":\"x34\",\"y\":[72.60612861613002,95.37009629256436,56.66663607540781,56.21056726537359,50.0,45.20006309491981,54.54545454545454,68.97235424076239,50.0,28.867606076973136,0.0],\"yaxis\":\"y34\",\"type\":\"bar\"},{\"alignmentgroup\":\"True\",\"hovertemplate\":\"owner_org=pbc-clcc<br>fiscal_year=%{x}<br>median_pct_change=%{y}<extra></extra>\",\"legendgroup\":\"\",\"marker\":{\"color\":\"#636efa\",\"pattern\":{\"shape\":\"\"}},\"name\":\"\",\"offsetgroup\":\"\",\"orientation\":\"v\",\"showlegend\":false,\"textposition\":\"auto\",\"x\":[2014,2016,2018,2019,2020,2021,2022,2023],\"xaxis\":\"x35\",\"y\":[0.0,7.300011257458072,14.0373281022412,-71.65051124744376,43.75,76.69360868332174,120.0,75.7051282051282],\"yaxis\":\"y35\",\"type\":\"bar\"},{\"alignmentgroup\":\"True\",\"hovertemplate\":\"owner_org=pc<br>fiscal_year=%{x}<br>median_pct_change=%{y}<extra></extra>\",\"legendgroup\":\"\",\"marker\":{\"color\":\"#636efa\",\"pattern\":{\"shape\":\"\"}},\"name\":\"\",\"offsetgroup\":\"\",\"orientation\":\"v\",\"showlegend\":false,\"textposition\":\"auto\",\"x\":[2014,2015,2016,2017,2018,2019,2020,2021,2022,2023,2024],\"xaxis\":\"x36\",\"y\":[50.38759689922482,34.99999130245705,32.443134038061544,26.000341940470847,34.76306696517081,23.722627737226276,36.60920151593773,46.06703160023145,48.446509919761084,44.85362946363884,29.66714633743854],\"yaxis\":\"y36\",\"type\":\"bar\"},{\"alignmentgroup\":\"True\",\"hovertemplate\":\"owner_org=pch<br>fiscal_year=%{x}<br>median_pct_change=%{y}<extra></extra>\",\"legendgroup\":\"\",\"marker\":{\"color\":\"#636efa\",\"pattern\":{\"shape\":\"\"}},\"name\":\"\",\"offsetgroup\":\"\",\"orientation\":\"v\",\"showlegend\":false,\"textposition\":\"auto\",\"x\":[2014,2015,2016,2017,2018,2019,2020,2021,2022,2023,2024],\"xaxis\":\"x25\",\"y\":[78.91723060905778,93.79424778761062,73.50831709449446,93.68789683761432,94.23209005701156,82.16984562279426,100.0,95.3488372093023,74.62095149131433,37.34114759308136,14.076212220047832],\"yaxis\":\"y25\",\"type\":\"bar\"},{\"alignmentgroup\":\"True\",\"hovertemplate\":\"owner_org=pco-bcp<br>fiscal_year=%{x}<br>median_pct_change=%{y}<extra></extra>\",\"legendgroup\":\"\",\"marker\":{\"color\":\"#636efa\",\"pattern\":{\"shape\":\"\"}},\"name\":\"\",\"offsetgroup\":\"\",\"orientation\":\"v\",\"showlegend\":false,\"textposition\":\"auto\",\"x\":[2014,2015,2016,2017,2018,2019,2020,2021,2022,2023,2024],\"xaxis\":\"x26\",\"y\":[40.83774741523768,115.65601549261679,374.5164292891276,51.42857142857142,59.70690055818513,100.0,63.306502769662266,100.57904834769748,70.5185680446595,51.21527777777778,143.2603406326034],\"yaxis\":\"y26\",\"type\":\"bar\"},{\"alignmentgroup\":\"True\",\"hovertemplate\":\"owner_org=phac-aspc<br>fiscal_year=%{x}<br>median_pct_change=%{y}<extra></extra>\",\"legendgroup\":\"\",\"marker\":{\"color\":\"#636efa\",\"pattern\":{\"shape\":\"\"}},\"name\":\"\",\"offsetgroup\":\"\",\"orientation\":\"v\",\"showlegend\":false,\"textposition\":\"auto\",\"x\":[2014,2015,2016,2017,2018,2019,2020,2021,2022,2023,2024],\"xaxis\":\"x27\",\"y\":[108.7750798226545,396.5960655186038,316.43323397905806,176.7755625178012,123.26713747984667,89.85713926239663,70.7138903691814,99.99998237045457,99.90008838685412,49.37346966016496,0.0],\"yaxis\":\"y27\",\"type\":\"bar\"},{\"alignmentgroup\":\"True\",\"hovertemplate\":\"owner_org=ppsc-sppc<br>fiscal_year=%{x}<br>median_pct_change=%{y}<extra></extra>\",\"legendgroup\":\"\",\"marker\":{\"color\":\"#636efa\",\"pattern\":{\"shape\":\"\"}},\"name\":\"\",\"offsetgroup\":\"\",\"orientation\":\"v\",\"showlegend\":false,\"textposition\":\"auto\",\"x\":[2014,2015,2016,2017,2018,2019,2020,2021,2022,2023],\"xaxis\":\"x28\",\"y\":[275.2459475419225,614.301938144271,431.08512426169943,347.1986417657046,94.7201103781879,260.05773385031847,70.53764744105531,99.50691846850955,71.42859139336885,0.0],\"yaxis\":\"y28\",\"type\":\"bar\"},{\"alignmentgroup\":\"True\",\"hovertemplate\":\"owner_org=psc-cfp<br>fiscal_year=%{x}<br>median_pct_change=%{y}<extra></extra>\",\"legendgroup\":\"\",\"marker\":{\"color\":\"#636efa\",\"pattern\":{\"shape\":\"\"}},\"name\":\"\",\"offsetgroup\":\"\",\"orientation\":\"v\",\"showlegend\":false,\"textposition\":\"auto\",\"x\":[2014,2015,2016,2017,2018,2019,2020,2021,2022,2023],\"xaxis\":\"x29\",\"y\":[-1.5846823951656788,42.1929376638171,35.916595921832794,216.34615384615384,175.09851864529116,100.0,99.06886329940352,124.62395992559081,70.65121994031946,0.0],\"yaxis\":\"y29\",\"type\":\"bar\"},{\"alignmentgroup\":\"True\",\"hovertemplate\":\"owner_org=pwgsc-tpsgc<br>fiscal_year=%{x}<br>median_pct_change=%{y}<extra></extra>\",\"legendgroup\":\"\",\"marker\":{\"color\":\"#636efa\",\"pattern\":{\"shape\":\"\"}},\"name\":\"\",\"offsetgroup\":\"\",\"orientation\":\"v\",\"showlegend\":false,\"textposition\":\"auto\",\"x\":[2014,2015,2016,2017,2018,2019,2020,2021,2022,2023,2024],\"xaxis\":\"x30\",\"y\":[109.61212598410111,15.568512239364203,26.046947778308745,46.511172337180646,32.81295002919424,28.73422870974207,38.13977629592596,45.35022509282395,21.80988100861338,19.765366638724092,0.0],\"yaxis\":\"y30\",\"type\":\"bar\"},{\"alignmentgroup\":\"True\",\"hovertemplate\":\"owner_org=rcmp-grc<br>fiscal_year=%{x}<br>median_pct_change=%{y}<extra></extra>\",\"legendgroup\":\"\",\"marker\":{\"color\":\"#636efa\",\"pattern\":{\"shape\":\"\"}},\"name\":\"\",\"offsetgroup\":\"\",\"orientation\":\"v\",\"showlegend\":false,\"textposition\":\"auto\",\"x\":[2014,2015,2016,2017,2018,2019,2020,2021,2022,2023,2024],\"xaxis\":\"x19\",\"y\":[77.0193774830454,152.01042523454876,178.7110259340875,110.53232627950041,99.39787148594378,56.35319454414932,58.566230467634625,35.19165710069697,35.50704288288113,0.0,0.0],\"yaxis\":\"y19\",\"type\":\"bar\"},{\"alignmentgroup\":\"True\",\"hovertemplate\":\"owner_org=ssc-spc<br>fiscal_year=%{x}<br>median_pct_change=%{y}<extra></extra>\",\"legendgroup\":\"\",\"marker\":{\"color\":\"#636efa\",\"pattern\":{\"shape\":\"\"}},\"name\":\"\",\"offsetgroup\":\"\",\"orientation\":\"v\",\"showlegend\":false,\"textposition\":\"auto\",\"x\":[2014,2015,2016,2017,2018,2019,2020,2021,2022,2023,2024],\"xaxis\":\"x20\",\"y\":[207.71382546423484,181.0510021043363,170.28540788520885,110.25,76.55019685366095,51.1979833735586,49.99999159844748,44.541485019700715,98.32940431301296,22.444444444444443,4.330850546244212],\"yaxis\":\"y20\",\"type\":\"bar\"},{\"alignmentgroup\":\"True\",\"hovertemplate\":\"owner_org=sshrc-crsh<br>fiscal_year=%{x}<br>median_pct_change=%{y}<extra></extra>\",\"legendgroup\":\"\",\"marker\":{\"color\":\"#636efa\",\"pattern\":{\"shape\":\"\"}},\"name\":\"\",\"offsetgroup\":\"\",\"orientation\":\"v\",\"showlegend\":false,\"textposition\":\"auto\",\"x\":[2014,2017,2018,2019,2020,2021,2022,2023],\"xaxis\":\"x21\",\"y\":[90.7296693060084,160.0,35.27320018916657,0.0,19.483308124459803,-7.662238938053099,-60.64473524701559,0.0],\"yaxis\":\"y21\",\"type\":\"bar\"},{\"alignmentgroup\":\"True\",\"hovertemplate\":\"owner_org=tbs-sct<br>fiscal_year=%{x}<br>median_pct_change=%{y}<extra></extra>\",\"legendgroup\":\"\",\"marker\":{\"color\":\"#636efa\",\"pattern\":{\"shape\":\"\"}},\"name\":\"\",\"offsetgroup\":\"\",\"orientation\":\"v\",\"showlegend\":false,\"textposition\":\"auto\",\"x\":[2014,2015,2016,2017,2018,2019,2020,2021,2022,2023,2024],\"xaxis\":\"x22\",\"y\":[100.0,22.77803400702821,48.18181318020263,0.0,44.73435660254292,53.84615384615385,45.43181818181817,50.0,75.55555555555556,93.01581545614059,15.000000000000002],\"yaxis\":\"y22\",\"type\":\"bar\"},{\"alignmentgroup\":\"True\",\"hovertemplate\":\"owner_org=tc<br>fiscal_year=%{x}<br>median_pct_change=%{y}<extra></extra>\",\"legendgroup\":\"\",\"marker\":{\"color\":\"#636efa\",\"pattern\":{\"shape\":\"\"}},\"name\":\"\",\"offsetgroup\":\"\",\"orientation\":\"v\",\"showlegend\":false,\"textposition\":\"auto\",\"x\":[2014,2015,2016,2017,2018,2019,2020,2021,2022,2023,2024],\"xaxis\":\"x23\",\"y\":[75.78681399334846,85.84071406330563,74.3363341434081,81.57892197222776,72.37772780246844,25.0,78.33333333333333,100.0,0.0,88.86302575345928,0.0],\"yaxis\":\"y23\",\"type\":\"bar\"},{\"alignmentgroup\":\"True\",\"hovertemplate\":\"owner_org=vac-acc<br>fiscal_year=%{x}<br>median_pct_change=%{y}<extra></extra>\",\"legendgroup\":\"\",\"marker\":{\"color\":\"#636efa\",\"pattern\":{\"shape\":\"\"}},\"name\":\"\",\"offsetgroup\":\"\",\"orientation\":\"v\",\"showlegend\":false,\"textposition\":\"auto\",\"x\":[2014,2015,2016,2017,2018,2019,2020,2021,2022,2023,2024],\"xaxis\":\"x24\",\"y\":[11.964552788074368,2.3628692195636716,2.2137827399479244,86.43564356435644,47.058854955225435,43.24406342462635,1.23400365630713,4.564584349724576,7.929226070246493,3.4178686171303574,14.54911840381525],\"yaxis\":\"y24\",\"type\":\"bar\"},{\"alignmentgroup\":\"True\",\"hovertemplate\":\"owner_org=atssc-scdata<br>fiscal_year=%{x}<br>median_pct_change=%{y}<extra></extra>\",\"legendgroup\":\"\",\"marker\":{\"color\":\"#636efa\",\"pattern\":{\"shape\":\"\"}},\"name\":\"\",\"offsetgroup\":\"\",\"orientation\":\"v\",\"showlegend\":false,\"textposition\":\"auto\",\"x\":[2015,2017,2018,2019,2020,2021,2022,2023,2024],\"xaxis\":\"x13\",\"y\":[1735.9351371681414,74.97613406096355,58.60855442694056,71.11110108639143,50.0,90.0,43.4577869452392,100.0,0.0],\"yaxis\":\"y13\",\"type\":\"bar\"},{\"alignmentgroup\":\"True\",\"hovertemplate\":\"owner_org=cas-satj<br>fiscal_year=%{x}<br>median_pct_change=%{y}<extra></extra>\",\"legendgroup\":\"\",\"marker\":{\"color\":\"#636efa\",\"pattern\":{\"shape\":\"\"}},\"name\":\"\",\"offsetgroup\":\"\",\"orientation\":\"v\",\"showlegend\":false,\"textposition\":\"auto\",\"x\":[2015,2016,2017,2018,2019,2020,2021,2022,2023],\"xaxis\":\"x14\",\"y\":[110.04987991871423,-1.800720288115246,94.01685654499599,83.4700832122573,47.335005789270554,60.0,72.80375769562028,0.0,0.0],\"yaxis\":\"y14\",\"type\":\"bar\"},{\"alignmentgroup\":\"True\",\"hovertemplate\":\"owner_org=chrc-ccdp<br>fiscal_year=%{x}<br>median_pct_change=%{y}<extra></extra>\",\"legendgroup\":\"\",\"marker\":{\"color\":\"#636efa\",\"pattern\":{\"shape\":\"\"}},\"name\":\"\",\"offsetgroup\":\"\",\"orientation\":\"v\",\"showlegend\":false,\"textposition\":\"auto\",\"x\":[2015,2016,2018,2019,2020,2021,2022,2023,2024],\"xaxis\":\"x15\",\"y\":[94.89696349557522,295.5,33.594214698146054,200.0,75.49206923514501,61.53846153846154,44.96216204285591,49.99998546075028,31.3953488372093],\"yaxis\":\"y15\",\"type\":\"bar\"},{\"alignmentgroup\":\"True\",\"hovertemplate\":\"owner_org=csa-asc<br>fiscal_year=%{x}<br>median_pct_change=%{y}<extra></extra>\",\"legendgroup\":\"\",\"marker\":{\"color\":\"#636efa\",\"pattern\":{\"shape\":\"\"}},\"name\":\"\",\"offsetgroup\":\"\",\"orientation\":\"v\",\"showlegend\":false,\"textposition\":\"auto\",\"x\":[2015,2016,2017,2018,2019,2020,2021,2022,2023],\"xaxis\":\"x16\",\"y\":[270.68948292671973,57.44518573749631,134.51586373819922,79.06978103095314,79.20463343090837,92.04887218991746,98.5,79.50029620174216,80.80113328318811],\"yaxis\":\"y16\",\"type\":\"bar\"},{\"alignmentgroup\":\"True\",\"hovertemplate\":\"owner_org=csps-efpc<br>fiscal_year=%{x}<br>median_pct_change=%{y}<extra></extra>\",\"legendgroup\":\"\",\"marker\":{\"color\":\"#636efa\",\"pattern\":{\"shape\":\"\"}},\"name\":\"\",\"offsetgroup\":\"\",\"orientation\":\"v\",\"showlegend\":false,\"textposition\":\"auto\",\"x\":[2015,2017,2018,2019,2020,2021,2022,2023],\"xaxis\":\"x17\",\"y\":[2.1404520136702123,45.604488479125806,174.9999449243856,101.15829804563262,100.0,43.23076923076923,86.98292082749211,95.8],\"yaxis\":\"y17\",\"type\":\"bar\"},{\"alignmentgroup\":\"True\",\"hovertemplate\":\"owner_org=elections<br>fiscal_year=%{x}<br>median_pct_change=%{y}<extra></extra>\",\"legendgroup\":\"\",\"marker\":{\"color\":\"#636efa\",\"pattern\":{\"shape\":\"\"}},\"name\":\"\",\"offsetgroup\":\"\",\"orientation\":\"v\",\"showlegend\":false,\"textposition\":\"auto\",\"x\":[2015,2017,2018,2019,2020,2021,2022,2023],\"xaxis\":\"x18\",\"y\":[327.5309204312629,206.1696657331321,106.01958328512153,57.92407716118413,100.0,40.0,51.451984824196956,100.00005096797094],\"yaxis\":\"y18\",\"type\":\"bar\"},{\"alignmentgroup\":\"True\",\"hovertemplate\":\"owner_org=infc<br>fiscal_year=%{x}<br>median_pct_change=%{y}<extra></extra>\",\"legendgroup\":\"\",\"marker\":{\"color\":\"#636efa\",\"pattern\":{\"shape\":\"\"}},\"name\":\"\",\"offsetgroup\":\"\",\"orientation\":\"v\",\"showlegend\":false,\"textposition\":\"auto\",\"x\":[2015,2017,2018,2019,2020,2021,2022,2023],\"xaxis\":\"x7\",\"y\":[16.232153635519257,83.33333333333334,131.29976677728615,101.74778562730312,200.18212033536423,185.7142857142857,142.22222222222223,44.230068461619794],\"yaxis\":\"y7\",\"type\":\"bar\"},{\"alignmentgroup\":\"True\",\"hovertemplate\":\"owner_org=jus<br>fiscal_year=%{x}<br>median_pct_change=%{y}<extra></extra>\",\"legendgroup\":\"\",\"marker\":{\"color\":\"#636efa\",\"pattern\":{\"shape\":\"\"}},\"name\":\"\",\"offsetgroup\":\"\",\"orientation\":\"v\",\"showlegend\":false,\"textposition\":\"auto\",\"x\":[2015,2016,2017,2018,2019,2020,2021,2022,2023,2024],\"xaxis\":\"x8\",\"y\":[429.9945163186174,392.85651974638,300.2712219529138,167.2939339362654,99.5959040003324,66.66666666666666,50.427350427350426,42.857142857142854,28.54853766706936,47.74707230585615],\"yaxis\":\"y8\",\"type\":\"bar\"},{\"alignmentgroup\":\"True\",\"hovertemplate\":\"owner_org=oag-bvg<br>fiscal_year=%{x}<br>median_pct_change=%{y}<extra></extra>\",\"legendgroup\":\"\",\"marker\":{\"color\":\"#636efa\",\"pattern\":{\"shape\":\"\"}},\"name\":\"\",\"offsetgroup\":\"\",\"orientation\":\"v\",\"showlegend\":false,\"textposition\":\"auto\",\"x\":[2015,2017,2018,2019,2020,2021,2022,2023,2024],\"xaxis\":\"x9\",\"y\":[79.45035760545136,135.2941176470588,100.0,100.0,73.48831856584768,50.0,90.95283926852743,20.255782688131262,0.0],\"yaxis\":\"y9\",\"type\":\"bar\"},{\"alignmentgroup\":\"True\",\"hovertemplate\":\"owner_org=osfi-bsif<br>fiscal_year=%{x}<br>median_pct_change=%{y}<extra></extra>\",\"legendgroup\":\"\",\"marker\":{\"color\":\"#636efa\",\"pattern\":{\"shape\":\"\"}},\"name\":\"\",\"offsetgroup\":\"\",\"orientation\":\"v\",\"showlegend\":false,\"textposition\":\"auto\",\"x\":[2015,2016,2017,2018,2019,2020,2021,2022,2023,2024],\"xaxis\":\"x10\",\"y\":[1257.1577942842205,342.46000000000004,145.066726645674,111.41261857394353,163.75,31.07344632768362,95.55302553112641,157.2222222222222,90.60094558314319,666.817822181914],\"yaxis\":\"y10\",\"type\":\"bar\"},{\"alignmentgroup\":\"True\",\"hovertemplate\":\"owner_org=osgg-bsgg<br>fiscal_year=%{x}<br>median_pct_change=%{y}<extra></extra>\",\"legendgroup\":\"\",\"marker\":{\"color\":\"#636efa\",\"pattern\":{\"shape\":\"\"}},\"name\":\"\",\"offsetgroup\":\"\",\"orientation\":\"v\",\"showlegend\":false,\"textposition\":\"auto\",\"x\":[2015,2016,2017,2018,2019,2020,2021,2022,2023],\"xaxis\":\"x11\",\"y\":[0.0,102.40963855421687,20.0,0.0,12.34855151148227,0.0,-26.629891838741393,0.0,0.0],\"yaxis\":\"y11\",\"type\":\"bar\"},{\"alignmentgroup\":\"True\",\"hovertemplate\":\"owner_org=cer-rec<br>fiscal_year=%{x}<br>median_pct_change=%{y}<extra></extra>\",\"legendgroup\":\"\",\"marker\":{\"color\":\"#636efa\",\"pattern\":{\"shape\":\"\"}},\"name\":\"\",\"offsetgroup\":\"\",\"orientation\":\"v\",\"showlegend\":false,\"textposition\":\"auto\",\"x\":[2016,2017,2018,2019,2020,2021,2022,2023,2024],\"xaxis\":\"x12\",\"y\":[33.06122448979592,58.730158730158735,71.80532094594594,56.06412112508035,66.50574063617542,79.22437405335847,27.853641880693548,0.0,0.0],\"yaxis\":\"y12\",\"type\":\"bar\"},{\"alignmentgroup\":\"True\",\"hovertemplate\":\"owner_org=cta-otc<br>fiscal_year=%{x}<br>median_pct_change=%{y}<extra></extra>\",\"legendgroup\":\"\",\"marker\":{\"color\":\"#636efa\",\"pattern\":{\"shape\":\"\"}},\"name\":\"\",\"offsetgroup\":\"\",\"orientation\":\"v\",\"showlegend\":false,\"textposition\":\"auto\",\"x\":[2016,2017,2018,2019,2020,2021,2022,2023],\"xaxis\":\"x\",\"y\":[254.3522682413198,80.53074391833712,54.51286691012241,56.15581287832361,-0.889818555563596,67.4074074074074,1.6540416648834715,1.7477100215633312],\"yaxis\":\"y\",\"type\":\"bar\"},{\"alignmentgroup\":\"True\",\"hovertemplate\":\"owner_org=lac-bac<br>fiscal_year=%{x}<br>median_pct_change=%{y}<extra></extra>\",\"legendgroup\":\"\",\"marker\":{\"color\":\"#636efa\",\"pattern\":{\"shape\":\"\"}},\"name\":\"\",\"offsetgroup\":\"\",\"orientation\":\"v\",\"showlegend\":false,\"textposition\":\"auto\",\"x\":[2016,2017,2018,2019,2020,2021,2022,2023,2024],\"xaxis\":\"x2\",\"y\":[143.94428214366866,138.8306615479716,32.310472373495564,53.205109932985835,0.0,2.5974025974025974,54.21834360348373,25.833333333333336,6.474808100799044],\"yaxis\":\"y2\",\"type\":\"bar\"},{\"alignmentgroup\":\"True\",\"hovertemplate\":\"owner_org=nserc-crsng<br>fiscal_year=%{x}<br>median_pct_change=%{y}<extra></extra>\",\"legendgroup\":\"\",\"marker\":{\"color\":\"#636efa\",\"pattern\":{\"shape\":\"\"}},\"name\":\"\",\"offsetgroup\":\"\",\"orientation\":\"v\",\"showlegend\":false,\"textposition\":\"auto\",\"x\":[2016,2017,2018,2019,2020,2021,2022,2023],\"xaxis\":\"x3\",\"y\":[106.64858732741857,71.33785082174462,169.49921595884265,0.0,20.64516129032258,-30.34308859703513,90.87250587425841,0.0],\"yaxis\":\"y3\",\"type\":\"bar\"},{\"alignmentgroup\":\"True\",\"hovertemplate\":\"owner_org=ic<br>fiscal_year=%{x}<br>median_pct_change=%{y}<extra></extra>\",\"legendgroup\":\"\",\"marker\":{\"color\":\"#636efa\",\"pattern\":{\"shape\":\"\"}},\"name\":\"\",\"offsetgroup\":\"\",\"orientation\":\"v\",\"showlegend\":false,\"textposition\":\"auto\",\"x\":[2017,2018,2019,2020,2021,2022,2023,2024],\"xaxis\":\"x4\",\"y\":[199.30080399919677,156.25000000000006,100.0,104.83870967741933,82.75862068965517,90.59833086770863,49.84550264550264,0.0],\"yaxis\":\"y4\",\"type\":\"bar\"}],                        {\"template\":{\"data\":{\"histogram2dcontour\":[{\"type\":\"histogram2dcontour\",\"colorbar\":{\"outlinewidth\":0,\"ticks\":\"\"},\"colorscale\":[[0.0,\"#0d0887\"],[0.1111111111111111,\"#46039f\"],[0.2222222222222222,\"#7201a8\"],[0.3333333333333333,\"#9c179e\"],[0.4444444444444444,\"#bd3786\"],[0.5555555555555556,\"#d8576b\"],[0.6666666666666666,\"#ed7953\"],[0.7777777777777778,\"#fb9f3a\"],[0.8888888888888888,\"#fdca26\"],[1.0,\"#f0f921\"]]}],\"choropleth\":[{\"type\":\"choropleth\",\"colorbar\":{\"outlinewidth\":0,\"ticks\":\"\"}}],\"histogram2d\":[{\"type\":\"histogram2d\",\"colorbar\":{\"outlinewidth\":0,\"ticks\":\"\"},\"colorscale\":[[0.0,\"#0d0887\"],[0.1111111111111111,\"#46039f\"],[0.2222222222222222,\"#7201a8\"],[0.3333333333333333,\"#9c179e\"],[0.4444444444444444,\"#bd3786\"],[0.5555555555555556,\"#d8576b\"],[0.6666666666666666,\"#ed7953\"],[0.7777777777777778,\"#fb9f3a\"],[0.8888888888888888,\"#fdca26\"],[1.0,\"#f0f921\"]]}],\"heatmap\":[{\"type\":\"heatmap\",\"colorbar\":{\"outlinewidth\":0,\"ticks\":\"\"},\"colorscale\":[[0.0,\"#0d0887\"],[0.1111111111111111,\"#46039f\"],[0.2222222222222222,\"#7201a8\"],[0.3333333333333333,\"#9c179e\"],[0.4444444444444444,\"#bd3786\"],[0.5555555555555556,\"#d8576b\"],[0.6666666666666666,\"#ed7953\"],[0.7777777777777778,\"#fb9f3a\"],[0.8888888888888888,\"#fdca26\"],[1.0,\"#f0f921\"]]}],\"heatmapgl\":[{\"type\":\"heatmapgl\",\"colorbar\":{\"outlinewidth\":0,\"ticks\":\"\"},\"colorscale\":[[0.0,\"#0d0887\"],[0.1111111111111111,\"#46039f\"],[0.2222222222222222,\"#7201a8\"],[0.3333333333333333,\"#9c179e\"],[0.4444444444444444,\"#bd3786\"],[0.5555555555555556,\"#d8576b\"],[0.6666666666666666,\"#ed7953\"],[0.7777777777777778,\"#fb9f3a\"],[0.8888888888888888,\"#fdca26\"],[1.0,\"#f0f921\"]]}],\"contourcarpet\":[{\"type\":\"contourcarpet\",\"colorbar\":{\"outlinewidth\":0,\"ticks\":\"\"}}],\"contour\":[{\"type\":\"contour\",\"colorbar\":{\"outlinewidth\":0,\"ticks\":\"\"},\"colorscale\":[[0.0,\"#0d0887\"],[0.1111111111111111,\"#46039f\"],[0.2222222222222222,\"#7201a8\"],[0.3333333333333333,\"#9c179e\"],[0.4444444444444444,\"#bd3786\"],[0.5555555555555556,\"#d8576b\"],[0.6666666666666666,\"#ed7953\"],[0.7777777777777778,\"#fb9f3a\"],[0.8888888888888888,\"#fdca26\"],[1.0,\"#f0f921\"]]}],\"surface\":[{\"type\":\"surface\",\"colorbar\":{\"outlinewidth\":0,\"ticks\":\"\"},\"colorscale\":[[0.0,\"#0d0887\"],[0.1111111111111111,\"#46039f\"],[0.2222222222222222,\"#7201a8\"],[0.3333333333333333,\"#9c179e\"],[0.4444444444444444,\"#bd3786\"],[0.5555555555555556,\"#d8576b\"],[0.6666666666666666,\"#ed7953\"],[0.7777777777777778,\"#fb9f3a\"],[0.8888888888888888,\"#fdca26\"],[1.0,\"#f0f921\"]]}],\"mesh3d\":[{\"type\":\"mesh3d\",\"colorbar\":{\"outlinewidth\":0,\"ticks\":\"\"}}],\"scatter\":[{\"fillpattern\":{\"fillmode\":\"overlay\",\"size\":10,\"solidity\":0.2},\"type\":\"scatter\"}],\"parcoords\":[{\"type\":\"parcoords\",\"line\":{\"colorbar\":{\"outlinewidth\":0,\"ticks\":\"\"}}}],\"scatterpolargl\":[{\"type\":\"scatterpolargl\",\"marker\":{\"colorbar\":{\"outlinewidth\":0,\"ticks\":\"\"}}}],\"bar\":[{\"error_x\":{\"color\":\"#2a3f5f\"},\"error_y\":{\"color\":\"#2a3f5f\"},\"marker\":{\"line\":{\"color\":\"#E5ECF6\",\"width\":0.5},\"pattern\":{\"fillmode\":\"overlay\",\"size\":10,\"solidity\":0.2}},\"type\":\"bar\"}],\"scattergeo\":[{\"type\":\"scattergeo\",\"marker\":{\"colorbar\":{\"outlinewidth\":0,\"ticks\":\"\"}}}],\"scatterpolar\":[{\"type\":\"scatterpolar\",\"marker\":{\"colorbar\":{\"outlinewidth\":0,\"ticks\":\"\"}}}],\"histogram\":[{\"marker\":{\"pattern\":{\"fillmode\":\"overlay\",\"size\":10,\"solidity\":0.2}},\"type\":\"histogram\"}],\"scattergl\":[{\"type\":\"scattergl\",\"marker\":{\"colorbar\":{\"outlinewidth\":0,\"ticks\":\"\"}}}],\"scatter3d\":[{\"type\":\"scatter3d\",\"line\":{\"colorbar\":{\"outlinewidth\":0,\"ticks\":\"\"}},\"marker\":{\"colorbar\":{\"outlinewidth\":0,\"ticks\":\"\"}}}],\"scattermapbox\":[{\"type\":\"scattermapbox\",\"marker\":{\"colorbar\":{\"outlinewidth\":0,\"ticks\":\"\"}}}],\"scatterternary\":[{\"type\":\"scatterternary\",\"marker\":{\"colorbar\":{\"outlinewidth\":0,\"ticks\":\"\"}}}],\"scattercarpet\":[{\"type\":\"scattercarpet\",\"marker\":{\"colorbar\":{\"outlinewidth\":0,\"ticks\":\"\"}}}],\"carpet\":[{\"aaxis\":{\"endlinecolor\":\"#2a3f5f\",\"gridcolor\":\"white\",\"linecolor\":\"white\",\"minorgridcolor\":\"white\",\"startlinecolor\":\"#2a3f5f\"},\"baxis\":{\"endlinecolor\":\"#2a3f5f\",\"gridcolor\":\"white\",\"linecolor\":\"white\",\"minorgridcolor\":\"white\",\"startlinecolor\":\"#2a3f5f\"},\"type\":\"carpet\"}],\"table\":[{\"cells\":{\"fill\":{\"color\":\"#EBF0F8\"},\"line\":{\"color\":\"white\"}},\"header\":{\"fill\":{\"color\":\"#C8D4E3\"},\"line\":{\"color\":\"white\"}},\"type\":\"table\"}],\"barpolar\":[{\"marker\":{\"line\":{\"color\":\"#E5ECF6\",\"width\":0.5},\"pattern\":{\"fillmode\":\"overlay\",\"size\":10,\"solidity\":0.2}},\"type\":\"barpolar\"}],\"pie\":[{\"automargin\":true,\"type\":\"pie\"}]},\"layout\":{\"autotypenumbers\":\"strict\",\"colorway\":[\"#636efa\",\"#EF553B\",\"#00cc96\",\"#ab63fa\",\"#FFA15A\",\"#19d3f3\",\"#FF6692\",\"#B6E880\",\"#FF97FF\",\"#FECB52\"],\"font\":{\"color\":\"#2a3f5f\"},\"hovermode\":\"closest\",\"hoverlabel\":{\"align\":\"left\"},\"paper_bgcolor\":\"white\",\"plot_bgcolor\":\"#E5ECF6\",\"polar\":{\"bgcolor\":\"#E5ECF6\",\"angularaxis\":{\"gridcolor\":\"white\",\"linecolor\":\"white\",\"ticks\":\"\"},\"radialaxis\":{\"gridcolor\":\"white\",\"linecolor\":\"white\",\"ticks\":\"\"}},\"ternary\":{\"bgcolor\":\"#E5ECF6\",\"aaxis\":{\"gridcolor\":\"white\",\"linecolor\":\"white\",\"ticks\":\"\"},\"baxis\":{\"gridcolor\":\"white\",\"linecolor\":\"white\",\"ticks\":\"\"},\"caxis\":{\"gridcolor\":\"white\",\"linecolor\":\"white\",\"ticks\":\"\"}},\"coloraxis\":{\"colorbar\":{\"outlinewidth\":0,\"ticks\":\"\"}},\"colorscale\":{\"sequential\":[[0.0,\"#0d0887\"],[0.1111111111111111,\"#46039f\"],[0.2222222222222222,\"#7201a8\"],[0.3333333333333333,\"#9c179e\"],[0.4444444444444444,\"#bd3786\"],[0.5555555555555556,\"#d8576b\"],[0.6666666666666666,\"#ed7953\"],[0.7777777777777778,\"#fb9f3a\"],[0.8888888888888888,\"#fdca26\"],[1.0,\"#f0f921\"]],\"sequentialminus\":[[0.0,\"#0d0887\"],[0.1111111111111111,\"#46039f\"],[0.2222222222222222,\"#7201a8\"],[0.3333333333333333,\"#9c179e\"],[0.4444444444444444,\"#bd3786\"],[0.5555555555555556,\"#d8576b\"],[0.6666666666666666,\"#ed7953\"],[0.7777777777777778,\"#fb9f3a\"],[0.8888888888888888,\"#fdca26\"],[1.0,\"#f0f921\"]],\"diverging\":[[0,\"#8e0152\"],[0.1,\"#c51b7d\"],[0.2,\"#de77ae\"],[0.3,\"#f1b6da\"],[0.4,\"#fde0ef\"],[0.5,\"#f7f7f7\"],[0.6,\"#e6f5d0\"],[0.7,\"#b8e186\"],[0.8,\"#7fbc41\"],[0.9,\"#4d9221\"],[1,\"#276419\"]]},\"xaxis\":{\"gridcolor\":\"white\",\"linecolor\":\"white\",\"ticks\":\"\",\"title\":{\"standoff\":15},\"zerolinecolor\":\"white\",\"automargin\":true,\"zerolinewidth\":2},\"yaxis\":{\"gridcolor\":\"white\",\"linecolor\":\"white\",\"ticks\":\"\",\"title\":{\"standoff\":15},\"zerolinecolor\":\"white\",\"automargin\":true,\"zerolinewidth\":2},\"scene\":{\"xaxis\":{\"backgroundcolor\":\"#E5ECF6\",\"gridcolor\":\"white\",\"linecolor\":\"white\",\"showbackground\":true,\"ticks\":\"\",\"zerolinecolor\":\"white\",\"gridwidth\":2},\"yaxis\":{\"backgroundcolor\":\"#E5ECF6\",\"gridcolor\":\"white\",\"linecolor\":\"white\",\"showbackground\":true,\"ticks\":\"\",\"zerolinecolor\":\"white\",\"gridwidth\":2},\"zaxis\":{\"backgroundcolor\":\"#E5ECF6\",\"gridcolor\":\"white\",\"linecolor\":\"white\",\"showbackground\":true,\"ticks\":\"\",\"zerolinecolor\":\"white\",\"gridwidth\":2}},\"shapedefaults\":{\"line\":{\"color\":\"#2a3f5f\"}},\"annotationdefaults\":{\"arrowcolor\":\"#2a3f5f\",\"arrowhead\":0,\"arrowwidth\":1},\"geo\":{\"bgcolor\":\"white\",\"landcolor\":\"#E5ECF6\",\"subunitcolor\":\"white\",\"showland\":true,\"showlakes\":true,\"lakecolor\":\"white\"},\"title\":{\"x\":0.05},\"mapbox\":{\"style\":\"light\"}}},\"xaxis\":{\"anchor\":\"y\",\"domain\":[0.0,0.15],\"title\":{\"text\":\"fiscal_year\"},\"range\":[2015,2023]},\"yaxis\":{\"anchor\":\"x\",\"domain\":[0.0,0.09955555555555555],\"title\":{\"text\":\"median_pct_change\"},\"range\":[0,400]},\"xaxis2\":{\"anchor\":\"y2\",\"domain\":[0.16999999999999998,0.31999999999999995],\"matches\":\"x\",\"title\":{\"text\":\"fiscal_year\"},\"range\":[2015,2023]},\"yaxis2\":{\"anchor\":\"x2\",\"domain\":[0.0,0.09955555555555555],\"matches\":\"y\",\"showticklabels\":false},\"xaxis3\":{\"anchor\":\"y3\",\"domain\":[0.33999999999999997,0.49],\"matches\":\"x\",\"title\":{\"text\":\"fiscal_year\"},\"range\":[2015,2023]},\"yaxis3\":{\"anchor\":\"x3\",\"domain\":[0.0,0.09955555555555555],\"matches\":\"y\",\"showticklabels\":false},\"xaxis4\":{\"anchor\":\"y4\",\"domain\":[0.51,0.66],\"matches\":\"x\",\"title\":{\"text\":\"fiscal_year\"},\"range\":[2015,2023]},\"yaxis4\":{\"anchor\":\"x4\",\"domain\":[0.0,0.09955555555555555],\"matches\":\"y\",\"showticklabels\":false},\"xaxis5\":{\"anchor\":\"y5\",\"domain\":[0.6799999999999999,0.83],\"matches\":\"x\",\"title\":{\"text\":\"fiscal_year\"},\"range\":[2015,2023]},\"yaxis5\":{\"anchor\":\"x5\",\"domain\":[0.0,0.09955555555555555],\"matches\":\"y\",\"showticklabels\":false},\"xaxis6\":{\"anchor\":\"y6\",\"domain\":[0.85,1.0],\"matches\":\"x\",\"title\":{\"text\":\"fiscal_year\"},\"range\":[2015,2023]},\"yaxis6\":{\"anchor\":\"x6\",\"domain\":[0.0,0.09955555555555555],\"matches\":\"y\",\"showticklabels\":false},\"xaxis7\":{\"anchor\":\"y7\",\"domain\":[0.0,0.15],\"matches\":\"x\",\"showticklabels\":false},\"yaxis7\":{\"anchor\":\"x7\",\"domain\":[0.11255555555555555,0.21211111111111108],\"matches\":\"y\",\"title\":{\"text\":\"median_pct_change\"},\"range\":[0,400]},\"xaxis8\":{\"anchor\":\"y8\",\"domain\":[0.16999999999999998,0.31999999999999995],\"matches\":\"x\",\"showticklabels\":false},\"yaxis8\":{\"anchor\":\"x8\",\"domain\":[0.11255555555555555,0.21211111111111108],\"matches\":\"y\",\"showticklabels\":false},\"xaxis9\":{\"anchor\":\"y9\",\"domain\":[0.33999999999999997,0.49],\"matches\":\"x\",\"showticklabels\":false},\"yaxis9\":{\"anchor\":\"x9\",\"domain\":[0.11255555555555555,0.21211111111111108],\"matches\":\"y\",\"showticklabels\":false},\"xaxis10\":{\"anchor\":\"y10\",\"domain\":[0.51,0.66],\"matches\":\"x\",\"showticklabels\":false},\"yaxis10\":{\"anchor\":\"x10\",\"domain\":[0.11255555555555555,0.21211111111111108],\"matches\":\"y\",\"showticklabels\":false},\"xaxis11\":{\"anchor\":\"y11\",\"domain\":[0.6799999999999999,0.83],\"matches\":\"x\",\"showticklabels\":false},\"yaxis11\":{\"anchor\":\"x11\",\"domain\":[0.11255555555555555,0.21211111111111108],\"matches\":\"y\",\"showticklabels\":false},\"xaxis12\":{\"anchor\":\"y12\",\"domain\":[0.85,1.0],\"matches\":\"x\",\"showticklabels\":false},\"yaxis12\":{\"anchor\":\"x12\",\"domain\":[0.11255555555555555,0.21211111111111108],\"matches\":\"y\",\"showticklabels\":false},\"xaxis13\":{\"anchor\":\"y13\",\"domain\":[0.0,0.15],\"matches\":\"x\",\"showticklabels\":false},\"yaxis13\":{\"anchor\":\"x13\",\"domain\":[0.2251111111111111,0.32466666666666666],\"matches\":\"y\",\"title\":{\"text\":\"median_pct_change\"},\"range\":[0,400]},\"xaxis14\":{\"anchor\":\"y14\",\"domain\":[0.16999999999999998,0.31999999999999995],\"matches\":\"x\",\"showticklabels\":false},\"yaxis14\":{\"anchor\":\"x14\",\"domain\":[0.2251111111111111,0.32466666666666666],\"matches\":\"y\",\"showticklabels\":false},\"xaxis15\":{\"anchor\":\"y15\",\"domain\":[0.33999999999999997,0.49],\"matches\":\"x\",\"showticklabels\":false},\"yaxis15\":{\"anchor\":\"x15\",\"domain\":[0.2251111111111111,0.32466666666666666],\"matches\":\"y\",\"showticklabels\":false},\"xaxis16\":{\"anchor\":\"y16\",\"domain\":[0.51,0.66],\"matches\":\"x\",\"showticklabels\":false},\"yaxis16\":{\"anchor\":\"x16\",\"domain\":[0.2251111111111111,0.32466666666666666],\"matches\":\"y\",\"showticklabels\":false},\"xaxis17\":{\"anchor\":\"y17\",\"domain\":[0.6799999999999999,0.83],\"matches\":\"x\",\"showticklabels\":false},\"yaxis17\":{\"anchor\":\"x17\",\"domain\":[0.2251111111111111,0.32466666666666666],\"matches\":\"y\",\"showticklabels\":false},\"xaxis18\":{\"anchor\":\"y18\",\"domain\":[0.85,1.0],\"matches\":\"x\",\"showticklabels\":false},\"yaxis18\":{\"anchor\":\"x18\",\"domain\":[0.2251111111111111,0.32466666666666666],\"matches\":\"y\",\"showticklabels\":false},\"xaxis19\":{\"anchor\":\"y19\",\"domain\":[0.0,0.15],\"matches\":\"x\",\"showticklabels\":false},\"yaxis19\":{\"anchor\":\"x19\",\"domain\":[0.3376666666666666,0.4372222222222222],\"matches\":\"y\",\"title\":{\"text\":\"median_pct_change\"},\"range\":[0,400]},\"xaxis20\":{\"anchor\":\"y20\",\"domain\":[0.16999999999999998,0.31999999999999995],\"matches\":\"x\",\"showticklabels\":false},\"yaxis20\":{\"anchor\":\"x20\",\"domain\":[0.3376666666666666,0.4372222222222222],\"matches\":\"y\",\"showticklabels\":false},\"xaxis21\":{\"anchor\":\"y21\",\"domain\":[0.33999999999999997,0.49],\"matches\":\"x\",\"showticklabels\":false},\"yaxis21\":{\"anchor\":\"x21\",\"domain\":[0.3376666666666666,0.4372222222222222],\"matches\":\"y\",\"showticklabels\":false},\"xaxis22\":{\"anchor\":\"y22\",\"domain\":[0.51,0.66],\"matches\":\"x\",\"showticklabels\":false},\"yaxis22\":{\"anchor\":\"x22\",\"domain\":[0.3376666666666666,0.4372222222222222],\"matches\":\"y\",\"showticklabels\":false},\"xaxis23\":{\"anchor\":\"y23\",\"domain\":[0.6799999999999999,0.83],\"matches\":\"x\",\"showticklabels\":false},\"yaxis23\":{\"anchor\":\"x23\",\"domain\":[0.3376666666666666,0.4372222222222222],\"matches\":\"y\",\"showticklabels\":false},\"xaxis24\":{\"anchor\":\"y24\",\"domain\":[0.85,1.0],\"matches\":\"x\",\"showticklabels\":false},\"yaxis24\":{\"anchor\":\"x24\",\"domain\":[0.3376666666666666,0.4372222222222222],\"matches\":\"y\",\"showticklabels\":false},\"xaxis25\":{\"anchor\":\"y25\",\"domain\":[0.0,0.15],\"matches\":\"x\",\"showticklabels\":false},\"yaxis25\":{\"anchor\":\"x25\",\"domain\":[0.4502222222222222,0.5497777777777777],\"matches\":\"y\",\"title\":{\"text\":\"median_pct_change\"},\"range\":[0,400]},\"xaxis26\":{\"anchor\":\"y26\",\"domain\":[0.16999999999999998,0.31999999999999995],\"matches\":\"x\",\"showticklabels\":false},\"yaxis26\":{\"anchor\":\"x26\",\"domain\":[0.4502222222222222,0.5497777777777777],\"matches\":\"y\",\"showticklabels\":false},\"xaxis27\":{\"anchor\":\"y27\",\"domain\":[0.33999999999999997,0.49],\"matches\":\"x\",\"showticklabels\":false},\"yaxis27\":{\"anchor\":\"x27\",\"domain\":[0.4502222222222222,0.5497777777777777],\"matches\":\"y\",\"showticklabels\":false},\"xaxis28\":{\"anchor\":\"y28\",\"domain\":[0.51,0.66],\"matches\":\"x\",\"showticklabels\":false},\"yaxis28\":{\"anchor\":\"x28\",\"domain\":[0.4502222222222222,0.5497777777777777],\"matches\":\"y\",\"showticklabels\":false},\"xaxis29\":{\"anchor\":\"y29\",\"domain\":[0.6799999999999999,0.83],\"matches\":\"x\",\"showticklabels\":false},\"yaxis29\":{\"anchor\":\"x29\",\"domain\":[0.4502222222222222,0.5497777777777777],\"matches\":\"y\",\"showticklabels\":false},\"xaxis30\":{\"anchor\":\"y30\",\"domain\":[0.85,1.0],\"matches\":\"x\",\"showticklabels\":false},\"yaxis30\":{\"anchor\":\"x30\",\"domain\":[0.4502222222222222,0.5497777777777777],\"matches\":\"y\",\"showticklabels\":false},\"xaxis31\":{\"anchor\":\"y31\",\"domain\":[0.0,0.15],\"matches\":\"x\",\"showticklabels\":false},\"yaxis31\":{\"anchor\":\"x31\",\"domain\":[0.5627777777777778,0.6623333333333333],\"matches\":\"y\",\"title\":{\"text\":\"median_pct_change\"},\"range\":[0,400]},\"xaxis32\":{\"anchor\":\"y32\",\"domain\":[0.16999999999999998,0.31999999999999995],\"matches\":\"x\",\"showticklabels\":false},\"yaxis32\":{\"anchor\":\"x32\",\"domain\":[0.5627777777777778,0.6623333333333333],\"matches\":\"y\",\"showticklabels\":false},\"xaxis33\":{\"anchor\":\"y33\",\"domain\":[0.33999999999999997,0.49],\"matches\":\"x\",\"showticklabels\":false},\"yaxis33\":{\"anchor\":\"x33\",\"domain\":[0.5627777777777778,0.6623333333333333],\"matches\":\"y\",\"showticklabels\":false},\"xaxis34\":{\"anchor\":\"y34\",\"domain\":[0.51,0.66],\"matches\":\"x\",\"showticklabels\":false},\"yaxis34\":{\"anchor\":\"x34\",\"domain\":[0.5627777777777778,0.6623333333333333],\"matches\":\"y\",\"showticklabels\":false},\"xaxis35\":{\"anchor\":\"y35\",\"domain\":[0.6799999999999999,0.83],\"matches\":\"x\",\"showticklabels\":false},\"yaxis35\":{\"anchor\":\"x35\",\"domain\":[0.5627777777777778,0.6623333333333333],\"matches\":\"y\",\"showticklabels\":false},\"xaxis36\":{\"anchor\":\"y36\",\"domain\":[0.85,1.0],\"matches\":\"x\",\"showticklabels\":false},\"yaxis36\":{\"anchor\":\"x36\",\"domain\":[0.5627777777777778,0.6623333333333333],\"matches\":\"y\",\"showticklabels\":false},\"xaxis37\":{\"anchor\":\"y37\",\"domain\":[0.0,0.15],\"matches\":\"x\",\"showticklabels\":false},\"yaxis37\":{\"anchor\":\"x37\",\"domain\":[0.6753333333333332,0.7748888888888887],\"matches\":\"y\",\"title\":{\"text\":\"median_pct_change\"},\"range\":[0,400]},\"xaxis38\":{\"anchor\":\"y38\",\"domain\":[0.16999999999999998,0.31999999999999995],\"matches\":\"x\",\"showticklabels\":false},\"yaxis38\":{\"anchor\":\"x38\",\"domain\":[0.6753333333333332,0.7748888888888887],\"matches\":\"y\",\"showticklabels\":false},\"xaxis39\":{\"anchor\":\"y39\",\"domain\":[0.33999999999999997,0.49],\"matches\":\"x\",\"showticklabels\":false},\"yaxis39\":{\"anchor\":\"x39\",\"domain\":[0.6753333333333332,0.7748888888888887],\"matches\":\"y\",\"showticklabels\":false},\"xaxis40\":{\"anchor\":\"y40\",\"domain\":[0.51,0.66],\"matches\":\"x\",\"showticklabels\":false},\"yaxis40\":{\"anchor\":\"x40\",\"domain\":[0.6753333333333332,0.7748888888888887],\"matches\":\"y\",\"showticklabels\":false},\"xaxis41\":{\"anchor\":\"y41\",\"domain\":[0.6799999999999999,0.83],\"matches\":\"x\",\"showticklabels\":false},\"yaxis41\":{\"anchor\":\"x41\",\"domain\":[0.6753333333333332,0.7748888888888887],\"matches\":\"y\",\"showticklabels\":false},\"xaxis42\":{\"anchor\":\"y42\",\"domain\":[0.85,1.0],\"matches\":\"x\",\"showticklabels\":false},\"yaxis42\":{\"anchor\":\"x42\",\"domain\":[0.6753333333333332,0.7748888888888887],\"matches\":\"y\",\"showticklabels\":false},\"xaxis43\":{\"anchor\":\"y43\",\"domain\":[0.0,0.15],\"matches\":\"x\",\"showticklabels\":false},\"yaxis43\":{\"anchor\":\"x43\",\"domain\":[0.7878888888888887,0.8874444444444443],\"matches\":\"y\",\"title\":{\"text\":\"median_pct_change\"},\"range\":[0,400]},\"xaxis44\":{\"anchor\":\"y44\",\"domain\":[0.16999999999999998,0.31999999999999995],\"matches\":\"x\",\"showticklabels\":false},\"yaxis44\":{\"anchor\":\"x44\",\"domain\":[0.7878888888888887,0.8874444444444443],\"matches\":\"y\",\"showticklabels\":false},\"xaxis45\":{\"anchor\":\"y45\",\"domain\":[0.33999999999999997,0.49],\"matches\":\"x\",\"showticklabels\":false},\"yaxis45\":{\"anchor\":\"x45\",\"domain\":[0.7878888888888887,0.8874444444444443],\"matches\":\"y\",\"showticklabels\":false},\"xaxis46\":{\"anchor\":\"y46\",\"domain\":[0.51,0.66],\"matches\":\"x\",\"showticklabels\":false},\"yaxis46\":{\"anchor\":\"x46\",\"domain\":[0.7878888888888887,0.8874444444444443],\"matches\":\"y\",\"showticklabels\":false},\"xaxis47\":{\"anchor\":\"y47\",\"domain\":[0.6799999999999999,0.83],\"matches\":\"x\",\"showticklabels\":false},\"yaxis47\":{\"anchor\":\"x47\",\"domain\":[0.7878888888888887,0.8874444444444443],\"matches\":\"y\",\"showticklabels\":false},\"xaxis48\":{\"anchor\":\"y48\",\"domain\":[0.85,1.0],\"matches\":\"x\",\"showticklabels\":false},\"yaxis48\":{\"anchor\":\"x48\",\"domain\":[0.7878888888888887,0.8874444444444443],\"matches\":\"y\",\"showticklabels\":false},\"xaxis49\":{\"anchor\":\"y49\",\"domain\":[0.0,0.15],\"matches\":\"x\",\"showticklabels\":false},\"yaxis49\":{\"anchor\":\"x49\",\"domain\":[0.9004444444444443,0.9999999999999998],\"matches\":\"y\",\"title\":{\"text\":\"median_pct_change\"},\"range\":[0,400]},\"xaxis50\":{\"anchor\":\"y50\",\"domain\":[0.16999999999999998,0.31999999999999995],\"matches\":\"x\",\"showticklabels\":false},\"yaxis50\":{\"anchor\":\"x50\",\"domain\":[0.9004444444444443,0.9999999999999998],\"matches\":\"y\",\"showticklabels\":false},\"xaxis51\":{\"anchor\":\"y51\",\"domain\":[0.33999999999999997,0.49],\"matches\":\"x\",\"showticklabels\":false},\"yaxis51\":{\"anchor\":\"x51\",\"domain\":[0.9004444444444443,0.9999999999999998],\"matches\":\"y\",\"showticklabels\":false},\"xaxis52\":{\"anchor\":\"y52\",\"domain\":[0.51,0.66],\"matches\":\"x\",\"showticklabels\":false},\"yaxis52\":{\"anchor\":\"x52\",\"domain\":[0.9004444444444443,0.9999999999999998],\"matches\":\"y\",\"showticklabels\":false},\"xaxis53\":{\"anchor\":\"y53\",\"domain\":[0.6799999999999999,0.83],\"matches\":\"x\",\"showticklabels\":false},\"yaxis53\":{\"anchor\":\"x53\",\"domain\":[0.9004444444444443,0.9999999999999998],\"matches\":\"y\",\"showticklabels\":false},\"xaxis54\":{\"anchor\":\"y54\",\"domain\":[0.85,1.0],\"matches\":\"x\",\"showticklabels\":false},\"yaxis54\":{\"anchor\":\"x54\",\"domain\":[0.9004444444444443,0.9999999999999998],\"matches\":\"y\",\"showticklabels\":false},\"annotations\":[{\"font\":{},\"showarrow\":false,\"text\":\"owner_org=cta-otc\",\"x\":0.075,\"xanchor\":\"center\",\"xref\":\"paper\",\"y\":0.09955555555555555,\"yanchor\":\"bottom\",\"yref\":\"paper\"},{\"font\":{},\"showarrow\":false,\"text\":\"owner_org=lac-bac\",\"x\":0.24499999999999997,\"xanchor\":\"center\",\"xref\":\"paper\",\"y\":0.09955555555555555,\"yanchor\":\"bottom\",\"yref\":\"paper\"},{\"font\":{},\"showarrow\":false,\"text\":\"owner_org=nserc-crsng\",\"x\":0.415,\"xanchor\":\"center\",\"xref\":\"paper\",\"y\":0.09955555555555555,\"yanchor\":\"bottom\",\"yref\":\"paper\"},{\"font\":{},\"showarrow\":false,\"text\":\"owner_org=ic\",\"x\":0.585,\"xanchor\":\"center\",\"xref\":\"paper\",\"y\":0.09955555555555555,\"yanchor\":\"bottom\",\"yref\":\"paper\"},{\"font\":{},\"showarrow\":false,\"text\":\"owner_org=infc\",\"x\":0.075,\"xanchor\":\"center\",\"xref\":\"paper\",\"y\":0.21211111111111108,\"yanchor\":\"bottom\",\"yref\":\"paper\"},{\"font\":{},\"showarrow\":false,\"text\":\"owner_org=jus\",\"x\":0.24499999999999997,\"xanchor\":\"center\",\"xref\":\"paper\",\"y\":0.21211111111111108,\"yanchor\":\"bottom\",\"yref\":\"paper\"},{\"font\":{},\"showarrow\":false,\"text\":\"owner_org=oag-bvg\",\"x\":0.415,\"xanchor\":\"center\",\"xref\":\"paper\",\"y\":0.21211111111111108,\"yanchor\":\"bottom\",\"yref\":\"paper\"},{\"font\":{},\"showarrow\":false,\"text\":\"owner_org=osfi-bsif\",\"x\":0.585,\"xanchor\":\"center\",\"xref\":\"paper\",\"y\":0.21211111111111108,\"yanchor\":\"bottom\",\"yref\":\"paper\"},{\"font\":{},\"showarrow\":false,\"text\":\"owner_org=osgg-bsgg\",\"x\":0.7549999999999999,\"xanchor\":\"center\",\"xref\":\"paper\",\"y\":0.21211111111111108,\"yanchor\":\"bottom\",\"yref\":\"paper\"},{\"font\":{},\"showarrow\":false,\"text\":\"owner_org=cer-rec\",\"x\":0.925,\"xanchor\":\"center\",\"xref\":\"paper\",\"y\":0.21211111111111108,\"yanchor\":\"bottom\",\"yref\":\"paper\"},{\"font\":{},\"showarrow\":false,\"text\":\"owner_org=atssc-scdata\",\"x\":0.075,\"xanchor\":\"center\",\"xref\":\"paper\",\"y\":0.32466666666666666,\"yanchor\":\"bottom\",\"yref\":\"paper\"},{\"font\":{},\"showarrow\":false,\"text\":\"owner_org=cas-satj\",\"x\":0.24499999999999997,\"xanchor\":\"center\",\"xref\":\"paper\",\"y\":0.32466666666666666,\"yanchor\":\"bottom\",\"yref\":\"paper\"},{\"font\":{},\"showarrow\":false,\"text\":\"owner_org=chrc-ccdp\",\"x\":0.415,\"xanchor\":\"center\",\"xref\":\"paper\",\"y\":0.32466666666666666,\"yanchor\":\"bottom\",\"yref\":\"paper\"},{\"font\":{},\"showarrow\":false,\"text\":\"owner_org=csa-asc\",\"x\":0.585,\"xanchor\":\"center\",\"xref\":\"paper\",\"y\":0.32466666666666666,\"yanchor\":\"bottom\",\"yref\":\"paper\"},{\"font\":{},\"showarrow\":false,\"text\":\"owner_org=csps-efpc\",\"x\":0.7549999999999999,\"xanchor\":\"center\",\"xref\":\"paper\",\"y\":0.32466666666666666,\"yanchor\":\"bottom\",\"yref\":\"paper\"},{\"font\":{},\"showarrow\":false,\"text\":\"owner_org=elections\",\"x\":0.925,\"xanchor\":\"center\",\"xref\":\"paper\",\"y\":0.32466666666666666,\"yanchor\":\"bottom\",\"yref\":\"paper\"},{\"font\":{},\"showarrow\":false,\"text\":\"owner_org=rcmp-grc\",\"x\":0.075,\"xanchor\":\"center\",\"xref\":\"paper\",\"y\":0.4372222222222222,\"yanchor\":\"bottom\",\"yref\":\"paper\"},{\"font\":{},\"showarrow\":false,\"text\":\"owner_org=ssc-spc\",\"x\":0.24499999999999997,\"xanchor\":\"center\",\"xref\":\"paper\",\"y\":0.4372222222222222,\"yanchor\":\"bottom\",\"yref\":\"paper\"},{\"font\":{},\"showarrow\":false,\"text\":\"owner_org=sshrc-crsh\",\"x\":0.415,\"xanchor\":\"center\",\"xref\":\"paper\",\"y\":0.4372222222222222,\"yanchor\":\"bottom\",\"yref\":\"paper\"},{\"font\":{},\"showarrow\":false,\"text\":\"owner_org=tbs-sct\",\"x\":0.585,\"xanchor\":\"center\",\"xref\":\"paper\",\"y\":0.4372222222222222,\"yanchor\":\"bottom\",\"yref\":\"paper\"},{\"font\":{},\"showarrow\":false,\"text\":\"owner_org=tc\",\"x\":0.7549999999999999,\"xanchor\":\"center\",\"xref\":\"paper\",\"y\":0.4372222222222222,\"yanchor\":\"bottom\",\"yref\":\"paper\"},{\"font\":{},\"showarrow\":false,\"text\":\"owner_org=vac-acc\",\"x\":0.925,\"xanchor\":\"center\",\"xref\":\"paper\",\"y\":0.4372222222222222,\"yanchor\":\"bottom\",\"yref\":\"paper\"},{\"font\":{},\"showarrow\":false,\"text\":\"owner_org=pch\",\"x\":0.075,\"xanchor\":\"center\",\"xref\":\"paper\",\"y\":0.5497777777777777,\"yanchor\":\"bottom\",\"yref\":\"paper\"},{\"font\":{},\"showarrow\":false,\"text\":\"owner_org=pco-bcp\",\"x\":0.24499999999999997,\"xanchor\":\"center\",\"xref\":\"paper\",\"y\":0.5497777777777777,\"yanchor\":\"bottom\",\"yref\":\"paper\"},{\"font\":{},\"showarrow\":false,\"text\":\"owner_org=phac-aspc\",\"x\":0.415,\"xanchor\":\"center\",\"xref\":\"paper\",\"y\":0.5497777777777777,\"yanchor\":\"bottom\",\"yref\":\"paper\"},{\"font\":{},\"showarrow\":false,\"text\":\"owner_org=ppsc-sppc\",\"x\":0.585,\"xanchor\":\"center\",\"xref\":\"paper\",\"y\":0.5497777777777777,\"yanchor\":\"bottom\",\"yref\":\"paper\"},{\"font\":{},\"showarrow\":false,\"text\":\"owner_org=psc-cfp\",\"x\":0.7549999999999999,\"xanchor\":\"center\",\"xref\":\"paper\",\"y\":0.5497777777777777,\"yanchor\":\"bottom\",\"yref\":\"paper\"},{\"font\":{},\"showarrow\":false,\"text\":\"owner_org=pwgsc-tpsgc\",\"x\":0.925,\"xanchor\":\"center\",\"xref\":\"paper\",\"y\":0.5497777777777777,\"yanchor\":\"bottom\",\"yref\":\"paper\"},{\"font\":{},\"showarrow\":false,\"text\":\"owner_org=iaac-aeic\",\"x\":0.075,\"xanchor\":\"center\",\"xref\":\"paper\",\"y\":0.6623333333333333,\"yanchor\":\"bottom\",\"yref\":\"paper\"},{\"font\":{},\"showarrow\":false,\"text\":\"owner_org=isc-sac\",\"x\":0.24499999999999997,\"xanchor\":\"center\",\"xref\":\"paper\",\"y\":0.6623333333333333,\"yanchor\":\"bottom\",\"yref\":\"paper\"},{\"font\":{},\"showarrow\":false,\"text\":\"owner_org=nrc-cnrc\",\"x\":0.415,\"xanchor\":\"center\",\"xref\":\"paper\",\"y\":0.6623333333333333,\"yanchor\":\"bottom\",\"yref\":\"paper\"},{\"font\":{},\"showarrow\":false,\"text\":\"owner_org=nrcan-rncan\",\"x\":0.585,\"xanchor\":\"center\",\"xref\":\"paper\",\"y\":0.6623333333333333,\"yanchor\":\"bottom\",\"yref\":\"paper\"},{\"font\":{},\"showarrow\":false,\"text\":\"owner_org=pbc-clcc\",\"x\":0.7549999999999999,\"xanchor\":\"center\",\"xref\":\"paper\",\"y\":0.6623333333333333,\"yanchor\":\"bottom\",\"yref\":\"paper\"},{\"font\":{},\"showarrow\":false,\"text\":\"owner_org=pc\",\"x\":0.925,\"xanchor\":\"center\",\"xref\":\"paper\",\"y\":0.6623333333333333,\"yanchor\":\"bottom\",\"yref\":\"paper\"},{\"font\":{},\"showarrow\":false,\"text\":\"owner_org=dnd-mdn\",\"x\":0.075,\"xanchor\":\"center\",\"xref\":\"paper\",\"y\":0.7748888888888887,\"yanchor\":\"bottom\",\"yref\":\"paper\"},{\"font\":{},\"showarrow\":false,\"text\":\"owner_org=ec\",\"x\":0.24499999999999997,\"xanchor\":\"center\",\"xref\":\"paper\",\"y\":0.7748888888888887,\"yanchor\":\"bottom\",\"yref\":\"paper\"},{\"font\":{},\"showarrow\":false,\"text\":\"owner_org=esdc-edsc\",\"x\":0.415,\"xanchor\":\"center\",\"xref\":\"paper\",\"y\":0.7748888888888887,\"yanchor\":\"bottom\",\"yref\":\"paper\"},{\"font\":{},\"showarrow\":false,\"text\":\"owner_org=feddevontario\",\"x\":0.585,\"xanchor\":\"center\",\"xref\":\"paper\",\"y\":0.7748888888888887,\"yanchor\":\"bottom\",\"yref\":\"paper\"},{\"font\":{},\"showarrow\":false,\"text\":\"owner_org=fin\",\"x\":0.7549999999999999,\"xanchor\":\"center\",\"xref\":\"paper\",\"y\":0.7748888888888887,\"yanchor\":\"bottom\",\"yref\":\"paper\"},{\"font\":{},\"showarrow\":false,\"text\":\"owner_org=hc-sc\",\"x\":0.925,\"xanchor\":\"center\",\"xref\":\"paper\",\"y\":0.7748888888888887,\"yanchor\":\"bottom\",\"yref\":\"paper\"},{\"font\":{},\"showarrow\":false,\"text\":\"owner_org=cihr-irsc\",\"x\":0.075,\"xanchor\":\"center\",\"xref\":\"paper\",\"y\":0.8874444444444443,\"yanchor\":\"bottom\",\"yref\":\"paper\"},{\"font\":{},\"showarrow\":false,\"text\":\"owner_org=cnsc-ccsn\",\"x\":0.24499999999999997,\"xanchor\":\"center\",\"xref\":\"paper\",\"y\":0.8874444444444443,\"yanchor\":\"bottom\",\"yref\":\"paper\"},{\"font\":{},\"showarrow\":false,\"text\":\"owner_org=cra-arc\",\"x\":0.415,\"xanchor\":\"center\",\"xref\":\"paper\",\"y\":0.8874444444444443,\"yanchor\":\"bottom\",\"yref\":\"paper\"},{\"font\":{},\"showarrow\":false,\"text\":\"owner_org=csc-scc\",\"x\":0.585,\"xanchor\":\"center\",\"xref\":\"paper\",\"y\":0.8874444444444443,\"yanchor\":\"bottom\",\"yref\":\"paper\"},{\"font\":{},\"showarrow\":false,\"text\":\"owner_org=dfatd-maecd\",\"x\":0.7549999999999999,\"xanchor\":\"center\",\"xref\":\"paper\",\"y\":0.8874444444444443,\"yanchor\":\"bottom\",\"yref\":\"paper\"},{\"font\":{},\"showarrow\":false,\"text\":\"owner_org=dfo-mpo\",\"x\":0.925,\"xanchor\":\"center\",\"xref\":\"paper\",\"y\":0.8874444444444443,\"yanchor\":\"bottom\",\"yref\":\"paper\"},{\"font\":{},\"showarrow\":false,\"text\":\"owner_org=aafc-aac\",\"x\":0.075,\"xanchor\":\"center\",\"xref\":\"paper\",\"y\":0.9999999999999998,\"yanchor\":\"bottom\",\"yref\":\"paper\"},{\"font\":{},\"showarrow\":false,\"text\":\"owner_org=aandc-aadnc\",\"x\":0.24499999999999997,\"xanchor\":\"center\",\"xref\":\"paper\",\"y\":0.9999999999999998,\"yanchor\":\"bottom\",\"yref\":\"paper\"},{\"font\":{},\"showarrow\":false,\"text\":\"owner_org=cbsa-asfc\",\"x\":0.415,\"xanchor\":\"center\",\"xref\":\"paper\",\"y\":0.9999999999999998,\"yanchor\":\"bottom\",\"yref\":\"paper\"},{\"font\":{},\"showarrow\":false,\"text\":\"owner_org=ced-dec\",\"x\":0.585,\"xanchor\":\"center\",\"xref\":\"paper\",\"y\":0.9999999999999998,\"yanchor\":\"bottom\",\"yref\":\"paper\"},{\"font\":{},\"showarrow\":false,\"text\":\"owner_org=cfia-acia\",\"x\":0.7549999999999999,\"xanchor\":\"center\",\"xref\":\"paper\",\"y\":0.9999999999999998,\"yanchor\":\"bottom\",\"yref\":\"paper\"},{\"font\":{},\"showarrow\":false,\"text\":\"owner_org=cic\",\"x\":0.925,\"xanchor\":\"center\",\"xref\":\"paper\",\"y\":0.9999999999999998,\"yanchor\":\"bottom\",\"yref\":\"paper\"}],\"legend\":{\"tracegroupgap\":0},\"margin\":{\"t\":60},\"barmode\":\"relative\",\"height\":1200},                        {\"responsive\": true}                    ).then(function(){\n",
       "                            \n",
       "var gd = document.getElementById('c572e894-5909-49ae-b294-15063f690378');\n",
       "var x = new MutationObserver(function (mutations, observer) {{\n",
       "        var display = window.getComputedStyle(gd).display;\n",
       "        if (!display || display === 'none') {{\n",
       "            console.log([gd, 'removed!']);\n",
       "            Plotly.purge(gd);\n",
       "            observer.disconnect();\n",
       "        }}\n",
       "}});\n",
       "\n",
       "// Listen for the removal of the full notebook cells\n",
       "var notebookContainer = gd.closest('#notebook-container');\n",
       "if (notebookContainer) {{\n",
       "    x.observe(notebookContainer, {childList: true});\n",
       "}}\n",
       "\n",
       "// Listen for the clearing of the current output cell\n",
       "var outputEl = gd.closest('.output');\n",
       "if (outputEl) {{\n",
       "    x.observe(outputEl, {childList: true});\n",
       "}}\n",
       "\n",
       "                        })                };                });            </script>        </div>"
      ]
     },
     "metadata": {},
     "output_type": "display_data"
    }
   ],
   "source": [
    "# Median contract % change over time\n",
    "\n",
    "changes_by_dept = (cost_changes\n",
    " .groupby(['fiscal_year', 'owner_org'])\n",
    " .change.median()\n",
    " .unstack()\n",
    " .dropna(thresh=8, axis=1)\n",
    " .stack()\n",
    " .reset_index(name='median_pct_change')                  \n",
    ")\n",
    "\n",
    "px.bar(changes_by_dept, x='fiscal_year', \n",
    "       y='median_pct_change', facet_col='owner_org', \n",
    "       facet_col_wrap=6, facet_row_spacing=0.013, height=1200, range_y=(0, 400),\n",
    "       range_x=(2015,2023))"
   ]
  },
  {
   "cell_type": "code",
   "execution_count": 138,
   "id": "d93de880-a21d-4e52-9244-dde8c1af977b",
   "metadata": {},
   "outputs": [
    {
     "data": {
      "text/html": [
       "<div>\n",
       "<style scoped>\n",
       "    .dataframe tbody tr th:only-of-type {\n",
       "        vertical-align: middle;\n",
       "    }\n",
       "\n",
       "    .dataframe tbody tr th {\n",
       "        vertical-align: top;\n",
       "    }\n",
       "\n",
       "    .dataframe thead th {\n",
       "        text-align: right;\n",
       "    }\n",
       "</style>\n",
       "<table border=\"1\" class=\"dataframe\">\n",
       "  <thead>\n",
       "    <tr style=\"text-align: right;\">\n",
       "      <th></th>\n",
       "      <th>count</th>\n",
       "      <th>median</th>\n",
       "      <th>sum</th>\n",
       "      <th>total_contracts</th>\n",
       "      <th>amended_ratio</th>\n",
       "    </tr>\n",
       "    <tr>\n",
       "      <th>owner_org</th>\n",
       "      <th></th>\n",
       "      <th></th>\n",
       "      <th></th>\n",
       "      <th></th>\n",
       "      <th></th>\n",
       "    </tr>\n",
       "  </thead>\n",
       "  <tbody>\n",
       "    <tr>\n",
       "      <th>cra-arc</th>\n",
       "      <td>1829</td>\n",
       "      <td>83.33</td>\n",
       "      <td>5900</td>\n",
       "      <td>4972</td>\n",
       "      <td>0.37</td>\n",
       "    </tr>\n",
       "    <tr>\n",
       "      <th>cic</th>\n",
       "      <td>1667</td>\n",
       "      <td>36.49</td>\n",
       "      <td>4383</td>\n",
       "      <td>4677</td>\n",
       "      <td>0.36</td>\n",
       "    </tr>\n",
       "    <tr>\n",
       "      <th>esdc-edsc</th>\n",
       "      <td>2342</td>\n",
       "      <td>92.24</td>\n",
       "      <td>7291</td>\n",
       "      <td>8049</td>\n",
       "      <td>0.29</td>\n",
       "    </tr>\n",
       "    <tr>\n",
       "      <th>atssc-scdata</th>\n",
       "      <td>152</td>\n",
       "      <td>67.39</td>\n",
       "      <td>441</td>\n",
       "      <td>619</td>\n",
       "      <td>0.25</td>\n",
       "    </tr>\n",
       "    <tr>\n",
       "      <th>csa-asc</th>\n",
       "      <td>319</td>\n",
       "      <td>100.00</td>\n",
       "      <td>891</td>\n",
       "      <td>1637</td>\n",
       "      <td>0.19</td>\n",
       "    </tr>\n",
       "    <tr>\n",
       "      <th>infc</th>\n",
       "      <td>124</td>\n",
       "      <td>107.28</td>\n",
       "      <td>349</td>\n",
       "      <td>675</td>\n",
       "      <td>0.18</td>\n",
       "    </tr>\n",
       "    <tr>\n",
       "      <th>lac-bac</th>\n",
       "      <td>144</td>\n",
       "      <td>33.81</td>\n",
       "      <td>360</td>\n",
       "      <td>792</td>\n",
       "      <td>0.18</td>\n",
       "    </tr>\n",
       "    <tr>\n",
       "      <th>pwgsc-tpsgc</th>\n",
       "      <td>6437</td>\n",
       "      <td>39.43</td>\n",
       "      <td>18641</td>\n",
       "      <td>36519</td>\n",
       "      <td>0.18</td>\n",
       "    </tr>\n",
       "    <tr>\n",
       "      <th>fin</th>\n",
       "      <td>126</td>\n",
       "      <td>51.25</td>\n",
       "      <td>321</td>\n",
       "      <td>750</td>\n",
       "      <td>0.17</td>\n",
       "    </tr>\n",
       "    <tr>\n",
       "      <th>ppsc-sppc</th>\n",
       "      <td>136</td>\n",
       "      <td>150.89</td>\n",
       "      <td>410</td>\n",
       "      <td>818</td>\n",
       "      <td>0.17</td>\n",
       "    </tr>\n",
       "    <tr>\n",
       "      <th>aandc-aadnc</th>\n",
       "      <td>540</td>\n",
       "      <td>50.11</td>\n",
       "      <td>1330</td>\n",
       "      <td>3285</td>\n",
       "      <td>0.16</td>\n",
       "    </tr>\n",
       "    <tr>\n",
       "      <th>cihr-irsc</th>\n",
       "      <td>139</td>\n",
       "      <td>17.38</td>\n",
       "      <td>307</td>\n",
       "      <td>865</td>\n",
       "      <td>0.16</td>\n",
       "    </tr>\n",
       "    <tr>\n",
       "      <th>irb-cisr</th>\n",
       "      <td>297</td>\n",
       "      <td>150.09</td>\n",
       "      <td>674</td>\n",
       "      <td>1896</td>\n",
       "      <td>0.16</td>\n",
       "    </tr>\n",
       "    <tr>\n",
       "      <th>osfi-bsif</th>\n",
       "      <td>234</td>\n",
       "      <td>120.27</td>\n",
       "      <td>779</td>\n",
       "      <td>1543</td>\n",
       "      <td>0.15</td>\n",
       "    </tr>\n",
       "    <tr>\n",
       "      <th>phac-aspc</th>\n",
       "      <td>746</td>\n",
       "      <td>93.22</td>\n",
       "      <td>1894</td>\n",
       "      <td>5437</td>\n",
       "      <td>0.14</td>\n",
       "    </tr>\n",
       "    <tr>\n",
       "      <th>nserc-crsng</th>\n",
       "      <td>112</td>\n",
       "      <td>92.13</td>\n",
       "      <td>297</td>\n",
       "      <td>825</td>\n",
       "      <td>0.14</td>\n",
       "    </tr>\n",
       "    <tr>\n",
       "      <th>pch</th>\n",
       "      <td>357</td>\n",
       "      <td>73.79</td>\n",
       "      <td>890</td>\n",
       "      <td>2632</td>\n",
       "      <td>0.14</td>\n",
       "    </tr>\n",
       "    <tr>\n",
       "      <th>cfia-acia</th>\n",
       "      <td>455</td>\n",
       "      <td>88.13</td>\n",
       "      <td>1229</td>\n",
       "      <td>3363</td>\n",
       "      <td>0.14</td>\n",
       "    </tr>\n",
       "    <tr>\n",
       "      <th>pc</th>\n",
       "      <td>2413</td>\n",
       "      <td>42.68</td>\n",
       "      <td>6508</td>\n",
       "      <td>17935</td>\n",
       "      <td>0.13</td>\n",
       "    </tr>\n",
       "    <tr>\n",
       "      <th>ic</th>\n",
       "      <td>1069</td>\n",
       "      <td>101.23</td>\n",
       "      <td>2650</td>\n",
       "      <td>7971</td>\n",
       "      <td>0.13</td>\n",
       "    </tr>\n",
       "  </tbody>\n",
       "</table>\n",
       "</div>"
      ],
      "text/plain": [
       "              count  median    sum  total_contracts  amended_ratio\n",
       "owner_org                                                         \n",
       "cra-arc        1829   83.33   5900             4972           0.37\n",
       "cic            1667   36.49   4383             4677           0.36\n",
       "esdc-edsc      2342   92.24   7291             8049           0.29\n",
       "atssc-scdata    152   67.39    441              619           0.25\n",
       "csa-asc         319  100.00    891             1637           0.19\n",
       "infc            124  107.28    349              675           0.18\n",
       "lac-bac         144   33.81    360              792           0.18\n",
       "pwgsc-tpsgc    6437   39.43  18641            36519           0.18\n",
       "fin             126   51.25    321              750           0.17\n",
       "ppsc-sppc       136  150.89    410              818           0.17\n",
       "aandc-aadnc     540   50.11   1330             3285           0.16\n",
       "cihr-irsc       139   17.38    307              865           0.16\n",
       "irb-cisr        297  150.09    674             1896           0.16\n",
       "osfi-bsif       234  120.27    779             1543           0.15\n",
       "phac-aspc       746   93.22   1894             5437           0.14\n",
       "nserc-crsng     112   92.13    297              825           0.14\n",
       "pch             357   73.79    890             2632           0.14\n",
       "cfia-acia       455   88.13   1229             3363           0.14\n",
       "pc             2413   42.68   6508            17935           0.13\n",
       "ic             1069  101.23   2650             7971           0.13"
      ]
     },
     "execution_count": 138,
     "metadata": {},
     "output_type": "execute_result"
    }
   ],
   "source": [
    "# Number of amended contracts, median % change, and total amendments by dept\n",
    "\n",
    "contracts_per_dept = (contracts\n",
    "                      .query('fiscal_year >= 2107')\n",
    "                      .groupby('owner_org')\n",
    "                      .proc_unique.nunique()\n",
    "                     )\n",
    "\n",
    "(cost_changes\n",
    " .query('contract_date >= \"2017-01-01\"')\n",
    " .groupby('owner_org')\n",
    " .agg({'change' : ['count', 'median'], 'num_amendments':'sum'})\n",
    " .droplevel(0, axis=1)\n",
    " .query('count >=100')\n",
    " .assign(total_contracts = contracts_per_dept)\n",
    " .assign(amended_ratio = lambda x: x['count'] / x.total_contracts)\n",
    " .sort_values('amended_ratio', ascending=False)\n",
    " .head(20)\n",
    ")"
   ]
  },
  {
   "cell_type": "code",
   "execution_count": 8,
   "id": "fc30024c-5535-4e80-bd6d-214c888ac423",
   "metadata": {},
   "outputs": [
    {
     "data": {
      "text/html": [
       "<div>\n",
       "<style scoped>\n",
       "    .dataframe tbody tr th:only-of-type {\n",
       "        vertical-align: middle;\n",
       "    }\n",
       "\n",
       "    .dataframe tbody tr th {\n",
       "        vertical-align: top;\n",
       "    }\n",
       "\n",
       "    .dataframe thead th {\n",
       "        text-align: right;\n",
       "    }\n",
       "</style>\n",
       "<table border=\"1\" class=\"dataframe\">\n",
       "  <thead>\n",
       "    <tr style=\"text-align: right;\">\n",
       "      <th></th>\n",
       "      <th>median</th>\n",
       "      <th>count</th>\n",
       "      <th>sum</th>\n",
       "      <th>max</th>\n",
       "    </tr>\n",
       "    <tr>\n",
       "      <th>vendor_name_norm</th>\n",
       "      <th></th>\n",
       "      <th></th>\n",
       "      <th></th>\n",
       "      <th></th>\n",
       "    </tr>\n",
       "  </thead>\n",
       "  <tbody>\n",
       "    <tr>\n",
       "      <th>AMERESCO CANADA</th>\n",
       "      <td>1,788.59</td>\n",
       "      <td>10</td>\n",
       "      <td>47</td>\n",
       "      <td>17</td>\n",
       "    </tr>\n",
       "    <tr>\n",
       "      <th>GROUPE SECURITE GARDA</th>\n",
       "      <td>448.48</td>\n",
       "      <td>14</td>\n",
       "      <td>31</td>\n",
       "      <td>3</td>\n",
       "    </tr>\n",
       "    <tr>\n",
       "      <th>METOCEAN TELEMATICS</th>\n",
       "      <td>388.52</td>\n",
       "      <td>12</td>\n",
       "      <td>58</td>\n",
       "      <td>10</td>\n",
       "    </tr>\n",
       "    <tr>\n",
       "      <th>VF WORLDWIDE HOLDINGS</th>\n",
       "      <td>364.69</td>\n",
       "      <td>10</td>\n",
       "      <td>37</td>\n",
       "      <td>7</td>\n",
       "    </tr>\n",
       "    <tr>\n",
       "      <th>LES ENTREPRISES PREBBEL</th>\n",
       "      <td>331.54</td>\n",
       "      <td>11</td>\n",
       "      <td>47</td>\n",
       "      <td>7</td>\n",
       "    </tr>\n",
       "    <tr>\n",
       "      <th>MOERAE SOLUTIONS</th>\n",
       "      <td>315.69</td>\n",
       "      <td>14</td>\n",
       "      <td>50</td>\n",
       "      <td>8</td>\n",
       "    </tr>\n",
       "    <tr>\n",
       "      <th>MULTI OPTION NURSING</th>\n",
       "      <td>312.17</td>\n",
       "      <td>11</td>\n",
       "      <td>37</td>\n",
       "      <td>5</td>\n",
       "    </tr>\n",
       "    <tr>\n",
       "      <th>BRETON MICHEL MD</th>\n",
       "      <td>279.26</td>\n",
       "      <td>14</td>\n",
       "      <td>50</td>\n",
       "      <td>7</td>\n",
       "    </tr>\n",
       "    <tr>\n",
       "      <th>EMERION COFOMO FMC IN JOINT VENTURE</th>\n",
       "      <td>256.31</td>\n",
       "      <td>25</td>\n",
       "      <td>79</td>\n",
       "      <td>17</td>\n",
       "    </tr>\n",
       "    <tr>\n",
       "      <th>RATIO ARCHITECTURE INTERIOR DESIGN</th>\n",
       "      <td>246.85</td>\n",
       "      <td>13</td>\n",
       "      <td>45</td>\n",
       "      <td>5</td>\n",
       "    </tr>\n",
       "    <tr>\n",
       "      <th>SOLUTIONS MOERAE</th>\n",
       "      <td>240.42</td>\n",
       "      <td>28</td>\n",
       "      <td>101</td>\n",
       "      <td>7</td>\n",
       "    </tr>\n",
       "    <tr>\n",
       "      <th>ARROW HELICOPTERS</th>\n",
       "      <td>240.04</td>\n",
       "      <td>19</td>\n",
       "      <td>42</td>\n",
       "      <td>4</td>\n",
       "    </tr>\n",
       "    <tr>\n",
       "      <th>COFOMO</th>\n",
       "      <td>239.76</td>\n",
       "      <td>30</td>\n",
       "      <td>129</td>\n",
       "      <td>9</td>\n",
       "    </tr>\n",
       "    <tr>\n",
       "      <th>RUSSELL CHERNOFF RAND THOMPSON</th>\n",
       "      <td>233.56</td>\n",
       "      <td>14</td>\n",
       "      <td>39</td>\n",
       "      <td>6</td>\n",
       "    </tr>\n",
       "    <tr>\n",
       "      <th>SALVATION ARMY</th>\n",
       "      <td>225.26</td>\n",
       "      <td>21</td>\n",
       "      <td>90</td>\n",
       "      <td>10</td>\n",
       "    </tr>\n",
       "    <tr>\n",
       "      <th>BP M GOVERNMENT IM IT</th>\n",
       "      <td>213.88</td>\n",
       "      <td>13</td>\n",
       "      <td>42</td>\n",
       "      <td>8</td>\n",
       "    </tr>\n",
       "    <tr>\n",
       "      <th>DALIAN ENTERPRISES AND CORADIX TECHNOLOGY CONSULTING IN JOINT VENTURE</th>\n",
       "      <td>213.82</td>\n",
       "      <td>19</td>\n",
       "      <td>82</td>\n",
       "      <td>9</td>\n",
       "    </tr>\n",
       "    <tr>\n",
       "      <th>MAVERIN</th>\n",
       "      <td>213.04</td>\n",
       "      <td>13</td>\n",
       "      <td>37</td>\n",
       "      <td>4</td>\n",
       "    </tr>\n",
       "    <tr>\n",
       "      <th>BIOMERIEUX CANADA</th>\n",
       "      <td>206.04</td>\n",
       "      <td>12</td>\n",
       "      <td>32</td>\n",
       "      <td>5</td>\n",
       "    </tr>\n",
       "    <tr>\n",
       "      <th>ACS EXPRESS</th>\n",
       "      <td>204.04</td>\n",
       "      <td>15</td>\n",
       "      <td>37</td>\n",
       "      <td>3</td>\n",
       "    </tr>\n",
       "  </tbody>\n",
       "</table>\n",
       "</div>"
      ],
      "text/plain": [
       "                                                     median  count  sum  max\n",
       "vendor_name_norm                                                            \n",
       "AMERESCO CANADA                                    1,788.59     10   47   17\n",
       "GROUPE SECURITE GARDA                                448.48     14   31    3\n",
       "METOCEAN TELEMATICS                                  388.52     12   58   10\n",
       "VF WORLDWIDE HOLDINGS                                364.69     10   37    7\n",
       "LES ENTREPRISES PREBBEL                              331.54     11   47    7\n",
       "MOERAE SOLUTIONS                                     315.69     14   50    8\n",
       "MULTI OPTION NURSING                                 312.17     11   37    5\n",
       "BRETON MICHEL MD                                     279.26     14   50    7\n",
       "EMERION COFOMO FMC IN JOINT VENTURE                  256.31     25   79   17\n",
       "RATIO ARCHITECTURE INTERIOR DESIGN                   246.85     13   45    5\n",
       "SOLUTIONS MOERAE                                     240.42     28  101    7\n",
       "ARROW HELICOPTERS                                    240.04     19   42    4\n",
       "COFOMO                                               239.76     30  129    9\n",
       "RUSSELL CHERNOFF RAND THOMPSON                       233.56     14   39    6\n",
       "SALVATION ARMY                                       225.26     21   90   10\n",
       "BP M GOVERNMENT IM IT                                213.88     13   42    8\n",
       "DALIAN ENTERPRISES AND CORADIX TECHNOLOGY CONSU...   213.82     19   82    9\n",
       "MAVERIN                                              213.04     13   37    4\n",
       "BIOMERIEUX CANADA                                    206.04     12   32    5\n",
       "ACS EXPRESS                                          204.04     15   37    3"
      ]
     },
     "execution_count": 8,
     "metadata": {},
     "output_type": "execute_result"
    }
   ],
   "source": [
    "# Stats by vendor\n",
    "\n",
    "(cost_changes.groupby('vendor_name_norm')\n",
    " .agg({'change' : 'median', 'num_amendments' : ['count', 'sum', 'max']})\n",
    " .droplevel(0, axis=1)\n",
    " .query('count>=10')\n",
    " .sort_values('median',ascending=False)\n",
    " .head(20)\n",
    ")"
   ]
  }
 ],
 "metadata": {
  "kernelspec": {
   "display_name": "Python [conda env:data]",
   "language": "python",
   "name": "conda-env-data-py"
  },
  "language_info": {
   "codemirror_mode": {
    "name": "ipython",
    "version": 3
   },
   "file_extension": ".py",
   "mimetype": "text/x-python",
   "name": "python",
   "nbconvert_exporter": "python",
   "pygments_lexer": "ipython3",
   "version": "3.10.11"
  }
 },
 "nbformat": 4,
 "nbformat_minor": 5
}
