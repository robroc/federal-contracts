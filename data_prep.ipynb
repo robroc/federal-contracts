{
 "cells": [
  {
   "cell_type": "markdown",
   "id": "a6518113-057e-4ccc-ba3b-b6761378e072",
   "metadata": {},
   "source": [
    "# Data prep"
   ]
  },
  {
   "cell_type": "code",
   "execution_count": 2,
   "id": "7ad4cc1a-cf76-46a1-b96a-5d84b4a56795",
   "metadata": {},
   "outputs": [],
   "source": [
    "import pandas as pd\n",
    "import numpy as np\n",
    "pd.options.display.float_format = '{:,.2f}'.format"
   ]
  },
  {
   "cell_type": "markdown",
   "id": "704dc2bb-ddc0-4096-9e59-2c375f3c1d3a",
   "metadata": {},
   "source": [
    "Load data file from Canada open data portal and do  a preliminary cleanup"
   ]
  },
  {
   "cell_type": "code",
   "execution_count": 3,
   "id": "68ae7542-c5e9-4b07-b464-641f214dc094",
   "metadata": {},
   "outputs": [
    {
     "name": "stderr",
     "output_type": "stream",
     "text": [
      "C:\\Users\\Roberto\\AppData\\Local\\Temp\\ipykernel_9672\\2542009004.py:3: DtypeWarning: Columns (3,4,14,15,16,17,18,19,20,21,22,23,24,27,28,29,30,31,32,33,34,35,39,40) have mixed types. Specify dtype option on import or set low_memory=False.\n",
      "  contracts = (pd.read_csv(data_url,\n"
     ]
    }
   ],
   "source": [
    "data_url = 'https://open.canada.ca/data/dataset/d8f85d91-7dec-4fd1-8055-483b77225d8b/resource/fac950c0-00d5-4ec1-a4d3-9cbebf98a305/download/contracts.csv'\n",
    "\n",
    "# Set some data types and drop French columns\n",
    "contracts = (pd.read_csv(data_url, \n",
    "                         parse_dates=['contract_date', 'delivery_date','contract_period_start'],\n",
    "                         dtype = {'economic_object_code' : str, \n",
    "                                   'limited_tendering_reason':str,\n",
    "                                   'award_criteria' : str,\n",
    "                                   'article_6_exceptions':str,\n",
    "                                   'trade_agreement_exceptions':str})\n",
    "               .drop(columns=['description_fr','comments_fr', 'additional_comments_fr'])\n",
    "            )\n",
    "\n",
    "# Keep only English department name\n",
    "contracts.owner_org_title = contracts.owner_org_title.str.split('|').str[0]\n",
    "\n",
    "# Define categorical columns\n",
    "cat_cols = ['economic_object_code','solicitation_procedure','indigenous_business',\n",
    "           'indigenous_business_excluding_psib', 'land_claims', 'commodity_type', 'commodity_code','limited_tendering_reason',\n",
    "            'instrument_type', 'award_criteria', 'socioeconomic_indicator', 'intellectual_property']\n",
    "contracts[cat_cols] = contracts[cat_cols].astype('category')\n",
    "\n",
    "contracts.agreement_type_code = contracts.agreement_type_code.str.strip().astype('category')\n",
    "\n",
    "# Define boolean columns\n",
    "bool_cols = ['potential_commercial_exploitation','former_public_servant', 'ministers_office']\n",
    "contracts[bool_cols] = contracts[bool_cols].replace({'Y' : True, 'N' : False}).astype(bool)\n",
    "\n",
    "# Clean initials from procurement ID, as these can mess up their uniqueness.\n",
    "# Initials are sometimes added by procurement officer who approved it.\n",
    "contracts.procurement_id = contracts.procurement_id.str.strip().str.replace('\\/[A-Za-z]{2}$', '', regex=True)\n",
    "\n",
    "# Get reporting period from reference number if NA\n",
    "na_refs = contracts[contracts.reporting_period.isna()].reference_number.str.extract('(\\d{4}\\-\\d{4}\\-Q\\d)')[0]\n",
    "contracts.loc[na_refs.index, 'reporting_period'] = na_refs\n",
    "\n",
    "# Standardize economic codes\n",
    "contracts.economic_object_code = contracts.economic_object_code.str.zfill(4)\n",
    "\n",
    "# Get fiscal year from contract date\n",
    "contracts['fiscal_year'] = contracts.contract_date.dt.to_period('A-MAR').dt.year"
   ]
  },
  {
   "cell_type": "markdown",
   "id": "f2243a8d-e48f-4e2e-bccb-ff070747048c",
   "metadata": {},
   "source": [
    "This cell does a rough cleanup on the vendor names, removing legal suffixes. Adapted from the [R code by Sean Boots](https://github.com/GoC-Spending/contracts-data/blob/main/lib/vendors.R)."
   ]
  },
  {
   "cell_type": "code",
   "execution_count": 9,
   "id": "73061cec-cd18-40fe-9916-0a9d1db9cd98",
   "metadata": {},
   "outputs": [],
   "source": [
    "# Remove accented characters from vendor names, capitalize, remove punctuations\n",
    "\n",
    "norms = (\n",
    " contracts.vendor_name\n",
    " .str.normalize('NFKD')\n",
    " .str.encode('ascii', errors='ignore')\n",
    " .str.decode('utf-8')\n",
    " .str.upper()\n",
    " .str.replace(r'[^\\w\\s]+', ' ', regex=True)\n",
    " .str.strip()\n",
    ")\n",
    "\n",
    "contracts['vendor_name_norm'] = norms\n",
    "\n",
    "# Remove abbreviations form company names to better use the govcontracts normalization table\n",
    "# Source: https://github.com/GoC-Spending/contracts-data/blob/main/lib/vendors.R#L26-L73\n",
    "\n",
    "patterns = [\"LIMITED\",\n",
    "    \"LIMITEE\",\n",
    "    \"LIMITE\",\n",
    "    \"LIMITACE\",\n",
    "    \"LTE\",\n",
    "    \"LT\",\n",
    "    \"LTEE\",\n",
    "    \"LLP\",\n",
    "    \"LP\",\n",
    "    \"PLC\",\n",
    "    \"LCC\",\n",
    "    \"LLC\",\n",
    "    \"INCORPORATED\",\n",
    "    \"INC\",\n",
    "    \"LTD\",\n",
    "    \"LDT\",\n",
    "    \"CO\",\n",
    "    \"CORP\",\n",
    "    \"CORPORATION\",\n",
    "    \"INCORPORATION\",\n",
    "    \"INCORP\",\n",
    "    \"PLC\",\n",
    "    \"PTY\",\n",
    "    \"ULC\",\n",
    "    \"LP\",\n",
    "    \"AB\",\n",
    "    \"SENC\",\n",
    "    \"SENCRL\",\n",
    "    \"SENCRLSRL\",\n",
    "    \"SRL\",\n",
    "    \"LLPSEN\",\n",
    "    \"LTACE\",\n",
    "    \"GMBH\",\n",
    "    \"SA\",\n",
    "    \"SPZOO\",\n",
    "    \"SP ZOO\",\n",
    "    \"SP Z OO\",\n",
    "    \"SP Z O O\",\n",
    "    \"BV\",\n",
    "    \"B V\",\n",
    "    \"SAS\",\n",
    "    \"S A\",\n",
    "    \"AG\",\n",
    "    \"SCC\",\n",
    "    \"S C C\"]\n",
    "\n",
    "# Add trailing and leading space to suffixes\n",
    "patterns = [' ' + s + ' ' for s in patterns]\n",
    "\n",
    "# Add a leading space to vendor names to prevent accidentally removing the pattern from the name itself\n",
    "contracts.vendor_name_norm = contracts.vendor_name_norm + ' '\n",
    "\n",
    "# make regex pattern for replacement \n",
    "repl_regex = r'(' + '|'.join(patterns) + ')'\n",
    "\n",
    "contracts.vendor_name_norm = contracts.vendor_name_norm.str.replace(repl_regex, ' ', regex=True).str.replace('\\s\\s+', ' ', regex=True)\n",
    "\n",
    "# Do a second pass in case the pattern remains\n",
    "contracts.vendor_name_norm = contracts.vendor_name_norm.str.replace(repl_regex, '', regex=True).str.strip()\n",
    "\n",
    "# Create unique procurement ID with buyer org name and first two words of vendor name\n",
    "# in case of duplicates across departments\n",
    "contracts['proc_unique'] = (contracts.procurement_id.str.lower() + '_' \n",
    "                            + contracts.owner_org.astype(str) + '_' \n",
    "                            + contracts.vendor_name_norm.str.split().str[0:2].str.join('_').str.lower()\n",
    "                           )\n"
   ]
  },
  {
   "cell_type": "code",
   "execution_count": null,
   "id": "85b637fd-9e36-4fb8-967e-6ee170027612",
   "metadata": {},
   "outputs": [
    {
     "data": {
      "text/plain": [
       "475259"
      ]
     },
     "execution_count": 9,
     "metadata": {},
     "output_type": "execute_result"
    }
   ],
   "source": [
    "# Number of unique contracts since 2017\n",
    "\n",
    "contracts.query('fiscal_year >= 2017').proc_unique.nunique()"
   ]
  },
  {
   "cell_type": "code",
   "execution_count": 11,
   "id": "051622e9-a86a-47c8-bffe-3ef962da5725",
   "metadata": {},
   "outputs": [],
   "source": [
    "# Save prepped data to parquet for quicker loading\n",
    "\n",
    "contracts.to_parquet('../data/contracts_prepped.parquet')"
   ]
  },
  {
   "cell_type": "markdown",
   "id": "f6db1796-9d9e-4112-83c7-4074e170804d",
   "metadata": {},
   "source": [
    "## Isolate amended contracts"
   ]
  },
  {
   "cell_type": "markdown",
   "id": "c68e4c53-e4ff-42be-a467-50f0b3083e1f",
   "metadata": {},
   "source": [
    "This section isolates contracts that were amended. These tend to have the same procurement ID, vendor and purchasing department, but not always. A few methods were used to grassociate amended contracts with their original ones, again following the [methodology](https://govcanadacontracts.ca/methodology/#associate-amendments-with-original-contracts\n",
    ") of the Carelton SPPA team."
   ]
  },
  {
   "cell_type": "code",
   "execution_count": 10,
   "id": "d82b1fa1-af40-4e70-ab2a-12531327de1d",
   "metadata": {},
   "outputs": [],
   "source": [
    "# Isolate contracts that have more than one occurence of procurement ID, vendor and dept.\n",
    "# Then do a second pass on the ungrouped records looking for duplicates on vendor, dept, \n",
    "# original value, and start date.\n",
    "\n",
    "unique_counts = contracts.groupby(['procurement_id', 'vendor_name_norm', 'owner_org']).size()\n",
    "id_org_uniques = unique_counts[unique_counts == 1]\n",
    "id_org_amended = unique_counts[unique_counts > 1]\n",
    "\n",
    "mult_id = (contracts\n",
    "        .set_index(['procurement_id', 'vendor_name_norm', 'owner_org'])\n",
    "        .loc[id_org_amended.index]\n",
    "        .reset_index()\n",
    "       )\n",
    "\n",
    "# Of the ones that had only one record, check if there are multiples on value and date\n",
    "val_date_uniques = contracts.set_index(['procurement_id', 'vendor_name_norm', 'owner_org']).loc[id_org_uniques.index].reset_index()\n",
    "val_date_uniques = val_date_uniques.groupby(['vendor_name_norm', 'owner_org', 'original_value', 'contract_period_start']).size()\n",
    "val_date_amended = val_date_uniques[val_date_uniques > 1]\n",
    "\n",
    "mult_val_date = (contracts\n",
    "        .set_index(['vendor_name_norm', 'owner_org', 'original_value', 'contract_period_start'])\n",
    "        .loc[val_date_amended.index]\n",
    "        .reset_index()\n",
    "       )\n",
    "\n",
    "# Redefine the unique ID for these values using buyer org, period start, vendor and original value\n",
    "mult_val_date.proc_unique = (mult_val_date.owner_org + '_' \n",
    "                             + mult_val_date.contract_period_start.astype(str) + '_'\n",
    "                             + mult_val_date.vendor_name_norm.str.split().str[0:2].str.join('_').str.lower() + '_'\n",
    "                             + mult_val_date.original_value.astype(str).str[:4]\n",
    "                            )\n",
    "\n",
    "mults = pd.concat([mult_id, mult_val_date]).sort_values(['proc_unique', 'reference_number'])"
   ]
  },
  {
   "cell_type": "code",
   "execution_count": 11,
   "id": "405334cc-e8bb-4be8-a2d9-acc77629eb15",
   "metadata": {},
   "outputs": [
    {
     "data": {
      "text/plain": [
       "(249044, 43)"
      ]
     },
     "execution_count": 11,
     "metadata": {},
     "output_type": "execute_result"
    }
   ],
   "source": [
    "mults.shape"
   ]
  },
  {
   "cell_type": "code",
   "execution_count": 14,
   "id": "b52e973a-d4bc-4005-ae3d-c99f94d3da14",
   "metadata": {},
   "outputs": [],
   "source": [
    "# Get original contract value if that column is not null, else first contract value\n",
    "first_orig_val = mults.groupby('proc_unique')[['original_value', 'contract_date']].first()\n",
    "first_orig_val.columns = ['first_value', 'first_date']\n",
    "first_orig_val.first_value = first_orig_val.first_value.fillna(mults.groupby('proc_unique').contract_value.first())\n",
    "\n",
    "# Get last contract value and date\n",
    "last_value = mults.groupby('proc_unique')[['contract_value', 'contract_date']].last()\n",
    "last_value.columns = ['last_value', 'last_date']\n",
    "\n",
    "num_amendments = mults.groupby('proc_unique').size().rename('num_amendments')\n",
    "first_last = pd.concat([first_orig_val, last_value, num_amendments], axis=1)\n",
    "\n",
    "# Calculate percentage change between first and last values\n",
    "first_last['change'] = (first_last.last_value - first_last.first_value) / first_last.first_value * 100"
   ]
  },
  {
   "cell_type": "code",
   "execution_count": 15,
   "id": "d337e734-9f21-4d0f-b176-c5a7304f4d17",
   "metadata": {},
   "outputs": [],
   "source": [
    "# Join first record of each contract to the cost increase table and keep only records after 2012, removing anomalous contracts below $5000\n",
    "\n",
    "amended = mults.groupby('proc_unique').first()[['procurement_id', 'vendor_name_norm', 'owner_org', 'owner_org_title', 'description_en',\n",
    "                                                     'contract_date', 'fiscal_year', 'comments_en', 'commodity_type', 'commodity_code', \n",
    "                                                     'economic_object_code']]\n",
    "amended = amended.join(first_last).query('contract_date.dt.year >= 2012 and first_value >= 5000')"
   ]
  },
  {
   "cell_type": "code",
   "execution_count": 16,
   "id": "05c8d0e0-b554-4dc8-a7c7-11375c8f7939",
   "metadata": {},
   "outputs": [
    {
     "data": {
      "text/plain": [
       "(76236, 17)"
      ]
     },
     "execution_count": 16,
     "metadata": {},
     "output_type": "execute_result"
    }
   ],
   "source": [
    "amended.shape"
   ]
  },
  {
   "cell_type": "code",
   "execution_count": 41,
   "id": "21bdb0b9-a49e-4168-b4bd-a9c7ababe348",
   "metadata": {},
   "outputs": [],
   "source": [
    "# Save to parquet for faster loading\n",
    "\n",
    "cost_changes.to_parquet('../data/amended_contracts.parquet')"
   ]
  }
 ],
 "metadata": {
  "kernelspec": {
   "display_name": "Python [conda env:data]",
   "language": "python",
   "name": "conda-env-data-py"
  },
  "language_info": {
   "codemirror_mode": {
    "name": "ipython",
    "version": 3
   },
   "file_extension": ".py",
   "mimetype": "text/x-python",
   "name": "python",
   "nbconvert_exporter": "python",
   "pygments_lexer": "ipython3",
   "version": "3.10.11"
  }
 },
 "nbformat": 4,
 "nbformat_minor": 5
}
